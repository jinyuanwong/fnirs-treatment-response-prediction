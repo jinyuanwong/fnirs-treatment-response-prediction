{
 "cells": [
  {
   "cell_type": "code",
   "execution_count": 1,
   "metadata": {},
   "outputs": [
    {
     "name": "stderr",
     "output_type": "stream",
     "text": [
      "/Users/shanxiafeng/miniconda3/lib/python3.9/site-packages/tensorflow_addons/utils/tfa_eol_msg.py:23: UserWarning: \n",
      "\n",
      "TensorFlow Addons (TFA) has ended development and introduction of new features.\n",
      "TFA has entered a minimal maintenance and release mode until a planned end of life in May 2024.\n",
      "Please modify downstream libraries to take dependencies from other repositories in our TensorFlow community (e.g. Keras, Keras-CV, and Keras-NLP). \n",
      "\n",
      "For more information see: https://github.com/tensorflow/addons/issues/2807 \n",
      "\n",
      "  warnings.warn(\n",
      "/Users/shanxiafeng/miniconda3/lib/python3.9/site-packages/tensorflow_addons/utils/ensure_tf_install.py:53: UserWarning: Tensorflow Addons supports using Python ops for all Tensorflow versions above or equal to 2.11.0 and strictly below 2.14.0 (nightly versions are not supported). \n",
      " The versions of TensorFlow you are currently using is 2.14.0 and is not supported. \n",
      "Some things might work, some things might not.\n",
      "If you were to encounter a bug, do not file an issue.\n",
      "If you want to make sure you're using a tested and supported configuration, either change the TensorFlow version or the TensorFlow Addons's version. \n",
      "You can find the compatibility matrix in TensorFlow Addon's readme:\n",
      "https://github.com/tensorflow/addons\n",
      "  warnings.warn(\n"
     ]
    }
   ],
   "source": [
    "from wandb.keras import WandbCallback\n",
    "import sys\n",
    "import time\n",
    "from tensorflow.keras.callbacks import ModelCheckpoint\n",
    "from tensorflow.keras.callbacks import ReduceLROnPlateau\n",
    "from utils.utils_mine import *\n",
    "import tensorflow as tf\n",
    "import tensorflow.keras as keras\n",
    "from datetime import date\n",
    "import numpy as np\n",
    "import random\n",
    "import tensorflow_addons as tfa\n",
    "import wandb\n",
    "import gc\n",
    "from classifiers.classifier_factory import create_classifier\n",
    "from scripts.plot.DL.read_LOO_nestedCV_gnntr import get_sorted_loo_array\n",
    "# import pingouin as pg \n"
   ]
  },
  {
   "cell_type": "code",
   "execution_count": 3,
   "metadata": {},
   "outputs": [
    {
     "name": "stdout",
     "output_type": "stream",
     "text": [
      "{'fprs': [array([0.  , 0.02, 0.04, 0.08, 0.14, 0.18, 0.18, 0.18, 0.22, 0.28, 0.36,\n",
      "       0.4 , 0.4 , 0.44, 0.44, 0.5 , 0.5 , 0.52, 0.6 , 0.62, 0.7 , 0.7 ,\n",
      "       0.72, 0.72, 0.74, 0.74, 0.84, 0.92, 0.96, 0.96, 1.  ]), array([0.  , 0.02, 0.08, 0.08, 0.14, 0.14, 0.34, 0.34, 0.36, 0.36, 0.38,\n",
      "       0.38, 0.4 , 0.4 , 0.48, 0.48, 0.54, 0.54, 0.64, 0.64, 0.7 , 0.74,\n",
      "       0.82, 0.82, 0.84, 0.84, 1.  ]), array([0.  , 0.04, 0.68, 0.68, 0.68, 0.68, 0.68, 0.76, 0.82, 0.82, 1.  ]), array([0.  , 0.02, 0.06, 0.1 , 0.14, 0.28, 0.32, 0.36, 0.44, 0.48, 0.48,\n",
      "       0.5 , 0.54, 0.62, 0.68, 0.68, 0.7 , 0.74, 0.78, 0.9 , 0.9 , 0.96,\n",
      "       1.  ]), array([0.  , 0.02, 0.12, 0.16, 0.24, 0.24, 0.26, 0.3 , 0.36, 0.36, 0.4 ,\n",
      "       0.4 , 0.46, 0.46, 0.48, 0.48, 0.52, 0.52, 0.56, 0.58, 0.58, 0.62,\n",
      "       0.64, 0.68, 0.68, 0.78, 0.82, 0.88, 0.88, 0.92, 0.96, 1.  ]), array([0.  , 0.02, 0.14, 0.14, 0.28, 0.28, 0.36, 0.38, 0.38, 0.42, 0.42,\n",
      "       0.48, 0.48, 0.5 , 0.5 , 0.52, 0.52, 0.54, 0.54, 0.58, 0.58, 0.6 ,\n",
      "       0.68, 0.68, 0.86, 0.86, 0.92, 0.96, 1.  ]), array([0.  , 0.02, 0.04, 0.08, 0.22, 0.26, 0.26, 0.28, 0.34, 0.36, 0.36,\n",
      "       0.46, 0.46, 0.48, 0.48, 0.56, 0.6 , 0.64, 0.68, 0.68, 0.82, 0.86,\n",
      "       0.86, 0.9 , 0.94, 0.96, 1.  ]), array([0.  , 0.04, 0.68, 0.68, 0.68, 0.76, 0.76, 1.  ]), array([0.  , 0.02, 0.16, 0.16, 0.2 , 0.24, 0.42, 0.42, 0.46, 0.46, 0.52,\n",
      "       0.52, 0.58, 0.58, 0.64, 0.64, 0.68, 0.68, 0.84, 0.84, 1.  ]), array([0.  , 0.02, 0.06, 0.12, 0.26, 0.3 , 0.36, 0.38, 0.46, 0.46, 0.5 ,\n",
      "       0.5 , 0.56, 0.62, 0.68, 0.68, 0.7 , 0.7 , 0.72, 0.76, 0.76, 0.78,\n",
      "       0.9 , 0.94, 1.  , 1.  ])], 'tprs': [array([0.        , 0.        , 0.        , 0.        , 0.        ,\n",
      "       0.        , 0.14285714, 0.21428571, 0.21428571, 0.21428571,\n",
      "       0.21428571, 0.21428571, 0.28571429, 0.28571429, 0.42857143,\n",
      "       0.42857143, 0.64285714, 0.64285714, 0.64285714, 0.64285714,\n",
      "       0.64285714, 0.78571429, 0.78571429, 0.85714286, 0.85714286,\n",
      "       0.92857143, 0.92857143, 0.92857143, 0.92857143, 1.        ,\n",
      "       1.        ]), array([0.        , 0.        , 0.        , 0.07142857, 0.07142857,\n",
      "       0.14285714, 0.14285714, 0.28571429, 0.28571429, 0.35714286,\n",
      "       0.35714286, 0.42857143, 0.42857143, 0.5       , 0.5       ,\n",
      "       0.57142857, 0.57142857, 0.71428571, 0.71428571, 0.78571429,\n",
      "       0.78571429, 0.78571429, 0.78571429, 0.85714286, 0.85714286,\n",
      "       1.        , 1.        ]), array([0.        , 0.        , 0.        , 0.57142857, 0.71428571,\n",
      "       0.85714286, 0.92857143, 0.92857143, 0.92857143, 1.        ,\n",
      "       1.        ]), array([0.        , 0.        , 0.        , 0.        , 0.        ,\n",
      "       0.        , 0.        , 0.        , 0.        , 0.        ,\n",
      "       0.28571429, 0.28571429, 0.28571429, 0.28571429, 0.28571429,\n",
      "       0.92857143, 0.92857143, 0.92857143, 0.92857143, 0.92857143,\n",
      "       1.        , 1.        , 1.        ]), array([0.        , 0.        , 0.        , 0.        , 0.        ,\n",
      "       0.07142857, 0.07142857, 0.07142857, 0.07142857, 0.14285714,\n",
      "       0.14285714, 0.21428571, 0.21428571, 0.35714286, 0.35714286,\n",
      "       0.5       , 0.5       , 0.64285714, 0.64285714, 0.64285714,\n",
      "       0.71428571, 0.71428571, 0.71428571, 0.71428571, 0.92857143,\n",
      "       0.92857143, 0.92857143, 0.92857143, 1.        , 1.        ,\n",
      "       1.        , 1.        ]), array([0.        , 0.        , 0.        , 0.07142857, 0.07142857,\n",
      "       0.14285714, 0.14285714, 0.14285714, 0.21428571, 0.21428571,\n",
      "       0.35714286, 0.35714286, 0.42857143, 0.42857143, 0.5       ,\n",
      "       0.5       , 0.57142857, 0.57142857, 0.64285714, 0.64285714,\n",
      "       0.71428571, 0.71428571, 0.71428571, 0.92857143, 0.92857143,\n",
      "       1.        , 1.        , 1.        , 1.        ]), array([0.        , 0.        , 0.        , 0.        , 0.        ,\n",
      "       0.        , 0.14285714, 0.14285714, 0.14285714, 0.14285714,\n",
      "       0.21428571, 0.21428571, 0.28571429, 0.28571429, 0.42857143,\n",
      "       0.42857143, 0.42857143, 0.42857143, 0.42857143, 0.92857143,\n",
      "       0.92857143, 0.92857143, 1.        , 1.        , 1.        ,\n",
      "       1.        , 1.        ]), array([0.        , 0.        , 0.        , 0.71428571, 0.85714286,\n",
      "       0.85714286, 1.        , 1.        ]), array([0.        , 0.        , 0.        , 0.07142857, 0.07142857,\n",
      "       0.07142857, 0.07142857, 0.42857143, 0.42857143, 0.5       ,\n",
      "       0.5       , 0.57142857, 0.57142857, 0.78571429, 0.78571429,\n",
      "       0.85714286, 0.85714286, 0.92857143, 0.92857143, 1.        ,\n",
      "       1.        ]), array([0.        , 0.        , 0.        , 0.        , 0.        ,\n",
      "       0.        , 0.        , 0.        , 0.        , 0.07142857,\n",
      "       0.07142857, 0.35714286, 0.35714286, 0.35714286, 0.35714286,\n",
      "       0.57142857, 0.57142857, 0.64285714, 0.64285714, 0.64285714,\n",
      "       0.92857143, 0.92857143, 0.92857143, 0.92857143, 0.92857143,\n",
      "       1.        ])], 'roc_aucs': [0.49000000000000005, 0.5185714285714285, 0.30999999999999994, 0.36142857142857143, 0.47000000000000003, 0.48857142857142855, 0.4342857142857143, 0.3085714285714285, 0.49, 0.33999999999999997]}\n"
     ]
    }
   ],
   "source": [
    "data = np.load('/Users/shanxiafeng/Documents/Project/Research/fnirs-prognosis/code/fnirs-treatment-response-prediction/results/his_metrics.npy', allow_pickle=True)\n",
    "print(data)"
   ]
  },
  {
   "cell_type": "code",
   "execution_count": 4,
   "metadata": {},
   "outputs": [
    {
     "name": "stdout",
     "output_type": "stream",
     "text": [
      "[[ 0.  1.  2.  3.]\n",
      " [ 0.  1.  2.  3.]\n",
      " [ 0.  5. 10. 15.]\n",
      " [ 0.  1.  2.  3.]]\n",
      "[[ 0.   2.5  2.   3. ]\n",
      " [ 0.   2.5  2.   3. ]\n",
      " [ 0.  12.5 10.  15. ]\n",
      " [ 0.   2.5  2.   3. ]]\n"
     ]
    }
   ],
   "source": [
    "a = np.ones((4,4))\n",
    "for i in range(4):\n",
    "    a[:,i] *= i\n",
    "    \n",
    "a[2, :] *= 5\n",
    "print(a)\n",
    "a[:,1] = (a[:, 2] + a[:, 3]) / 2\n",
    "print(a)"
   ]
  },
  {
   "cell_type": "code",
   "execution_count": 2,
   "metadata": {},
   "outputs": [
    {
     "name": "stdout",
     "output_type": "stream",
     "text": [
      "loocv4 -  (320, 2)\n"
     ]
    }
   ],
   "source": [
    "result = np.load('/home/jy/Documents/fnirs/treatment_response/fnirs-depression-deeplearning/results/gnn_transformer/prognosis_mix_hb/pretreatment_response/loocv_v4l1_rate_0.01_l2_rate_0.001_d_model_16_batch_size_64_n_layers_6/LOO_nested_CV/y_pred.npy')\n",
    "print('loocv4 - ', result.shape)"
   ]
  },
  {
   "cell_type": "code",
   "execution_count": 3,
   "metadata": {},
   "outputs": [
    {
     "name": "stdout",
     "output_type": "stream",
     "text": [
      "allData_loocv4 -  (320, 2)\n"
     ]
    }
   ],
   "source": [
    "allData_loocv4 = np.load('/home/jy/Documents/fnirs/treatment_response/fnirs-depression-deeplearning/allData/prognosis_mix_hb/pretreatment_response/fnirs_pred_loocv4.npy')\n",
    "print('allData_loocv4 - ', allData_loocv4.shape)"
   ]
  }
 ],
 "metadata": {
  "kernelspec": {
   "display_name": "tf",
   "language": "python",
   "name": "python3"
  },
  "language_info": {
   "codemirror_mode": {
    "name": "ipython",
    "version": 3
   },
   "file_extension": ".py",
   "mimetype": "text/x-python",
   "name": "python",
   "nbconvert_exporter": "python",
   "pygments_lexer": "ipython3",
   "version": "3.9.18"
  }
 },
 "nbformat": 4,
 "nbformat_minor": 2
}
