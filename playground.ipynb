{
 "cells": [
  {
   "cell_type": "code",
   "execution_count": null,
   "metadata": {},
   "outputs": [],
   "source": [
    "from wandb.keras import WandbCallback\n",
    "import sys\n",
    "import time\n",
    "from tensorflow.keras.callbacks import ModelCheckpoint\n",
    "from tensorflow.keras.callbacks import ReduceLROnPlateau\n",
    "from utils.utils_mine import *\n",
    "import tensorflow as tf\n",
    "import tensorflow.keras as keras\n",
    "from datetime import date\n",
    "import numpy as np\n",
    "import random\n",
    "import tensorflow_addons as tfa\n",
    "import wandb\n",
    "import gc\n",
    "from classifiers.classifier_factory import create_classifier\n",
    "from scripts.plot.DL.read_LOO_nestedCV_gnntr import get_sorted_loo_array\n",
    "import tensorflow as tf\n",
    "import subprocess\n",
    "# pylint: disable = attribute-defined-outside-init, no-name-in-module, unexpected-keyword-arg\n",
    "# pylint: disable = no-value-for-parameter\n",
    "from tensorflow.python.ops import state_ops as tf_state_ops\n",
    "# import pingouin as pg \n",
    "\n",
    "from sklearn.metrics import roc_curve, auc\n",
    "import matplotlib.pyplot as plt"
   ]
  },
  {
   "cell_type": "code",
   "execution_count": 10,
   "metadata": {},
   "outputs": [
    {
     "name": "stdout",
     "output_type": "stream",
     "text": [
      "PT036\n"
     ]
    },
    {
     "data": {
      "text/plain": [
       "70"
      ]
     },
     "execution_count": 10,
     "metadata": {},
     "output_type": "execute_result"
    }
   ],
   "source": [
    "fold = 'allData/RawData/Baseline_fnirs/Patients'\n",
    "os.listdir(fold)\n",
    "subject_name = [i[:5] for i in os.listdir(fold) if i[:2] == 'PT']\n",
    "subject_name = list(subject_name)\n",
    "subject_name = list(set(subject_name))\n",
    "for name in subject_name:\n",
    "    if name[-3:] == '036':\n",
    "        print(name)\n",
    "\n",
    "len(subject_name)"
   ]
  },
  {
   "cell_type": "markdown",
   "metadata": {},
   "source": []
  },
  {
   "cell_type": "code",
   "execution_count": 44,
   "metadata": {},
   "outputs": [
    {
     "name": "stdout",
     "output_type": "stream",
     "text": [
      "\n",
      "## Inner Cross-Validation Performance\n",
      "| Classifier | Average bAcc | Average Sensitivity | Average Specificity | Average F1 Score |\n",
      "|------------|-----------------|------------------|---------------------|---------------------|\n",
      "| SVM | 0.4072 | 0.4036 | 0.4108 | 0.2267 |\n",
      "| XGBoost | 0.5250 | 0.4318 | 0.6182 | 0.3032 |\n",
      "| Naive Bayes | 0.4376 | 0.7052 | 0.1700 | 0.3037 |\n",
      "\n",
      "## Outer Cross-Validation Performance\n",
      "| Classifier | Average bAcc | Average Sensitivity | Average Specificity | Average F1 Score |\n",
      "|------------|-----------------|------------------|---------------------|---------------------|\n",
      "| SVM | 0.2929 | 0.2857 | 0.3000 | 0.1509 |\n",
      "| XGBoost | 0.5043 | 0.4286 | 0.5800 | 0.2927 |\n",
      "| Naive Bayes | 0.4843 | 0.9286 | 0.0400 | 0.3467 |\n"
     ]
    },
    {
     "ename": "",
     "evalue": "",
     "output_type": "error",
     "traceback": [
      "\u001b[1;31mThe Kernel crashed while executing code in the current cell or a previous cell. \n",
      "\u001b[1;31mPlease review the code in the cell(s) to identify a possible cause of the failure. \n",
      "\u001b[1;31mClick <a href='https://aka.ms/vscodeJupyterKernelCrash'>here</a> for more info. \n",
      "\u001b[1;31mView Jupyter <a href='command:jupyter.viewOutput'>log</a> for further details."
     ]
    }
   ],
   "source": [
    "result = 'results/ML_results/simple_prediction/clinical_data_modality_classification/ten_repeat_nested_cv.npy'\n",
    "result = np.load(result, allow_pickle=True)\n",
    "result = result.item()\n",
    "# for key, value in result.items():\n",
    "#     print(key)\n",
    "#     print(value)\n",
    "#     print('--------------------------------------')\n",
    "classifiers_name = list(result[0]['external_result'].keys())\n",
    "metrics = list(result[0]['external_result'][classifiers_name[0]].keys())\n",
    "\n",
    "avg_inner_result = {classifier_name: {metric: [] for metric in metrics} for classifier_name in classifiers_name}\n",
    "avg_external_result = {classifier_name: {metric: [] for metric in metrics} for classifier_name in classifiers_name}\n",
    "\n",
    "\n",
    "for classifier in classifiers_name:\n",
    "    for metric in metrics:\n",
    "\n",
    "        avg_inner_result[classifier][metric] = [result[i]['inner_result'][classifier][metric] for i in range(10)]\n",
    "        avg_external_result[classifier][metric] = [result[i]['external_result'][classifier][metric] for i in range(10)]\n",
    "\n",
    "print(\"\\n## Inner Cross-Validation Performance\")\n",
    "print(\"| Classifier | Average bAcc | Average Sensitivity | Average Specificity | Average F1 Score |\")\n",
    "print(\"|------------|-----------------|------------------|---------------------|---------------------|\")\n",
    "for name, metrics in avg_inner_result.items():\n",
    "    avg_metrics = {metric: np.mean(scores) for metric, scores in metrics.items()}\n",
    "    print(f\"| {name} | {avg_metrics['balanced accuracy']:.4f} | {avg_metrics['sensitivity']:.4f} | {avg_metrics['specificity']:.4f} | {avg_metrics['f1 score']:.4f} |\")\n",
    "\n",
    "print(\"\\n## Outer Cross-Validation Performance\")\n",
    "print(\"| Classifier | Average bAcc | Average Sensitivity | Average Specificity | Average F1 Score |\")\n",
    "print(\"|------------|-----------------|------------------|---------------------|---------------------|\")\n",
    "for name, metrics in avg_external_result.items():\n",
    "    avg_metrics = {metric: np.mean(scores) for metric, scores in metrics.items()}\n",
    "\n",
    "    print(f\"| {name} | {avg_metrics['balanced accuracy']:.4f} | {avg_metrics['sensitivity']:.4f} | {avg_metrics['specificity']:.4f} | {avg_metrics['f1 score']:.4f} |\")\n",
    "                                                    \n",
    "                                                   "
   ]
  },
  {
   "cell_type": "code",
   "execution_count": 18,
   "metadata": {},
   "outputs": [
    {
     "data": {
      "text/plain": [
       "['SVM', 'XGBoost', 'Naive Bayes']"
      ]
     },
     "execution_count": 18,
     "metadata": {},
     "output_type": "execute_result"
    }
   ],
   "source": [
    "classifiers_name"
   ]
  },
  {
   "cell_type": "code",
   "execution_count": 17,
   "metadata": {},
   "outputs": [
    {
     "data": {
      "text/plain": [
       "{'balanced accuracy': 0.4072395833333333,\n",
       " 'sensitivity': 0.40364583333333326,\n",
       " 'specificity': 0.4108333333333333,\n",
       " 'f1 score': 0.22672896547896548}"
      ]
     },
     "execution_count": 17,
     "metadata": {},
     "output_type": "execute_result"
    }
   ],
   "source": [
    "result[0]['inner_result']['SVM']"
   ]
  },
  {
   "cell_type": "code",
   "execution_count": 13,
   "metadata": {},
   "outputs": [
    {
     "data": {
      "text/plain": [
       "[0,\n",
       " 0,\n",
       " 0,\n",
       " 0,\n",
       " 0,\n",
       " 0,\n",
       " 0,\n",
       " 0,\n",
       " 0,\n",
       " 0,\n",
       " 1,\n",
       " 1,\n",
       " 1,\n",
       " 1,\n",
       " 1,\n",
       " 1,\n",
       " 1,\n",
       " 1,\n",
       " 1,\n",
       " 1,\n",
       " 2,\n",
       " 2,\n",
       " 2,\n",
       " 2,\n",
       " 2,\n",
       " 2,\n",
       " 2,\n",
       " 2,\n",
       " 2,\n",
       " 2,\n",
       " 3,\n",
       " 3,\n",
       " 3,\n",
       " 3,\n",
       " 3,\n",
       " 3,\n",
       " 3,\n",
       " 3,\n",
       " 3,\n",
       " 3,\n",
       " 4,\n",
       " 4,\n",
       " 4,\n",
       " 4,\n",
       " 4,\n",
       " 4,\n",
       " 4,\n",
       " 4,\n",
       " 4,\n",
       " 4,\n",
       " 5,\n",
       " 5,\n",
       " 5,\n",
       " 5,\n",
       " 5,\n",
       " 5,\n",
       " 5,\n",
       " 5,\n",
       " 5,\n",
       " 5,\n",
       " 6,\n",
       " 6,\n",
       " 6,\n",
       " 6,\n",
       " 6,\n",
       " 6,\n",
       " 6,\n",
       " 6,\n",
       " 6,\n",
       " 6,\n",
       " 7,\n",
       " 7,\n",
       " 7,\n",
       " 7,\n",
       " 7,\n",
       " 7,\n",
       " 7,\n",
       " 7,\n",
       " 7,\n",
       " 7,\n",
       " 8,\n",
       " 8,\n",
       " 8,\n",
       " 8,\n",
       " 8,\n",
       " 8,\n",
       " 8,\n",
       " 8,\n",
       " 8,\n",
       " 8,\n",
       " 9,\n",
       " 9,\n",
       " 9,\n",
       " 9,\n",
       " 9,\n",
       " 9,\n",
       " 9,\n",
       " 9,\n",
       " 9,\n",
       " 9]"
      ]
     },
     "execution_count": 13,
     "metadata": {},
     "output_type": "execute_result"
    }
   ],
   "source": [
    "[i for i in range(10) for j in range(10)]"
   ]
  },
  {
   "cell_type": "code",
   "execution_count": 10,
   "metadata": {},
   "outputs": [
    {
     "name": "stdout",
     "output_type": "stream",
     "text": [
      "(10, 64, 2)\n"
     ]
    },
    {
     "ename": "ValueError",
     "evalue": "Found input variables with inconsistent numbers of samples: [64, 640]",
     "output_type": "error",
     "traceback": [
      "\u001b[0;31m---------------------------------------------------------------------------\u001b[0m",
      "\u001b[0;31mValueError\u001b[0m                                Traceback (most recent call last)",
      "Cell \u001b[0;32mIn[10], line 13\u001b[0m\n\u001b[1;32m     10\u001b[0m y_true \u001b[38;5;241m=\u001b[39m label\u001b[38;5;241m.\u001b[39mflatten()\n\u001b[1;32m     12\u001b[0m \u001b[38;5;66;03m# Calculate ROC curve and AUC\u001b[39;00m\n\u001b[0;32m---> 13\u001b[0m fpr, tpr, thresholds \u001b[38;5;241m=\u001b[39m \u001b[43mroc_curve\u001b[49m\u001b[43m(\u001b[49m\u001b[43my_true\u001b[49m\u001b[43m,\u001b[49m\u001b[43m \u001b[49m\u001b[43my_scores\u001b[49m\u001b[43m)\u001b[49m\n\u001b[1;32m     14\u001b[0m roc_auc \u001b[38;5;241m=\u001b[39m auc(fpr, tpr)\n\u001b[1;32m     16\u001b[0m \u001b[38;5;66;03m# Plot ROC curve\u001b[39;00m\n",
      "File \u001b[0;32m~/miniconda3/envs/tf/lib/python3.9/site-packages/sklearn/utils/validation.py:63\u001b[0m, in \u001b[0;36m_deprecate_positional_args.<locals>._inner_deprecate_positional_args.<locals>.inner_f\u001b[0;34m(*args, **kwargs)\u001b[0m\n\u001b[1;32m     61\u001b[0m extra_args \u001b[38;5;241m=\u001b[39m \u001b[38;5;28mlen\u001b[39m(args) \u001b[38;5;241m-\u001b[39m \u001b[38;5;28mlen\u001b[39m(all_args)\n\u001b[1;32m     62\u001b[0m \u001b[38;5;28;01mif\u001b[39;00m extra_args \u001b[38;5;241m<\u001b[39m\u001b[38;5;241m=\u001b[39m \u001b[38;5;241m0\u001b[39m:\n\u001b[0;32m---> 63\u001b[0m     \u001b[38;5;28;01mreturn\u001b[39;00m \u001b[43mf\u001b[49m\u001b[43m(\u001b[49m\u001b[38;5;241;43m*\u001b[39;49m\u001b[43margs\u001b[49m\u001b[43m,\u001b[49m\u001b[43m \u001b[49m\u001b[38;5;241;43m*\u001b[39;49m\u001b[38;5;241;43m*\u001b[39;49m\u001b[43mkwargs\u001b[49m\u001b[43m)\u001b[49m\n\u001b[1;32m     65\u001b[0m \u001b[38;5;66;03m# extra_args > 0\u001b[39;00m\n\u001b[1;32m     66\u001b[0m args_msg \u001b[38;5;241m=\u001b[39m [\u001b[38;5;124m'\u001b[39m\u001b[38;5;132;01m{}\u001b[39;00m\u001b[38;5;124m=\u001b[39m\u001b[38;5;132;01m{}\u001b[39;00m\u001b[38;5;124m'\u001b[39m\u001b[38;5;241m.\u001b[39mformat(name, arg)\n\u001b[1;32m     67\u001b[0m             \u001b[38;5;28;01mfor\u001b[39;00m name, arg \u001b[38;5;129;01min\u001b[39;00m \u001b[38;5;28mzip\u001b[39m(kwonly_args[:extra_args],\n\u001b[1;32m     68\u001b[0m                                  args[\u001b[38;5;241m-\u001b[39mextra_args:])]\n",
      "File \u001b[0;32m~/miniconda3/envs/tf/lib/python3.9/site-packages/sklearn/metrics/_ranking.py:913\u001b[0m, in \u001b[0;36mroc_curve\u001b[0;34m(y_true, y_score, pos_label, sample_weight, drop_intermediate)\u001b[0m\n\u001b[1;32m    826\u001b[0m \u001b[38;5;129m@_deprecate_positional_args\u001b[39m\n\u001b[1;32m    827\u001b[0m \u001b[38;5;28;01mdef\u001b[39;00m \u001b[38;5;21mroc_curve\u001b[39m(y_true, y_score, \u001b[38;5;241m*\u001b[39m, pos_label\u001b[38;5;241m=\u001b[39m\u001b[38;5;28;01mNone\u001b[39;00m, sample_weight\u001b[38;5;241m=\u001b[39m\u001b[38;5;28;01mNone\u001b[39;00m,\n\u001b[1;32m    828\u001b[0m               drop_intermediate\u001b[38;5;241m=\u001b[39m\u001b[38;5;28;01mTrue\u001b[39;00m):\n\u001b[1;32m    829\u001b[0m \u001b[38;5;250m    \u001b[39m\u001b[38;5;124;03m\"\"\"Compute Receiver operating characteristic (ROC).\u001b[39;00m\n\u001b[1;32m    830\u001b[0m \n\u001b[1;32m    831\u001b[0m \u001b[38;5;124;03m    Note: this implementation is restricted to the binary classification task.\u001b[39;00m\n\u001b[0;32m   (...)\u001b[0m\n\u001b[1;32m    911\u001b[0m \n\u001b[1;32m    912\u001b[0m \u001b[38;5;124;03m    \"\"\"\u001b[39;00m\n\u001b[0;32m--> 913\u001b[0m     fps, tps, thresholds \u001b[38;5;241m=\u001b[39m \u001b[43m_binary_clf_curve\u001b[49m\u001b[43m(\u001b[49m\n\u001b[1;32m    914\u001b[0m \u001b[43m        \u001b[49m\u001b[43my_true\u001b[49m\u001b[43m,\u001b[49m\u001b[43m \u001b[49m\u001b[43my_score\u001b[49m\u001b[43m,\u001b[49m\u001b[43m \u001b[49m\u001b[43mpos_label\u001b[49m\u001b[38;5;241;43m=\u001b[39;49m\u001b[43mpos_label\u001b[49m\u001b[43m,\u001b[49m\u001b[43m \u001b[49m\u001b[43msample_weight\u001b[49m\u001b[38;5;241;43m=\u001b[39;49m\u001b[43msample_weight\u001b[49m\u001b[43m)\u001b[49m\n\u001b[1;32m    916\u001b[0m     \u001b[38;5;66;03m# Attempt to drop thresholds corresponding to points in between and\u001b[39;00m\n\u001b[1;32m    917\u001b[0m     \u001b[38;5;66;03m# collinear with other points. These are always suboptimal and do not\u001b[39;00m\n\u001b[1;32m    918\u001b[0m     \u001b[38;5;66;03m# appear on a plotted ROC curve (and thus do not affect the AUC).\u001b[39;00m\n\u001b[0;32m   (...)\u001b[0m\n\u001b[1;32m    923\u001b[0m     \u001b[38;5;66;03m# but does not drop more complicated cases like fps = [1, 3, 7],\u001b[39;00m\n\u001b[1;32m    924\u001b[0m     \u001b[38;5;66;03m# tps = [1, 2, 4]; there is no harm in keeping too many thresholds.\u001b[39;00m\n\u001b[1;32m    925\u001b[0m     \u001b[38;5;28;01mif\u001b[39;00m drop_intermediate \u001b[38;5;129;01mand\u001b[39;00m \u001b[38;5;28mlen\u001b[39m(fps) \u001b[38;5;241m>\u001b[39m \u001b[38;5;241m2\u001b[39m:\n",
      "File \u001b[0;32m~/miniconda3/envs/tf/lib/python3.9/site-packages/sklearn/metrics/_ranking.py:693\u001b[0m, in \u001b[0;36m_binary_clf_curve\u001b[0;34m(y_true, y_score, pos_label, sample_weight)\u001b[0m\n\u001b[1;32m    689\u001b[0m \u001b[38;5;28;01mif\u001b[39;00m \u001b[38;5;129;01mnot\u001b[39;00m (y_type \u001b[38;5;241m==\u001b[39m \u001b[38;5;124m\"\u001b[39m\u001b[38;5;124mbinary\u001b[39m\u001b[38;5;124m\"\u001b[39m \u001b[38;5;129;01mor\u001b[39;00m\n\u001b[1;32m    690\u001b[0m         (y_type \u001b[38;5;241m==\u001b[39m \u001b[38;5;124m\"\u001b[39m\u001b[38;5;124mmulticlass\u001b[39m\u001b[38;5;124m\"\u001b[39m \u001b[38;5;129;01mand\u001b[39;00m pos_label \u001b[38;5;129;01mis\u001b[39;00m \u001b[38;5;129;01mnot\u001b[39;00m \u001b[38;5;28;01mNone\u001b[39;00m)):\n\u001b[1;32m    691\u001b[0m     \u001b[38;5;28;01mraise\u001b[39;00m \u001b[38;5;167;01mValueError\u001b[39;00m(\u001b[38;5;124m\"\u001b[39m\u001b[38;5;132;01m{0}\u001b[39;00m\u001b[38;5;124m format is not supported\u001b[39m\u001b[38;5;124m\"\u001b[39m\u001b[38;5;241m.\u001b[39mformat(y_type))\n\u001b[0;32m--> 693\u001b[0m \u001b[43mcheck_consistent_length\u001b[49m\u001b[43m(\u001b[49m\u001b[43my_true\u001b[49m\u001b[43m,\u001b[49m\u001b[43m \u001b[49m\u001b[43my_score\u001b[49m\u001b[43m,\u001b[49m\u001b[43m \u001b[49m\u001b[43msample_weight\u001b[49m\u001b[43m)\u001b[49m\n\u001b[1;32m    694\u001b[0m y_true \u001b[38;5;241m=\u001b[39m column_or_1d(y_true)\n\u001b[1;32m    695\u001b[0m y_score \u001b[38;5;241m=\u001b[39m column_or_1d(y_score)\n",
      "File \u001b[0;32m~/miniconda3/envs/tf/lib/python3.9/site-packages/sklearn/utils/validation.py:262\u001b[0m, in \u001b[0;36mcheck_consistent_length\u001b[0;34m(*arrays)\u001b[0m\n\u001b[1;32m    260\u001b[0m uniques \u001b[38;5;241m=\u001b[39m np\u001b[38;5;241m.\u001b[39munique(lengths)\n\u001b[1;32m    261\u001b[0m \u001b[38;5;28;01mif\u001b[39;00m \u001b[38;5;28mlen\u001b[39m(uniques) \u001b[38;5;241m>\u001b[39m \u001b[38;5;241m1\u001b[39m:\n\u001b[0;32m--> 262\u001b[0m     \u001b[38;5;28;01mraise\u001b[39;00m \u001b[38;5;167;01mValueError\u001b[39;00m(\u001b[38;5;124m\"\u001b[39m\u001b[38;5;124mFound input variables with inconsistent numbers of\u001b[39m\u001b[38;5;124m\"\u001b[39m\n\u001b[1;32m    263\u001b[0m                      \u001b[38;5;124m\"\u001b[39m\u001b[38;5;124m samples: \u001b[39m\u001b[38;5;132;01m%r\u001b[39;00m\u001b[38;5;124m\"\u001b[39m \u001b[38;5;241m%\u001b[39m [\u001b[38;5;28mint\u001b[39m(l) \u001b[38;5;28;01mfor\u001b[39;00m l \u001b[38;5;129;01min\u001b[39;00m lengths])\n",
      "\u001b[0;31mValueError\u001b[0m: Found input variables with inconsistent numbers of samples: [64, 640]"
     ]
    }
   ],
   "source": [
    "mddr_pth = 'allData/prognosis_mix_hb/pretreatment_response/MDDR/MDDR_derived_from_load_evaluate.npy'\n",
    "label_pth = 'allData/prognosis_mix_hb/pretreatment_response/label.npy'\n",
    "\n",
    "mddr = np.load(mddr_pth)\n",
    "label = np.load(label_pth)\n",
    "print(mddr.shape)\n",
    "\n",
    "# Extract the predictions for the second output dimension\n",
    "y_scores = mddr[..., 1].flatten()\n",
    "y_true = label.flatten()\n",
    "\n",
    "# Calculate ROC curve and AUC\n",
    "fpr, tpr, thresholds = roc_curve(y_true, y_scores)\n",
    "roc_auc = auc(fpr, tpr)\n",
    "\n",
    "# Plot ROC curve\n",
    "plt.figure()\n",
    "plt.plot(fpr, tpr, color='darkorange', lw=2, label='ROC curve (area = %0.2f)' % roc_auc)\n",
    "plt.plot([0, 1], [0, 1], color='navy', lw=2, linestyle='--')\n",
    "plt.xlim([0.0, 1.0])\n",
    "plt.ylim([0.0, 1.05])\n",
    "plt.xlabel('False Positive Rate')\n",
    "plt.ylabel('True Positive Rate')\n",
    "plt.title('Receiver Operating Characteristic (ROC)')\n",
    "plt.legend(loc=\"lower right\")\n",
    "plt.show()\n"
   ]
  },
  {
   "cell_type": "code",
   "execution_count": 2,
   "metadata": {},
   "outputs": [
    {
     "name": "stdout",
     "output_type": "stream",
     "text": [
      "[0. 0. 0. 0. 0. 0. 0. 0. 0. 0. 0. 0. 0. 0. 1. 0. 0. 0. 0. 0. 1. 0. 1. 0.\n",
      " 0. 1. 1. 0. 0. 0. 0. 0. 0. 0. 0. 0. 0. 0. 1. 1. 0. 1. 0. 0. 0. 1. 0. 1.\n",
      " 1. 0. 0. 0. 0. 0. 0. 1. 1. 0. 0. 0. 1. 0. 0. 0.]\n",
      "[-0.24       -0.33333333 -0.25925926 -0.25        0.58823529  0.5\n",
      "  0.13333333  0.38095238 -0.13636364 -0.19047619 -0.28571429 -0.23809524\n",
      "  0.52631579 -0.06666667 -0.56521739 -0.38095238  0.         -0.44444444\n",
      " -0.4         0.26315789 -0.66666667 -0.36       -0.86363636 -0.33333333\n",
      " -0.43333333 -0.76       -0.5        -0.16666667 -0.42307692 -0.25\n",
      " -0.04347826  0.125      -0.25       -0.25       -0.08333333 -0.08\n",
      " -0.36363636 -0.04761905 -0.6875     -0.5483871  -0.03846154 -0.56521739\n",
      "  0.          0.16666667 -0.13043478 -0.61904762  0.06666667 -0.71428571\n",
      " -0.56521739 -0.34615385  0.33333333  0.63157895 -0.375       0.6\n",
      " -0.125      -0.5        -0.53846154 -0.17647059  0.14285714  0.5\n",
      " -1.          0.         -0.25       -0.31578947]\n"
     ]
    }
   ],
   "source": [
    "label_pth = 'allData/prognosis_mix_hb/pretreatment_response/label.npy'\n",
    "label = np.load(label_pth)\n",
    "print(label)\n",
    "\n",
    "response_pth = 'allData/prognosis_mix_hb/pretreatment_response/label_hamd.npy'\n",
    "response = np.load(response_pth)\n",
    "response = (response[:, 1] - response[:, 0]) / response[:, 0]\n",
    "print(response)\n",
    "# np.save('allData/prognosis_mix_hb/pretreatment_response/label_reduce_percentage.npy', response)"
   ]
  },
  {
   "cell_type": "code",
   "execution_count": 11,
   "metadata": {},
   "outputs": [
    {
     "data": {
      "text/plain": [
       "'label.npy'"
      ]
     },
     "execution_count": 11,
     "metadata": {},
     "output_type": "execute_result"
    }
   ],
   "source": [
    "parameter = {'label_pathx': 'xxxlabel.npy'}\n",
    "label_pth = parameter.get('label_path', 'label.npy')\n",
    "label_pth"
   ]
  },
  {
   "cell_type": "code",
   "execution_count": 12,
   "metadata": {},
   "outputs": [
    {
     "name": "stdout",
     "output_type": "stream",
     "text": [
      "sub: 8, k: 4, indx_max: 0\n",
      "loss            39.555698\n",
      "accuracy         0.480769\n",
      "val_loss        38.915871\n",
      "val_accuracy     0.818182\n",
      "lr               0.000000\n",
      "Name: 0, dtype: float64\n",
      "sub: 21, k: 4, indx_max: 0\n",
      "loss            39.624126\n",
      "accuracy         0.673077\n",
      "val_loss        38.984299\n",
      "val_accuracy     0.818182\n",
      "lr               0.000000\n",
      "Name: 0, dtype: float64\n",
      "sub: 36, k: 3, indx_max: 0\n",
      "loss            39.655571\n",
      "accuracy         0.461538\n",
      "val_loss        39.015739\n",
      "val_accuracy     0.909091\n",
      "lr               0.000000\n",
      "Name: 0, dtype: float64\n",
      "sub: 36, k: 4, indx_max: 0\n",
      "loss            39.532921\n",
      "accuracy         0.384615\n",
      "val_loss        38.893089\n",
      "val_accuracy     0.636364\n",
      "lr               0.000000\n",
      "Name: 0, dtype: float64\n",
      "sub: 41, k: 3, indx_max: 0\n",
      "loss            39.691719\n",
      "accuracy         0.490196\n",
      "val_loss        39.093712\n",
      "val_accuracy     0.666667\n",
      "lr               0.000000\n",
      "Name: 0, dtype: float64\n",
      "sub: 43, k: 0, indx_max: 0\n",
      "loss            39.515278\n",
      "accuracy         0.423077\n",
      "val_loss        38.875450\n",
      "val_accuracy     0.818182\n",
      "lr               0.000000\n",
      "Name: 0, dtype: float64\n",
      "sub: 48, k: 3, indx_max: 0\n",
      "loss            39.513863\n",
      "accuracy         0.509804\n",
      "val_loss        38.915852\n",
      "val_accuracy     0.750000\n",
      "lr               0.000000\n",
      "Name: 0, dtype: float64\n",
      "sub: 51, k: 0, indx_max: 0\n",
      "loss            39.630939\n",
      "accuracy         0.500000\n",
      "val_loss        38.991104\n",
      "val_accuracy     0.818182\n",
      "lr               0.000000\n",
      "Name: 0, dtype: float64\n",
      "sub: 52, k: 3, indx_max: 0\n",
      "loss            39.601807\n",
      "accuracy         0.519231\n",
      "val_loss        38.961975\n",
      "val_accuracy     0.909091\n",
      "lr               0.000000\n",
      "Name: 0, dtype: float64\n",
      "sub: 56, k: 3, indx_max: 0\n",
      "loss            39.572815\n",
      "accuracy         0.450980\n",
      "val_loss        38.974808\n",
      "val_accuracy     0.583333\n",
      "lr               0.000000\n",
      "Name: 0, dtype: float64\n",
      "sub: 60, k: 1, indx_max: 0\n",
      "loss            39.422398\n",
      "accuracy         0.392157\n",
      "val_loss        38.824390\n",
      "val_accuracy     0.916667\n",
      "lr               0.000000\n",
      "Name: 0, dtype: float64\n"
     ]
    },
    {
     "data": {
      "image/png": "[encoded data removed]",
      "text/plain": [
       "<Figure size 1000x500 with 2 Axes>"
      ]
     },
     "metadata": {},
     "output_type": "display_data"
    }
   ],
   "source": [
    "from scripts.result_analysis.model_analysis import model_result\n",
    "import os\n",
    "import pandas as pd\n",
    "import matplotlib.pyplot as plt\n",
    "\n",
    "\n",
    "\n",
    "\n",
    "show_max_epoch_idxmax(main_path = 'results/gnn_transformer/prognosis_mix_hb/pretreatment_response/loocv_v4l1_rate_0.01_l2_rate_0.001_d_model_16_batch_size_64_n_layers_6/LOO_nested_CV/LOO_')\n",
    "\n"
   ]
  },
  {
   "cell_type": "code",
   "execution_count": 2,
   "metadata": {},
   "outputs": [
    {
     "data": {
      "image/png": "[encoded data removed]",
      "text/plain": [
       "<Figure size 1000x500 with 2 Axes>"
      ]
     },
     "metadata": {},
     "output_type": "display_data"
    }
   ],
   "source": [
    "import os\n",
    "import pandas as pd\n",
    "import matplotlib.pyplot as plt\n",
    "\n",
    "max_epoch_arr = []\n",
    "idxmax_arr = []\n",
    "\n",
    "main_path = 'results/gnn_transformer_with_cli_demo/prognosis_mix_hb/pretreatment_response/loocv_v0l1_rate_0.01_l2_rate_0.001_d_model_16_batch_size_64_n_layers_6/LOO_nested_CV/LOO_'\n",
    "\n",
    "TOTAL_SUBJECT = 64\n",
    "NUM_OF_K_FOLD = 5 \n",
    "history_file_name = 'history.csv'\n",
    "best_model_based_metric = 'val_accuracy'\n",
    "inner_fold_name = 'stratified_nested_5_CV_fold-'\n",
    "\n",
    "for sub in range(TOTAL_SUBJECT):\n",
    "    for k in range(NUM_OF_K_FOLD):\n",
    "        fold_path = main_path + str(sub) + '/' + inner_fold_name + str(k)\n",
    "        file_path = fold_path + '/' + history_file_name\n",
    "        if os.path.exists(file_path):\n",
    "            res = pd.read_csv(file_path)\n",
    "            max_index = len(res[best_model_based_metric]) # \n",
    "            indx_max = res[best_model_based_metric].idxmax()\n",
    "            max_epoch_arr.append(max_index)\n",
    "            idxmax_arr.append(indx_max)\n",
    "            \n",
    "fig, axs = plt.subplots(1, 2, figsize=(10, 5))\n",
    "axs[0].hist(max_epoch_arr, bins=100)\n",
    "axs[0].set_title('max_epoch_arr')\n",
    "axs[1].hist(idxmax_arr, bins=100)\n",
    "axs[1].set_title('idxmax_arr')\n",
    "for i in range(2):\n",
    "    axs[i].set_xlabel('Epochs')\n",
    "    axs[i].set_ylabel('Frequency')"
   ]
  },
  {
   "cell_type": "code",
   "execution_count": 20,
   "metadata": {},
   "outputs": [
    {
     "data": {
      "text/plain": [
       "653"
      ]
     },
     "execution_count": 20,
     "metadata": {},
     "output_type": "execute_result"
    }
   ],
   "source": [
    "\n"
   ]
  },
  {
   "cell_type": "code",
   "execution_count": 24,
   "metadata": {},
   "outputs": [
    {
     "data": {
      "text/plain": [
       "Text(0.5, 1.0, 'idxmax_arr')"
      ]
     },
     "execution_count": 24,
     "metadata": {},
     "output_type": "execute_result"
    },
    {
     "data": {
      "image/png": "[encoded data removed]",
      "text/plain": [
       "<Figure size 1000x500 with 2 Axes>"
      ]
     },
     "metadata": {},
     "output_type": "display_data"
    }
   ],
   "source": []
  },
  {
   "cell_type": "code",
   "execution_count": 4,
   "metadata": {},
   "outputs": [
    {
     "name": "stdout",
     "output_type": "stream",
     "text": [
      "(64, 10)\n",
      "(64, 17)\n"
     ]
    },
    {
     "ename": "",
     "evalue": "",
     "output_type": "error",
     "traceback": [
      "\u001b[1;31mThe Kernel crashed while executing code in the current cell or a previous cell. \n",
      "\u001b[1;31mPlease review the code in the cell(s) to identify a possible cause of the failure. \n",
      "\u001b[1;31mClick <a href='https://aka.ms/vscodeJupyterKernelCrash'>here</a> for more info. \n",
      "\u001b[1;31mView Jupyter <a href='command:jupyter.viewOutput'>log</a> for further details."
     ]
    }
   ],
   "source": [
    "merge_psychiatry_demo = np.load('allData/prognosis_mix_hb/pretreatment_response/merge_psychiatry_demo_dose_data.npy')\n",
    "print(merge_psychiatry_demo.shape)\n",
    "\n",
    "x2 = np.load('allData/prognosis_mix_hb/pretreatment_response/nor_demo_cli_merge_data.npy')\n",
    "print(x2.shape)"
   ]
  },
  {
   "cell_type": "code",
   "execution_count": 2,
   "metadata": {},
   "outputs": [
    {
     "name": "stdout",
     "output_type": "stream",
     "text": [
      "(64, 52, 2500)\n",
      "HbO: (64, 52, 1250)\n"
     ]
    }
   ],
   "source": [
    "# calculate feature and apply SVM/XGBoost to see the performance\n",
    "\n",
    "# 1. load the data\n",
    "input_fold = 'allData/prognosis_mix_hb/pretreatment_response'\n",
    "data = np.load(input_fold + '/hb_data.npy')\n",
    "label = np.load(input_fold + '/label.npy')\n",
    "\n",
    "print(data.shape)\n",
    "HbO = data[...,0::2] # np.transpose(data[...,0::2],(0,2,1))\n",
    "# HbO = individual_normalization(HbO)\n",
    "print(f'HbO: {HbO.shape}')\n",
    "HbR = data[...,1::2] # np.transpose(data[...,1::2],(0,2,1))\n",
    "HbT = HbO + HbR\n",
    "\n",
    "data = np.concatenate((HbO,HbR,HbT),axis=-1)\n"
   ]
  },
  {
   "cell_type": "markdown",
   "metadata": {},
   "source": [
    "configs/pretreatment_response_cv_5_hbo.py\n",
    "\n",
    "python ./LOO_nested_CV_train.py cnn_gnn_transformer loocv_v0 pretreatment_response_cv_5_hbo"
   ]
  },
  {
   "cell_type": "code",
   "execution_count": 9,
   "metadata": {},
   "outputs": [
    {
     "name": "stdout",
     "output_type": "stream",
     "text": [
      "['python', 'scripts/plot/DL/read_LOO_nestedCV_gnntr.py', '--max', '4', '--K_FOLD', '5', '--result_path', 'results/gnn_transformer_with_cli_demo/prognosis_mix_hb/pretreatment_response/loocv_v0l1_rate_0.01_l2_rate_0.001_d_model_16_batch_size_64_n_layers_6']\n",
      "val_fold_path results/gnn_transformer_with_cli_demo/prognosis_mix_hb/pretreatment_response/loocv_v0l1_rate_0.01_l2_rate_0.001_d_model_16_batch_size_64_n_layers_6/LOO_nested_CV/LOO_0\n",
      "num_of_cv_folds 5\n",
      "y_test [0. 0. 0. 0. 0. 0. 0. 0. 0. 0. 0. 0. 0. 0. 1. 0. 0. 0. 0. 0. 1. 0. 1. 0.\n",
      " 0. 1. 1. 0. 0. 0. 0. 0. 0. 0. 0. 0. 0. 0. 1. 1. 0. 1. 0. 0. 0. 1. 0. 1.\n",
      " 1. 0. 0. 0. 0. 0. 0. 1. 1. 0. 0. 0. 1. 0. 0. 0.]\n",
      "MAX_ITR: 4 ranging ( 2 ~ 3 )\n",
      "Model name: gnn_transformer_with_cli_demo\n",
      "specify_itr None\n",
      "value_add_to_sensitivity_value 0.0\n",
      "| Model Name | Testing Set |             |             |             | Validation Set |             |             |             |\n",
      "|------------|-------------|-------------|-------------|-------------|-------------|-------------|-------------|-------------|\n",
      "|            | Balanced Accuracy | Sensitivity | Specificity | F1 Score | Balanced Accuracy | Sensitivity | Specificity | F1 Score |\n",
      "| gnn_transformer_with_cli_demo   | 69.0000  | 50.0000  | 88.0000  | 79.4120  | 81.8143  | 68.1250  | 95.5035  | 90.2425  |\n",
      "\n",
      "['python', 'scripts/plot/DL/read_LOO_nestedCV_gnntr.py', '--max', '4', '--K_FOLD', '5', '--result_path', 'results/gnn_transformer_with_cli_demo/prognosis_mix_hb/pretreatment_response/loocv_v1l1_rate_0.01_l2_rate_0.001_d_model_16_batch_size_64_n_layers_6']\n",
      "val_fold_path results/gnn_transformer_with_cli_demo/prognosis_mix_hb/pretreatment_response/loocv_v1l1_rate_0.01_l2_rate_0.001_d_model_16_batch_size_64_n_layers_6/LOO_nested_CV/LOO_0\n",
      "num_of_cv_folds 5\n",
      "y_test [0. 0. 0. 0. 0. 0. 0. 0. 0. 0. 0. 0. 0. 0. 1. 0. 0. 0. 0. 0. 1. 0. 1. 0.\n",
      " 0. 1. 1. 0. 0. 0. 0. 0. 0. 0. 0. 0. 0. 0. 1. 1. 0. 1. 0. 0. 0. 1. 0. 1.\n",
      " 1. 0. 0. 0. 0. 0. 0. 1. 1. 0. 0. 0. 1. 0. 0. 0.]\n",
      "MAX_ITR: 4 ranging ( 1 ~ 2 )\n",
      "Model name: gnn_transformer_with_cli_demo\n",
      "specify_itr None\n",
      "value_add_to_sensitivity_value 0.0\n",
      "| Model Name | Testing Set |             |             |             | Validation Set |             |             |             |\n",
      "|------------|-------------|-------------|-------------|-------------|-------------|-------------|-------------|-------------|\n",
      "|            | Balanced Accuracy | Sensitivity | Specificity | F1 Score | Balanced Accuracy | Sensitivity | Specificity | F1 Score |\n",
      "| gnn_transformer_with_cli_demo   | 57.8571  | 35.7143  | 80.0000  | 70.6740  | 75.4705  | 57.9688  | 92.9723  | 86.1668  |\n",
      "\n",
      "['python', 'scripts/plot/DL/read_LOO_nestedCV_gnntr.py', '--max', '4', '--K_FOLD', '5', '--result_path', 'results/gnn_transformer_with_cli_demo/prognosis_mix_hb/pretreatment_response/loocv_v2l1_rate_0.01_l2_rate_0.001_d_model_16_batch_size_64_n_layers_6']\n",
      "val_fold_path results/gnn_transformer_with_cli_demo/prognosis_mix_hb/pretreatment_response/loocv_v2l1_rate_0.01_l2_rate_0.001_d_model_16_batch_size_64_n_layers_6/LOO_nested_CV/LOO_0\n",
      "num_of_cv_folds 5\n",
      "y_test [0. 0. 0. 0. 0. 0. 0. 0. 0. 0. 0. 0. 0. 0. 1. 0. 0. 0. 0. 0. 1. 0. 1. 0.\n",
      " 0. 1. 1. 0. 0. 0. 0. 0. 0. 0. 0. 0. 0. 0. 1. 1. 0. 1. 0. 0. 0. 1. 0. 1.\n",
      " 1. 0. 0. 0. 0. 0. 0. 1. 1. 0. 0. 0. 1. 0. 0. 0.]\n",
      "MAX_ITR: 4 ranging ( 1 ~ 2 )\n",
      "Model name: gnn_transformer_with_cli_demo\n",
      "specify_itr None\n",
      "value_add_to_sensitivity_value 0.0\n",
      "| Model Name | Testing Set |             |             |             | Validation Set |             |             |             |\n",
      "|------------|-------------|-------------|-------------|-------------|-------------|-------------|-------------|-------------|\n",
      "|            | Balanced Accuracy | Sensitivity | Specificity | F1 Score | Balanced Accuracy | Sensitivity | Specificity | F1 Score |\n",
      "| gnn_transformer_with_cli_demo   | 59.8571  | 35.7143  | 84.0000  | 73.0770  | 77.0851  | 60.9375  | 93.2327  | 86.9557  |\n",
      "\n",
      "['python', 'scripts/plot/DL/read_LOO_nestedCV_gnntr.py', '--max', '4', '--K_FOLD', '5', '--result_path', 'results/gnn_transformer_with_cli_demo/prognosis_mix_hb/pretreatment_response/loocv_v3l1_rate_0.01_l2_rate_0.001_d_model_16_batch_size_64_n_layers_6']\n",
      "val_fold_path results/gnn_transformer_with_cli_demo/prognosis_mix_hb/pretreatment_response/loocv_v3l1_rate_0.01_l2_rate_0.001_d_model_16_batch_size_64_n_layers_6/LOO_nested_CV/LOO_0\n",
      "num_of_cv_folds 5\n",
      "y_test [0. 0. 0. 0. 0. 0. 0. 0. 0. 0. 0. 0. 0. 0. 1. 0. 0. 0. 0. 0. 1. 0. 1. 0.\n",
      " 0. 1. 1. 0. 0. 0. 0. 0. 0. 0. 0. 0. 0. 0. 1. 1. 0. 1. 0. 0. 0. 1. 0. 1.\n",
      " 1. 0. 0. 0. 0. 0. 0. 1. 1. 0. 0. 0. 1. 0. 0. 0.]\n",
      "MAX_ITR: 4 ranging ( 1 ~ 3 )\n",
      "Model name: gnn_transformer_with_cli_demo\n",
      "specify_itr None\n",
      "value_add_to_sensitivity_value 0.0\n",
      "| Model Name | Testing Set |             |             |             | Validation Set |             |             |             |\n",
      "|------------|-------------|-------------|-------------|-------------|-------------|-------------|-------------|-------------|\n",
      "|            | Balanced Accuracy | Sensitivity | Specificity | F1 Score | Balanced Accuracy | Sensitivity | Specificity | F1 Score |\n",
      "| gnn_transformer_with_cli_demo   | 57.8571  | 35.7143  | 80.0000  | 70.6740  | 76.5122  | 59.6875  | 93.3369  | 86.7543  |\n",
      "\n",
      "['python', 'scripts/plot/DL/read_LOO_nestedCV_gnntr.py', '--max', '4', '--K_FOLD', '5', '--result_path', 'results/gnn_transformer_with_cli_demo/prognosis_mix_hb/pretreatment_response/loocv_v4l1_rate_0.01_l2_rate_0.001_d_model_16_batch_size_64_n_layers_6']\n",
      "val_fold_path results/gnn_transformer_with_cli_demo/prognosis_mix_hb/pretreatment_response/loocv_v4l1_rate_0.01_l2_rate_0.001_d_model_16_batch_size_64_n_layers_6/LOO_nested_CV/LOO_0\n",
      "num_of_cv_folds 5\n",
      "y_test [0. 0. 0. 0. 0. 0. 0. 0. 0. 0. 0. 0. 0. 0. 1. 0. 0. 0. 0. 0. 1. 0. 1. 0.\n",
      " 0. 1. 1. 0. 0. 0. 0. 0. 0. 0. 0. 0. 0. 0. 1. 1. 0. 1. 0. 0. 0. 1. 0. 1.\n",
      " 1. 0. 0. 0. 0. 0. 0. 1. 1. 0. 0. 0. 1. 0. 0. 0.]\n",
      "MAX_ITR: 4 ranging ( 1 ~ 3 )\n",
      "Model name: gnn_transformer_with_cli_demo\n",
      "specify_itr None\n",
      "value_add_to_sensitivity_value 0.0\n",
      "| Model Name | Testing Set |             |             |             | Validation Set |             |             |             |\n",
      "|------------|-------------|-------------|-------------|-------------|-------------|-------------|-------------|-------------|\n",
      "|            | Balanced Accuracy | Sensitivity | Specificity | F1 Score | Balanced Accuracy | Sensitivity | Specificity | F1 Score |\n",
      "| gnn_transformer_with_cli_demo   | 56.8571  | 35.7143  | 78.0000  | 69.4730  | 77.4184  | 61.4063  | 93.4306  | 87.0734  |\n",
      "\n",
      "['python', 'scripts/plot/DL/read_LOO_nestedCV_gnntr.py', '--max', '4', '--K_FOLD', '5', '--result_path', 'results/gnn_transformer_with_cli_demo/prognosis_mix_hb/pretreatment_response/loocv_v5l1_rate_0.01_l2_rate_0.001_d_model_16_batch_size_64_n_layers_6']\n",
      "val_fold_path results/gnn_transformer_with_cli_demo/prognosis_mix_hb/pretreatment_response/loocv_v5l1_rate_0.01_l2_rate_0.001_d_model_16_batch_size_64_n_layers_6/LOO_nested_CV/LOO_0\n",
      "num_of_cv_folds 5\n",
      "y_test [0. 0. 0. 0. 0. 0. 0. 0. 0. 0. 0. 0. 0. 0. 1. 0. 0. 0. 0. 0. 1. 0. 1. 0.\n",
      " 0. 1. 1. 0. 0. 0. 0. 0. 0. 0. 0. 0. 0. 0. 1. 1. 0. 1. 0. 0. 0. 1. 0. 1.\n",
      " 1. 0. 0. 0. 0. 0. 0. 1. 1. 0. 0. 0. 1. 0. 0. 0.]\n",
      "MAX_ITR: 4 ranging ( 1 ~ 3 )\n",
      "Model name: gnn_transformer_with_cli_demo\n",
      "specify_itr None\n",
      "value_add_to_sensitivity_value 0.0\n",
      "| Model Name | Testing Set |             |             |             | Validation Set |             |             |             |\n",
      "|------------|-------------|-------------|-------------|-------------|-------------|-------------|-------------|-------------|\n",
      "|            | Balanced Accuracy | Sensitivity | Specificity | F1 Score | Balanced Accuracy | Sensitivity | Specificity | F1 Score |\n",
      "| gnn_transformer_with_cli_demo   | 65.0000  | 50.0000  | 80.0000  | 74.3120  | 77.6302  | 62.1875  | 93.0730  | 87.1528  |\n",
      "\n",
      "['python', 'scripts/plot/DL/read_LOO_nestedCV_gnntr.py', '--max', '4', '--K_FOLD', '5', '--result_path', 'results/gnn_transformer_with_cli_demo/prognosis_mix_hb/pretreatment_response/loocv_v6l1_rate_0.01_l2_rate_0.001_d_model_16_batch_size_64_n_layers_6']\n",
      "val_fold_path results/gnn_transformer_with_cli_demo/prognosis_mix_hb/pretreatment_response/loocv_v6l1_rate_0.01_l2_rate_0.001_d_model_16_batch_size_64_n_layers_6/LOO_nested_CV/LOO_0\n",
      "num_of_cv_folds 5\n",
      "y_test [0. 0. 0. 0. 0. 0. 0. 0. 0. 0. 0. 0. 0. 0. 1. 0. 0. 0. 0. 0. 1. 0. 1. 0.\n",
      " 0. 1. 1. 0. 0. 0. 0. 0. 0. 0. 0. 0. 0. 0. 1. 1. 0. 1. 0. 0. 0. 1. 0. 1.\n",
      " 1. 0. 0. 0. 0. 0. 0. 1. 1. 0. 0. 0. 1. 0. 0. 0.]\n",
      "MAX_ITR: 4 ranging ( 1 ~ 3 )\n",
      "Model name: gnn_transformer_with_cli_demo\n",
      "specify_itr None\n",
      "value_add_to_sensitivity_value 0.0\n",
      "| Model Name | Testing Set |             |             |             | Validation Set |             |             |             |\n",
      "|------------|-------------|-------------|-------------|-------------|-------------|-------------|-------------|-------------|\n",
      "|            | Balanced Accuracy | Sensitivity | Specificity | F1 Score | Balanced Accuracy | Sensitivity | Specificity | F1 Score |\n",
      "| gnn_transformer_with_cli_demo   | 60.4286  | 42.8571  | 78.0000  | 71.2900  | 76.5000  | 59.6875  | 93.3126  | 86.7429  |\n",
      "\n",
      "['python', 'scripts/plot/DL/read_LOO_nestedCV_gnntr.py', '--max', '4', '--K_FOLD', '5', '--result_path', 'results/gnn_transformer_with_cli_demo/prognosis_mix_hb/pretreatment_response/loocv_v7l1_rate_0.01_l2_rate_0.001_d_model_16_batch_size_64_n_layers_6']\n",
      "val_fold_path results/gnn_transformer_with_cli_demo/prognosis_mix_hb/pretreatment_response/loocv_v7l1_rate_0.01_l2_rate_0.001_d_model_16_batch_size_64_n_layers_6/LOO_nested_CV/LOO_0\n",
      "num_of_cv_folds 5\n",
      "y_test [0. 0. 0. 0. 0. 0. 0. 0. 0. 0. 0. 0. 0. 0. 1. 0. 0. 0. 0. 0. 1. 0. 1. 0.\n",
      " 0. 1. 1. 0. 0. 0. 0. 0. 0. 0. 0. 0. 0. 0. 1. 1. 0. 1. 0. 0. 0. 1. 0. 1.\n",
      " 1. 0. 0. 0. 0. 0. 0. 1. 1. 0. 0. 0. 1. 0. 0. 0.]\n",
      "MAX_ITR: 4 ranging ( 1 ~ 3 )\n",
      "Model name: gnn_transformer_with_cli_demo\n",
      "specify_itr None\n",
      "value_add_to_sensitivity_value 0.0\n",
      "| Model Name | Testing Set |             |             |             | Validation Set |             |             |             |\n",
      "|------------|-------------|-------------|-------------|-------------|-------------|-------------|-------------|-------------|\n",
      "|            | Balanced Accuracy | Sensitivity | Specificity | F1 Score | Balanced Accuracy | Sensitivity | Specificity | F1 Score |\n",
      "| gnn_transformer_with_cli_demo   | 62.4286  | 42.8571  | 82.0000  | 73.7610  | 78.0521  | 62.5000  | 93.6042  | 87.5581  |\n",
      "\n",
      "['python', 'scripts/plot/DL/read_LOO_nestedCV_gnntr.py', '--max', '4', '--K_FOLD', '5', '--result_path', 'results/gnn_transformer_with_cli_demo/prognosis_mix_hb/pretreatment_response/loocv_v8l1_rate_0.01_l2_rate_0.001_d_model_16_batch_size_64_n_layers_6']\n",
      "val_fold_path results/gnn_transformer_with_cli_demo/prognosis_mix_hb/pretreatment_response/loocv_v8l1_rate_0.01_l2_rate_0.001_d_model_16_batch_size_64_n_layers_6/LOO_nested_CV/LOO_0\n",
      "num_of_cv_folds 5\n",
      "y_test [0. 0. 0. 0. 0. 0. 0. 0. 0. 0. 0. 0. 0. 0. 1. 0. 0. 0. 0. 0. 1. 0. 1. 0.\n",
      " 0. 1. 1. 0. 0. 0. 0. 0. 0. 0. 0. 0. 0. 0. 1. 1. 0. 1. 0. 0. 0. 1. 0. 1.\n",
      " 1. 0. 0. 0. 0. 0. 0. 1. 1. 0. 0. 0. 1. 0. 0. 0.]\n",
      "MAX_ITR: 4 ranging ( 1 ~ 2 )\n",
      "Model name: gnn_transformer_with_cli_demo\n",
      "specify_itr None\n",
      "value_add_to_sensitivity_value 0.0\n",
      "| Model Name | Testing Set |             |             |             | Validation Set |             |             |             |\n",
      "|------------|-------------|-------------|-------------|-------------|-------------|-------------|-------------|-------------|\n",
      "|            | Balanced Accuracy | Sensitivity | Specificity | F1 Score | Balanced Accuracy | Sensitivity | Specificity | F1 Score |\n",
      "| gnn_transformer_with_cli_demo   | 58.8571  | 35.7143  | 82.0000  | 71.8750  | 75.6476  | 57.8125  | 93.4827  | 86.3514  |\n",
      "\n",
      "['python', 'scripts/plot/DL/read_LOO_nestedCV_gnntr.py', '--max', '4', '--K_FOLD', '5', '--result_path', 'results/gnn_transformer_with_cli_demo/prognosis_mix_hb/pretreatment_response/loocv_v9l1_rate_0.01_l2_rate_0.001_d_model_16_batch_size_64_n_layers_6']\n",
      "val_fold_path results/gnn_transformer_with_cli_demo/prognosis_mix_hb/pretreatment_response/loocv_v9l1_rate_0.01_l2_rate_0.001_d_model_16_batch_size_64_n_layers_6/LOO_nested_CV/LOO_0\n",
      "num_of_cv_folds 5\n",
      "y_test [0. 0. 0. 0. 0. 0. 0. 0. 0. 0. 0. 0. 0. 0. 1. 0. 0. 0. 0. 0. 1. 0. 1. 0.\n",
      " 0. 1. 1. 0. 0. 0. 0. 0. 0. 0. 0. 0. 0. 0. 1. 1. 0. 1. 0. 0. 0. 1. 0. 1.\n",
      " 1. 0. 0. 0. 0. 0. 0. 1. 1. 0. 0. 0. 1. 0. 0. 0.]\n",
      "MAX_ITR: 4 ranging ( 1 ~ 2 )\n",
      "Model name: gnn_transformer_with_cli_demo\n",
      "specify_itr None\n",
      "value_add_to_sensitivity_value 0.0\n",
      "| Model Name | Testing Set |             |             |             | Validation Set |             |             |             |\n",
      "|------------|-------------|-------------|-------------|-------------|-------------|-------------|-------------|-------------|\n",
      "|            | Balanced Accuracy | Sensitivity | Specificity | F1 Score | Balanced Accuracy | Sensitivity | Specificity | F1 Score |\n",
      "| gnn_transformer_with_cli_demo   | 64.0000  | 50.0000  | 78.0000  | 73.0470  | 75.6441  | 58.7500  | 92.5383  | 85.8573  |\n",
      "\n",
      "['python', 'scripts/plot/DL/read_LOO_nestedCV_gnntr.py', '--max', '4', '--K_FOLD', '5', '--result_path', 'results/gnn_transformer_with_cli_demo/prognosis_mix_hb/pretreatment_response/loocv_v10l1_rate_0.01_l2_rate_0.001_d_model_16_batch_size_64_n_layers_6']\n",
      "val_fold_path results/gnn_transformer_with_cli_demo/prognosis_mix_hb/pretreatment_response/loocv_v10l1_rate_0.01_l2_rate_0.001_d_model_16_batch_size_64_n_layers_6/LOO_nested_CV/LOO_0\n",
      "num_of_cv_folds 5\n",
      "y_test [0. 0. 0. 0. 0. 0. 0. 0. 0. 0. 0. 0. 0. 0. 1. 0. 0. 0. 0. 0. 1. 0. 1. 0.\n",
      " 0. 1. 1. 0. 0. 0. 0. 0. 0. 0. 0. 0. 0. 0. 1. 1. 0. 1. 0. 0. 0. 1. 0. 1.\n",
      " 1. 0. 0. 0. 0. 0. 0. 1. 1. 0. 0. 0. 1. 0. 0. 0.]\n",
      "MAX_ITR: 4 ranging ( 1 ~ 2 )\n",
      "Model name: gnn_transformer_with_cli_demo\n",
      "specify_itr None\n",
      "value_add_to_sensitivity_value 0.0\n",
      "| Model Name | Testing Set |             |             |             | Validation Set |             |             |             |\n",
      "|------------|-------------|-------------|-------------|-------------|-------------|-------------|-------------|-------------|\n",
      "|            | Balanced Accuracy | Sensitivity | Specificity | F1 Score | Balanced Accuracy | Sensitivity | Specificity | F1 Score |\n",
      "| gnn_transformer_with_cli_demo   | 66.0000  | 50.0000  | 82.0000  | 75.5780  | 75.9080  | 59.0625  | 92.7535  | 86.1785  |\n",
      "\n",
      "['python', 'scripts/plot/DL/read_LOO_nestedCV_gnntr.py', '--max', '4', '--K_FOLD', '5', '--result_path', 'results/gnn_transformer_with_cli_demo/prognosis_mix_hb/pretreatment_response/loocv_v11l1_rate_0.01_l2_rate_0.001_d_model_16_batch_size_64_n_layers_6']\n",
      "val_fold_path results/gnn_transformer_with_cli_demo/prognosis_mix_hb/pretreatment_response/loocv_v11l1_rate_0.01_l2_rate_0.001_d_model_16_batch_size_64_n_layers_6/LOO_nested_CV/LOO_0\n",
      "num_of_cv_folds 5\n",
      "y_test [0. 0. 0. 0. 0. 0. 0. 0. 0. 0. 0. 0. 0. 0. 1. 0. 0. 0. 0. 0. 1. 0. 1. 0.\n",
      " 0. 1. 1. 0. 0. 0. 0. 0. 0. 0. 0. 0. 0. 0. 1. 1. 0. 1. 0. 0. 0. 1. 0. 1.\n",
      " 1. 0. 0. 0. 0. 0. 0. 1. 1. 0. 0. 0. 1. 0. 0. 0.]\n",
      "MAX_ITR: 4 ranging ( 1 ~ 2 )\n",
      "Model name: gnn_transformer_with_cli_demo\n",
      "specify_itr None\n",
      "value_add_to_sensitivity_value 0.0\n",
      "| Model Name | Testing Set |             |             |             | Validation Set |             |             |             |\n",
      "|------------|-------------|-------------|-------------|-------------|-------------|-------------|-------------|-------------|\n",
      "|            | Balanced Accuracy | Sensitivity | Specificity | F1 Score | Balanced Accuracy | Sensitivity | Specificity | F1 Score |\n",
      "| gnn_transformer_with_cli_demo   | 60.4286  | 42.8571  | 78.0000  | 71.2900  | 75.5434  | 58.7500  | 92.3369  | 85.7935  |\n",
      "\n",
      "['python', 'scripts/plot/DL/read_LOO_nestedCV_gnntr.py', '--max', '4', '--K_FOLD', '5', '--result_path', 'results/gnn_transformer_with_cli_demo/prognosis_mix_hb/pretreatment_response/loocv_v12l1_rate_0.01_l2_rate_0.001_d_model_16_batch_size_64_n_layers_6']\n",
      "val_fold_path results/gnn_transformer_with_cli_demo/prognosis_mix_hb/pretreatment_response/loocv_v12l1_rate_0.01_l2_rate_0.001_d_model_16_batch_size_64_n_layers_6/LOO_nested_CV/LOO_0\n",
      "num_of_cv_folds 5\n",
      "y_test [0. 0. 0. 0. 0. 0. 0. 0. 0. 0. 0. 0. 0. 0. 1. 0. 0. 0. 0. 0. 1. 0. 1. 0.\n",
      " 0. 1. 1. 0. 0. 0. 0. 0. 0. 0. 0. 0. 0. 0. 1. 1. 0. 1. 0. 0. 0. 1. 0. 1.\n",
      " 1. 0. 0. 0. 0. 0. 0. 1. 1. 0. 0. 0. 1. 0. 0. 0.]\n",
      "MAX_ITR: 4 ranging ( 1 ~ 2 )\n",
      "Model name: gnn_transformer_with_cli_demo\n",
      "specify_itr None\n",
      "value_add_to_sensitivity_value 0.0\n",
      "| Model Name | Testing Set |             |             |             | Validation Set |             |             |             |\n",
      "|------------|-------------|-------------|-------------|-------------|-------------|-------------|-------------|-------------|\n",
      "|            | Balanced Accuracy | Sensitivity | Specificity | F1 Score | Balanced Accuracy | Sensitivity | Specificity | F1 Score |\n",
      "| gnn_transformer_with_cli_demo   | 64.4286  | 42.8571  | 86.0000  | 76.2440  | 75.6997  | 58.5938  | 92.8056  | 86.0002  |\n",
      "\n",
      "['python', 'scripts/plot/DL/read_LOO_nestedCV_gnntr.py', '--max', '4', '--K_FOLD', '5', '--result_path', 'results/gnn_transformer_with_cli_demo/prognosis_mix_hb/pretreatment_response/loocv_v13l1_rate_0.01_l2_rate_0.001_d_model_16_batch_size_64_n_layers_6']\n",
      "val_fold_path results/gnn_transformer_with_cli_demo/prognosis_mix_hb/pretreatment_response/loocv_v13l1_rate_0.01_l2_rate_0.001_d_model_16_batch_size_64_n_layers_6/LOO_nested_CV/LOO_0\n",
      "num_of_cv_folds 5\n",
      "y_test [0. 0. 0. 0. 0. 0. 0. 0. 0. 0. 0. 0. 0. 0. 1. 0. 0. 0. 0. 0. 1. 0. 1. 0.\n",
      " 0. 1. 1. 0. 0. 0. 0. 0. 0. 0. 0. 0. 0. 0. 1. 1. 0. 1. 0. 0. 0. 1. 0. 1.\n",
      " 1. 0. 0. 0. 0. 0. 0. 1. 1. 0. 0. 0. 1. 0. 0. 0.]\n",
      "MAX_ITR: 4 ranging ( 1 ~ 2 )\n",
      "Model name: gnn_transformer_with_cli_demo\n",
      "specify_itr None\n",
      "value_add_to_sensitivity_value 0.0\n",
      "| Model Name | Testing Set |             |             |             | Validation Set |             |             |             |\n",
      "|------------|-------------|-------------|-------------|-------------|-------------|-------------|-------------|-------------|\n",
      "|            | Balanced Accuracy | Sensitivity | Specificity | F1 Score | Balanced Accuracy | Sensitivity | Specificity | F1 Score |\n",
      "| gnn_transformer_with_cli_demo   | 62.4286  | 42.8571  | 82.0000  | 73.7610  | 75.9375  | 59.6875  | 92.1876  | 85.8676  |\n",
      "\n",
      "['python', 'scripts/plot/DL/read_LOO_nestedCV_gnntr.py', '--max', '4', '--K_FOLD', '5', '--result_path', 'results/gnn_transformer_with_cli_demo/prognosis_mix_hb/pretreatment_response/loocv_v14l1_rate_0.01_l2_rate_0.001_d_model_16_batch_size_64_n_layers_6']\n",
      "val_fold_path results/gnn_transformer_with_cli_demo/prognosis_mix_hb/pretreatment_response/loocv_v14l1_rate_0.01_l2_rate_0.001_d_model_16_batch_size_64_n_layers_6/LOO_nested_CV/LOO_0\n",
      "num_of_cv_folds 5\n",
      "y_test [0. 0. 0. 0. 0. 0. 0. 0. 0. 0. 0. 0. 0. 0. 1. 0. 0. 0. 0. 0. 1. 0. 1. 0.\n",
      " 0. 1. 1. 0. 0. 0. 0. 0. 0. 0. 0. 0. 0. 0. 1. 1. 0. 1. 0. 0. 0. 1. 0. 1.\n",
      " 1. 0. 0. 0. 0. 0. 0. 1. 1. 0. 0. 0. 1. 0. 0. 0.]\n",
      "MAX_ITR: 4 ranging ( 1 ~ 2 )\n",
      "Model name: gnn_transformer_with_cli_demo\n",
      "specify_itr None\n",
      "value_add_to_sensitivity_value 0.0\n",
      "| Model Name | Testing Set |             |             |             | Validation Set |             |             |             |\n",
      "|------------|-------------|-------------|-------------|-------------|-------------|-------------|-------------|-------------|\n",
      "|            | Balanced Accuracy | Sensitivity | Specificity | F1 Score | Balanced Accuracy | Sensitivity | Specificity | F1 Score |\n",
      "| gnn_transformer_with_cli_demo   | 61.4286  | 42.8571  | 80.0000  | 72.5260  | 76.2761  | 60.0000  | 92.5521  | 86.2908  |\n",
      "\n",
      "['python', 'scripts/plot/DL/read_LOO_nestedCV_gnntr.py', '--max', '4', '--K_FOLD', '5', '--result_path', 'results/gnn_transformer_with_cli_demo/prognosis_mix_hb/pretreatment_response/loocv_v15l1_rate_0.01_l2_rate_0.001_d_model_16_batch_size_64_n_layers_6']\n",
      "val_fold_path results/gnn_transformer_with_cli_demo/prognosis_mix_hb/pretreatment_response/loocv_v15l1_rate_0.01_l2_rate_0.001_d_model_16_batch_size_64_n_layers_6/LOO_nested_CV/LOO_0\n",
      "num_of_cv_folds 5\n",
      "y_test [0. 0. 0. 0. 0. 0. 0. 0. 0. 0. 0. 0. 0. 0. 1. 0. 0. 0. 0. 0. 1. 0. 1. 0.\n",
      " 0. 1. 1. 0. 0. 0. 0. 0. 0. 0. 0. 0. 0. 0. 1. 1. 0. 1. 0. 0. 0. 1. 0. 1.\n",
      " 1. 0. 0. 0. 0. 0. 0. 1. 1. 0. 0. 0. 1. 0. 0. 0.]\n",
      "MAX_ITR: 4 ranging ( 1 ~ 2 )\n",
      "Model name: gnn_transformer_with_cli_demo\n",
      "specify_itr None\n",
      "value_add_to_sensitivity_value 0.0\n",
      "| Model Name | Testing Set |             |             |             | Validation Set |             |             |             |\n",
      "|------------|-------------|-------------|-------------|-------------|-------------|-------------|-------------|-------------|\n",
      "|            | Balanced Accuracy | Sensitivity | Specificity | F1 Score | Balanced Accuracy | Sensitivity | Specificity | F1 Score |\n",
      "| gnn_transformer_with_cli_demo   | 56.8571  | 35.7143  | 78.0000  | 69.4730  | 75.2952  | 57.5000  | 93.0903  | 85.9756  |\n",
      "\n",
      "['python', 'scripts/plot/DL/read_LOO_nestedCV_gnntr.py', '--max', '4', '--K_FOLD', '5', '--result_path', 'results/gnn_transformer_with_cli_demo/prognosis_mix_hb/pretreatment_response/loocv_v16l1_rate_0.01_l2_rate_0.001_d_model_16_batch_size_64_n_layers_6']\n",
      "val_fold_path results/gnn_transformer_with_cli_demo/prognosis_mix_hb/pretreatment_response/loocv_v16l1_rate_0.01_l2_rate_0.001_d_model_16_batch_size_64_n_layers_6/LOO_nested_CV/LOO_0\n",
      "num_of_cv_folds 5\n",
      "y_test [0. 0. 0. 0. 0. 0. 0. 0. 0. 0. 0. 0. 0. 0. 1. 0. 0. 0. 0. 0. 1. 0. 1. 0.\n",
      " 0. 1. 1. 0. 0. 0. 0. 0. 0. 0. 0. 0. 0. 0. 1. 1. 0. 1. 0. 0. 0. 1. 0. 1.\n",
      " 1. 0. 0. 0. 0. 0. 0. 1. 1. 0. 0. 0. 1. 0. 0. 0.]\n",
      "MAX_ITR: 4 ranging ( 1 ~ 2 )\n",
      "Model name: gnn_transformer_with_cli_demo\n",
      "specify_itr None\n",
      "value_add_to_sensitivity_value 0.0\n",
      "| Model Name | Testing Set |             |             |             | Validation Set |             |             |             |\n",
      "|------------|-------------|-------------|-------------|-------------|-------------|-------------|-------------|-------------|\n",
      "|            | Balanced Accuracy | Sensitivity | Specificity | F1 Score | Balanced Accuracy | Sensitivity | Specificity | F1 Score |\n",
      "| gnn_transformer_with_cli_demo   | 64.0000  | 50.0000  | 78.0000  | 73.0470  | 75.2379  | 57.3438  | 93.1320  | 85.9460  |\n",
      "\n",
      "['python', 'scripts/plot/DL/read_LOO_nestedCV_gnntr.py', '--max', '4', '--K_FOLD', '5', '--result_path', 'results/gnn_transformer_with_cli_demo/prognosis_mix_hb/pretreatment_response/loocv_v17l1_rate_0.01_l2_rate_0.001_d_model_16_batch_size_64_n_layers_6']\n",
      "val_fold_path results/gnn_transformer_with_cli_demo/prognosis_mix_hb/pretreatment_response/loocv_v17l1_rate_0.01_l2_rate_0.001_d_model_16_batch_size_64_n_layers_6/LOO_nested_CV/LOO_0\n",
      "num_of_cv_folds 5\n",
      "y_test [0. 0. 0. 0. 0. 0. 0. 0. 0. 0. 0. 0. 0. 0. 1. 0. 0. 0. 0. 0. 1. 0. 1. 0.\n",
      " 0. 1. 1. 0. 0. 0. 0. 0. 0. 0. 0. 0. 0. 0. 1. 1. 0. 1. 0. 0. 0. 1. 0. 1.\n",
      " 1. 0. 0. 0. 0. 0. 0. 1. 1. 0. 0. 0. 1. 0. 0. 0.]\n",
      "MAX_ITR: 4 ranging ( 1 ~ 2 )\n",
      "Model name: gnn_transformer_with_cli_demo\n",
      "specify_itr None\n",
      "value_add_to_sensitivity_value 0.0\n",
      "| Model Name | Testing Set |             |             |             | Validation Set |             |             |             |\n",
      "|------------|-------------|-------------|-------------|-------------|-------------|-------------|-------------|-------------|\n",
      "|            | Balanced Accuracy | Sensitivity | Specificity | F1 Score | Balanced Accuracy | Sensitivity | Specificity | F1 Score |\n",
      "| gnn_transformer_with_cli_demo   | 69.5714  | 57.1429  | 82.0000  | 77.3340  | 76.0643  | 59.0625  | 93.0660  | 86.4000  |\n",
      "\n",
      "['python', 'scripts/plot/DL/read_LOO_nestedCV_gnntr.py', '--max', '4', '--K_FOLD', '5', '--result_path', 'results/gnn_transformer_with_cli_demo/prognosis_mix_hb/pretreatment_response/loocv_v18l1_rate_0.01_l2_rate_0.001_d_model_16_batch_size_64_n_layers_6']\n",
      "val_fold_path results/gnn_transformer_with_cli_demo/prognosis_mix_hb/pretreatment_response/loocv_v18l1_rate_0.01_l2_rate_0.001_d_model_16_batch_size_64_n_layers_6/LOO_nested_CV/LOO_0\n",
      "num_of_cv_folds 5\n",
      "y_test [0. 0. 0. 0. 0. 0. 0. 0. 0. 0. 0. 0. 0. 0. 1. 0. 0. 0. 0. 0. 1. 0. 1. 0.\n",
      " 0. 1. 1. 0. 0. 0. 0. 0. 0. 0. 0. 0. 0. 0. 1. 1. 0. 1. 0. 0. 0. 1. 0. 1.\n",
      " 1. 0. 0. 0. 0. 0. 0. 1. 1. 0. 0. 0. 1. 0. 0. 0.]\n",
      "MAX_ITR: 4 ranging ( 1 ~ 2 )\n",
      "Model name: gnn_transformer_with_cli_demo\n",
      "specify_itr None\n",
      "value_add_to_sensitivity_value 0.0\n",
      "| Model Name | Testing Set |             |             |             | Validation Set |             |             |             |\n",
      "|------------|-------------|-------------|-------------|-------------|-------------|-------------|-------------|-------------|\n",
      "|            | Balanced Accuracy | Sensitivity | Specificity | F1 Score | Balanced Accuracy | Sensitivity | Specificity | F1 Score |\n",
      "| gnn_transformer_with_cli_demo   | 59.8571  | 35.7143  | 84.0000  | 73.0770  | 76.2361  | 59.8438  | 92.6285  | 86.3345  |\n",
      "\n",
      "['python', 'scripts/plot/DL/read_LOO_nestedCV_gnntr.py', '--max', '4', '--K_FOLD', '5', '--result_path', 'results/gnn_transformer_with_cli_demo/prognosis_mix_hb/pretreatment_response/loocv_v19l1_rate_0.01_l2_rate_0.001_d_model_16_batch_size_64_n_layers_6']\n",
      "val_fold_path results/gnn_transformer_with_cli_demo/prognosis_mix_hb/pretreatment_response/loocv_v19l1_rate_0.01_l2_rate_0.001_d_model_16_batch_size_64_n_layers_6/LOO_nested_CV/LOO_0\n",
      "num_of_cv_folds 5\n",
      "y_test [0. 0. 0. 0. 0. 0. 0. 0. 0. 0. 0. 0. 0. 0. 1. 0. 0. 0. 0. 0. 1. 0. 1. 0.\n",
      " 0. 1. 1. 0. 0. 0. 0. 0. 0. 0. 0. 0. 0. 0. 1. 1. 0. 1. 0. 0. 0. 1. 0. 1.\n",
      " 1. 0. 0. 0. 0. 0. 0. 1. 1. 0. 0. 0. 1. 0. 0. 0.]\n",
      "MAX_ITR: 4 ranging ( 1 ~ 2 )\n",
      "Model name: gnn_transformer_with_cli_demo\n",
      "specify_itr None\n",
      "value_add_to_sensitivity_value 0.0\n",
      "| Model Name | Testing Set |             |             |             | Validation Set |             |             |             |\n",
      "|------------|-------------|-------------|-------------|-------------|-------------|-------------|-------------|-------------|\n",
      "|            | Balanced Accuracy | Sensitivity | Specificity | F1 Score | Balanced Accuracy | Sensitivity | Specificity | F1 Score |\n",
      "| gnn_transformer_with_cli_demo   | 66.0000  | 50.0000  | 82.0000  | 75.5780  | 74.9497  | 56.7188  | 93.1806  | 85.9616  |\n",
      "\n"
     ]
    }
   ],
   "source": [
    "for i in range(20):\n",
    "    command = f'python scripts/plot/DL/read_LOO_nestedCV_gnntr.py --max 4 --K_FOLD 5 --result_path results/gnn_transformer_with_cli_demo/prognosis_mix_hb/pretreatment_response/loocv_v{i}l1_rate_0.01_l2_rate_0.001_d_model_16_batch_size_64_n_layers_6'.split(' ')\n",
    "    result = subprocess.run(command, capture_output=True, text=True)\n",
    "    print(command)\n",
    "    print(result.stdout)"
   ]
  },
  {
   "cell_type": "code",
   "execution_count": 7,
   "metadata": {},
   "outputs": [
    {
     "data": {
      "text/plain": [
       "['python',\n",
       " 'scripts/plot/DL/read_LOO_nestedCV_gnntr.py',\n",
       " '--max',\n",
       " '4',\n",
       " '--K_FOLD',\n",
       " '5',\n",
       " '--result_path',\n",
       " 'results/gnn_transformer_with_cli_demo/prognosis_mix_hb/pretreatment_response/loocv_v0l1_rate_0.01_l2_rate_0.001_d_model_16_batch_size_64_n_layers_6']"
      ]
     },
     "execution_count": 7,
     "metadata": {},
     "output_type": "execute_result"
    }
   ],
   "source": [
    "command"
   ]
  },
  {
   "cell_type": "code",
   "execution_count": 3,
   "metadata": {},
   "outputs": [
    {
     "name": "stdout",
     "output_type": "stream",
     "text": [
      "(10, 64, 2)\n"
     ]
    },
    {
     "ename": "",
     "evalue": "",
     "output_type": "error",
     "traceback": [
      "\u001b[1;31mThe Kernel crashed while executing code in the current cell or a previous cell. \n",
      "\u001b[1;31mPlease review the code in the cell(s) to identify a possible cause of the failure. \n",
      "\u001b[1;31mClick <a href='https://aka.ms/vscodeJupyterKernelCrash'>here</a> for more info. \n",
      "\u001b[1;31mView Jupyter <a href='command:jupyter.viewOutput'>log</a> for further details."
     ]
    }
   ],
   "source": [
    "y_pred_all = np.load('results/gnn_transformer/prognosis_mix_hb/pretreatment_response/ten-fold-evaluate/y_pred_test_all.npy')\n",
    "print(y_pred_all.shape)\n",
    "np.save('allData/prognosis_mix_hb/pretreatment_response/MDDR/MDDR_derived_from_load_evaluate.npy', y_pred_all)"
   ]
  },
  {
   "cell_type": "code",
   "execution_count": 60,
   "metadata": {},
   "outputs": [
    {
     "name": "stdout",
     "output_type": "stream",
     "text": [
      "freq_accumulator tf.Tensor([[4. 3.]], shape=(1, 2), dtype=float32)\n",
      "transpose freq_accumulator tf.Tensor(\n",
      "[[4.]\n",
      " [3.]], shape=(2, 1), dtype=float32)\n",
      "freq_comparator tf.Tensor(\n",
      "[[4. 3.]\n",
      " [4. 3.]], shape=(2, 2), dtype=float32)\n"
     ]
    }
   ],
   "source": [
    "a = [0,1,1,0,0,0,1]\n",
    "a_one_hot = tf.one_hot(a, 2)\n",
    "\n",
    "freq_accumulator = tf.reduce_sum(a_one_hot, axis=0, keepdims=True)\n",
    "freq_comparator = tf.tile(freq_accumulator, [2, 1])\n",
    "print('freq_accumulator', freq_accumulator)\n",
    "print('transpose freq_accumulator', tf.transpose(freq_accumulator))\n",
    "print('freq_comparator', freq_comparator)\n",
    "mask = tf.cast(\n",
    "            tf.greater(tf.transpose(freq_accumulator), freq_comparator),\n",
    "            dtype=tf.float32,\n",
    "        )"
   ]
  },
  {
   "cell_type": "code",
   "execution_count": 61,
   "metadata": {},
   "outputs": [
    {
     "data": {
      "text/plain": [
       "<tf.Tensor: shape=(7, 2), dtype=float32, numpy=\n",
       "array([[1.        , 0.79441786],\n",
       "       [1.        , 1.        ],\n",
       "       [1.        , 1.        ],\n",
       "       [1.        , 0.79441786],\n",
       "       [1.        , 0.79441786],\n",
       "       [1.        , 0.79441786],\n",
       "       [1.        , 1.        ]], dtype=float32)>"
      ]
     },
     "execution_count": 61,
     "metadata": {},
     "output_type": "execute_result"
    }
   ],
   "source": [
    "long_tail = freq_comparator / tf.transpose(freq_accumulator)\n",
    "p_factor = 0.8\n",
    "mitigator = (long_tail ** p_factor) * mask + (1-mask)\n",
    "mitigator_factor = tf.gather(mitigator, tf.argmax(a_one_hot, axis=-1))\n",
    "mitigator_factor"
   ]
  },
  {
   "cell_type": "code",
   "execution_count": 58,
   "metadata": {},
   "outputs": [
    {
     "name": "stdout",
     "output_type": "stream",
     "text": [
      "compensation_factor tf.Tensor(\n",
      "[[1.        1.       ]\n",
      " [1.4918244 1.       ]\n",
      " [1.        1.       ]\n",
      " [1.        1.       ]\n",
      " [1.        1.       ]\n",
      " [1.        4.9530325]\n",
      " [1.        1.       ]], shape=(7, 2), dtype=float32)\n"
     ]
    }
   ],
   "source": [
    "# _get_compensation_factor\n",
    "\n",
    "q_factor = 2.0\n",
    "\n",
    "labels = a_one_hot\n",
    "\n",
    "logits = tf.constant([[0.56, 0.44], [0.6, 0.4], [0.45, 0.55], [0.66, 0.34], [0.7, 0.3], [0.1, 0.9], [0.45, 0.55]])\n",
    "\n",
    "scores = tf.math.softmax(logits, axis=-1)\n",
    "\n",
    "gt_label = tf.argmax(labels, axis=1)\n",
    "\n",
    "indices = tf.stack(\n",
    "            [tf.range(0, tf.shape(logits)[0], dtype=gt_label.dtype), gt_label], axis=1\n",
    "        )\n",
    "\n",
    "cls_score = tf.gather_nd(scores, indices)\n",
    "argmax_logits = tf.argmax(logits, axis=-1) == gt_label\n",
    "compensator = scores / tf.expand_dims(cls_score, axis=-1)\n",
    "mask = tf.cast(tf.greater(compensator, 1.0), dtype=labels.dtype)\n",
    "compensation_factor = (compensator ** q_factor) * mask + (1 - mask)\n",
    "print('compensation_factor', compensation_factor)"
   ]
  },
  {
   "cell_type": "code",
   "execution_count": 62,
   "metadata": {},
   "outputs": [
    {
     "name": "stdout",
     "output_type": "stream",
     "text": [
      "seesaw_weights tf.Tensor(\n",
      "[[1.         0.79441786]\n",
      " [1.4918244  1.        ]\n",
      " [1.         1.        ]\n",
      " [1.         0.79441786]\n",
      " [1.         0.79441786]\n",
      " [1.         3.9347775 ]\n",
      " [1.         1.        ]], shape=(7, 2), dtype=float32)\n"
     ]
    }
   ],
   "source": [
    "seesaw_weights = tf.ones_like(labels, dtype=tf.float32)\n",
    "seesaw_weights *= mitigator_factor \n",
    "seesaw_weights = seesaw_weights * compensation_factor\n",
    "print('seesaw_weights', seesaw_weights)\n"
   ]
  },
  {
   "cell_type": "code",
   "execution_count": 67,
   "metadata": {},
   "outputs": [
    {
     "name": "stdout",
     "output_type": "stream",
     "text": [
      "tf.Tensor(\n",
      "[[1.         0.79441786]\n",
      " [1.4918244  1.        ]\n",
      " [1.         1.        ]\n",
      " [1.         0.79441786]\n",
      " [1.         0.79441786]\n",
      " [1.         3.9347775 ]\n",
      " [1.         1.        ]], shape=(7, 2), dtype=float32)\n",
      "tf.Tensor(\n",
      "[[0. 1.]\n",
      " [1. 0.]\n",
      " [1. 0.]\n",
      " [0. 1.]\n",
      " [0. 1.]\n",
      " [0. 1.]\n",
      " [1. 0.]], shape=(7, 2), dtype=float32)\n",
      "tf.Tensor(\n",
      "[[0.         0.79441786]\n",
      " [1.4918244  0.        ]\n",
      " [1.         0.        ]\n",
      " [0.         0.79441786]\n",
      " [0.         0.79441786]\n",
      " [0.         3.9347775 ]\n",
      " [1.         0.        ]], shape=(7, 2), dtype=float32)\n"
     ]
    },
    {
     "ename": "",
     "evalue": "",
     "output_type": "error",
     "traceback": [
      "\u001b[1;31mThe Kernel crashed while executing code in the current cell or a previous cell. \n",
      "\u001b[1;31mPlease review the code in the cell(s) to identify a possible cause of the failure. \n",
      "\u001b[1;31mClick <a href='https://aka.ms/vscodeJupyterKernelCrash'>here</a> for more info. \n",
      "\u001b[1;31mView Jupyter <a href='command:jupyter.viewOutput'>log</a> for further details."
     ]
    }
   ],
   "source": [
    "print(seesaw_weights)\n",
    "print(1-labels)\n",
    "print((1-labels) * seesaw_weights)"
   ]
  },
  {
   "cell_type": "code",
   "execution_count": 4,
   "metadata": {},
   "outputs": [
    {
     "data": {
      "text/plain": [
       "(64, 52, 2500)"
      ]
     },
     "execution_count": 4,
     "metadata": {},
     "output_type": "execute_result"
    }
   ],
   "source": [
    "data = np.load('allData/prognosis/pretreatment_response/hb_data.npy')\n",
    "data.shape"
   ]
  },
  {
   "cell_type": "code",
   "execution_count": 5,
   "metadata": {},
   "outputs": [
    {
     "data": {
      "text/plain": [
       "[<matplotlib.lines.Line2D at 0x716f01a8a100>]"
      ]
     },
     "execution_count": 5,
     "metadata": {},
     "output_type": "execute_result"
    },
    {
     "data": {
      "image/png": "[encoded data removed]",
      "text/plain": [
       "<Figure size 640x480 with 1 Axes>"
      ]
     },
     "metadata": {},
     "output_type": "display_data"
    }
   ],
   "source": [
    "plt.plot(np.mean(data, axis=(0, 1)))"
   ]
  },
  {
   "cell_type": "code",
   "execution_count": 7,
   "metadata": {},
   "outputs": [
    {
     "name": "stdout",
     "output_type": "stream",
     "text": [
      "[3 4 6 0 9 7 5 1 2 8]\n",
      "[0 1 2 3 4 5 6 7 8 9]\n"
     ]
    }
   ],
   "source": [
    "a = np.arange(10)\n",
    "\n",
    "shuffled_indices = np.random.permutation(a.shape[0])\n",
    "print(shuffled_indices)\n",
    "\n",
    "original = [shuffled_indices.tolist().index(i) for i in range(10)]\n",
    "shuffle_back = shuffled_indices[original]\n",
    "\n",
    "print(shuffle_back)"
   ]
  },
  {
   "cell_type": "code",
   "execution_count": 3,
   "metadata": {},
   "outputs": [
    {
     "name": "stdout",
     "output_type": "stream",
     "text": [
      "{'fprs': [array([0.  , 0.02, 0.04, 0.08, 0.14, 0.18, 0.18, 0.18, 0.22, 0.28, 0.36,\n",
      "       0.4 , 0.4 , 0.44, 0.44, 0.5 , 0.5 , 0.52, 0.6 , 0.62, 0.7 , 0.7 ,\n",
      "       0.72, 0.72, 0.74, 0.74, 0.84, 0.92, 0.96, 0.96, 1.  ]), array([0.  , 0.02, 0.08, 0.08, 0.14, 0.14, 0.34, 0.34, 0.36, 0.36, 0.38,\n",
      "       0.38, 0.4 , 0.4 , 0.48, 0.48, 0.54, 0.54, 0.64, 0.64, 0.7 , 0.74,\n",
      "       0.82, 0.82, 0.84, 0.84, 1.  ]), array([0.  , 0.04, 0.68, 0.68, 0.68, 0.68, 0.68, 0.76, 0.82, 0.82, 1.  ]), array([0.  , 0.02, 0.06, 0.1 , 0.14, 0.28, 0.32, 0.36, 0.44, 0.48, 0.48,\n",
      "       0.5 , 0.54, 0.62, 0.68, 0.68, 0.7 , 0.74, 0.78, 0.9 , 0.9 , 0.96,\n",
      "       1.  ]), array([0.  , 0.02, 0.12, 0.16, 0.24, 0.24, 0.26, 0.3 , 0.36, 0.36, 0.4 ,\n",
      "       0.4 , 0.46, 0.46, 0.48, 0.48, 0.52, 0.52, 0.56, 0.58, 0.58, 0.62,\n",
      "       0.64, 0.68, 0.68, 0.78, 0.82, 0.88, 0.88, 0.92, 0.96, 1.  ]), array([0.  , 0.02, 0.14, 0.14, 0.28, 0.28, 0.36, 0.38, 0.38, 0.42, 0.42,\n",
      "       0.48, 0.48, 0.5 , 0.5 , 0.52, 0.52, 0.54, 0.54, 0.58, 0.58, 0.6 ,\n",
      "       0.68, 0.68, 0.86, 0.86, 0.92, 0.96, 1.  ]), array([0.  , 0.02, 0.04, 0.08, 0.22, 0.26, 0.26, 0.28, 0.34, 0.36, 0.36,\n",
      "       0.46, 0.46, 0.48, 0.48, 0.56, 0.6 , 0.64, 0.68, 0.68, 0.82, 0.86,\n",
      "       0.86, 0.9 , 0.94, 0.96, 1.  ]), array([0.  , 0.04, 0.68, 0.68, 0.68, 0.76, 0.76, 1.  ]), array([0.  , 0.02, 0.16, 0.16, 0.2 , 0.24, 0.42, 0.42, 0.46, 0.46, 0.52,\n",
      "       0.52, 0.58, 0.58, 0.64, 0.64, 0.68, 0.68, 0.84, 0.84, 1.  ]), array([0.  , 0.02, 0.06, 0.12, 0.26, 0.3 , 0.36, 0.38, 0.46, 0.46, 0.5 ,\n",
      "       0.5 , 0.56, 0.62, 0.68, 0.68, 0.7 , 0.7 , 0.72, 0.76, 0.76, 0.78,\n",
      "       0.9 , 0.94, 1.  , 1.  ])], 'tprs': [array([0.        , 0.        , 0.        , 0.        , 0.        ,\n",
      "       0.        , 0.14285714, 0.21428571, 0.21428571, 0.21428571,\n",
      "       0.21428571, 0.21428571, 0.28571429, 0.28571429, 0.42857143,\n",
      "       0.42857143, 0.64285714, 0.64285714, 0.64285714, 0.64285714,\n",
      "       0.64285714, 0.78571429, 0.78571429, 0.85714286, 0.85714286,\n",
      "       0.92857143, 0.92857143, 0.92857143, 0.92857143, 1.        ,\n",
      "       1.        ]), array([0.        , 0.        , 0.        , 0.07142857, 0.07142857,\n",
      "       0.14285714, 0.14285714, 0.28571429, 0.28571429, 0.35714286,\n",
      "       0.35714286, 0.42857143, 0.42857143, 0.5       , 0.5       ,\n",
      "       0.57142857, 0.57142857, 0.71428571, 0.71428571, 0.78571429,\n",
      "       0.78571429, 0.78571429, 0.78571429, 0.85714286, 0.85714286,\n",
      "       1.        , 1.        ]), array([0.        , 0.        , 0.        , 0.57142857, 0.71428571,\n",
      "       0.85714286, 0.92857143, 0.92857143, 0.92857143, 1.        ,\n",
      "       1.        ]), array([0.        , 0.        , 0.        , 0.        , 0.        ,\n",
      "       0.        , 0.        , 0.        , 0.        , 0.        ,\n",
      "       0.28571429, 0.28571429, 0.28571429, 0.28571429, 0.28571429,\n",
      "       0.92857143, 0.92857143, 0.92857143, 0.92857143, 0.92857143,\n",
      "       1.        , 1.        , 1.        ]), array([0.        , 0.        , 0.        , 0.        , 0.        ,\n",
      "       0.07142857, 0.07142857, 0.07142857, 0.07142857, 0.14285714,\n",
      "       0.14285714, 0.21428571, 0.21428571, 0.35714286, 0.35714286,\n",
      "       0.5       , 0.5       , 0.64285714, 0.64285714, 0.64285714,\n",
      "       0.71428571, 0.71428571, 0.71428571, 0.71428571, 0.92857143,\n",
      "       0.92857143, 0.92857143, 0.92857143, 1.        , 1.        ,\n",
      "       1.        , 1.        ]), array([0.        , 0.        , 0.        , 0.07142857, 0.07142857,\n",
      "       0.14285714, 0.14285714, 0.14285714, 0.21428571, 0.21428571,\n",
      "       0.35714286, 0.35714286, 0.42857143, 0.42857143, 0.5       ,\n",
      "       0.5       , 0.57142857, 0.57142857, 0.64285714, 0.64285714,\n",
      "       0.71428571, 0.71428571, 0.71428571, 0.92857143, 0.92857143,\n",
      "       1.        , 1.        , 1.        , 1.        ]), array([0.        , 0.        , 0.        , 0.        , 0.        ,\n",
      "       0.        , 0.14285714, 0.14285714, 0.14285714, 0.14285714,\n",
      "       0.21428571, 0.21428571, 0.28571429, 0.28571429, 0.42857143,\n",
      "       0.42857143, 0.42857143, 0.42857143, 0.42857143, 0.92857143,\n",
      "       0.92857143, 0.92857143, 1.        , 1.        , 1.        ,\n",
      "       1.        , 1.        ]), array([0.        , 0.        , 0.        , 0.71428571, 0.85714286,\n",
      "       0.85714286, 1.        , 1.        ]), array([0.        , 0.        , 0.        , 0.07142857, 0.07142857,\n",
      "       0.07142857, 0.07142857, 0.42857143, 0.42857143, 0.5       ,\n",
      "       0.5       , 0.57142857, 0.57142857, 0.78571429, 0.78571429,\n",
      "       0.85714286, 0.85714286, 0.92857143, 0.92857143, 1.        ,\n",
      "       1.        ]), array([0.        , 0.        , 0.        , 0.        , 0.        ,\n",
      "       0.        , 0.        , 0.        , 0.        , 0.07142857,\n",
      "       0.07142857, 0.35714286, 0.35714286, 0.35714286, 0.35714286,\n",
      "       0.57142857, 0.57142857, 0.64285714, 0.64285714, 0.64285714,\n",
      "       0.92857143, 0.92857143, 0.92857143, 0.92857143, 0.92857143,\n",
      "       1.        ])], 'roc_aucs': [0.49000000000000005, 0.5185714285714285, 0.30999999999999994, 0.36142857142857143, 0.47000000000000003, 0.48857142857142855, 0.4342857142857143, 0.3085714285714285, 0.49, 0.33999999999999997]}\n"
     ]
    }
   ],
   "source": [
    "data = np.load('/Users/shanxiafeng/Documents/Project/Research/fnirs-prognosis/code/fnirs-treatment-response-prediction/results/his_metrics.npy', allow_pickle=True)\n",
    "print(data)"
   ]
  },
  {
   "cell_type": "code",
   "execution_count": 4,
   "metadata": {},
   "outputs": [
    {
     "name": "stdout",
     "output_type": "stream",
     "text": [
      "[[ 0.  1.  2.  3.]\n",
      " [ 0.  1.  2.  3.]\n",
      " [ 0.  5. 10. 15.]\n",
      " [ 0.  1.  2.  3.]]\n",
      "[[ 0.   2.5  2.   3. ]\n",
      " [ 0.   2.5  2.   3. ]\n",
      " [ 0.  12.5 10.  15. ]\n",
      " [ 0.   2.5  2.   3. ]]\n"
     ]
    }
   ],
   "source": [
    "a = np.ones((4,4))\n",
    "for i in range(4):\n",
    "    a[:,i] *= i\n",
    "    \n",
    "a[2, :] *= 5\n",
    "print(a)\n",
    "a[:,1] = (a[:, 2] + a[:, 3]) / 2\n",
    "print(a)"
   ]
  },
  {
   "cell_type": "code",
   "execution_count": 2,
   "metadata": {},
   "outputs": [
    {
     "name": "stdout",
     "output_type": "stream",
     "text": [
      "loocv4 -  (320, 2)\n"
     ]
    }
   ],
   "source": [
    "result = np.load('/home/jy/Documents/fnirs/treatment_response/fnirs-depression-deeplearning/results/gnn_transformer/prognosis_mix_hb/pretreatment_response/loocv_v4l1_rate_0.01_l2_rate_0.001_d_model_16_batch_size_64_n_layers_6/LOO_nested_CV/y_pred.npy')\n",
    "print('loocv4 - ', result.shape)"
   ]
  },
  {
   "cell_type": "code",
   "execution_count": 3,
   "metadata": {},
   "outputs": [
    {
     "name": "stdout",
     "output_type": "stream",
     "text": [
      "allData_loocv4 -  (320, 2)\n"
     ]
    }
   ],
   "source": [
    "allData_loocv4 = np.load('/home/jy/Documents/fnirs/treatment_response/fnirs-depression-deeplearning/allData/prognosis_mix_hb/pretreatment_response/fnirs_pred_loocv4.npy')\n",
    "print('allData_loocv4 - ', allData_loocv4.shape)"
   ]
  }
 ],
 "metadata": {
  "kernelspec": {
   "display_name": "tf",
   "language": "python",
   "name": "python3"
  },
  "language_info": {
   "codemirror_mode": {
    "name": "ipython",
    "version": 3
   },
   "file_extension": ".py",
   "mimetype": "text/x-python",
   "name": "python",
   "nbconvert_exporter": "python",
   "pygments_lexer": "ipython3",
   "version": "3.9.16"
  }
 },
 "nbformat": 4,
 "nbformat_minor": 2
}
