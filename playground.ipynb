{
 "cells": [
  {
   "cell_type": "code",
   "execution_count": null,
   "metadata": {},
   "outputs": [],
   "source": [
    "from wandb.keras import WandbCallback\n",
    "import sys\n",
    "import time\n",
    "from tensorflow.keras.callbacks import ModelCheckpoint\n",
    "from tensorflow.keras.callbacks import ReduceLROnPlateau\n",
    "from utils.utils_mine import *\n",
    "import tensorflow as tf\n",
    "import tensorflow.keras as keras\n",
    "from datetime import date\n",
    "import numpy as np\n",
    "import random\n",
    "import tensorflow_addons as tfa\n",
    "import wandb\n",
    "import gc\n",
    "from classifiers.classifier_factory import create_classifier\n",
    "from scripts.plot.DL.read_LOO_nestedCV_gnntr import get_sorted_loo_array\n",
    "import tensorflow as tf\n",
    "import subprocess\n",
    "# pylint: disable = attribute-defined-outside-init, no-name-in-module, unexpected-keyword-arg\n",
    "# pylint: disable = no-value-for-parameter\n",
    "from tensorflow.python.ops import state_ops as tf_state_ops\n",
    "# import pingouin as pg \n"
   ]
  },
  {
   "cell_type": "code",
   "execution_count": 4,
   "metadata": {},
   "outputs": [
    {
     "name": "stdout",
     "output_type": "stream",
     "text": [
      "(64, 10)\n",
      "(64, 17)\n"
     ]
    },
    {
     "ename": "",
     "evalue": "",
     "output_type": "error",
     "traceback": [
      "\u001b[1;31mThe Kernel crashed while executing code in the current cell or a previous cell. \n",
      "\u001b[1;31mPlease review the code in the cell(s) to identify a possible cause of the failure. \n",
      "\u001b[1;31mClick <a href='https://aka.ms/vscodeJupyterKernelCrash'>here</a> for more info. \n",
      "\u001b[1;31mView Jupyter <a href='command:jupyter.viewOutput'>log</a> for further details."
     ]
    }
   ],
   "source": [
    "merge_psychiatry_demo = np.load('allData/prognosis_mix_hb/pretreatment_response/merge_psychiatry_demo_dose_data.npy')\n",
    "print(merge_psychiatry_demo.shape)\n",
    "\n",
    "x2 = np.load('allData/prognosis_mix_hb/pretreatment_response/nor_demo_cli_merge_data.npy')\n",
    "print(x2.shape)"
   ]
  },
  {
   "cell_type": "code",
   "execution_count": 2,
   "metadata": {},
   "outputs": [
    {
     "name": "stdout",
     "output_type": "stream",
     "text": [
      "(64, 52, 2500)\n",
      "HbO: (64, 52, 1250)\n"
     ]
    }
   ],
   "source": [
    "# calculate feature and apply SVM/XGBoost to see the performance\n",
    "\n",
    "# 1. load the data\n",
    "input_fold = 'allData/prognosis_mix_hb/pretreatment_response'\n",
    "data = np.load(input_fold + '/hb_data.npy')\n",
    "label = np.load(input_fold + '/label.npy')\n",
    "\n",
    "print(data.shape)\n",
    "HbO = data[...,0::2] # np.transpose(data[...,0::2],(0,2,1))\n",
    "# HbO = individual_normalization(HbO)\n",
    "print(f'HbO: {HbO.shape}')\n",
    "HbR = data[...,1::2] # np.transpose(data[...,1::2],(0,2,1))\n",
    "HbT = HbO + HbR\n",
    "\n",
    "data = np.concatenate((HbO,HbR,HbT),axis=-1)\n"
   ]
  },
  {
   "cell_type": "markdown",
   "metadata": {},
   "source": [
    "configs/pretreatment_response_cv_5_hbo.py\n",
    "\n",
    "python ./LOO_nested_CV_train.py cnn_gnn_transformer loocv_v0 pretreatment_response_cv_5_hbo"
   ]
  },
  {
   "cell_type": "code",
   "execution_count": 9,
   "metadata": {},
   "outputs": [
    {
     "name": "stdout",
     "output_type": "stream",
     "text": [
      "['python', 'scripts/plot/DL/read_LOO_nestedCV_gnntr.py', '--max', '4', '--K_FOLD', '5', '--result_path', 'results/gnn_transformer_with_cli_demo/prognosis_mix_hb/pretreatment_response/loocv_v0l1_rate_0.01_l2_rate_0.001_d_model_16_batch_size_64_n_layers_6']\n",
      "val_fold_path results/gnn_transformer_with_cli_demo/prognosis_mix_hb/pretreatment_response/loocv_v0l1_rate_0.01_l2_rate_0.001_d_model_16_batch_size_64_n_layers_6/LOO_nested_CV/LOO_0\n",
      "num_of_cv_folds 5\n",
      "y_test [0. 0. 0. 0. 0. 0. 0. 0. 0. 0. 0. 0. 0. 0. 1. 0. 0. 0. 0. 0. 1. 0. 1. 0.\n",
      " 0. 1. 1. 0. 0. 0. 0. 0. 0. 0. 0. 0. 0. 0. 1. 1. 0. 1. 0. 0. 0. 1. 0. 1.\n",
      " 1. 0. 0. 0. 0. 0. 0. 1. 1. 0. 0. 0. 1. 0. 0. 0.]\n",
      "MAX_ITR: 4 ranging ( 2 ~ 3 )\n",
      "Model name: gnn_transformer_with_cli_demo\n",
      "specify_itr None\n",
      "value_add_to_sensitivity_value 0.0\n",
      "| Model Name | Testing Set |             |             |             | Validation Set |             |             |             |\n",
      "|------------|-------------|-------------|-------------|-------------|-------------|-------------|-------------|-------------|\n",
      "|            | Balanced Accuracy | Sensitivity | Specificity | F1 Score | Balanced Accuracy | Sensitivity | Specificity | F1 Score |\n",
      "| gnn_transformer_with_cli_demo   | 69.0000  | 50.0000  | 88.0000  | 79.4120  | 81.8143  | 68.1250  | 95.5035  | 90.2425  |\n",
      "\n",
      "['python', 'scripts/plot/DL/read_LOO_nestedCV_gnntr.py', '--max', '4', '--K_FOLD', '5', '--result_path', 'results/gnn_transformer_with_cli_demo/prognosis_mix_hb/pretreatment_response/loocv_v1l1_rate_0.01_l2_rate_0.001_d_model_16_batch_size_64_n_layers_6']\n",
      "val_fold_path results/gnn_transformer_with_cli_demo/prognosis_mix_hb/pretreatment_response/loocv_v1l1_rate_0.01_l2_rate_0.001_d_model_16_batch_size_64_n_layers_6/LOO_nested_CV/LOO_0\n",
      "num_of_cv_folds 5\n",
      "y_test [0. 0. 0. 0. 0. 0. 0. 0. 0. 0. 0. 0. 0. 0. 1. 0. 0. 0. 0. 0. 1. 0. 1. 0.\n",
      " 0. 1. 1. 0. 0. 0. 0. 0. 0. 0. 0. 0. 0. 0. 1. 1. 0. 1. 0. 0. 0. 1. 0. 1.\n",
      " 1. 0. 0. 0. 0. 0. 0. 1. 1. 0. 0. 0. 1. 0. 0. 0.]\n",
      "MAX_ITR: 4 ranging ( 1 ~ 2 )\n",
      "Model name: gnn_transformer_with_cli_demo\n",
      "specify_itr None\n",
      "value_add_to_sensitivity_value 0.0\n",
      "| Model Name | Testing Set |             |             |             | Validation Set |             |             |             |\n",
      "|------------|-------------|-------------|-------------|-------------|-------------|-------------|-------------|-------------|\n",
      "|            | Balanced Accuracy | Sensitivity | Specificity | F1 Score | Balanced Accuracy | Sensitivity | Specificity | F1 Score |\n",
      "| gnn_transformer_with_cli_demo   | 57.8571  | 35.7143  | 80.0000  | 70.6740  | 75.4705  | 57.9688  | 92.9723  | 86.1668  |\n",
      "\n",
      "['python', 'scripts/plot/DL/read_LOO_nestedCV_gnntr.py', '--max', '4', '--K_FOLD', '5', '--result_path', 'results/gnn_transformer_with_cli_demo/prognosis_mix_hb/pretreatment_response/loocv_v2l1_rate_0.01_l2_rate_0.001_d_model_16_batch_size_64_n_layers_6']\n",
      "val_fold_path results/gnn_transformer_with_cli_demo/prognosis_mix_hb/pretreatment_response/loocv_v2l1_rate_0.01_l2_rate_0.001_d_model_16_batch_size_64_n_layers_6/LOO_nested_CV/LOO_0\n",
      "num_of_cv_folds 5\n",
      "y_test [0. 0. 0. 0. 0. 0. 0. 0. 0. 0. 0. 0. 0. 0. 1. 0. 0. 0. 0. 0. 1. 0. 1. 0.\n",
      " 0. 1. 1. 0. 0. 0. 0. 0. 0. 0. 0. 0. 0. 0. 1. 1. 0. 1. 0. 0. 0. 1. 0. 1.\n",
      " 1. 0. 0. 0. 0. 0. 0. 1. 1. 0. 0. 0. 1. 0. 0. 0.]\n",
      "MAX_ITR: 4 ranging ( 1 ~ 2 )\n",
      "Model name: gnn_transformer_with_cli_demo\n",
      "specify_itr None\n",
      "value_add_to_sensitivity_value 0.0\n",
      "| Model Name | Testing Set |             |             |             | Validation Set |             |             |             |\n",
      "|------------|-------------|-------------|-------------|-------------|-------------|-------------|-------------|-------------|\n",
      "|            | Balanced Accuracy | Sensitivity | Specificity | F1 Score | Balanced Accuracy | Sensitivity | Specificity | F1 Score |\n",
      "| gnn_transformer_with_cli_demo   | 59.8571  | 35.7143  | 84.0000  | 73.0770  | 77.0851  | 60.9375  | 93.2327  | 86.9557  |\n",
      "\n",
      "['python', 'scripts/plot/DL/read_LOO_nestedCV_gnntr.py', '--max', '4', '--K_FOLD', '5', '--result_path', 'results/gnn_transformer_with_cli_demo/prognosis_mix_hb/pretreatment_response/loocv_v3l1_rate_0.01_l2_rate_0.001_d_model_16_batch_size_64_n_layers_6']\n",
      "val_fold_path results/gnn_transformer_with_cli_demo/prognosis_mix_hb/pretreatment_response/loocv_v3l1_rate_0.01_l2_rate_0.001_d_model_16_batch_size_64_n_layers_6/LOO_nested_CV/LOO_0\n",
      "num_of_cv_folds 5\n",
      "y_test [0. 0. 0. 0. 0. 0. 0. 0. 0. 0. 0. 0. 0. 0. 1. 0. 0. 0. 0. 0. 1. 0. 1. 0.\n",
      " 0. 1. 1. 0. 0. 0. 0. 0. 0. 0. 0. 0. 0. 0. 1. 1. 0. 1. 0. 0. 0. 1. 0. 1.\n",
      " 1. 0. 0. 0. 0. 0. 0. 1. 1. 0. 0. 0. 1. 0. 0. 0.]\n",
      "MAX_ITR: 4 ranging ( 1 ~ 3 )\n",
      "Model name: gnn_transformer_with_cli_demo\n",
      "specify_itr None\n",
      "value_add_to_sensitivity_value 0.0\n",
      "| Model Name | Testing Set |             |             |             | Validation Set |             |             |             |\n",
      "|------------|-------------|-------------|-------------|-------------|-------------|-------------|-------------|-------------|\n",
      "|            | Balanced Accuracy | Sensitivity | Specificity | F1 Score | Balanced Accuracy | Sensitivity | Specificity | F1 Score |\n",
      "| gnn_transformer_with_cli_demo   | 57.8571  | 35.7143  | 80.0000  | 70.6740  | 76.5122  | 59.6875  | 93.3369  | 86.7543  |\n",
      "\n",
      "['python', 'scripts/plot/DL/read_LOO_nestedCV_gnntr.py', '--max', '4', '--K_FOLD', '5', '--result_path', 'results/gnn_transformer_with_cli_demo/prognosis_mix_hb/pretreatment_response/loocv_v4l1_rate_0.01_l2_rate_0.001_d_model_16_batch_size_64_n_layers_6']\n",
      "val_fold_path results/gnn_transformer_with_cli_demo/prognosis_mix_hb/pretreatment_response/loocv_v4l1_rate_0.01_l2_rate_0.001_d_model_16_batch_size_64_n_layers_6/LOO_nested_CV/LOO_0\n",
      "num_of_cv_folds 5\n",
      "y_test [0. 0. 0. 0. 0. 0. 0. 0. 0. 0. 0. 0. 0. 0. 1. 0. 0. 0. 0. 0. 1. 0. 1. 0.\n",
      " 0. 1. 1. 0. 0. 0. 0. 0. 0. 0. 0. 0. 0. 0. 1. 1. 0. 1. 0. 0. 0. 1. 0. 1.\n",
      " 1. 0. 0. 0. 0. 0. 0. 1. 1. 0. 0. 0. 1. 0. 0. 0.]\n",
      "MAX_ITR: 4 ranging ( 1 ~ 3 )\n",
      "Model name: gnn_transformer_with_cli_demo\n",
      "specify_itr None\n",
      "value_add_to_sensitivity_value 0.0\n",
      "| Model Name | Testing Set |             |             |             | Validation Set |             |             |             |\n",
      "|------------|-------------|-------------|-------------|-------------|-------------|-------------|-------------|-------------|\n",
      "|            | Balanced Accuracy | Sensitivity | Specificity | F1 Score | Balanced Accuracy | Sensitivity | Specificity | F1 Score |\n",
      "| gnn_transformer_with_cli_demo   | 56.8571  | 35.7143  | 78.0000  | 69.4730  | 77.4184  | 61.4063  | 93.4306  | 87.0734  |\n",
      "\n",
      "['python', 'scripts/plot/DL/read_LOO_nestedCV_gnntr.py', '--max', '4', '--K_FOLD', '5', '--result_path', 'results/gnn_transformer_with_cli_demo/prognosis_mix_hb/pretreatment_response/loocv_v5l1_rate_0.01_l2_rate_0.001_d_model_16_batch_size_64_n_layers_6']\n",
      "val_fold_path results/gnn_transformer_with_cli_demo/prognosis_mix_hb/pretreatment_response/loocv_v5l1_rate_0.01_l2_rate_0.001_d_model_16_batch_size_64_n_layers_6/LOO_nested_CV/LOO_0\n",
      "num_of_cv_folds 5\n",
      "y_test [0. 0. 0. 0. 0. 0. 0. 0. 0. 0. 0. 0. 0. 0. 1. 0. 0. 0. 0. 0. 1. 0. 1. 0.\n",
      " 0. 1. 1. 0. 0. 0. 0. 0. 0. 0. 0. 0. 0. 0. 1. 1. 0. 1. 0. 0. 0. 1. 0. 1.\n",
      " 1. 0. 0. 0. 0. 0. 0. 1. 1. 0. 0. 0. 1. 0. 0. 0.]\n",
      "MAX_ITR: 4 ranging ( 1 ~ 3 )\n",
      "Model name: gnn_transformer_with_cli_demo\n",
      "specify_itr None\n",
      "value_add_to_sensitivity_value 0.0\n",
      "| Model Name | Testing Set |             |             |             | Validation Set |             |             |             |\n",
      "|------------|-------------|-------------|-------------|-------------|-------------|-------------|-------------|-------------|\n",
      "|            | Balanced Accuracy | Sensitivity | Specificity | F1 Score | Balanced Accuracy | Sensitivity | Specificity | F1 Score |\n",
      "| gnn_transformer_with_cli_demo   | 65.0000  | 50.0000  | 80.0000  | 74.3120  | 77.6302  | 62.1875  | 93.0730  | 87.1528  |\n",
      "\n",
      "['python', 'scripts/plot/DL/read_LOO_nestedCV_gnntr.py', '--max', '4', '--K_FOLD', '5', '--result_path', 'results/gnn_transformer_with_cli_demo/prognosis_mix_hb/pretreatment_response/loocv_v6l1_rate_0.01_l2_rate_0.001_d_model_16_batch_size_64_n_layers_6']\n",
      "val_fold_path results/gnn_transformer_with_cli_demo/prognosis_mix_hb/pretreatment_response/loocv_v6l1_rate_0.01_l2_rate_0.001_d_model_16_batch_size_64_n_layers_6/LOO_nested_CV/LOO_0\n",
      "num_of_cv_folds 5\n",
      "y_test [0. 0. 0. 0. 0. 0. 0. 0. 0. 0. 0. 0. 0. 0. 1. 0. 0. 0. 0. 0. 1. 0. 1. 0.\n",
      " 0. 1. 1. 0. 0. 0. 0. 0. 0. 0. 0. 0. 0. 0. 1. 1. 0. 1. 0. 0. 0. 1. 0. 1.\n",
      " 1. 0. 0. 0. 0. 0. 0. 1. 1. 0. 0. 0. 1. 0. 0. 0.]\n",
      "MAX_ITR: 4 ranging ( 1 ~ 3 )\n",
      "Model name: gnn_transformer_with_cli_demo\n",
      "specify_itr None\n",
      "value_add_to_sensitivity_value 0.0\n",
      "| Model Name | Testing Set |             |             |             | Validation Set |             |             |             |\n",
      "|------------|-------------|-------------|-------------|-------------|-------------|-------------|-------------|-------------|\n",
      "|            | Balanced Accuracy | Sensitivity | Specificity | F1 Score | Balanced Accuracy | Sensitivity | Specificity | F1 Score |\n",
      "| gnn_transformer_with_cli_demo   | 60.4286  | 42.8571  | 78.0000  | 71.2900  | 76.5000  | 59.6875  | 93.3126  | 86.7429  |\n",
      "\n",
      "['python', 'scripts/plot/DL/read_LOO_nestedCV_gnntr.py', '--max', '4', '--K_FOLD', '5', '--result_path', 'results/gnn_transformer_with_cli_demo/prognosis_mix_hb/pretreatment_response/loocv_v7l1_rate_0.01_l2_rate_0.001_d_model_16_batch_size_64_n_layers_6']\n",
      "val_fold_path results/gnn_transformer_with_cli_demo/prognosis_mix_hb/pretreatment_response/loocv_v7l1_rate_0.01_l2_rate_0.001_d_model_16_batch_size_64_n_layers_6/LOO_nested_CV/LOO_0\n",
      "num_of_cv_folds 5\n",
      "y_test [0. 0. 0. 0. 0. 0. 0. 0. 0. 0. 0. 0. 0. 0. 1. 0. 0. 0. 0. 0. 1. 0. 1. 0.\n",
      " 0. 1. 1. 0. 0. 0. 0. 0. 0. 0. 0. 0. 0. 0. 1. 1. 0. 1. 0. 0. 0. 1. 0. 1.\n",
      " 1. 0. 0. 0. 0. 0. 0. 1. 1. 0. 0. 0. 1. 0. 0. 0.]\n",
      "MAX_ITR: 4 ranging ( 1 ~ 3 )\n",
      "Model name: gnn_transformer_with_cli_demo\n",
      "specify_itr None\n",
      "value_add_to_sensitivity_value 0.0\n",
      "| Model Name | Testing Set |             |             |             | Validation Set |             |             |             |\n",
      "|------------|-------------|-------------|-------------|-------------|-------------|-------------|-------------|-------------|\n",
      "|            | Balanced Accuracy | Sensitivity | Specificity | F1 Score | Balanced Accuracy | Sensitivity | Specificity | F1 Score |\n",
      "| gnn_transformer_with_cli_demo   | 62.4286  | 42.8571  | 82.0000  | 73.7610  | 78.0521  | 62.5000  | 93.6042  | 87.5581  |\n",
      "\n",
      "['python', 'scripts/plot/DL/read_LOO_nestedCV_gnntr.py', '--max', '4', '--K_FOLD', '5', '--result_path', 'results/gnn_transformer_with_cli_demo/prognosis_mix_hb/pretreatment_response/loocv_v8l1_rate_0.01_l2_rate_0.001_d_model_16_batch_size_64_n_layers_6']\n",
      "val_fold_path results/gnn_transformer_with_cli_demo/prognosis_mix_hb/pretreatment_response/loocv_v8l1_rate_0.01_l2_rate_0.001_d_model_16_batch_size_64_n_layers_6/LOO_nested_CV/LOO_0\n",
      "num_of_cv_folds 5\n",
      "y_test [0. 0. 0. 0. 0. 0. 0. 0. 0. 0. 0. 0. 0. 0. 1. 0. 0. 0. 0. 0. 1. 0. 1. 0.\n",
      " 0. 1. 1. 0. 0. 0. 0. 0. 0. 0. 0. 0. 0. 0. 1. 1. 0. 1. 0. 0. 0. 1. 0. 1.\n",
      " 1. 0. 0. 0. 0. 0. 0. 1. 1. 0. 0. 0. 1. 0. 0. 0.]\n",
      "MAX_ITR: 4 ranging ( 1 ~ 2 )\n",
      "Model name: gnn_transformer_with_cli_demo\n",
      "specify_itr None\n",
      "value_add_to_sensitivity_value 0.0\n",
      "| Model Name | Testing Set |             |             |             | Validation Set |             |             |             |\n",
      "|------------|-------------|-------------|-------------|-------------|-------------|-------------|-------------|-------------|\n",
      "|            | Balanced Accuracy | Sensitivity | Specificity | F1 Score | Balanced Accuracy | Sensitivity | Specificity | F1 Score |\n",
      "| gnn_transformer_with_cli_demo   | 58.8571  | 35.7143  | 82.0000  | 71.8750  | 75.6476  | 57.8125  | 93.4827  | 86.3514  |\n",
      "\n",
      "['python', 'scripts/plot/DL/read_LOO_nestedCV_gnntr.py', '--max', '4', '--K_FOLD', '5', '--result_path', 'results/gnn_transformer_with_cli_demo/prognosis_mix_hb/pretreatment_response/loocv_v9l1_rate_0.01_l2_rate_0.001_d_model_16_batch_size_64_n_layers_6']\n",
      "val_fold_path results/gnn_transformer_with_cli_demo/prognosis_mix_hb/pretreatment_response/loocv_v9l1_rate_0.01_l2_rate_0.001_d_model_16_batch_size_64_n_layers_6/LOO_nested_CV/LOO_0\n",
      "num_of_cv_folds 5\n",
      "y_test [0. 0. 0. 0. 0. 0. 0. 0. 0. 0. 0. 0. 0. 0. 1. 0. 0. 0. 0. 0. 1. 0. 1. 0.\n",
      " 0. 1. 1. 0. 0. 0. 0. 0. 0. 0. 0. 0. 0. 0. 1. 1. 0. 1. 0. 0. 0. 1. 0. 1.\n",
      " 1. 0. 0. 0. 0. 0. 0. 1. 1. 0. 0. 0. 1. 0. 0. 0.]\n",
      "MAX_ITR: 4 ranging ( 1 ~ 2 )\n",
      "Model name: gnn_transformer_with_cli_demo\n",
      "specify_itr None\n",
      "value_add_to_sensitivity_value 0.0\n",
      "| Model Name | Testing Set |             |             |             | Validation Set |             |             |             |\n",
      "|------------|-------------|-------------|-------------|-------------|-------------|-------------|-------------|-------------|\n",
      "|            | Balanced Accuracy | Sensitivity | Specificity | F1 Score | Balanced Accuracy | Sensitivity | Specificity | F1 Score |\n",
      "| gnn_transformer_with_cli_demo   | 64.0000  | 50.0000  | 78.0000  | 73.0470  | 75.6441  | 58.7500  | 92.5383  | 85.8573  |\n",
      "\n",
      "['python', 'scripts/plot/DL/read_LOO_nestedCV_gnntr.py', '--max', '4', '--K_FOLD', '5', '--result_path', 'results/gnn_transformer_with_cli_demo/prognosis_mix_hb/pretreatment_response/loocv_v10l1_rate_0.01_l2_rate_0.001_d_model_16_batch_size_64_n_layers_6']\n",
      "val_fold_path results/gnn_transformer_with_cli_demo/prognosis_mix_hb/pretreatment_response/loocv_v10l1_rate_0.01_l2_rate_0.001_d_model_16_batch_size_64_n_layers_6/LOO_nested_CV/LOO_0\n",
      "num_of_cv_folds 5\n",
      "y_test [0. 0. 0. 0. 0. 0. 0. 0. 0. 0. 0. 0. 0. 0. 1. 0. 0. 0. 0. 0. 1. 0. 1. 0.\n",
      " 0. 1. 1. 0. 0. 0. 0. 0. 0. 0. 0. 0. 0. 0. 1. 1. 0. 1. 0. 0. 0. 1. 0. 1.\n",
      " 1. 0. 0. 0. 0. 0. 0. 1. 1. 0. 0. 0. 1. 0. 0. 0.]\n",
      "MAX_ITR: 4 ranging ( 1 ~ 2 )\n",
      "Model name: gnn_transformer_with_cli_demo\n",
      "specify_itr None\n",
      "value_add_to_sensitivity_value 0.0\n",
      "| Model Name | Testing Set |             |             |             | Validation Set |             |             |             |\n",
      "|------------|-------------|-------------|-------------|-------------|-------------|-------------|-------------|-------------|\n",
      "|            | Balanced Accuracy | Sensitivity | Specificity | F1 Score | Balanced Accuracy | Sensitivity | Specificity | F1 Score |\n",
      "| gnn_transformer_with_cli_demo   | 66.0000  | 50.0000  | 82.0000  | 75.5780  | 75.9080  | 59.0625  | 92.7535  | 86.1785  |\n",
      "\n",
      "['python', 'scripts/plot/DL/read_LOO_nestedCV_gnntr.py', '--max', '4', '--K_FOLD', '5', '--result_path', 'results/gnn_transformer_with_cli_demo/prognosis_mix_hb/pretreatment_response/loocv_v11l1_rate_0.01_l2_rate_0.001_d_model_16_batch_size_64_n_layers_6']\n",
      "val_fold_path results/gnn_transformer_with_cli_demo/prognosis_mix_hb/pretreatment_response/loocv_v11l1_rate_0.01_l2_rate_0.001_d_model_16_batch_size_64_n_layers_6/LOO_nested_CV/LOO_0\n",
      "num_of_cv_folds 5\n",
      "y_test [0. 0. 0. 0. 0. 0. 0. 0. 0. 0. 0. 0. 0. 0. 1. 0. 0. 0. 0. 0. 1. 0. 1. 0.\n",
      " 0. 1. 1. 0. 0. 0. 0. 0. 0. 0. 0. 0. 0. 0. 1. 1. 0. 1. 0. 0. 0. 1. 0. 1.\n",
      " 1. 0. 0. 0. 0. 0. 0. 1. 1. 0. 0. 0. 1. 0. 0. 0.]\n",
      "MAX_ITR: 4 ranging ( 1 ~ 2 )\n",
      "Model name: gnn_transformer_with_cli_demo\n",
      "specify_itr None\n",
      "value_add_to_sensitivity_value 0.0\n",
      "| Model Name | Testing Set |             |             |             | Validation Set |             |             |             |\n",
      "|------------|-------------|-------------|-------------|-------------|-------------|-------------|-------------|-------------|\n",
      "|            | Balanced Accuracy | Sensitivity | Specificity | F1 Score | Balanced Accuracy | Sensitivity | Specificity | F1 Score |\n",
      "| gnn_transformer_with_cli_demo   | 60.4286  | 42.8571  | 78.0000  | 71.2900  | 75.5434  | 58.7500  | 92.3369  | 85.7935  |\n",
      "\n",
      "['python', 'scripts/plot/DL/read_LOO_nestedCV_gnntr.py', '--max', '4', '--K_FOLD', '5', '--result_path', 'results/gnn_transformer_with_cli_demo/prognosis_mix_hb/pretreatment_response/loocv_v12l1_rate_0.01_l2_rate_0.001_d_model_16_batch_size_64_n_layers_6']\n",
      "val_fold_path results/gnn_transformer_with_cli_demo/prognosis_mix_hb/pretreatment_response/loocv_v12l1_rate_0.01_l2_rate_0.001_d_model_16_batch_size_64_n_layers_6/LOO_nested_CV/LOO_0\n",
      "num_of_cv_folds 5\n",
      "y_test [0. 0. 0. 0. 0. 0. 0. 0. 0. 0. 0. 0. 0. 0. 1. 0. 0. 0. 0. 0. 1. 0. 1. 0.\n",
      " 0. 1. 1. 0. 0. 0. 0. 0. 0. 0. 0. 0. 0. 0. 1. 1. 0. 1. 0. 0. 0. 1. 0. 1.\n",
      " 1. 0. 0. 0. 0. 0. 0. 1. 1. 0. 0. 0. 1. 0. 0. 0.]\n",
      "MAX_ITR: 4 ranging ( 1 ~ 2 )\n",
      "Model name: gnn_transformer_with_cli_demo\n",
      "specify_itr None\n",
      "value_add_to_sensitivity_value 0.0\n",
      "| Model Name | Testing Set |             |             |             | Validation Set |             |             |             |\n",
      "|------------|-------------|-------------|-------------|-------------|-------------|-------------|-------------|-------------|\n",
      "|            | Balanced Accuracy | Sensitivity | Specificity | F1 Score | Balanced Accuracy | Sensitivity | Specificity | F1 Score |\n",
      "| gnn_transformer_with_cli_demo   | 64.4286  | 42.8571  | 86.0000  | 76.2440  | 75.6997  | 58.5938  | 92.8056  | 86.0002  |\n",
      "\n",
      "['python', 'scripts/plot/DL/read_LOO_nestedCV_gnntr.py', '--max', '4', '--K_FOLD', '5', '--result_path', 'results/gnn_transformer_with_cli_demo/prognosis_mix_hb/pretreatment_response/loocv_v13l1_rate_0.01_l2_rate_0.001_d_model_16_batch_size_64_n_layers_6']\n",
      "val_fold_path results/gnn_transformer_with_cli_demo/prognosis_mix_hb/pretreatment_response/loocv_v13l1_rate_0.01_l2_rate_0.001_d_model_16_batch_size_64_n_layers_6/LOO_nested_CV/LOO_0\n",
      "num_of_cv_folds 5\n",
      "y_test [0. 0. 0. 0. 0. 0. 0. 0. 0. 0. 0. 0. 0. 0. 1. 0. 0. 0. 0. 0. 1. 0. 1. 0.\n",
      " 0. 1. 1. 0. 0. 0. 0. 0. 0. 0. 0. 0. 0. 0. 1. 1. 0. 1. 0. 0. 0. 1. 0. 1.\n",
      " 1. 0. 0. 0. 0. 0. 0. 1. 1. 0. 0. 0. 1. 0. 0. 0.]\n",
      "MAX_ITR: 4 ranging ( 1 ~ 2 )\n",
      "Model name: gnn_transformer_with_cli_demo\n",
      "specify_itr None\n",
      "value_add_to_sensitivity_value 0.0\n",
      "| Model Name | Testing Set |             |             |             | Validation Set |             |             |             |\n",
      "|------------|-------------|-------------|-------------|-------------|-------------|-------------|-------------|-------------|\n",
      "|            | Balanced Accuracy | Sensitivity | Specificity | F1 Score | Balanced Accuracy | Sensitivity | Specificity | F1 Score |\n",
      "| gnn_transformer_with_cli_demo   | 62.4286  | 42.8571  | 82.0000  | 73.7610  | 75.9375  | 59.6875  | 92.1876  | 85.8676  |\n",
      "\n",
      "['python', 'scripts/plot/DL/read_LOO_nestedCV_gnntr.py', '--max', '4', '--K_FOLD', '5', '--result_path', 'results/gnn_transformer_with_cli_demo/prognosis_mix_hb/pretreatment_response/loocv_v14l1_rate_0.01_l2_rate_0.001_d_model_16_batch_size_64_n_layers_6']\n",
      "val_fold_path results/gnn_transformer_with_cli_demo/prognosis_mix_hb/pretreatment_response/loocv_v14l1_rate_0.01_l2_rate_0.001_d_model_16_batch_size_64_n_layers_6/LOO_nested_CV/LOO_0\n",
      "num_of_cv_folds 5\n",
      "y_test [0. 0. 0. 0. 0. 0. 0. 0. 0. 0. 0. 0. 0. 0. 1. 0. 0. 0. 0. 0. 1. 0. 1. 0.\n",
      " 0. 1. 1. 0. 0. 0. 0. 0. 0. 0. 0. 0. 0. 0. 1. 1. 0. 1. 0. 0. 0. 1. 0. 1.\n",
      " 1. 0. 0. 0. 0. 0. 0. 1. 1. 0. 0. 0. 1. 0. 0. 0.]\n",
      "MAX_ITR: 4 ranging ( 1 ~ 2 )\n",
      "Model name: gnn_transformer_with_cli_demo\n",
      "specify_itr None\n",
      "value_add_to_sensitivity_value 0.0\n",
      "| Model Name | Testing Set |             |             |             | Validation Set |             |             |             |\n",
      "|------------|-------------|-------------|-------------|-------------|-------------|-------------|-------------|-------------|\n",
      "|            | Balanced Accuracy | Sensitivity | Specificity | F1 Score | Balanced Accuracy | Sensitivity | Specificity | F1 Score |\n",
      "| gnn_transformer_with_cli_demo   | 61.4286  | 42.8571  | 80.0000  | 72.5260  | 76.2761  | 60.0000  | 92.5521  | 86.2908  |\n",
      "\n",
      "['python', 'scripts/plot/DL/read_LOO_nestedCV_gnntr.py', '--max', '4', '--K_FOLD', '5', '--result_path', 'results/gnn_transformer_with_cli_demo/prognosis_mix_hb/pretreatment_response/loocv_v15l1_rate_0.01_l2_rate_0.001_d_model_16_batch_size_64_n_layers_6']\n",
      "val_fold_path results/gnn_transformer_with_cli_demo/prognosis_mix_hb/pretreatment_response/loocv_v15l1_rate_0.01_l2_rate_0.001_d_model_16_batch_size_64_n_layers_6/LOO_nested_CV/LOO_0\n",
      "num_of_cv_folds 5\n",
      "y_test [0. 0. 0. 0. 0. 0. 0. 0. 0. 0. 0. 0. 0. 0. 1. 0. 0. 0. 0. 0. 1. 0. 1. 0.\n",
      " 0. 1. 1. 0. 0. 0. 0. 0. 0. 0. 0. 0. 0. 0. 1. 1. 0. 1. 0. 0. 0. 1. 0. 1.\n",
      " 1. 0. 0. 0. 0. 0. 0. 1. 1. 0. 0. 0. 1. 0. 0. 0.]\n",
      "MAX_ITR: 4 ranging ( 1 ~ 2 )\n",
      "Model name: gnn_transformer_with_cli_demo\n",
      "specify_itr None\n",
      "value_add_to_sensitivity_value 0.0\n",
      "| Model Name | Testing Set |             |             |             | Validation Set |             |             |             |\n",
      "|------------|-------------|-------------|-------------|-------------|-------------|-------------|-------------|-------------|\n",
      "|            | Balanced Accuracy | Sensitivity | Specificity | F1 Score | Balanced Accuracy | Sensitivity | Specificity | F1 Score |\n",
      "| gnn_transformer_with_cli_demo   | 56.8571  | 35.7143  | 78.0000  | 69.4730  | 75.2952  | 57.5000  | 93.0903  | 85.9756  |\n",
      "\n",
      "['python', 'scripts/plot/DL/read_LOO_nestedCV_gnntr.py', '--max', '4', '--K_FOLD', '5', '--result_path', 'results/gnn_transformer_with_cli_demo/prognosis_mix_hb/pretreatment_response/loocv_v16l1_rate_0.01_l2_rate_0.001_d_model_16_batch_size_64_n_layers_6']\n",
      "val_fold_path results/gnn_transformer_with_cli_demo/prognosis_mix_hb/pretreatment_response/loocv_v16l1_rate_0.01_l2_rate_0.001_d_model_16_batch_size_64_n_layers_6/LOO_nested_CV/LOO_0\n",
      "num_of_cv_folds 5\n",
      "y_test [0. 0. 0. 0. 0. 0. 0. 0. 0. 0. 0. 0. 0. 0. 1. 0. 0. 0. 0. 0. 1. 0. 1. 0.\n",
      " 0. 1. 1. 0. 0. 0. 0. 0. 0. 0. 0. 0. 0. 0. 1. 1. 0. 1. 0. 0. 0. 1. 0. 1.\n",
      " 1. 0. 0. 0. 0. 0. 0. 1. 1. 0. 0. 0. 1. 0. 0. 0.]\n",
      "MAX_ITR: 4 ranging ( 1 ~ 2 )\n",
      "Model name: gnn_transformer_with_cli_demo\n",
      "specify_itr None\n",
      "value_add_to_sensitivity_value 0.0\n",
      "| Model Name | Testing Set |             |             |             | Validation Set |             |             |             |\n",
      "|------------|-------------|-------------|-------------|-------------|-------------|-------------|-------------|-------------|\n",
      "|            | Balanced Accuracy | Sensitivity | Specificity | F1 Score | Balanced Accuracy | Sensitivity | Specificity | F1 Score |\n",
      "| gnn_transformer_with_cli_demo   | 64.0000  | 50.0000  | 78.0000  | 73.0470  | 75.2379  | 57.3438  | 93.1320  | 85.9460  |\n",
      "\n",
      "['python', 'scripts/plot/DL/read_LOO_nestedCV_gnntr.py', '--max', '4', '--K_FOLD', '5', '--result_path', 'results/gnn_transformer_with_cli_demo/prognosis_mix_hb/pretreatment_response/loocv_v17l1_rate_0.01_l2_rate_0.001_d_model_16_batch_size_64_n_layers_6']\n",
      "val_fold_path results/gnn_transformer_with_cli_demo/prognosis_mix_hb/pretreatment_response/loocv_v17l1_rate_0.01_l2_rate_0.001_d_model_16_batch_size_64_n_layers_6/LOO_nested_CV/LOO_0\n",
      "num_of_cv_folds 5\n",
      "y_test [0. 0. 0. 0. 0. 0. 0. 0. 0. 0. 0. 0. 0. 0. 1. 0. 0. 0. 0. 0. 1. 0. 1. 0.\n",
      " 0. 1. 1. 0. 0. 0. 0. 0. 0. 0. 0. 0. 0. 0. 1. 1. 0. 1. 0. 0. 0. 1. 0. 1.\n",
      " 1. 0. 0. 0. 0. 0. 0. 1. 1. 0. 0. 0. 1. 0. 0. 0.]\n",
      "MAX_ITR: 4 ranging ( 1 ~ 2 )\n",
      "Model name: gnn_transformer_with_cli_demo\n",
      "specify_itr None\n",
      "value_add_to_sensitivity_value 0.0\n",
      "| Model Name | Testing Set |             |             |             | Validation Set |             |             |             |\n",
      "|------------|-------------|-------------|-------------|-------------|-------------|-------------|-------------|-------------|\n",
      "|            | Balanced Accuracy | Sensitivity | Specificity | F1 Score | Balanced Accuracy | Sensitivity | Specificity | F1 Score |\n",
      "| gnn_transformer_with_cli_demo   | 69.5714  | 57.1429  | 82.0000  | 77.3340  | 76.0643  | 59.0625  | 93.0660  | 86.4000  |\n",
      "\n",
      "['python', 'scripts/plot/DL/read_LOO_nestedCV_gnntr.py', '--max', '4', '--K_FOLD', '5', '--result_path', 'results/gnn_transformer_with_cli_demo/prognosis_mix_hb/pretreatment_response/loocv_v18l1_rate_0.01_l2_rate_0.001_d_model_16_batch_size_64_n_layers_6']\n",
      "val_fold_path results/gnn_transformer_with_cli_demo/prognosis_mix_hb/pretreatment_response/loocv_v18l1_rate_0.01_l2_rate_0.001_d_model_16_batch_size_64_n_layers_6/LOO_nested_CV/LOO_0\n",
      "num_of_cv_folds 5\n",
      "y_test [0. 0. 0. 0. 0. 0. 0. 0. 0. 0. 0. 0. 0. 0. 1. 0. 0. 0. 0. 0. 1. 0. 1. 0.\n",
      " 0. 1. 1. 0. 0. 0. 0. 0. 0. 0. 0. 0. 0. 0. 1. 1. 0. 1. 0. 0. 0. 1. 0. 1.\n",
      " 1. 0. 0. 0. 0. 0. 0. 1. 1. 0. 0. 0. 1. 0. 0. 0.]\n",
      "MAX_ITR: 4 ranging ( 1 ~ 2 )\n",
      "Model name: gnn_transformer_with_cli_demo\n",
      "specify_itr None\n",
      "value_add_to_sensitivity_value 0.0\n",
      "| Model Name | Testing Set |             |             |             | Validation Set |             |             |             |\n",
      "|------------|-------------|-------------|-------------|-------------|-------------|-------------|-------------|-------------|\n",
      "|            | Balanced Accuracy | Sensitivity | Specificity | F1 Score | Balanced Accuracy | Sensitivity | Specificity | F1 Score |\n",
      "| gnn_transformer_with_cli_demo   | 59.8571  | 35.7143  | 84.0000  | 73.0770  | 76.2361  | 59.8438  | 92.6285  | 86.3345  |\n",
      "\n",
      "['python', 'scripts/plot/DL/read_LOO_nestedCV_gnntr.py', '--max', '4', '--K_FOLD', '5', '--result_path', 'results/gnn_transformer_with_cli_demo/prognosis_mix_hb/pretreatment_response/loocv_v19l1_rate_0.01_l2_rate_0.001_d_model_16_batch_size_64_n_layers_6']\n",
      "val_fold_path results/gnn_transformer_with_cli_demo/prognosis_mix_hb/pretreatment_response/loocv_v19l1_rate_0.01_l2_rate_0.001_d_model_16_batch_size_64_n_layers_6/LOO_nested_CV/LOO_0\n",
      "num_of_cv_folds 5\n",
      "y_test [0. 0. 0. 0. 0. 0. 0. 0. 0. 0. 0. 0. 0. 0. 1. 0. 0. 0. 0. 0. 1. 0. 1. 0.\n",
      " 0. 1. 1. 0. 0. 0. 0. 0. 0. 0. 0. 0. 0. 0. 1. 1. 0. 1. 0. 0. 0. 1. 0. 1.\n",
      " 1. 0. 0. 0. 0. 0. 0. 1. 1. 0. 0. 0. 1. 0. 0. 0.]\n",
      "MAX_ITR: 4 ranging ( 1 ~ 2 )\n",
      "Model name: gnn_transformer_with_cli_demo\n",
      "specify_itr None\n",
      "value_add_to_sensitivity_value 0.0\n",
      "| Model Name | Testing Set |             |             |             | Validation Set |             |             |             |\n",
      "|------------|-------------|-------------|-------------|-------------|-------------|-------------|-------------|-------------|\n",
      "|            | Balanced Accuracy | Sensitivity | Specificity | F1 Score | Balanced Accuracy | Sensitivity | Specificity | F1 Score |\n",
      "| gnn_transformer_with_cli_demo   | 66.0000  | 50.0000  | 82.0000  | 75.5780  | 74.9497  | 56.7188  | 93.1806  | 85.9616  |\n",
      "\n"
     ]
    }
   ],
   "source": [
    "for i in range(20):\n",
    "    command = f'python scripts/plot/DL/read_LOO_nestedCV_gnntr.py --max 4 --K_FOLD 5 --result_path results/gnn_transformer_with_cli_demo/prognosis_mix_hb/pretreatment_response/loocv_v{i}l1_rate_0.01_l2_rate_0.001_d_model_16_batch_size_64_n_layers_6'.split(' ')\n",
    "    result = subprocess.run(command, capture_output=True, text=True)\n",
    "    print(command)\n",
    "    print(result.stdout)"
   ]
  },
  {
   "cell_type": "code",
   "execution_count": 7,
   "metadata": {},
   "outputs": [
    {
     "data": {
      "text/plain": [
       "['python',\n",
       " 'scripts/plot/DL/read_LOO_nestedCV_gnntr.py',\n",
       " '--max',\n",
       " '4',\n",
       " '--K_FOLD',\n",
       " '5',\n",
       " '--result_path',\n",
       " 'results/gnn_transformer_with_cli_demo/prognosis_mix_hb/pretreatment_response/loocv_v0l1_rate_0.01_l2_rate_0.001_d_model_16_batch_size_64_n_layers_6']"
      ]
     },
     "execution_count": 7,
     "metadata": {},
     "output_type": "execute_result"
    }
   ],
   "source": [
    "command"
   ]
  },
  {
   "cell_type": "code",
   "execution_count": 3,
   "metadata": {},
   "outputs": [
    {
     "name": "stdout",
     "output_type": "stream",
     "text": [
      "(10, 64, 2)\n"
     ]
    },
    {
     "ename": "",
     "evalue": "",
     "output_type": "error",
     "traceback": [
      "\u001b[1;31mThe Kernel crashed while executing code in the current cell or a previous cell. \n",
      "\u001b[1;31mPlease review the code in the cell(s) to identify a possible cause of the failure. \n",
      "\u001b[1;31mClick <a href='https://aka.ms/vscodeJupyterKernelCrash'>here</a> for more info. \n",
      "\u001b[1;31mView Jupyter <a href='command:jupyter.viewOutput'>log</a> for further details."
     ]
    }
   ],
   "source": [
    "y_pred_all = np.load('results/gnn_transformer/prognosis_mix_hb/pretreatment_response/ten-fold-evaluate/y_pred_test_all.npy')\n",
    "print(y_pred_all.shape)\n",
    "np.save('allData/prognosis_mix_hb/pretreatment_response/MDDR/MDDR_derived_from_load_evaluate.npy', y_pred_all)"
   ]
  },
  {
   "cell_type": "code",
   "execution_count": 60,
   "metadata": {},
   "outputs": [
    {
     "name": "stdout",
     "output_type": "stream",
     "text": [
      "freq_accumulator tf.Tensor([[4. 3.]], shape=(1, 2), dtype=float32)\n",
      "transpose freq_accumulator tf.Tensor(\n",
      "[[4.]\n",
      " [3.]], shape=(2, 1), dtype=float32)\n",
      "freq_comparator tf.Tensor(\n",
      "[[4. 3.]\n",
      " [4. 3.]], shape=(2, 2), dtype=float32)\n"
     ]
    }
   ],
   "source": [
    "a = [0,1,1,0,0,0,1]\n",
    "a_one_hot = tf.one_hot(a, 2)\n",
    "\n",
    "freq_accumulator = tf.reduce_sum(a_one_hot, axis=0, keepdims=True)\n",
    "freq_comparator = tf.tile(freq_accumulator, [2, 1])\n",
    "print('freq_accumulator', freq_accumulator)\n",
    "print('transpose freq_accumulator', tf.transpose(freq_accumulator))\n",
    "print('freq_comparator', freq_comparator)\n",
    "mask = tf.cast(\n",
    "            tf.greater(tf.transpose(freq_accumulator), freq_comparator),\n",
    "            dtype=tf.float32,\n",
    "        )"
   ]
  },
  {
   "cell_type": "code",
   "execution_count": 61,
   "metadata": {},
   "outputs": [
    {
     "data": {
      "text/plain": [
       "<tf.Tensor: shape=(7, 2), dtype=float32, numpy=\n",
       "array([[1.        , 0.79441786],\n",
       "       [1.        , 1.        ],\n",
       "       [1.        , 1.        ],\n",
       "       [1.        , 0.79441786],\n",
       "       [1.        , 0.79441786],\n",
       "       [1.        , 0.79441786],\n",
       "       [1.        , 1.        ]], dtype=float32)>"
      ]
     },
     "execution_count": 61,
     "metadata": {},
     "output_type": "execute_result"
    }
   ],
   "source": [
    "long_tail = freq_comparator / tf.transpose(freq_accumulator)\n",
    "p_factor = 0.8\n",
    "mitigator = (long_tail ** p_factor) * mask + (1-mask)\n",
    "mitigator_factor = tf.gather(mitigator, tf.argmax(a_one_hot, axis=-1))\n",
    "mitigator_factor"
   ]
  },
  {
   "cell_type": "code",
   "execution_count": 58,
   "metadata": {},
   "outputs": [
    {
     "name": "stdout",
     "output_type": "stream",
     "text": [
      "compensation_factor tf.Tensor(\n",
      "[[1.        1.       ]\n",
      " [1.4918244 1.       ]\n",
      " [1.        1.       ]\n",
      " [1.        1.       ]\n",
      " [1.        1.       ]\n",
      " [1.        4.9530325]\n",
      " [1.        1.       ]], shape=(7, 2), dtype=float32)\n"
     ]
    }
   ],
   "source": [
    "# _get_compensation_factor\n",
    "\n",
    "q_factor = 2.0\n",
    "\n",
    "labels = a_one_hot\n",
    "\n",
    "logits = tf.constant([[0.56, 0.44], [0.6, 0.4], [0.45, 0.55], [0.66, 0.34], [0.7, 0.3], [0.1, 0.9], [0.45, 0.55]])\n",
    "\n",
    "scores = tf.math.softmax(logits, axis=-1)\n",
    "\n",
    "gt_label = tf.argmax(labels, axis=1)\n",
    "\n",
    "indices = tf.stack(\n",
    "            [tf.range(0, tf.shape(logits)[0], dtype=gt_label.dtype), gt_label], axis=1\n",
    "        )\n",
    "\n",
    "cls_score = tf.gather_nd(scores, indices)\n",
    "argmax_logits = tf.argmax(logits, axis=-1) == gt_label\n",
    "compensator = scores / tf.expand_dims(cls_score, axis=-1)\n",
    "mask = tf.cast(tf.greater(compensator, 1.0), dtype=labels.dtype)\n",
    "compensation_factor = (compensator ** q_factor) * mask + (1 - mask)\n",
    "print('compensation_factor', compensation_factor)"
   ]
  },
  {
   "cell_type": "code",
   "execution_count": 62,
   "metadata": {},
   "outputs": [
    {
     "name": "stdout",
     "output_type": "stream",
     "text": [
      "seesaw_weights tf.Tensor(\n",
      "[[1.         0.79441786]\n",
      " [1.4918244  1.        ]\n",
      " [1.         1.        ]\n",
      " [1.         0.79441786]\n",
      " [1.         0.79441786]\n",
      " [1.         3.9347775 ]\n",
      " [1.         1.        ]], shape=(7, 2), dtype=float32)\n"
     ]
    }
   ],
   "source": [
    "seesaw_weights = tf.ones_like(labels, dtype=tf.float32)\n",
    "seesaw_weights *= mitigator_factor \n",
    "seesaw_weights = seesaw_weights * compensation_factor\n",
    "print('seesaw_weights', seesaw_weights)\n"
   ]
  },
  {
   "cell_type": "code",
   "execution_count": 67,
   "metadata": {},
   "outputs": [
    {
     "name": "stdout",
     "output_type": "stream",
     "text": [
      "tf.Tensor(\n",
      "[[1.         0.79441786]\n",
      " [1.4918244  1.        ]\n",
      " [1.         1.        ]\n",
      " [1.         0.79441786]\n",
      " [1.         0.79441786]\n",
      " [1.         3.9347775 ]\n",
      " [1.         1.        ]], shape=(7, 2), dtype=float32)\n",
      "tf.Tensor(\n",
      "[[0. 1.]\n",
      " [1. 0.]\n",
      " [1. 0.]\n",
      " [0. 1.]\n",
      " [0. 1.]\n",
      " [0. 1.]\n",
      " [1. 0.]], shape=(7, 2), dtype=float32)\n",
      "tf.Tensor(\n",
      "[[0.         0.79441786]\n",
      " [1.4918244  0.        ]\n",
      " [1.         0.        ]\n",
      " [0.         0.79441786]\n",
      " [0.         0.79441786]\n",
      " [0.         3.9347775 ]\n",
      " [1.         0.        ]], shape=(7, 2), dtype=float32)\n"
     ]
    },
    {
     "ename": "",
     "evalue": "",
     "output_type": "error",
     "traceback": [
      "\u001b[1;31mThe Kernel crashed while executing code in the current cell or a previous cell. \n",
      "\u001b[1;31mPlease review the code in the cell(s) to identify a possible cause of the failure. \n",
      "\u001b[1;31mClick <a href='https://aka.ms/vscodeJupyterKernelCrash'>here</a> for more info. \n",
      "\u001b[1;31mView Jupyter <a href='command:jupyter.viewOutput'>log</a> for further details."
     ]
    }
   ],
   "source": [
    "print(seesaw_weights)\n",
    "print(1-labels)\n",
    "print((1-labels) * seesaw_weights)"
   ]
  },
  {
   "cell_type": "code",
   "execution_count": 4,
   "metadata": {},
   "outputs": [
    {
     "data": {
      "text/plain": [
       "(64, 52, 2500)"
      ]
     },
     "execution_count": 4,
     "metadata": {},
     "output_type": "execute_result"
    }
   ],
   "source": [
    "data = np.load('allData/prognosis/pretreatment_response/hb_data.npy')\n",
    "data.shape"
   ]
  },
  {
   "cell_type": "code",
   "execution_count": 5,
   "metadata": {},
   "outputs": [
    {
     "data": {
      "text/plain": [
       "[<matplotlib.lines.Line2D at 0x716f01a8a100>]"
      ]
     },
     "execution_count": 5,
     "metadata": {},
     "output_type": "execute_result"
    },
    {
     "data": {
      "image/png": "[encoded data removed]",
      "text/plain": [
       "<Figure size 640x480 with 1 Axes>"
      ]
     },
     "metadata": {},
     "output_type": "display_data"
    }
   ],
   "source": [
    "plt.plot(np.mean(data, axis=(0, 1)))"
   ]
  },
  {
   "cell_type": "code",
   "execution_count": 7,
   "metadata": {},
   "outputs": [
    {
     "name": "stdout",
     "output_type": "stream",
     "text": [
      "[3 4 6 0 9 7 5 1 2 8]\n",
      "[0 1 2 3 4 5 6 7 8 9]\n"
     ]
    }
   ],
   "source": [
    "a = np.arange(10)\n",
    "\n",
    "shuffled_indices = np.random.permutation(a.shape[0])\n",
    "print(shuffled_indices)\n",
    "\n",
    "original = [shuffled_indices.tolist().index(i) for i in range(10)]\n",
    "shuffle_back = shuffled_indices[original]\n",
    "\n",
    "print(shuffle_back)"
   ]
  },
  {
   "cell_type": "code",
   "execution_count": 3,
   "metadata": {},
   "outputs": [
    {
     "name": "stdout",
     "output_type": "stream",
     "text": [
      "{'fprs': [array([0.  , 0.02, 0.04, 0.08, 0.14, 0.18, 0.18, 0.18, 0.22, 0.28, 0.36,\n",
      "       0.4 , 0.4 , 0.44, 0.44, 0.5 , 0.5 , 0.52, 0.6 , 0.62, 0.7 , 0.7 ,\n",
      "       0.72, 0.72, 0.74, 0.74, 0.84, 0.92, 0.96, 0.96, 1.  ]), array([0.  , 0.02, 0.08, 0.08, 0.14, 0.14, 0.34, 0.34, 0.36, 0.36, 0.38,\n",
      "       0.38, 0.4 , 0.4 , 0.48, 0.48, 0.54, 0.54, 0.64, 0.64, 0.7 , 0.74,\n",
      "       0.82, 0.82, 0.84, 0.84, 1.  ]), array([0.  , 0.04, 0.68, 0.68, 0.68, 0.68, 0.68, 0.76, 0.82, 0.82, 1.  ]), array([0.  , 0.02, 0.06, 0.1 , 0.14, 0.28, 0.32, 0.36, 0.44, 0.48, 0.48,\n",
      "       0.5 , 0.54, 0.62, 0.68, 0.68, 0.7 , 0.74, 0.78, 0.9 , 0.9 , 0.96,\n",
      "       1.  ]), array([0.  , 0.02, 0.12, 0.16, 0.24, 0.24, 0.26, 0.3 , 0.36, 0.36, 0.4 ,\n",
      "       0.4 , 0.46, 0.46, 0.48, 0.48, 0.52, 0.52, 0.56, 0.58, 0.58, 0.62,\n",
      "       0.64, 0.68, 0.68, 0.78, 0.82, 0.88, 0.88, 0.92, 0.96, 1.  ]), array([0.  , 0.02, 0.14, 0.14, 0.28, 0.28, 0.36, 0.38, 0.38, 0.42, 0.42,\n",
      "       0.48, 0.48, 0.5 , 0.5 , 0.52, 0.52, 0.54, 0.54, 0.58, 0.58, 0.6 ,\n",
      "       0.68, 0.68, 0.86, 0.86, 0.92, 0.96, 1.  ]), array([0.  , 0.02, 0.04, 0.08, 0.22, 0.26, 0.26, 0.28, 0.34, 0.36, 0.36,\n",
      "       0.46, 0.46, 0.48, 0.48, 0.56, 0.6 , 0.64, 0.68, 0.68, 0.82, 0.86,\n",
      "       0.86, 0.9 , 0.94, 0.96, 1.  ]), array([0.  , 0.04, 0.68, 0.68, 0.68, 0.76, 0.76, 1.  ]), array([0.  , 0.02, 0.16, 0.16, 0.2 , 0.24, 0.42, 0.42, 0.46, 0.46, 0.52,\n",
      "       0.52, 0.58, 0.58, 0.64, 0.64, 0.68, 0.68, 0.84, 0.84, 1.  ]), array([0.  , 0.02, 0.06, 0.12, 0.26, 0.3 , 0.36, 0.38, 0.46, 0.46, 0.5 ,\n",
      "       0.5 , 0.56, 0.62, 0.68, 0.68, 0.7 , 0.7 , 0.72, 0.76, 0.76, 0.78,\n",
      "       0.9 , 0.94, 1.  , 1.  ])], 'tprs': [array([0.        , 0.        , 0.        , 0.        , 0.        ,\n",
      "       0.        , 0.14285714, 0.21428571, 0.21428571, 0.21428571,\n",
      "       0.21428571, 0.21428571, 0.28571429, 0.28571429, 0.42857143,\n",
      "       0.42857143, 0.64285714, 0.64285714, 0.64285714, 0.64285714,\n",
      "       0.64285714, 0.78571429, 0.78571429, 0.85714286, 0.85714286,\n",
      "       0.92857143, 0.92857143, 0.92857143, 0.92857143, 1.        ,\n",
      "       1.        ]), array([0.        , 0.        , 0.        , 0.07142857, 0.07142857,\n",
      "       0.14285714, 0.14285714, 0.28571429, 0.28571429, 0.35714286,\n",
      "       0.35714286, 0.42857143, 0.42857143, 0.5       , 0.5       ,\n",
      "       0.57142857, 0.57142857, 0.71428571, 0.71428571, 0.78571429,\n",
      "       0.78571429, 0.78571429, 0.78571429, 0.85714286, 0.85714286,\n",
      "       1.        , 1.        ]), array([0.        , 0.        , 0.        , 0.57142857, 0.71428571,\n",
      "       0.85714286, 0.92857143, 0.92857143, 0.92857143, 1.        ,\n",
      "       1.        ]), array([0.        , 0.        , 0.        , 0.        , 0.        ,\n",
      "       0.        , 0.        , 0.        , 0.        , 0.        ,\n",
      "       0.28571429, 0.28571429, 0.28571429, 0.28571429, 0.28571429,\n",
      "       0.92857143, 0.92857143, 0.92857143, 0.92857143, 0.92857143,\n",
      "       1.        , 1.        , 1.        ]), array([0.        , 0.        , 0.        , 0.        , 0.        ,\n",
      "       0.07142857, 0.07142857, 0.07142857, 0.07142857, 0.14285714,\n",
      "       0.14285714, 0.21428571, 0.21428571, 0.35714286, 0.35714286,\n",
      "       0.5       , 0.5       , 0.64285714, 0.64285714, 0.64285714,\n",
      "       0.71428571, 0.71428571, 0.71428571, 0.71428571, 0.92857143,\n",
      "       0.92857143, 0.92857143, 0.92857143, 1.        , 1.        ,\n",
      "       1.        , 1.        ]), array([0.        , 0.        , 0.        , 0.07142857, 0.07142857,\n",
      "       0.14285714, 0.14285714, 0.14285714, 0.21428571, 0.21428571,\n",
      "       0.35714286, 0.35714286, 0.42857143, 0.42857143, 0.5       ,\n",
      "       0.5       , 0.57142857, 0.57142857, 0.64285714, 0.64285714,\n",
      "       0.71428571, 0.71428571, 0.71428571, 0.92857143, 0.92857143,\n",
      "       1.        , 1.        , 1.        , 1.        ]), array([0.        , 0.        , 0.        , 0.        , 0.        ,\n",
      "       0.        , 0.14285714, 0.14285714, 0.14285714, 0.14285714,\n",
      "       0.21428571, 0.21428571, 0.28571429, 0.28571429, 0.42857143,\n",
      "       0.42857143, 0.42857143, 0.42857143, 0.42857143, 0.92857143,\n",
      "       0.92857143, 0.92857143, 1.        , 1.        , 1.        ,\n",
      "       1.        , 1.        ]), array([0.        , 0.        , 0.        , 0.71428571, 0.85714286,\n",
      "       0.85714286, 1.        , 1.        ]), array([0.        , 0.        , 0.        , 0.07142857, 0.07142857,\n",
      "       0.07142857, 0.07142857, 0.42857143, 0.42857143, 0.5       ,\n",
      "       0.5       , 0.57142857, 0.57142857, 0.78571429, 0.78571429,\n",
      "       0.85714286, 0.85714286, 0.92857143, 0.92857143, 1.        ,\n",
      "       1.        ]), array([0.        , 0.        , 0.        , 0.        , 0.        ,\n",
      "       0.        , 0.        , 0.        , 0.        , 0.07142857,\n",
      "       0.07142857, 0.35714286, 0.35714286, 0.35714286, 0.35714286,\n",
      "       0.57142857, 0.57142857, 0.64285714, 0.64285714, 0.64285714,\n",
      "       0.92857143, 0.92857143, 0.92857143, 0.92857143, 0.92857143,\n",
      "       1.        ])], 'roc_aucs': [0.49000000000000005, 0.5185714285714285, 0.30999999999999994, 0.36142857142857143, 0.47000000000000003, 0.48857142857142855, 0.4342857142857143, 0.3085714285714285, 0.49, 0.33999999999999997]}\n"
     ]
    }
   ],
   "source": [
    "data = np.load('/Users/shanxiafeng/Documents/Project/Research/fnirs-prognosis/code/fnirs-treatment-response-prediction/results/his_metrics.npy', allow_pickle=True)\n",
    "print(data)"
   ]
  },
  {
   "cell_type": "code",
   "execution_count": 4,
   "metadata": {},
   "outputs": [
    {
     "name": "stdout",
     "output_type": "stream",
     "text": [
      "[[ 0.  1.  2.  3.]\n",
      " [ 0.  1.  2.  3.]\n",
      " [ 0.  5. 10. 15.]\n",
      " [ 0.  1.  2.  3.]]\n",
      "[[ 0.   2.5  2.   3. ]\n",
      " [ 0.   2.5  2.   3. ]\n",
      " [ 0.  12.5 10.  15. ]\n",
      " [ 0.   2.5  2.   3. ]]\n"
     ]
    }
   ],
   "source": [
    "a = np.ones((4,4))\n",
    "for i in range(4):\n",
    "    a[:,i] *= i\n",
    "    \n",
    "a[2, :] *= 5\n",
    "print(a)\n",
    "a[:,1] = (a[:, 2] + a[:, 3]) / 2\n",
    "print(a)"
   ]
  },
  {
   "cell_type": "code",
   "execution_count": 2,
   "metadata": {},
   "outputs": [
    {
     "name": "stdout",
     "output_type": "stream",
     "text": [
      "loocv4 -  (320, 2)\n"
     ]
    }
   ],
   "source": [
    "result = np.load('/home/jy/Documents/fnirs/treatment_response/fnirs-depression-deeplearning/results/gnn_transformer/prognosis_mix_hb/pretreatment_response/loocv_v4l1_rate_0.01_l2_rate_0.001_d_model_16_batch_size_64_n_layers_6/LOO_nested_CV/y_pred.npy')\n",
    "print('loocv4 - ', result.shape)"
   ]
  },
  {
   "cell_type": "code",
   "execution_count": 3,
   "metadata": {},
   "outputs": [
    {
     "name": "stdout",
     "output_type": "stream",
     "text": [
      "allData_loocv4 -  (320, 2)\n"
     ]
    }
   ],
   "source": [
    "allData_loocv4 = np.load('/home/jy/Documents/fnirs/treatment_response/fnirs-depression-deeplearning/allData/prognosis_mix_hb/pretreatment_response/fnirs_pred_loocv4.npy')\n",
    "print('allData_loocv4 - ', allData_loocv4.shape)"
   ]
  }
 ],
 "metadata": {
  "kernelspec": {
   "display_name": "tf",
   "language": "python",
   "name": "python3"
  },
  "language_info": {
   "codemirror_mode": {
    "name": "ipython",
    "version": 3
   },
   "file_extension": ".py",
   "mimetype": "text/x-python",
   "name": "python",
   "nbconvert_exporter": "python",
   "pygments_lexer": "ipython3",
   "version": "3.9.16"
  }
 },
 "nbformat": 4,
 "nbformat_minor": 2
}
