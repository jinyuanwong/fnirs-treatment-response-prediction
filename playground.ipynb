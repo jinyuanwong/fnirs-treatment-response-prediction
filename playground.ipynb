{
 "cells": [
  {
   "cell_type": "markdown",
   "metadata": {},
   "source": [
    "python ./LOO_nested_CV_train_skf.py mamba skf_v0 mdd_classification_mamba"
   ]
  },
  {
   "cell_type": "code",
   "execution_count": 2,
   "metadata": {},
   "outputs": [],
   "source": [
    "import sys\n",
    "import time\n",
    "from datetime import date\n",
    "import numpy as np\n",
    "import random\n",
    "import wandb\n",
    "import gc\n",
    "from classifiers.classifier_factory import create_classifier\n",
    "from scripts.plot.DL.read_LOO_nestedCV_gnntr import get_sorted_loo_array\n",
    "import subprocess\n",
    "from sklearn.metrics import roc_curve, auc\n",
    "import matplotlib.pyplot as plt\n",
    "import pandas as pd\n",
    "import numpy as np\n",
    "import os \n",
    "\n",
    "from utils.utils_mine import normalize_individual\n"
   ]
  },
  {
   "cell_type": "code",
   "execution_count": 6,
   "metadata": {},
   "outputs": [
    {
     "ename": "",
     "evalue": "",
     "output_type": "error",
     "traceback": [
      "\u001b[1;31mThe Kernel crashed while executing code in the current cell or a previous cell. \n",
      "\u001b[1;31mPlease review the code in the cell(s) to identify a possible cause of the failure. \n",
      "\u001b[1;31mClick <a href='https://aka.ms/vscodeJupyterKernelCrash'>here</a> for more info. \n",
      "\u001b[1;31mView Jupyter <a href='command:jupyter.viewOutput'>log</a> for further details."
     ]
    }
   ],
   "source": [
    "hb_data = np.load('allData/prognosis_mix_hb/pretreatment_response/hb_data.npy')\n",
    "hb_data.shape\n",
    "hb_data = normalize_individual(hb_data)\n",
    "np.save('allData/prognosis_mix_hb/pretreatment_response/nor_hb_data.npy', hb_data)"
   ]
  },
  {
   "cell_type": "code",
   "execution_count": 29,
   "metadata": {},
   "outputs": [],
   "source": [
    "from utils.utils_mine import generate_fnirs_adj_tf"
   ]
  },
  {
   "cell_type": "code",
   "execution_count": 44,
   "metadata": {},
   "outputs": [
    {
     "name": "stdout",
     "output_type": "stream",
     "text": [
      "Result shape: (10, 52, 125)\n"
     ]
    }
   ],
   "source": [
    "import tensorflow as tf\n",
    "\n",
    "# Define the adjacency matrix and input features\n",
    "dm_1 = np.zeros((1, 52))\n",
    "dm_1[0, 1] = 1\n",
    "dm_1[0, 2] = 1\n",
    "dm1 = tf.convert_to_tensor(dm_1, dtype=tf.float32)\n",
    "adj = tf.ones((51, 52))\n",
    "adj = tf.concat([dm1, adj], axis=0)\n",
    "inputs_features = tf.ones((10, 52, 125))\n",
    "\n",
    "# Perform matrix multiplication\n",
    "result = tf.linalg.matmul(adj, inputs_features)\n",
    "\n",
    "# Print the result shape\n",
    "print(\"Result shape:\", result.shape)\n"
   ]
  },
  {
   "cell_type": "code",
   "execution_count": 46,
   "metadata": {},
   "outputs": [
    {
     "data": {
      "text/plain": [
       "<tf.Tensor: shape=(52, 125), dtype=float32, numpy=\n",
       "array([[ 2.,  2.,  2., ...,  2.,  2.,  2.],\n",
       "       [52., 52., 52., ..., 52., 52., 52.],\n",
       "       [52., 52., 52., ..., 52., 52., 52.],\n",
       "       ...,\n",
       "       [52., 52., 52., ..., 52., 52., 52.],\n",
       "       [52., 52., 52., ..., 52., 52., 52.],\n",
       "       [52., 52., 52., ..., 52., 52., 52.]], dtype=float32)>"
      ]
     },
     "execution_count": 46,
     "metadata": {},
     "output_type": "execute_result"
    },
    {
     "ename": "",
     "evalue": "",
     "output_type": "error",
     "traceback": [
      "\u001b[1;31mThe Kernel crashed while executing code in the current cell or a previous cell. \n",
      "\u001b[1;31mPlease review the code in the cell(s) to identify a possible cause of the failure. \n",
      "\u001b[1;31mClick <a href='https://aka.ms/vscodeJupyterKernelCrash'>here</a> for more info. \n",
      "\u001b[1;31mView Jupyter <a href='command:jupyter.viewOutput'>log</a> for further details."
     ]
    }
   ],
   "source": [
    "result[0]"
   ]
  },
  {
   "cell_type": "code",
   "execution_count": 31,
   "metadata": {},
   "outputs": [
    {
     "data": {
      "text/plain": [
       "<tf.Tensor: shape=(52, 52), dtype=float32, numpy=\n",
       "array([[0., 1., 0., ..., 0., 0., 0.],\n",
       "       [1., 0., 1., ..., 0., 0., 0.],\n",
       "       [0., 1., 0., ..., 0., 0., 0.],\n",
       "       ...,\n",
       "       [0., 0., 0., ..., 0., 1., 0.],\n",
       "       [0., 0., 0., ..., 1., 0., 1.],\n",
       "       [0., 0., 0., ..., 0., 1., 0.]], dtype=float32)>"
      ]
     },
     "execution_count": 31,
     "metadata": {},
     "output_type": "execute_result"
    }
   ],
   "source": [
    "# a = generate_fnirs_adj()\n",
    "# a = a.toarray()\n",
    "tf_matrix = generate_fnirs_adj_tf()\n",
    "tf_matrix"
   ]
  },
  {
   "cell_type": "code",
   "execution_count": 34,
   "metadata": {},
   "outputs": [
    {
     "data": {
      "image/png": "[encoded data removed]",
      "text/plain": [
       "<Figure size 640x480 with 2 Axes>"
      ]
     },
     "metadata": {},
     "output_type": "display_data"
    }
   ],
   "source": [
    "\n",
    "def normalize_adjacency(adj):\n",
    "    d = tf.reduce_sum(adj, axis=-1)\n",
    "    d_sqrt_inv = tf.pow(d, -0.5)\n",
    "    d_sqrt_inv = tf.where(tf.math.is_inf(d_sqrt_inv), 0., d_sqrt_inv)\n",
    "    d_mat_inv_sqrt = tf.linalg.diag(d_sqrt_inv)\n",
    "    return tf.matmul(tf.matmul(d_mat_inv_sqrt, adj), d_mat_inv_sqrt)\n",
    "\n",
    "nor_m = normalize_adjacency(tf_matrix)\n",
    "\n",
    "plt.imshow(nor_m, cmap='viridis')\n",
    "plt.colorbar()\n",
    "plt.title('fNIRS Adjacency Matrix')\n",
    "plt.show()"
   ]
  },
  {
   "cell_type": "code",
   "execution_count": 27,
   "metadata": {},
   "outputs": [
    {
     "data": {
      "text/plain": [
       "<tf.Tensor: shape=(52, 52), dtype=float32, numpy=\n",
       "array([[0., 1., 0., ..., 0., 0., 0.],\n",
       "       [1., 0., 1., ..., 0., 0., 0.],\n",
       "       [0., 1., 0., ..., 0., 0., 0.],\n",
       "       ...,\n",
       "       [0., 0., 0., ..., 0., 1., 0.],\n",
       "       [0., 0., 0., ..., 1., 0., 1.],\n",
       "       [0., 0., 0., ..., 0., 1., 0.]], dtype=float32)>"
      ]
     },
     "execution_count": 27,
     "metadata": {},
     "output_type": "execute_result"
    }
   ],
   "source": [
    "adj_matrix_tf = generate_fnirs_adj_tf()\n",
    "adj_matrix_tf \n",
    "# adj_matrix_tf = np.tile(adj_matrix_tf, (512, 1, 1))\n",
    "\n",
    "# adj_matrix_tf.shape\n",
    "# # Plot the matrix using imshow\n",
    "# plt.imshow(adj_matrix_tf[1], cmap='viridis')\n",
    "# plt.colorbar()\n",
    "# plt.title('fNIRS Adjacency Matrix')\n",
    "# plt.show()"
   ]
  },
  {
   "cell_type": "code",
   "execution_count": 1,
   "metadata": {},
   "outputs": [],
   "source": [
    "\n"
   ]
  },
  {
   "cell_type": "code",
   "execution_count": 6,
   "metadata": {},
   "outputs": [],
   "source": [
    "adj = np.load('allData/diagnosis458/adj_matrix.npy')[:1, ...]\n",
    "new_adj = np.tile(adj, (514, 1, 1))\n",
    "np.save('allData/diagnosis514/adj_matrix.npy', new_adj)"
   ]
  },
  {
   "cell_type": "code",
   "execution_count": 12,
   "metadata": {},
   "outputs": [
    {
     "data": {
      "text/plain": [
       "737"
      ]
     },
     "execution_count": 12,
     "metadata": {},
     "output_type": "execute_result"
    }
   ],
   "source": [
    "np.round(np.random.randint(0, 1000), 4)"
   ]
  },
  {
   "cell_type": "code",
   "execution_count": 7,
   "metadata": {},
   "outputs": [
    {
     "name": "stdout",
     "output_type": "stream",
     "text": [
      "(458, 52, 125)\n",
      "-1.2411226825503933e-18\n"
     ]
    }
   ],
   "source": [
    "data_path = 'allData/diagnosis514/hb_data.npy'\n",
    "\n",
    "data = np.load(data_path)\n",
    "from scipy.stats import zscore\n",
    "data = zscore(data, axis=1)\n",
    "print(data.shape)\n",
    "print(np.mean(data))\n",
    "# print(np.mean(data, axis=0))\n",
    "# print(data.shape)\n",
    "# if data.shape[1] != 52:\n",
    "#     print(data.shape)\n",
    "#     data = np.transpose(data, (0, 2, 1))\n",
    "np.save(data_path, data)"
   ]
  },
  {
   "cell_type": "code",
   "execution_count": 10,
   "metadata": {},
   "outputs": [],
   "source": [
    "TOTAL_SUBJECT = 64\n",
    "TOTAL_FOLD = 5\n",
    "delete_name = ['fold-best-checkpoint.data-00000-of-00001', 'fold-best-checkpoint.index', 'history.csv']\n",
    "for subject_id in range(TOTAL_SUBJECT):\n",
    "    for fold_id in range(TOTAL_FOLD):\n",
    "        path = f'results/mamba/prognosis_mix_hb/pretreatment_response/loocv_v0pretreatment_response_mamba/LOO_nested_CV/LOO_{subject_id}/stratified_nested_5_CV_fold-{fold_id}/'\n",
    "        file_names = os.listdir(path)\n",
    "        for delete_path in [path + file_name for file_name in file_names if file_name in delete_name]:\n",
    "            os.remove(delete_path)\n",
    "        \n",
    "        "
   ]
  },
  {
   "cell_type": "code",
   "execution_count": 14,
   "metadata": {},
   "outputs": [
    {
     "name": "stdout",
     "output_type": "stream",
     "text": [
      "tf.Tensor(\n",
      "[[[[ 0.  0.]\n",
      "   [ 0.  0.]\n",
      "   [ 0.  0.]]\n",
      "\n",
      "  [[ 7.  8.]\n",
      "   [ 9. 10.]\n",
      "   [11. 12.]]\n",
      "\n",
      "  [[13. 14.]\n",
      "   [15. 16.]\n",
      "   [17. 18.]]\n",
      "\n",
      "  [[ 0.  0.]\n",
      "   [ 0.  0.]\n",
      "   [ 0.  0.]]]\n",
      "\n",
      "\n",
      " [[[ 0.  0.]\n",
      "   [ 0.  0.]\n",
      "   [ 0.  0.]]\n",
      "\n",
      "  [[25. 26.]\n",
      "   [27. 28.]\n",
      "   [29. 30.]]\n",
      "\n",
      "  [[31. 32.]\n",
      "   [33. 34.]\n",
      "   [35. 36.]]\n",
      "\n",
      "  [[ 0.  0.]\n",
      "   [ 0.  0.]\n",
      "   [ 0.  0.]]]], shape=(2, 4, 3, 2), dtype=float32)\n"
     ]
    },
    {
     "ename": "",
     "evalue": "",
     "output_type": "error",
     "traceback": [
      "\u001b[1;31mThe Kernel crashed while executing code in the current cell or a previous cell. \n",
      "\u001b[1;31mPlease review the code in the cell(s) to identify a possible cause of the failure. \n",
      "\u001b[1;31mClick <a href='https://aka.ms/vscodeJupyterKernelCrash'>here</a> for more info. \n",
      "\u001b[1;31mView Jupyter <a href='command:jupyter.viewOutput'>log</a> for further details."
     ]
    }
   ],
   "source": [
    "\n",
    "# Define the tensor dA\n",
    "dA = tf.constant([\n",
    "    [\n",
    "        [[1, 2], [3, 4], [5, 6]],\n",
    "        [[7, 8], [9, 10], [11, 12]],\n",
    "        [[13, 14], [15, 16], [17, 18]]\n",
    "    ],\n",
    "    [\n",
    "        [[19, 20], [21, 22], [23, 24]],\n",
    "        [[25, 26], [27, 28], [29, 30]],\n",
    "        [[31, 32], [33, 34], [35, 36]]\n",
    "    ]\n",
    "], dtype=tf.float32)  # Shape [2, 3, 3, 2]\n",
    "\n",
    "# Slice and pad the tensor\n",
    "dA_cumsum = tf.pad(\n",
    "    dA[:, 1:], [[0, 0], [1, 1], [0, 0], [0, 0]])[:, :, :, :]\n",
    "\n",
    "# print(dA_cumsum)\n",
    "# dA_cumsum = tf.reverse(dA_cumsum, axis=[0]) \n",
    "# print(dA_cumsum)\n",
    "\n",
    "# dA_cumsum = tf.math.cumsum(dA_cumsum, axis=1)  \n",
    "\n",
    "print(dA_cumsum)\n"
   ]
  },
  {
   "cell_type": "code",
   "execution_count": 16,
   "metadata": {},
   "outputs": [
    {
     "data": {
      "image/png": "[encoded data removed]",
      "text/plain": [
       "<Figure size 1500x1500 with 9 Axes>"
      ]
     },
     "metadata": {},
     "output_type": "display_data"
    }
   ],
   "source": []
  },
  {
   "cell_type": "code",
   "execution_count": 5,
   "metadata": {},
   "outputs": [
    {
     "name": "stdout",
     "output_type": "stream",
     "text": [
      "(64, 9)\n"
     ]
    }
   ],
   "source": [
    "data = np.load('allData/prognosis_mix_hb/pretreatment_response/task_change_hb_nine_regions.npy')\n",
    "HbT = data[..., -1]\n",
    "print(HbT.shape)\n",
    "np.save('allData/prognosis_mix_hb/pretreatment_response/task_change_hb_nine_regions_HbT.npy', HbT)"
   ]
  },
  {
   "cell_type": "code",
   "execution_count": 3,
   "metadata": {},
   "outputs": [
    {
     "ename": "NameError",
     "evalue": "name 'operands' is not defined",
     "output_type": "error",
     "traceback": [
      "\u001b[0;31m---------------------------------------------------------------------------\u001b[0m",
      "\u001b[0;31mNameError\u001b[0m                                 Traceback (most recent call last)",
      "Cell \u001b[0;32mIn[3], line 3\u001b[0m\n\u001b[1;32m      1\u001b[0m \u001b[38;5;28;01mimport\u001b[39;00m \u001b[38;5;21;01mtorch\u001b[39;00m\n\u001b[1;32m      2\u001b[0m \u001b[38;5;28;01mimport\u001b[39;00m \u001b[38;5;21;01mtorch\u001b[39;00m\u001b[38;5;21;01m.\u001b[39;00m\u001b[38;5;21;01mnn\u001b[39;00m \u001b[38;5;28;01mas\u001b[39;00m \u001b[38;5;21;01mnn\u001b[39;00m\n\u001b[0;32m----> 3\u001b[0m torch\u001b[38;5;241m.\u001b[39meinsum(\u001b[38;5;124m\"\u001b[39m\u001b[38;5;124msubscripts\u001b[39m\u001b[38;5;124m\"\u001b[39m, \u001b[43moperands\u001b[49m)\n",
      "\u001b[0;31mNameError\u001b[0m: name 'operands' is not defined"
     ]
    }
   ],
   "source": [
    "import torch\n",
    "import torch.nn as nn\n",
    "torch.einsum(\"subscripts\", operands)\n",
    "\n"
   ]
  },
  {
   "cell_type": "code",
   "execution_count": 24,
   "metadata": {},
   "outputs": [
    {
     "name": "stdout",
     "output_type": "stream",
     "text": [
      "/clinical_data_modality_classification/ SVM (3, 99)\n",
      "(3, 39)\n"
     ]
    }
   ],
   "source": [
    "# data = pd.read_csv('/home/jy/Documents/fnirs/treatment_response/fnirs-depression-deeplearning/results/ML_results/simple_prediction_response/clinical_data_modality_classification/Discriminant Analysis(LDA).csv')\n",
    "# data.iloc[60:]\n",
    "# data.to_csv('./LDA_results.csv')\n",
    "\n",
    "\n",
    "\n",
    "#  result_pth = main_fold + modality + '/' + model + '_pred.json'\n",
    "#         with open(result_pth, 'r') as json_file:\n",
    "#             data = json.load(json_file)\n",
    "#             auc_result[model][modality] = data\n",
    "\n",
    "print(modality, model_name, df.shape)\n",
    "\n",
    "tmp = df.iloc[:,60:]\n",
    "tmp.to_json('./LDA_results.json')\n",
    "print(tmp.shape)\n",
    "\n"
   ]
  },
  {
   "cell_type": "code",
   "execution_count": 26,
   "metadata": {},
   "outputs": [
    {
     "ename": "ValueError",
     "evalue": "Trailing data",
     "output_type": "error",
     "traceback": [
      "\u001b[0;31m---------------------------------------------------------------------------\u001b[0m",
      "\u001b[0;31mValueError\u001b[0m                                Traceback (most recent call last)",
      "Cell \u001b[0;32mIn[26], line 19\u001b[0m\n\u001b[1;32m     16\u001b[0m \u001b[38;5;66;03m# df.to_csv(result_pth, index=False)\u001b[39;00m\n\u001b[1;32m     18\u001b[0m detail_pth \u001b[38;5;241m=\u001b[39m main_fold \u001b[38;5;241m+\u001b[39m modality \u001b[38;5;241m+\u001b[39m \u001b[38;5;124m'\u001b[39m\u001b[38;5;124m/\u001b[39m\u001b[38;5;124m'\u001b[39m \u001b[38;5;241m+\u001b[39m model_name \u001b[38;5;241m+\u001b[39m \u001b[38;5;124m'\u001b[39m\u001b[38;5;124m_pred.json\u001b[39m\u001b[38;5;124m'\u001b[39m\n\u001b[0;32m---> 19\u001b[0m df \u001b[38;5;241m=\u001b[39m \u001b[43mpd\u001b[49m\u001b[38;5;241;43m.\u001b[39;49m\u001b[43mread_json\u001b[49m\u001b[43m(\u001b[49m\u001b[43mdetail_pth\u001b[49m\u001b[43m)\u001b[49m\n\u001b[1;32m     20\u001b[0m df \u001b[38;5;241m=\u001b[39m df\u001b[38;5;241m.\u001b[39miloc[:, \u001b[38;5;241m60\u001b[39m:]\n\u001b[1;32m     21\u001b[0m \u001b[38;5;66;03m# df.to_json(detail_pth, orient='records', lines=True)\u001b[39;00m\n\u001b[1;32m     22\u001b[0m \u001b[38;5;66;03m# print(modality, model_name, df.shape)\u001b[39;00m\n\u001b[1;32m     23\u001b[0m \u001b[38;5;66;03m# print('---')\u001b[39;00m\n",
      "File \u001b[0;32m~/miniconda3/envs/tf/lib/python3.9/site-packages/pandas/util/_decorators.py:199\u001b[0m, in \u001b[0;36mdeprecate_kwarg.<locals>._deprecate_kwarg.<locals>.wrapper\u001b[0;34m(*args, **kwargs)\u001b[0m\n\u001b[1;32m    197\u001b[0m     \u001b[38;5;28;01melse\u001b[39;00m:\n\u001b[1;32m    198\u001b[0m         kwargs[new_arg_name] \u001b[38;5;241m=\u001b[39m new_arg_value\n\u001b[0;32m--> 199\u001b[0m \u001b[38;5;28;01mreturn\u001b[39;00m \u001b[43mfunc\u001b[49m\u001b[43m(\u001b[49m\u001b[38;5;241;43m*\u001b[39;49m\u001b[43margs\u001b[49m\u001b[43m,\u001b[49m\u001b[43m \u001b[49m\u001b[38;5;241;43m*\u001b[39;49m\u001b[38;5;241;43m*\u001b[39;49m\u001b[43mkwargs\u001b[49m\u001b[43m)\u001b[49m\n",
      "File \u001b[0;32m~/miniconda3/envs/tf/lib/python3.9/site-packages/pandas/util/_decorators.py:299\u001b[0m, in \u001b[0;36mdeprecate_nonkeyword_arguments.<locals>.decorate.<locals>.wrapper\u001b[0;34m(*args, **kwargs)\u001b[0m\n\u001b[1;32m    294\u001b[0m     msg \u001b[38;5;241m=\u001b[39m (\n\u001b[1;32m    295\u001b[0m         \u001b[38;5;124mf\u001b[39m\u001b[38;5;124m\"\u001b[39m\u001b[38;5;124mStarting with Pandas version \u001b[39m\u001b[38;5;132;01m{\u001b[39;00mversion\u001b[38;5;132;01m}\u001b[39;00m\u001b[38;5;124m all arguments of \u001b[39m\u001b[38;5;124m\"\u001b[39m\n\u001b[1;32m    296\u001b[0m         \u001b[38;5;124mf\u001b[39m\u001b[38;5;124m\"\u001b[39m\u001b[38;5;132;01m{\u001b[39;00mfunc\u001b[38;5;241m.\u001b[39m\u001b[38;5;18m__name__\u001b[39m\u001b[38;5;132;01m}\u001b[39;00m\u001b[38;5;132;01m{\u001b[39;00marguments\u001b[38;5;132;01m}\u001b[39;00m\u001b[38;5;124m will be keyword-only\u001b[39m\u001b[38;5;124m\"\u001b[39m\n\u001b[1;32m    297\u001b[0m     )\n\u001b[1;32m    298\u001b[0m     warnings\u001b[38;5;241m.\u001b[39mwarn(msg, \u001b[38;5;167;01mFutureWarning\u001b[39;00m, stacklevel\u001b[38;5;241m=\u001b[39mstacklevel)\n\u001b[0;32m--> 299\u001b[0m \u001b[38;5;28;01mreturn\u001b[39;00m \u001b[43mfunc\u001b[49m\u001b[43m(\u001b[49m\u001b[38;5;241;43m*\u001b[39;49m\u001b[43margs\u001b[49m\u001b[43m,\u001b[49m\u001b[43m \u001b[49m\u001b[38;5;241;43m*\u001b[39;49m\u001b[38;5;241;43m*\u001b[39;49m\u001b[43mkwargs\u001b[49m\u001b[43m)\u001b[49m\n",
      "File \u001b[0;32m~/miniconda3/envs/tf/lib/python3.9/site-packages/pandas/io/json/_json.py:563\u001b[0m, in \u001b[0;36mread_json\u001b[0;34m(path_or_buf, orient, typ, dtype, convert_axes, convert_dates, keep_default_dates, numpy, precise_float, date_unit, encoding, lines, chunksize, compression, nrows, storage_options)\u001b[0m\n\u001b[1;32m    560\u001b[0m     \u001b[38;5;28;01mreturn\u001b[39;00m json_reader\n\u001b[1;32m    562\u001b[0m \u001b[38;5;28;01mwith\u001b[39;00m json_reader:\n\u001b[0;32m--> 563\u001b[0m     \u001b[38;5;28;01mreturn\u001b[39;00m \u001b[43mjson_reader\u001b[49m\u001b[38;5;241;43m.\u001b[39;49m\u001b[43mread\u001b[49m\u001b[43m(\u001b[49m\u001b[43m)\u001b[49m\n",
      "File \u001b[0;32m~/miniconda3/envs/tf/lib/python3.9/site-packages/pandas/io/json/_json.py:694\u001b[0m, in \u001b[0;36mJsonReader.read\u001b[0;34m(self)\u001b[0m\n\u001b[1;32m    692\u001b[0m         obj \u001b[38;5;241m=\u001b[39m \u001b[38;5;28mself\u001b[39m\u001b[38;5;241m.\u001b[39m_get_object_parser(\u001b[38;5;28mself\u001b[39m\u001b[38;5;241m.\u001b[39m_combine_lines(data_lines))\n\u001b[1;32m    693\u001b[0m \u001b[38;5;28;01melse\u001b[39;00m:\n\u001b[0;32m--> 694\u001b[0m     obj \u001b[38;5;241m=\u001b[39m \u001b[38;5;28;43mself\u001b[39;49m\u001b[38;5;241;43m.\u001b[39;49m\u001b[43m_get_object_parser\u001b[49m\u001b[43m(\u001b[49m\u001b[38;5;28;43mself\u001b[39;49m\u001b[38;5;241;43m.\u001b[39;49m\u001b[43mdata\u001b[49m\u001b[43m)\u001b[49m\n\u001b[1;32m    695\u001b[0m \u001b[38;5;28mself\u001b[39m\u001b[38;5;241m.\u001b[39mclose()\n\u001b[1;32m    696\u001b[0m \u001b[38;5;28;01mreturn\u001b[39;00m obj\n",
      "File \u001b[0;32m~/miniconda3/envs/tf/lib/python3.9/site-packages/pandas/io/json/_json.py:716\u001b[0m, in \u001b[0;36mJsonReader._get_object_parser\u001b[0;34m(self, json)\u001b[0m\n\u001b[1;32m    714\u001b[0m obj \u001b[38;5;241m=\u001b[39m \u001b[38;5;28;01mNone\u001b[39;00m\n\u001b[1;32m    715\u001b[0m \u001b[38;5;28;01mif\u001b[39;00m typ \u001b[38;5;241m==\u001b[39m \u001b[38;5;124m\"\u001b[39m\u001b[38;5;124mframe\u001b[39m\u001b[38;5;124m\"\u001b[39m:\n\u001b[0;32m--> 716\u001b[0m     obj \u001b[38;5;241m=\u001b[39m \u001b[43mFrameParser\u001b[49m\u001b[43m(\u001b[49m\u001b[43mjson\u001b[49m\u001b[43m,\u001b[49m\u001b[43m \u001b[49m\u001b[38;5;241;43m*\u001b[39;49m\u001b[38;5;241;43m*\u001b[39;49m\u001b[43mkwargs\u001b[49m\u001b[43m)\u001b[49m\u001b[38;5;241;43m.\u001b[39;49m\u001b[43mparse\u001b[49m\u001b[43m(\u001b[49m\u001b[43m)\u001b[49m\n\u001b[1;32m    718\u001b[0m \u001b[38;5;28;01mif\u001b[39;00m typ \u001b[38;5;241m==\u001b[39m \u001b[38;5;124m\"\u001b[39m\u001b[38;5;124mseries\u001b[39m\u001b[38;5;124m\"\u001b[39m \u001b[38;5;129;01mor\u001b[39;00m obj \u001b[38;5;129;01mis\u001b[39;00m \u001b[38;5;28;01mNone\u001b[39;00m:\n\u001b[1;32m    719\u001b[0m     \u001b[38;5;28;01mif\u001b[39;00m \u001b[38;5;129;01mnot\u001b[39;00m \u001b[38;5;28misinstance\u001b[39m(dtype, \u001b[38;5;28mbool\u001b[39m):\n",
      "File \u001b[0;32m~/miniconda3/envs/tf/lib/python3.9/site-packages/pandas/io/json/_json.py:831\u001b[0m, in \u001b[0;36mParser.parse\u001b[0;34m(self)\u001b[0m\n\u001b[1;32m    828\u001b[0m     \u001b[38;5;28mself\u001b[39m\u001b[38;5;241m.\u001b[39m_parse_numpy()\n\u001b[1;32m    830\u001b[0m \u001b[38;5;28;01melse\u001b[39;00m:\n\u001b[0;32m--> 831\u001b[0m     \u001b[38;5;28;43mself\u001b[39;49m\u001b[38;5;241;43m.\u001b[39;49m\u001b[43m_parse_no_numpy\u001b[49m\u001b[43m(\u001b[49m\u001b[43m)\u001b[49m\n\u001b[1;32m    833\u001b[0m \u001b[38;5;28;01mif\u001b[39;00m \u001b[38;5;28mself\u001b[39m\u001b[38;5;241m.\u001b[39mobj \u001b[38;5;129;01mis\u001b[39;00m \u001b[38;5;28;01mNone\u001b[39;00m:\n\u001b[1;32m    834\u001b[0m     \u001b[38;5;28;01mreturn\u001b[39;00m \u001b[38;5;28;01mNone\u001b[39;00m\n",
      "File \u001b[0;32m~/miniconda3/envs/tf/lib/python3.9/site-packages/pandas/io/json/_json.py:1079\u001b[0m, in \u001b[0;36mFrameParser._parse_no_numpy\u001b[0;34m(self)\u001b[0m\n\u001b[1;32m   1075\u001b[0m orient \u001b[38;5;241m=\u001b[39m \u001b[38;5;28mself\u001b[39m\u001b[38;5;241m.\u001b[39morient\n\u001b[1;32m   1077\u001b[0m \u001b[38;5;28;01mif\u001b[39;00m orient \u001b[38;5;241m==\u001b[39m \u001b[38;5;124m\"\u001b[39m\u001b[38;5;124mcolumns\u001b[39m\u001b[38;5;124m\"\u001b[39m:\n\u001b[1;32m   1078\u001b[0m     \u001b[38;5;28mself\u001b[39m\u001b[38;5;241m.\u001b[39mobj \u001b[38;5;241m=\u001b[39m DataFrame(\n\u001b[0;32m-> 1079\u001b[0m         \u001b[43mloads\u001b[49m\u001b[43m(\u001b[49m\u001b[43mjson\u001b[49m\u001b[43m,\u001b[49m\u001b[43m \u001b[49m\u001b[43mprecise_float\u001b[49m\u001b[38;5;241;43m=\u001b[39;49m\u001b[38;5;28;43mself\u001b[39;49m\u001b[38;5;241;43m.\u001b[39;49m\u001b[43mprecise_float\u001b[49m\u001b[43m)\u001b[49m, dtype\u001b[38;5;241m=\u001b[39m\u001b[38;5;28;01mNone\u001b[39;00m\n\u001b[1;32m   1080\u001b[0m     )\n\u001b[1;32m   1081\u001b[0m \u001b[38;5;28;01melif\u001b[39;00m orient \u001b[38;5;241m==\u001b[39m \u001b[38;5;124m\"\u001b[39m\u001b[38;5;124msplit\u001b[39m\u001b[38;5;124m\"\u001b[39m:\n\u001b[1;32m   1082\u001b[0m     decoded \u001b[38;5;241m=\u001b[39m {\n\u001b[1;32m   1083\u001b[0m         \u001b[38;5;28mstr\u001b[39m(k): v\n\u001b[1;32m   1084\u001b[0m         \u001b[38;5;28;01mfor\u001b[39;00m k, v \u001b[38;5;129;01min\u001b[39;00m loads(json, precise_float\u001b[38;5;241m=\u001b[39m\u001b[38;5;28mself\u001b[39m\u001b[38;5;241m.\u001b[39mprecise_float)\u001b[38;5;241m.\u001b[39mitems()\n\u001b[1;32m   1085\u001b[0m     }\n",
      "\u001b[0;31mValueError\u001b[0m: Trailing data"
     ]
    },
    {
     "ename": "",
     "evalue": "",
     "output_type": "error",
     "traceback": [
      "\u001b[1;31mThe Kernel crashed while executing code in the current cell or a previous cell. \n",
      "\u001b[1;31mPlease review the code in the cell(s) to identify a possible cause of the failure. \n",
      "\u001b[1;31mClick <a href='https://aka.ms/vscodeJupyterKernelCrash'>here</a> for more info. \n",
      "\u001b[1;31mView Jupyter <a href='command:jupyter.viewOutput'>log</a> for further details."
     ]
    }
   ],
   "source": [
    "# data_pth = 'allData/prognosis_mix_hb/pretreatment_response/nor_demo_cli_merge_data.npy'\n",
    "# data = np.load(data_pth, allow_pickle=True)\n",
    "# print(data.shape)\n",
    "\n",
    "# delete the first 60 elements of clinical and clinical_fnirs json and csv\n",
    "main_fold = 'results/ML_results/simple_prediction_response'\n",
    "modalities = ['/clinical_data_and_fnirs_modality_classification/', '/clinical_data_modality_classification/']\n",
    "models_name = ['Naive Bayes', 'Discriminant Analysis(LDA)', 'Random Forest', 'SGDClassifier', 'XGBoost', 'SVM']\n",
    "\n",
    "for modality in modalities:\n",
    "    for model_name in models_name:\n",
    "        result_pth = main_fold + modality + '/' + model_name + '.csv'\n",
    "        \n",
    "        df = pd.read_csv(result_pth)\n",
    "        df = df.iloc[60:]\n",
    "        # df.to_csv(result_pth, index=False)\n",
    "        \n",
    "        detail_pth = main_fold + modality + '/' + model_name + '_pred.json'\n",
    "        df = pd.read_json(detail_pth)\n",
    "        df = df.iloc[:, 60:]\n",
    "        # df.to_json(detail_pth, orient='records', lines=True)\n",
    "        # print(modality, model_name, df.shape)\n",
    "        # print('---')"
   ]
  },
  {
   "cell_type": "code",
   "execution_count": 2,
   "metadata": {},
   "outputs": [],
   "source": [
    "from PIL import Image\n",
    "\n",
    "# Open the image\n",
    "img = Image.open('/Users/shanxiafeng/Desktop/brain.png')\n",
    "\n",
    "# Convert the image to RGBA (if not already in that mode)\n",
    "img = img.convert(\"RGBA\")\n",
    "\n",
    "# Get the data of the image\n",
    "data = img.getdata()\n",
    "\n",
    "# Create a new list for the new data\n",
    "new_data = []\n",
    "\n",
    "# Define the background color you want to make transparent\n",
    "background_color = (255, 255, 255, 255)  # White background\n",
    "\n",
    "# Loop through the data and change the background color to transparent\n",
    "for item in data:\n",
    "    if item[:3] == background_color[:3]:  # Check RGB value (ignore alpha)\n",
    "        new_data.append((255, 255, 255, 0))  # Change to transparent\n",
    "    else:\n",
    "        new_data.append(item)  # Keep original color\n",
    "\n",
    "# Update image data\n",
    "img.putdata(new_data)\n",
    "\n",
    "# Save the image with a new name\n",
    "img.save('FigureTable/manuscript_figures/fig1_brain_image_transparent.png', 'PNG')"
   ]
  },
  {
   "cell_type": "code",
   "execution_count": 1,
   "metadata": {},
   "outputs": [
    {
     "name": "stdout",
     "output_type": "stream",
     "text": [
      "Balanced Accuracy: 0.90625\n",
      "95% Confidence Interval for Random Balanced Accuracy: (0.3267620219562902, 0.6732379780437098)\n",
      "One-tailed Binomial Test p-value: 1.2780074030160904e-06\n"
     ]
    },
    {
     "ename": "",
     "evalue": "",
     "output_type": "error",
     "traceback": [
      "\u001b[1;31mThe Kernel crashed while executing code in the current cell or a previous cell. \n",
      "\u001b[1;31mPlease review the code in the cell(s) to identify a possible cause of the failure. \n",
      "\u001b[1;31mClick <a href='https://aka.ms/vscodeJupyterKernelCrash'>here</a> for more info. \n",
      "\u001b[1;31mView Jupyter <a href='command:jupyter.viewOutput'>log</a> for further details."
     ]
    }
   ],
   "source": [
    "import numpy as np\n",
    "from scipy.stats import binom_test\n",
    "from sklearn.metrics import balanced_accuracy_score\n",
    "from scipy.stats import norm\n",
    "\n",
    "# 假设模型的真实标签和预测标签\n",
    "true_labels = np.array([0, 1, 0, 1, 1, 0, 0, 1, 1, 0, 1, 0, 1, 0, 0, 1, 1, 0, 1, 0, 1, 0, 0, 1, 1, 0, 1, 0, 0, 1, 1, 0])\n",
    "pred_labels = np.array([0, 1, 0, 1, 0, 0, 0, 1, 1, 0, 1, 0, 1, 1, 0, 1, 1, 0, 0, 0, 1, 0, 0, 1, 1, 0, 1, 0, 0, 1, 1, 0])\n",
    "\n",
    "# 计算平衡准确度\n",
    "bAcc = balanced_accuracy_score(true_labels, pred_labels)\n",
    "print(f'Balanced Accuracy: {bAcc}')\n",
    "\n",
    "# 独特测试样本数量\n",
    "n_samples = len(true_labels)\n",
    "\n",
    "# 计算随机情况下的平衡准确度的置信区间\n",
    "# 这里我们假设随机情况下的准确度为0.5\n",
    "p_hat = 0.5\n",
    "\n",
    "# 计算标准误\n",
    "standard_error = np.sqrt(p_hat * (1 - p_hat) / n_samples)\n",
    "\n",
    "# 95% 置信区间\n",
    "z_score = norm.ppf(0.975)  # 对于95%的置信区间\n",
    "ci_lower = p_hat - z_score * standard_error\n",
    "ci_upper = p_hat + z_score * standard_error\n",
    "print(f'95% Confidence Interval for Random Balanced Accuracy: ({ci_lower}, {ci_upper})')\n",
    "\n",
    "# 使用单尾二项检验检验模型的性能是否显著优于随机\n",
    "successes = sum(pred_labels == true_labels)\n",
    "p_value = binom_test(successes, n_samples, p=p_hat, alternative='greater')\n",
    "print(f'One-tailed Binomial Test p-value: {p_value}')"
   ]
  },
  {
   "cell_type": "code",
   "execution_count": 6,
   "metadata": {},
   "outputs": [
    {
     "name": "stdout",
     "output_type": "stream",
     "text": [
      "    random_seed  test_acc  test_auc  test_sen  test_spe  validation_acc  \\\n",
      "0  1.716885e+09  0.349340  0.292868  0.410900  0.287744        0.510728   \n",
      "1  1.716885e+09  0.458960  0.440984  0.452108  0.465812        0.514532   \n",
      "2  1.716885e+09  0.494372  0.477648  0.454536  0.534192        0.518772   \n",
      "3  1.716885e+09  0.491788  0.461704  0.414536  0.569020        0.515196   \n",
      "4  1.716885e+09  0.512576  0.505028  0.430284  0.594836        0.525200   \n",
      "5  1.716885e+09  0.502624  0.491852  0.358760  0.646448        0.514792   \n",
      "6  1.716885e+09  0.502404  0.505136  0.385432  0.619356        0.511696   \n",
      "7  1.716885e+09  0.522044  0.517472  0.436332  0.607736        0.523400   \n",
      "8  1.716885e+09  0.531876  0.522300  0.372084  0.691608        0.526756   \n",
      "\n",
      "   validation_auc  validation_sen  validation_spe  \n",
      "0        0.518668        0.584296        0.437160  \n",
      "1        0.536748        0.507520        0.521540  \n",
      "2        0.551212        0.488680        0.548864  \n",
      "3        0.544628        0.452772        0.577620  \n",
      "4        0.550672        0.463160        0.587252  \n",
      "5        0.538712        0.421376        0.608200  \n",
      "6        0.534792        0.426704        0.596672  \n",
      "7        0.556168        0.433560        0.613236  \n",
      "8        0.557756        0.416884        0.636620  \n"
     ]
    },
    {
     "ename": "",
     "evalue": "",
     "output_type": "error",
     "traceback": [
      "\u001b[1;31mThe Kernel crashed while executing code in the current cell or a previous cell. \n",
      "\u001b[1;31mPlease review the code in the cell(s) to identify a possible cause of the failure. \n",
      "\u001b[1;31mClick <a href='https://aka.ms/vscodeJupyterKernelCrash'>here</a> for more info. \n",
      "\u001b[1;31mView Jupyter <a href='command:jupyter.viewOutput'>log</a> for further details."
     ]
    }
   ],
   "source": [
    "# for i in range(95, 100):\n",
    "mean_df = pd.DataFrame()\n",
    "\n",
    "'results/ML_results/ssimple_prediction_partial_response/fnirs_modality_classification/Naive Bayes0_1.csv'\n",
    "\n",
    "for i in [i/100 for i in range (51, 60)]:#[0.1,0.2,0.3,0.4,0.5,0.6,0.7,0.8,0.9]: #[0.11,0.12,0.13,0.14,0.15,0.16,0.17,0.18,0.19,0.2]+ [0.21,0.22,0.23,0.24,0.25,0.26,0.27,0.28,0.29]: #\n",
    "    i = str(i).replace('.', '_')\n",
    "    # results/ML_results/simple_prediction_partial_response/fnirs_modality_classification/Naive Bayes0_5.csv\n",
    "    # main_path = 'results/ML_results/ssimple_prediction_partial_response/fnirs_modality_classification/Naive Bayes{}.csv'.format(i)# 'results/ML_results/simple_prediction/fnirs_modality_classification/Naive Bayes_{}.csv'.format(i)\n",
    "    main_path = 'results/ML_results/simple_prediction_partial_response/fnirs_modality_classification/SGDClassifier{}.csv'.format(i)\n",
    "    df = pd.read_csv(main_path)\n",
    "    df_mean = df.mean()\n",
    "    mean_df = mean_df.append(df_mean, ignore_index=True)\n",
    "print(mean_df)    \n",
    "    \n",
    "    \n",
    "\n",
    "# # delete low validation_sensitivity row\n",
    "# main_path = 'results/ML_results/simple_prediction/fnirs_modality_classification/Discriminant Analysis(QDA).csv'# 'results/ML_results/simple_prediction/fnirs_modality_classification/Naive Bayes_{}.csv'.format(i)\n",
    "# df = pd.read_csv(main_path)\n",
    "# # Filter out rows where validation_sen is less than 0.5\n",
    "# df_cleaned = df[df['validation_sen'] >= 0.5]\n",
    "# # Save the cleaned DataFrame back to the CSV file\n",
    "# df_cleaned.to_csv(main_path, index=False)\n",
    "# # df_mean = df.mean()\n",
    "# # mean_df = mean_df.append(df_mean, ignore_index=True)\n",
    "# print(mean_df)    "
   ]
  },
  {
   "cell_type": "markdown",
   "metadata": {},
   "source": [
    "results/ML_results/simple_prediction/fnirs_modality_classification/SGDClassifier0_21_pred.csv\n",
    "results/ML_results/simple_prediction/fnirs_modality_classification/SGDClassifier0_21.csv"
   ]
  },
  {
   "cell_type": "code",
   "execution_count": 22,
   "metadata": {},
   "outputs": [
    {
     "name": "stdout",
     "output_type": "stream",
     "text": [
      "    random_seed  validation_acc  validation_sen  validation_spe  \\\n",
      "0    1716702205          0.6609          0.4573          0.8645   \n",
      "1    1716702206          0.6151          0.3594          0.8708   \n",
      "2    1716702967          0.6552          0.4557          0.8546   \n",
      "3    1716702968          0.6335          0.3266          0.9405   \n",
      "4    1716703811          0.6455          0.4115          0.8795   \n",
      "5    1716703812          0.6597          0.4589          0.8606   \n",
      "6    1716704542          0.6224          0.3812          0.8635   \n",
      "7    1716704543          0.6507          0.4573          0.8441   \n",
      "8    1716705398          0.6270          0.3995          0.8546   \n",
      "9    1716705399          0.6200          0.3875          0.8524   \n",
      "10   1716706166          0.6286          0.4078          0.8493   \n",
      "11   1716706167          0.6085          0.3443          0.8728   \n",
      "12   1716707656          0.5695          0.2865          0.8525   \n",
      "15   1716707658          0.6643          0.4516          0.8771   \n",
      "18   1716708371          0.6509          0.4432          0.8586   \n",
      "21   1716708373          0.5972          0.3380          0.8564   \n",
      "24   1716709128          0.6058          0.3172          0.8945   \n",
      "\n",
      "    validation_f1  test_acc  test_sen  test_spe  test_f1  \n",
      "0          0.4218    0.6286    0.4000    0.8571   0.4286  \n",
      "1          0.3584    0.6286    0.4000    0.8571   0.4286  \n",
      "2          0.4107    0.6286    0.4000    0.8571   0.4286  \n",
      "3          0.3934    0.5694    0.2000    0.9388   0.2857  \n",
      "4          0.4227    0.6286    0.4000    0.8571   0.4286  \n",
      "5          0.4431    0.6286    0.4000    0.8571   0.4286  \n",
      "6          0.3530    0.5952    0.3333    0.8571   0.3704  \n",
      "7          0.4338    0.6286    0.4000    0.8571   0.4286  \n",
      "8          0.3909    0.6286    0.4000    0.8571   0.4286  \n",
      "9          0.3733    0.6286    0.4000    0.8571   0.4286  \n",
      "10         0.3789    0.6286    0.4000    0.8571   0.4286  \n",
      "11         0.3977    0.6286    0.4000    0.8571   0.4286  \n",
      "12         0.3148    0.6286    0.4000    0.8571   0.4286  \n",
      "15         0.4328    0.6286    0.4000    0.8571   0.4286  \n",
      "18         0.4119    0.6286    0.4000    0.8571   0.4286  \n",
      "21         0.3565    0.6286    0.4000    0.8571   0.4286  \n",
      "24         0.3364    0.6156    0.3333    0.8980   0.4000  \n"
     ]
    },
    {
     "ename": "",
     "evalue": "",
     "output_type": "error",
     "traceback": [
      "\u001b[1;31mThe Kernel crashed while executing code in the current cell or a previous cell. \n",
      "\u001b[1;31mPlease review the code in the cell(s) to identify a possible cause of the failure. \n",
      "\u001b[1;31mClick <a href='https://aka.ms/vscodeJupyterKernelCrash'>here</a> for more info. \n",
      "\u001b[1;31mView Jupyter <a href='command:jupyter.viewOutput'>log</a> for further details."
     ]
    }
   ],
   "source": [
    "df = pd.read_csv(\"results/ML_results/simple_prediction/fnirs_modality_classification/SVM.csv\")\n",
    "total_rows = len(df)\n",
    "selected_arr = [i for i in range(total_rows) if i % 3 == 0]\n",
    "filter_df = df.iloc[selected_arr]\n",
    "filter_df\n",
    "main_fold = 'results/ML_results/simple_prediction/'\n",
    "modalities = ['fnirs_modality_classification', 'clinical_data_and_fnirs_modality_classification']\n",
    "models = ['KNN', 'MLP', 'Naive Bayes', 'Random Forest', 'SVM', 'XGBoost']\n",
    "for modality in modalities:\n",
    "    for model in models:\n",
    "        pth = main_fold + modality + '/' + model + '.csv'\n",
    "        df = pd.read_csv(pth)\n",
    "        total_rows = len(df)\n",
    "        selected_arr1 = [i for i in range(13)]\n",
    "        selected_arr2 = [i for i in range(13, total_rows) if i % 3 == 0]\n",
    "        selected_arr = selected_arr1 + selected_arr2\n",
    "        filter_df = df.iloc[selected_arr]\n",
    "        print(filter_df)\n",
    "        filter_df.to_csv(pth, index=False)\n",
    "    #     break\n",
    "    # break\n",
    "        # new_rows = len(filter_df)\n",
    "        # selected_rows.to_csv(, index=False)"
   ]
  },
  {
   "cell_type": "code",
   "execution_count": 22,
   "metadata": {},
   "outputs": [],
   "source": [
    "from sklearn.linear_model import Perceptron\n",
    "model = Perceptron(class_weight='balanced')"
   ]
  },
  {
   "cell_type": "code",
   "execution_count": 14,
   "metadata": {},
   "outputs": [
    {
     "ename": "FileNotFoundError",
     "evalue": "[Errno 2] No such file or directory: 'results/ML_results/simple_prediction/clinical_data_and_fnirs_mddr_modality_classification/ten_repeat_nested_cv.npy'",
     "output_type": "error",
     "traceback": [
      "\u001b[0;31m---------------------------------------------------------------------------\u001b[0m",
      "\u001b[0;31mFileNotFoundError\u001b[0m                         Traceback (most recent call last)",
      "Cell \u001b[0;32mIn[14], line 1\u001b[0m\n\u001b[0;32m----> 1\u001b[0m data \u001b[38;5;241m=\u001b[39m \u001b[43mnp\u001b[49m\u001b[38;5;241;43m.\u001b[39;49m\u001b[43mload\u001b[49m\u001b[43m(\u001b[49m\u001b[38;5;124;43m'\u001b[39;49m\u001b[38;5;124;43mresults/ML_results/simple_prediction/clinical_data_and_fnirs_mddr_modality_classification/ten_repeat_nested_cv.npy\u001b[39;49m\u001b[38;5;124;43m'\u001b[39;49m\u001b[43m,\u001b[49m\u001b[43m \u001b[49m\u001b[43mallow_pickle\u001b[49m\u001b[38;5;241;43m=\u001b[39;49m\u001b[38;5;28;43;01mTrue\u001b[39;49;00m\u001b[43m)\u001b[49m    \n\u001b[1;32m      3\u001b[0m model_name \u001b[38;5;241m=\u001b[39m [i \u001b[38;5;28;01mfor\u001b[39;00m i \u001b[38;5;129;01min\u001b[39;00m data\u001b[38;5;241m.\u001b[39mitem()[\u001b[38;5;241m0\u001b[39m][\u001b[38;5;124m'\u001b[39m\u001b[38;5;124minner_result\u001b[39m\u001b[38;5;124m'\u001b[39m]]\n\u001b[1;32m      4\u001b[0m model_name\n",
      "File \u001b[0;32m~/miniconda3/envs/tf/lib/python3.9/site-packages/numpy/lib/npyio.py:407\u001b[0m, in \u001b[0;36mload\u001b[0;34m(file, mmap_mode, allow_pickle, fix_imports, encoding)\u001b[0m\n\u001b[1;32m    405\u001b[0m     own_fid \u001b[38;5;241m=\u001b[39m \u001b[38;5;28;01mFalse\u001b[39;00m\n\u001b[1;32m    406\u001b[0m \u001b[38;5;28;01melse\u001b[39;00m:\n\u001b[0;32m--> 407\u001b[0m     fid \u001b[38;5;241m=\u001b[39m stack\u001b[38;5;241m.\u001b[39menter_context(\u001b[38;5;28;43mopen\u001b[39;49m\u001b[43m(\u001b[49m\u001b[43mos_fspath\u001b[49m\u001b[43m(\u001b[49m\u001b[43mfile\u001b[49m\u001b[43m)\u001b[49m\u001b[43m,\u001b[49m\u001b[43m \u001b[49m\u001b[38;5;124;43m\"\u001b[39;49m\u001b[38;5;124;43mrb\u001b[39;49m\u001b[38;5;124;43m\"\u001b[39;49m\u001b[43m)\u001b[49m)\n\u001b[1;32m    408\u001b[0m     own_fid \u001b[38;5;241m=\u001b[39m \u001b[38;5;28;01mTrue\u001b[39;00m\n\u001b[1;32m    410\u001b[0m \u001b[38;5;66;03m# Code to distinguish from NumPy binary files and pickles.\u001b[39;00m\n",
      "\u001b[0;31mFileNotFoundError\u001b[0m: [Errno 2] No such file or directory: 'results/ML_results/simple_prediction/clinical_data_and_fnirs_mddr_modality_classification/ten_repeat_nested_cv.npy'"
     ]
    }
   ],
   "source": [
    "data = np.load('results/ML_results/simple_prediction/clinical_data_and_fnirs_mddr_modality_classification/ten_repeat_nested_cv.npy', allow_pickle=True)    \n",
    "\n",
    "model_name = [i for i in data.item()[0]['inner_result']]\n",
    "model_name\n",
    "\n",
    "# headers = [\"random_seed\", \"validation_acc\", \"validation_sen\", \"validation_spe\", \"validation_f1\",\n",
    "#            \"test_acc\", \"test_sen\", \"test_spe\", \"test_f1\"]\n",
    "\n",
    "# save_fold = 'results/ML_results/simple_prediction/clinical_data_and_fnirs_modality_classification/'\n",
    "\n",
    "# def save_into_csv(csv_filename, arr):\n",
    "#     df = pd.DataFrame([arr], columns=headers)\n",
    "#     file_exists = os.path.isfile(csv_filename)\n",
    "#     if not file_exists:\n",
    "#         # If file does not exist, write data with headers   \n",
    "#         df.to_csv(csv_filename, index=False, mode='w')\n",
    "#         print(f\"Data saved to {csv_filename} with headers.\")\n",
    "#     else:\n",
    "#         # If file exists, append data without headers\n",
    "#         df.to_csv(csv_filename, index=False, mode='a', header=False)\n",
    "#         print(f\"Data appended to {csv_filename} without headers.\")\n",
    "        \n",
    "# for model in model_name:\n",
    "#     val_result = [val for key, val in data.item()[0]['inner_result'][model].items()]\n",
    "#     test_result = [val for key, val in data.item()[0]['external_result'][model].items()]\n",
    "#     val_test_arr = [42] +  val_result + test_result\n",
    "    \n",
    "#     save_path = save_fold + model + '.csv'\n",
    "#     save_into_csv(save_path, val_test_arr)\n",
    "    \n",
    "    \n",
    "#     print(val_test_arr)\n",
    "pass"
   ]
  },
  {
   "cell_type": "code",
   "execution_count": 10,
   "metadata": {},
   "outputs": [
    {
     "name": "stdout",
     "output_type": "stream",
     "text": [
      "PT036\n"
     ]
    },
    {
     "data": {
      "text/plain": [
       "70"
      ]
     },
     "execution_count": 10,
     "metadata": {},
     "output_type": "execute_result"
    }
   ],
   "source": [
    "fold = 'allData/RawData/Baseline_fnirs/Patients'\n",
    "os.listdir(fold)\n",
    "subject_name = [i[:5] for i in os.listdir(fold) if i[:2] == 'PT']\n",
    "subject_name = list(subject_name)\n",
    "subject_name = list(set(subject_name))\n",
    "for name in subject_name:\n",
    "    if name[-3:] == '036':\n",
    "        print(name)\n",
    "\n",
    "len(subject_name)"
   ]
  },
  {
   "cell_type": "markdown",
   "metadata": {},
   "source": []
  },
  {
   "cell_type": "code",
   "execution_count": 44,
   "metadata": {},
   "outputs": [
    {
     "name": "stdout",
     "output_type": "stream",
     "text": [
      "\n",
      "## Inner Cross-Validation Performance\n",
      "| Classifier | Average bAcc | Average Sensitivity | Average Specificity | Average F1 Score |\n",
      "|------------|-----------------|------------------|---------------------|---------------------|\n",
      "| SVM | 0.4072 | 0.4036 | 0.4108 | 0.2267 |\n",
      "| XGBoost | 0.5250 | 0.4318 | 0.6182 | 0.3032 |\n",
      "| Naive Bayes | 0.4376 | 0.7052 | 0.1700 | 0.3037 |\n",
      "\n",
      "## Outer Cross-Validation Performance\n",
      "| Classifier | Average bAcc | Average Sensitivity | Average Specificity | Average F1 Score |\n",
      "|------------|-----------------|------------------|---------------------|---------------------|\n",
      "| SVM | 0.2929 | 0.2857 | 0.3000 | 0.1509 |\n",
      "| XGBoost | 0.5043 | 0.4286 | 0.5800 | 0.2927 |\n",
      "| Naive Bayes | 0.4843 | 0.9286 | 0.0400 | 0.3467 |\n"
     ]
    },
    {
     "ename": "",
     "evalue": "",
     "output_type": "error",
     "traceback": [
      "\u001b[1;31mThe Kernel crashed while executing code in the current cell or a previous cell. \n",
      "\u001b[1;31mPlease review the code in the cell(s) to identify a possible cause of the failure. \n",
      "\u001b[1;31mClick <a href='https://aka.ms/vscodeJupyterKernelCrash'>here</a> for more info. \n",
      "\u001b[1;31mView Jupyter <a href='command:jupyter.viewOutput'>log</a> for further details."
     ]
    }
   ],
   "source": [
    "result = 'results/ML_results/simple_prediction/clinical_data_modality_classification/ten_repeat_nested_cv.npy'\n",
    "result = np.load(result, allow_pickle=True)\n",
    "result = result.item()\n",
    "# for key, value in result.items():\n",
    "#     print(key)\n",
    "#     print(value)\n",
    "#     print('--------------------------------------')\n",
    "classifiers_name = list(result[0]['external_result'].keys())\n",
    "metrics = list(result[0]['external_result'][classifiers_name[0]].keys())\n",
    "\n",
    "avg_inner_result = {classifier_name: {metric: [] for metric in metrics} for classifier_name in classifiers_name}\n",
    "avg_external_result = {classifier_name: {metric: [] for metric in metrics} for classifier_name in classifiers_name}\n",
    "\n",
    "\n",
    "for classifier in classifiers_name:\n",
    "    for metric in metrics:\n",
    "\n",
    "        avg_inner_result[classifier][metric] = [result[i]['inner_result'][classifier][metric] for i in range(10)]\n",
    "        avg_external_result[classifier][metric] = [result[i]['external_result'][classifier][metric] for i in range(10)]\n",
    "\n",
    "print(\"\\n## Inner Cross-Validation Performance\")\n",
    "print(\"| Classifier | Average bAcc | Average Sensitivity | Average Specificity | Average F1 Score |\")\n",
    "print(\"|------------|-----------------|------------------|---------------------|---------------------|\")\n",
    "for name, metrics in avg_inner_result.items():\n",
    "    avg_metrics = {metric: np.mean(scores) for metric, scores in metrics.items()}\n",
    "    print(f\"| {name} | {avg_metrics['balanced accuracy']:.4f} | {avg_metrics['sensitivity']:.4f} | {avg_metrics['specificity']:.4f} | {avg_metrics['f1 score']:.4f} |\")\n",
    "\n",
    "print(\"\\n## Outer Cross-Validation Performance\")\n",
    "print(\"| Classifier | Average bAcc | Average Sensitivity | Average Specificity | Average F1 Score |\")\n",
    "print(\"|------------|-----------------|------------------|---------------------|---------------------|\")\n",
    "for name, metrics in avg_external_result.items():\n",
    "    avg_metrics = {metric: np.mean(scores) for metric, scores in metrics.items()}\n",
    "\n",
    "    print(f\"| {name} | {avg_metrics['balanced accuracy']:.4f} | {avg_metrics['sensitivity']:.4f} | {avg_metrics['specificity']:.4f} | {avg_metrics['f1 score']:.4f} |\")\n",
    "                                                    \n",
    "                                                   "
   ]
  },
  {
   "cell_type": "code",
   "execution_count": 18,
   "metadata": {},
   "outputs": [
    {
     "data": {
      "text/plain": [
       "['SVM', 'XGBoost', 'Naive Bayes']"
      ]
     },
     "execution_count": 18,
     "metadata": {},
     "output_type": "execute_result"
    }
   ],
   "source": [
    "classifiers_name"
   ]
  },
  {
   "cell_type": "code",
   "execution_count": 17,
   "metadata": {},
   "outputs": [
    {
     "data": {
      "text/plain": [
       "{'balanced accuracy': 0.4072395833333333,\n",
       " 'sensitivity': 0.40364583333333326,\n",
       " 'specificity': 0.4108333333333333,\n",
       " 'f1 score': 0.22672896547896548}"
      ]
     },
     "execution_count": 17,
     "metadata": {},
     "output_type": "execute_result"
    }
   ],
   "source": [
    "result[0]['inner_result']['SVM']"
   ]
  },
  {
   "cell_type": "code",
   "execution_count": 13,
   "metadata": {},
   "outputs": [
    {
     "data": {
      "text/plain": [
       "[0,\n",
       " 0,\n",
       " 0,\n",
       " 0,\n",
       " 0,\n",
       " 0,\n",
       " 0,\n",
       " 0,\n",
       " 0,\n",
       " 0,\n",
       " 1,\n",
       " 1,\n",
       " 1,\n",
       " 1,\n",
       " 1,\n",
       " 1,\n",
       " 1,\n",
       " 1,\n",
       " 1,\n",
       " 1,\n",
       " 2,\n",
       " 2,\n",
       " 2,\n",
       " 2,\n",
       " 2,\n",
       " 2,\n",
       " 2,\n",
       " 2,\n",
       " 2,\n",
       " 2,\n",
       " 3,\n",
       " 3,\n",
       " 3,\n",
       " 3,\n",
       " 3,\n",
       " 3,\n",
       " 3,\n",
       " 3,\n",
       " 3,\n",
       " 3,\n",
       " 4,\n",
       " 4,\n",
       " 4,\n",
       " 4,\n",
       " 4,\n",
       " 4,\n",
       " 4,\n",
       " 4,\n",
       " 4,\n",
       " 4,\n",
       " 5,\n",
       " 5,\n",
       " 5,\n",
       " 5,\n",
       " 5,\n",
       " 5,\n",
       " 5,\n",
       " 5,\n",
       " 5,\n",
       " 5,\n",
       " 6,\n",
       " 6,\n",
       " 6,\n",
       " 6,\n",
       " 6,\n",
       " 6,\n",
       " 6,\n",
       " 6,\n",
       " 6,\n",
       " 6,\n",
       " 7,\n",
       " 7,\n",
       " 7,\n",
       " 7,\n",
       " 7,\n",
       " 7,\n",
       " 7,\n",
       " 7,\n",
       " 7,\n",
       " 7,\n",
       " 8,\n",
       " 8,\n",
       " 8,\n",
       " 8,\n",
       " 8,\n",
       " 8,\n",
       " 8,\n",
       " 8,\n",
       " 8,\n",
       " 8,\n",
       " 9,\n",
       " 9,\n",
       " 9,\n",
       " 9,\n",
       " 9,\n",
       " 9,\n",
       " 9,\n",
       " 9,\n",
       " 9,\n",
       " 9]"
      ]
     },
     "execution_count": 13,
     "metadata": {},
     "output_type": "execute_result"
    }
   ],
   "source": [
    "[i for i in range(10) for j in range(10)]"
   ]
  },
  {
   "cell_type": "code",
   "execution_count": 10,
   "metadata": {},
   "outputs": [
    {
     "name": "stdout",
     "output_type": "stream",
     "text": [
      "(10, 64, 2)\n"
     ]
    },
    {
     "ename": "ValueError",
     "evalue": "Found input variables with inconsistent numbers of samples: [64, 640]",
     "output_type": "error",
     "traceback": [
      "\u001b[0;31m---------------------------------------------------------------------------\u001b[0m",
      "\u001b[0;31mValueError\u001b[0m                                Traceback (most recent call last)",
      "Cell \u001b[0;32mIn[10], line 13\u001b[0m\n\u001b[1;32m     10\u001b[0m y_true \u001b[38;5;241m=\u001b[39m label\u001b[38;5;241m.\u001b[39mflatten()\n\u001b[1;32m     12\u001b[0m \u001b[38;5;66;03m# Calculate ROC curve and AUC\u001b[39;00m\n\u001b[0;32m---> 13\u001b[0m fpr, tpr, thresholds \u001b[38;5;241m=\u001b[39m \u001b[43mroc_curve\u001b[49m\u001b[43m(\u001b[49m\u001b[43my_true\u001b[49m\u001b[43m,\u001b[49m\u001b[43m \u001b[49m\u001b[43my_scores\u001b[49m\u001b[43m)\u001b[49m\n\u001b[1;32m     14\u001b[0m roc_auc \u001b[38;5;241m=\u001b[39m auc(fpr, tpr)\n\u001b[1;32m     16\u001b[0m \u001b[38;5;66;03m# Plot ROC curve\u001b[39;00m\n",
      "File \u001b[0;32m~/miniconda3/envs/tf/lib/python3.9/site-packages/sklearn/utils/validation.py:63\u001b[0m, in \u001b[0;36m_deprecate_positional_args.<locals>._inner_deprecate_positional_args.<locals>.inner_f\u001b[0;34m(*args, **kwargs)\u001b[0m\n\u001b[1;32m     61\u001b[0m extra_args \u001b[38;5;241m=\u001b[39m \u001b[38;5;28mlen\u001b[39m(args) \u001b[38;5;241m-\u001b[39m \u001b[38;5;28mlen\u001b[39m(all_args)\n\u001b[1;32m     62\u001b[0m \u001b[38;5;28;01mif\u001b[39;00m extra_args \u001b[38;5;241m<\u001b[39m\u001b[38;5;241m=\u001b[39m \u001b[38;5;241m0\u001b[39m:\n\u001b[0;32m---> 63\u001b[0m     \u001b[38;5;28;01mreturn\u001b[39;00m \u001b[43mf\u001b[49m\u001b[43m(\u001b[49m\u001b[38;5;241;43m*\u001b[39;49m\u001b[43margs\u001b[49m\u001b[43m,\u001b[49m\u001b[43m \u001b[49m\u001b[38;5;241;43m*\u001b[39;49m\u001b[38;5;241;43m*\u001b[39;49m\u001b[43mkwargs\u001b[49m\u001b[43m)\u001b[49m\n\u001b[1;32m     65\u001b[0m \u001b[38;5;66;03m# extra_args > 0\u001b[39;00m\n\u001b[1;32m     66\u001b[0m args_msg \u001b[38;5;241m=\u001b[39m [\u001b[38;5;124m'\u001b[39m\u001b[38;5;132;01m{}\u001b[39;00m\u001b[38;5;124m=\u001b[39m\u001b[38;5;132;01m{}\u001b[39;00m\u001b[38;5;124m'\u001b[39m\u001b[38;5;241m.\u001b[39mformat(name, arg)\n\u001b[1;32m     67\u001b[0m             \u001b[38;5;28;01mfor\u001b[39;00m name, arg \u001b[38;5;129;01min\u001b[39;00m \u001b[38;5;28mzip\u001b[39m(kwonly_args[:extra_args],\n\u001b[1;32m     68\u001b[0m                                  args[\u001b[38;5;241m-\u001b[39mextra_args:])]\n",
      "File \u001b[0;32m~/miniconda3/envs/tf/lib/python3.9/site-packages/sklearn/metrics/_ranking.py:913\u001b[0m, in \u001b[0;36mroc_curve\u001b[0;34m(y_true, y_score, pos_label, sample_weight, drop_intermediate)\u001b[0m\n\u001b[1;32m    826\u001b[0m \u001b[38;5;129m@_deprecate_positional_args\u001b[39m\n\u001b[1;32m    827\u001b[0m \u001b[38;5;28;01mdef\u001b[39;00m \u001b[38;5;21mroc_curve\u001b[39m(y_true, y_score, \u001b[38;5;241m*\u001b[39m, pos_label\u001b[38;5;241m=\u001b[39m\u001b[38;5;28;01mNone\u001b[39;00m, sample_weight\u001b[38;5;241m=\u001b[39m\u001b[38;5;28;01mNone\u001b[39;00m,\n\u001b[1;32m    828\u001b[0m               drop_intermediate\u001b[38;5;241m=\u001b[39m\u001b[38;5;28;01mTrue\u001b[39;00m):\n\u001b[1;32m    829\u001b[0m \u001b[38;5;250m    \u001b[39m\u001b[38;5;124;03m\"\"\"Compute Receiver operating characteristic (ROC).\u001b[39;00m\n\u001b[1;32m    830\u001b[0m \n\u001b[1;32m    831\u001b[0m \u001b[38;5;124;03m    Note: this implementation is restricted to the binary classification task.\u001b[39;00m\n\u001b[0;32m   (...)\u001b[0m\n\u001b[1;32m    911\u001b[0m \n\u001b[1;32m    912\u001b[0m \u001b[38;5;124;03m    \"\"\"\u001b[39;00m\n\u001b[0;32m--> 913\u001b[0m     fps, tps, thresholds \u001b[38;5;241m=\u001b[39m \u001b[43m_binary_clf_curve\u001b[49m\u001b[43m(\u001b[49m\n\u001b[1;32m    914\u001b[0m \u001b[43m        \u001b[49m\u001b[43my_true\u001b[49m\u001b[43m,\u001b[49m\u001b[43m \u001b[49m\u001b[43my_score\u001b[49m\u001b[43m,\u001b[49m\u001b[43m \u001b[49m\u001b[43mpos_label\u001b[49m\u001b[38;5;241;43m=\u001b[39;49m\u001b[43mpos_label\u001b[49m\u001b[43m,\u001b[49m\u001b[43m \u001b[49m\u001b[43msample_weight\u001b[49m\u001b[38;5;241;43m=\u001b[39;49m\u001b[43msample_weight\u001b[49m\u001b[43m)\u001b[49m\n\u001b[1;32m    916\u001b[0m     \u001b[38;5;66;03m# Attempt to drop thresholds corresponding to points in between and\u001b[39;00m\n\u001b[1;32m    917\u001b[0m     \u001b[38;5;66;03m# collinear with other points. These are always suboptimal and do not\u001b[39;00m\n\u001b[1;32m    918\u001b[0m     \u001b[38;5;66;03m# appear on a plotted ROC curve (and thus do not affect the AUC).\u001b[39;00m\n\u001b[0;32m   (...)\u001b[0m\n\u001b[1;32m    923\u001b[0m     \u001b[38;5;66;03m# but does not drop more complicated cases like fps = [1, 3, 7],\u001b[39;00m\n\u001b[1;32m    924\u001b[0m     \u001b[38;5;66;03m# tps = [1, 2, 4]; there is no harm in keeping too many thresholds.\u001b[39;00m\n\u001b[1;32m    925\u001b[0m     \u001b[38;5;28;01mif\u001b[39;00m drop_intermediate \u001b[38;5;129;01mand\u001b[39;00m \u001b[38;5;28mlen\u001b[39m(fps) \u001b[38;5;241m>\u001b[39m \u001b[38;5;241m2\u001b[39m:\n",
      "File \u001b[0;32m~/miniconda3/envs/tf/lib/python3.9/site-packages/sklearn/metrics/_ranking.py:693\u001b[0m, in \u001b[0;36m_binary_clf_curve\u001b[0;34m(y_true, y_score, pos_label, sample_weight)\u001b[0m\n\u001b[1;32m    689\u001b[0m \u001b[38;5;28;01mif\u001b[39;00m \u001b[38;5;129;01mnot\u001b[39;00m (y_type \u001b[38;5;241m==\u001b[39m \u001b[38;5;124m\"\u001b[39m\u001b[38;5;124mbinary\u001b[39m\u001b[38;5;124m\"\u001b[39m \u001b[38;5;129;01mor\u001b[39;00m\n\u001b[1;32m    690\u001b[0m         (y_type \u001b[38;5;241m==\u001b[39m \u001b[38;5;124m\"\u001b[39m\u001b[38;5;124mmulticlass\u001b[39m\u001b[38;5;124m\"\u001b[39m \u001b[38;5;129;01mand\u001b[39;00m pos_label \u001b[38;5;129;01mis\u001b[39;00m \u001b[38;5;129;01mnot\u001b[39;00m \u001b[38;5;28;01mNone\u001b[39;00m)):\n\u001b[1;32m    691\u001b[0m     \u001b[38;5;28;01mraise\u001b[39;00m \u001b[38;5;167;01mValueError\u001b[39;00m(\u001b[38;5;124m\"\u001b[39m\u001b[38;5;132;01m{0}\u001b[39;00m\u001b[38;5;124m format is not supported\u001b[39m\u001b[38;5;124m\"\u001b[39m\u001b[38;5;241m.\u001b[39mformat(y_type))\n\u001b[0;32m--> 693\u001b[0m \u001b[43mcheck_consistent_length\u001b[49m\u001b[43m(\u001b[49m\u001b[43my_true\u001b[49m\u001b[43m,\u001b[49m\u001b[43m \u001b[49m\u001b[43my_score\u001b[49m\u001b[43m,\u001b[49m\u001b[43m \u001b[49m\u001b[43msample_weight\u001b[49m\u001b[43m)\u001b[49m\n\u001b[1;32m    694\u001b[0m y_true \u001b[38;5;241m=\u001b[39m column_or_1d(y_true)\n\u001b[1;32m    695\u001b[0m y_score \u001b[38;5;241m=\u001b[39m column_or_1d(y_score)\n",
      "File \u001b[0;32m~/miniconda3/envs/tf/lib/python3.9/site-packages/sklearn/utils/validation.py:262\u001b[0m, in \u001b[0;36mcheck_consistent_length\u001b[0;34m(*arrays)\u001b[0m\n\u001b[1;32m    260\u001b[0m uniques \u001b[38;5;241m=\u001b[39m np\u001b[38;5;241m.\u001b[39munique(lengths)\n\u001b[1;32m    261\u001b[0m \u001b[38;5;28;01mif\u001b[39;00m \u001b[38;5;28mlen\u001b[39m(uniques) \u001b[38;5;241m>\u001b[39m \u001b[38;5;241m1\u001b[39m:\n\u001b[0;32m--> 262\u001b[0m     \u001b[38;5;28;01mraise\u001b[39;00m \u001b[38;5;167;01mValueError\u001b[39;00m(\u001b[38;5;124m\"\u001b[39m\u001b[38;5;124mFound input variables with inconsistent numbers of\u001b[39m\u001b[38;5;124m\"\u001b[39m\n\u001b[1;32m    263\u001b[0m                      \u001b[38;5;124m\"\u001b[39m\u001b[38;5;124m samples: \u001b[39m\u001b[38;5;132;01m%r\u001b[39;00m\u001b[38;5;124m\"\u001b[39m \u001b[38;5;241m%\u001b[39m [\u001b[38;5;28mint\u001b[39m(l) \u001b[38;5;28;01mfor\u001b[39;00m l \u001b[38;5;129;01min\u001b[39;00m lengths])\n",
      "\u001b[0;31mValueError\u001b[0m: Found input variables with inconsistent numbers of samples: [64, 640]"
     ]
    }
   ],
   "source": [
    "mddr_pth = 'allData/prognosis_mix_hb/pretreatment_response/MDDR/MDDR_derived_from_load_evaluate.npy'\n",
    "label_pth = 'allData/prognosis_mix_hb/pretreatment_response/label.npy'\n",
    "\n",
    "mddr = np.load(mddr_pth)\n",
    "label = np.load(label_pth)\n",
    "print(mddr.shape)\n",
    "\n",
    "# Extract the predictions for the second output dimension\n",
    "y_scores = mddr[..., 1].flatten()\n",
    "y_true = label.flatten()\n",
    "\n",
    "# Calculate ROC curve and AUC\n",
    "fpr, tpr, thresholds = roc_curve(y_true, y_scores)\n",
    "roc_auc = auc(fpr, tpr)\n",
    "\n",
    "# Plot ROC curve\n",
    "plt.figure()\n",
    "plt.plot(fpr, tpr, color='darkorange', lw=2, label='ROC curve (area = %0.2f)' % roc_auc)\n",
    "plt.plot([0, 1], [0, 1], color='navy', lw=2, linestyle='--')\n",
    "plt.xlim([0.0, 1.0])\n",
    "plt.ylim([0.0, 1.05])\n",
    "plt.xlabel('False Positive Rate')\n",
    "plt.ylabel('True Positive Rate')\n",
    "plt.title('Receiver Operating Characteristic (ROC)')\n",
    "plt.legend(loc=\"lower right\")\n",
    "plt.show()\n"
   ]
  },
  {
   "cell_type": "code",
   "execution_count": 2,
   "metadata": {},
   "outputs": [
    {
     "name": "stdout",
     "output_type": "stream",
     "text": [
      "[0. 0. 0. 0. 0. 0. 0. 0. 0. 0. 0. 0. 0. 0. 1. 0. 0. 0. 0. 0. 1. 0. 1. 0.\n",
      " 0. 1. 1. 0. 0. 0. 0. 0. 0. 0. 0. 0. 0. 0. 1. 1. 0. 1. 0. 0. 0. 1. 0. 1.\n",
      " 1. 0. 0. 0. 0. 0. 0. 1. 1. 0. 0. 0. 1. 0. 0. 0.]\n",
      "[-0.24       -0.33333333 -0.25925926 -0.25        0.58823529  0.5\n",
      "  0.13333333  0.38095238 -0.13636364 -0.19047619 -0.28571429 -0.23809524\n",
      "  0.52631579 -0.06666667 -0.56521739 -0.38095238  0.         -0.44444444\n",
      " -0.4         0.26315789 -0.66666667 -0.36       -0.86363636 -0.33333333\n",
      " -0.43333333 -0.76       -0.5        -0.16666667 -0.42307692 -0.25\n",
      " -0.04347826  0.125      -0.25       -0.25       -0.08333333 -0.08\n",
      " -0.36363636 -0.04761905 -0.6875     -0.5483871  -0.03846154 -0.56521739\n",
      "  0.          0.16666667 -0.13043478 -0.61904762  0.06666667 -0.71428571\n",
      " -0.56521739 -0.34615385  0.33333333  0.63157895 -0.375       0.6\n",
      " -0.125      -0.5        -0.53846154 -0.17647059  0.14285714  0.5\n",
      " -1.          0.         -0.25       -0.31578947]\n"
     ]
    }
   ],
   "source": [
    "label_pth = 'allData/prognosis_mix_hb/pretreatment_response/label.npy'\n",
    "label = np.load(label_pth)\n",
    "print(label)\n",
    "\n",
    "response_pth = 'allData/prognosis_mix_hb/pretreatment_response/label_hamd.npy'\n",
    "response = np.load(response_pth)\n",
    "response = (response[:, 1] - response[:, 0]) / response[:, 0]\n",
    "print(response)\n",
    "# np.save('allData/prognosis_mix_hb/pretreatment_response/label_reduce_percentage.npy', response)"
   ]
  },
  {
   "cell_type": "code",
   "execution_count": 11,
   "metadata": {},
   "outputs": [
    {
     "data": {
      "text/plain": [
       "'label.npy'"
      ]
     },
     "execution_count": 11,
     "metadata": {},
     "output_type": "execute_result"
    }
   ],
   "source": [
    "parameter = {'label_pathx': 'xxxlabel.npy'}\n",
    "label_pth = parameter.get('label_path', 'label.npy')\n",
    "label_pth"
   ]
  },
  {
   "cell_type": "code",
   "execution_count": 48,
   "metadata": {},
   "outputs": [
    {
     "data": {
      "text/plain": [
       "['clinical only',\n",
       " 'fnirs only',\n",
       " 'clinical + fnirs',\n",
       " 'fnirs only',\n",
       " 'clinical + fnirs',\n",
       " 'fnirs only',\n",
       " 'clinical + fnirs']"
      ]
     },
     "execution_count": 48,
     "metadata": {},
     "output_type": "execute_result"
    },
    {
     "ename": "",
     "evalue": "",
     "output_type": "error",
     "traceback": [
      "\u001b[1;31mThe Kernel crashed while executing code in the current cell or a previous cell. \n",
      "\u001b[1;31mPlease review the code in the cell(s) to identify a possible cause of the failure. \n",
      "\u001b[1;31mClick <a href='https://aka.ms/vscodeJupyterKernelCrash'>here</a> for more info. \n",
      "\u001b[1;31mView Jupyter <a href='command:jupyter.viewOutput'>log</a> for further details."
     ]
    }
   ],
   "source": [
    "modalities = ['clinical only'] + ['fnirs only', 'clinical + fnirs']*3\n",
    "modalities"
   ]
  },
  {
   "cell_type": "markdown",
   "metadata": {},
   "source": []
  },
  {
   "cell_type": "code",
   "execution_count": 12,
   "metadata": {},
   "outputs": [
    {
     "name": "stdout",
     "output_type": "stream",
     "text": [
      "sub: 8, k: 4, indx_max: 0\n",
      "loss            39.555698\n",
      "accuracy         0.480769\n",
      "val_loss        38.915871\n",
      "val_accuracy     0.818182\n",
      "lr               0.000000\n",
      "Name: 0, dtype: float64\n",
      "sub: 21, k: 4, indx_max: 0\n",
      "loss            39.624126\n",
      "accuracy         0.673077\n",
      "val_loss        38.984299\n",
      "val_accuracy     0.818182\n",
      "lr               0.000000\n",
      "Name: 0, dtype: float64\n",
      "sub: 36, k: 3, indx_max: 0\n",
      "loss            39.655571\n",
      "accuracy         0.461538\n",
      "val_loss        39.015739\n",
      "val_accuracy     0.909091\n",
      "lr               0.000000\n",
      "Name: 0, dtype: float64\n",
      "sub: 36, k: 4, indx_max: 0\n",
      "loss            39.532921\n",
      "accuracy         0.384615\n",
      "val_loss        38.893089\n",
      "val_accuracy     0.636364\n",
      "lr               0.000000\n",
      "Name: 0, dtype: float64\n",
      "sub: 41, k: 3, indx_max: 0\n",
      "loss            39.691719\n",
      "accuracy         0.490196\n",
      "val_loss        39.093712\n",
      "val_accuracy     0.666667\n",
      "lr               0.000000\n",
      "Name: 0, dtype: float64\n",
      "sub: 43, k: 0, indx_max: 0\n",
      "loss            39.515278\n",
      "accuracy         0.423077\n",
      "val_loss        38.875450\n",
      "val_accuracy     0.818182\n",
      "lr               0.000000\n",
      "Name: 0, dtype: float64\n",
      "sub: 48, k: 3, indx_max: 0\n",
      "loss            39.513863\n",
      "accuracy         0.509804\n",
      "val_loss        38.915852\n",
      "val_accuracy     0.750000\n",
      "lr               0.000000\n",
      "Name: 0, dtype: float64\n",
      "sub: 51, k: 0, indx_max: 0\n",
      "loss            39.630939\n",
      "accuracy         0.500000\n",
      "val_loss        38.991104\n",
      "val_accuracy     0.818182\n",
      "lr               0.000000\n",
      "Name: 0, dtype: float64\n",
      "sub: 52, k: 3, indx_max: 0\n",
      "loss            39.601807\n",
      "accuracy         0.519231\n",
      "val_loss        38.961975\n",
      "val_accuracy     0.909091\n",
      "lr               0.000000\n",
      "Name: 0, dtype: float64\n",
      "sub: 56, k: 3, indx_max: 0\n",
      "loss            39.572815\n",
      "accuracy         0.450980\n",
      "val_loss        38.974808\n",
      "val_accuracy     0.583333\n",
      "lr               0.000000\n",
      "Name: 0, dtype: float64\n",
      "sub: 60, k: 1, indx_max: 0\n",
      "loss            39.422398\n",
      "accuracy         0.392157\n",
      "val_loss        38.824390\n",
      "val_accuracy     0.916667\n",
      "lr               0.000000\n",
      "Name: 0, dtype: float64\n"
     ]
    },
    {
     "data": {
      "image/png": "[encoded data removed]",
      "text/plain": [
       "<Figure size 1000x500 with 2 Axes>"
      ]
     },
     "metadata": {},
     "output_type": "display_data"
    }
   ],
   "source": [
    "from scripts.result_analysis.model_analysis import model_result\n",
    "import os\n",
    "import pandas as pd\n",
    "import matplotlib.pyplot as plt\n",
    "\n",
    "\n",
    "\n",
    "\n",
    "show_max_epoch_idxmax(main_path = 'results/gnn_transformer/prognosis_mix_hb/pretreatment_response/loocv_v4l1_rate_0.01_l2_rate_0.001_d_model_16_batch_size_64_n_layers_6/LOO_nested_CV/LOO_')\n",
    "\n"
   ]
  },
  {
   "cell_type": "code",
   "execution_count": 2,
   "metadata": {},
   "outputs": [
    {
     "data": {
      "image/png": "[encoded data removed]",
      "text/plain": [
       "<Figure size 1000x500 with 2 Axes>"
      ]
     },
     "metadata": {},
     "output_type": "display_data"
    }
   ],
   "source": [
    "import os\n",
    "import pandas as pd\n",
    "import matplotlib.pyplot as plt\n",
    "\n",
    "max_epoch_arr = []\n",
    "idxmax_arr = []\n",
    "\n",
    "main_path = 'results/gnn_transformer_with_cli_demo/prognosis_mix_hb/pretreatment_response/loocv_v0l1_rate_0.01_l2_rate_0.001_d_model_16_batch_size_64_n_layers_6/LOO_nested_CV/LOO_'\n",
    "\n",
    "TOTAL_SUBJECT = 64\n",
    "NUM_OF_K_FOLD = 5 \n",
    "history_file_name = 'history.csv'\n",
    "best_model_based_metric = 'val_accuracy'\n",
    "inner_fold_name = 'stratified_nested_5_CV_fold-'\n",
    "\n",
    "for sub in range(TOTAL_SUBJECT):\n",
    "    for k in range(NUM_OF_K_FOLD):\n",
    "        fold_path = main_path + str(sub) + '/' + inner_fold_name + str(k)\n",
    "        file_path = fold_path + '/' + history_file_name\n",
    "        if os.path.exists(file_path):\n",
    "            res = pd.read_csv(file_path)\n",
    "            max_index = len(res[best_model_based_metric]) # \n",
    "            indx_max = res[best_model_based_metric].idxmax()\n",
    "            max_epoch_arr.append(max_index)\n",
    "            idxmax_arr.append(indx_max)\n",
    "            \n",
    "fig, axs = plt.subplots(1, 2, figsize=(10, 5))\n",
    "axs[0].hist(max_epoch_arr, bins=100)\n",
    "axs[0].set_title('max_epoch_arr')\n",
    "axs[1].hist(idxmax_arr, bins=100)\n",
    "axs[1].set_title('idxmax_arr')\n",
    "for i in range(2):\n",
    "    axs[i].set_xlabel('Epochs')\n",
    "    axs[i].set_ylabel('Frequency')"
   ]
  },
  {
   "cell_type": "code",
   "execution_count": 2,
   "metadata": {},
   "outputs": [
    {
     "name": "stdout",
     "output_type": "stream",
     "text": [
      "(64, 10)\n",
      "(64, 17)\n"
     ]
    },
    {
     "ename": "",
     "evalue": "",
     "output_type": "error",
     "traceback": [
      "\u001b[1;31mThe Kernel crashed while executing code in the current cell or a previous cell. \n",
      "\u001b[1;31mPlease review the code in the cell(s) to identify a possible cause of the failure. \n",
      "\u001b[1;31mClick <a href='https://aka.ms/vscodeJupyterKernelCrash'>here</a> for more info. \n",
      "\u001b[1;31mView Jupyter <a href='command:jupyter.viewOutput'>log</a> for further details."
     ]
    }
   ],
   "source": [
    "import numpy as np\n",
    "merge_psychiatry_demo = np.load('allData/prognosis_mix_hb/pretreatment_response/merge_psychiatry_demo_dose_data.npy')\n",
    "print(merge_psychiatry_demo.shape)\n",
    "x2 = np.load('allData/prognosis_mix_hb/pretreatment_response/nor_demo_cli_merge_data.npy')\n",
    "print(x2.shape)"
   ]
  },
  {
   "cell_type": "code",
   "execution_count": 2,
   "metadata": {},
   "outputs": [
    {
     "name": "stdout",
     "output_type": "stream",
     "text": [
      "(64, 52, 2500)\n",
      "HbO: (64, 52, 1250)\n"
     ]
    }
   ],
   "source": [
    "# calculate feature and apply SVM/XGBoost to see the performance\n",
    "\n",
    "# 1. load the data\n",
    "input_fold = 'allData/prognosis_mix_hb/pretreatment_response'\n",
    "data = np.load(input_fold + '/hb_data.npy')\n",
    "label = np.load(input_fold + '/label.npy')\n",
    "\n",
    "print(data.shape)\n",
    "HbO = data[...,0::2] # np.transpose(data[...,0::2],(0,2,1))\n",
    "# HbO = individual_normalization(HbO)\n",
    "print(f'HbO: {HbO.shape}')\n",
    "HbR = data[...,1::2] # np.transpose(data[...,1::2],(0,2,1))\n",
    "HbT = HbO + HbR\n",
    "\n",
    "data = np.concatenate((HbO,HbR,HbT),axis=-1)\n"
   ]
  },
  {
   "cell_type": "markdown",
   "metadata": {},
   "source": [
    "configs/pretreatment_response_cv_5_hbo.py\n",
    "\n",
    "python ./LOO_nested_CV_train.py cnn_gnn_transformer loocv_v0 pretreatment_response_cv_5_hbo"
   ]
  },
  {
   "cell_type": "code",
   "execution_count": 9,
   "metadata": {},
   "outputs": [
    {
     "name": "stdout",
     "output_type": "stream",
     "text": [
      "['python', 'scripts/plot/DL/read_LOO_nestedCV_gnntr.py', '--max', '4', '--K_FOLD', '5', '--result_path', 'results/gnn_transformer_with_cli_demo/prognosis_mix_hb/pretreatment_response/loocv_v0l1_rate_0.01_l2_rate_0.001_d_model_16_batch_size_64_n_layers_6']\n",
      "val_fold_path results/gnn_transformer_with_cli_demo/prognosis_mix_hb/pretreatment_response/loocv_v0l1_rate_0.01_l2_rate_0.001_d_model_16_batch_size_64_n_layers_6/LOO_nested_CV/LOO_0\n",
      "num_of_cv_folds 5\n",
      "y_test [0. 0. 0. 0. 0. 0. 0. 0. 0. 0. 0. 0. 0. 0. 1. 0. 0. 0. 0. 0. 1. 0. 1. 0.\n",
      " 0. 1. 1. 0. 0. 0. 0. 0. 0. 0. 0. 0. 0. 0. 1. 1. 0. 1. 0. 0. 0. 1. 0. 1.\n",
      " 1. 0. 0. 0. 0. 0. 0. 1. 1. 0. 0. 0. 1. 0. 0. 0.]\n",
      "MAX_ITR: 4 ranging ( 2 ~ 3 )\n",
      "Model name: gnn_transformer_with_cli_demo\n",
      "specify_itr None\n",
      "value_add_to_sensitivity_value 0.0\n",
      "| Model Name | Testing Set |             |             |             | Validation Set |             |             |             |\n",
      "|------------|-------------|-------------|-------------|-------------|-------------|-------------|-------------|-------------|\n",
      "|            | Balanced Accuracy | Sensitivity | Specificity | F1 Score | Balanced Accuracy | Sensitivity | Specificity | F1 Score |\n",
      "| gnn_transformer_with_cli_demo   | 69.0000  | 50.0000  | 88.0000  | 79.4120  | 81.8143  | 68.1250  | 95.5035  | 90.2425  |\n",
      "\n",
      "['python', 'scripts/plot/DL/read_LOO_nestedCV_gnntr.py', '--max', '4', '--K_FOLD', '5', '--result_path', 'results/gnn_transformer_with_cli_demo/prognosis_mix_hb/pretreatment_response/loocv_v1l1_rate_0.01_l2_rate_0.001_d_model_16_batch_size_64_n_layers_6']\n",
      "val_fold_path results/gnn_transformer_with_cli_demo/prognosis_mix_hb/pretreatment_response/loocv_v1l1_rate_0.01_l2_rate_0.001_d_model_16_batch_size_64_n_layers_6/LOO_nested_CV/LOO_0\n",
      "num_of_cv_folds 5\n",
      "y_test [0. 0. 0. 0. 0. 0. 0. 0. 0. 0. 0. 0. 0. 0. 1. 0. 0. 0. 0. 0. 1. 0. 1. 0.\n",
      " 0. 1. 1. 0. 0. 0. 0. 0. 0. 0. 0. 0. 0. 0. 1. 1. 0. 1. 0. 0. 0. 1. 0. 1.\n",
      " 1. 0. 0. 0. 0. 0. 0. 1. 1. 0. 0. 0. 1. 0. 0. 0.]\n",
      "MAX_ITR: 4 ranging ( 1 ~ 2 )\n",
      "Model name: gnn_transformer_with_cli_demo\n",
      "specify_itr None\n",
      "value_add_to_sensitivity_value 0.0\n",
      "| Model Name | Testing Set |             |             |             | Validation Set |             |             |             |\n",
      "|------------|-------------|-------------|-------------|-------------|-------------|-------------|-------------|-------------|\n",
      "|            | Balanced Accuracy | Sensitivity | Specificity | F1 Score | Balanced Accuracy | Sensitivity | Specificity | F1 Score |\n",
      "| gnn_transformer_with_cli_demo   | 57.8571  | 35.7143  | 80.0000  | 70.6740  | 75.4705  | 57.9688  | 92.9723  | 86.1668  |\n",
      "\n",
      "['python', 'scripts/plot/DL/read_LOO_nestedCV_gnntr.py', '--max', '4', '--K_FOLD', '5', '--result_path', 'results/gnn_transformer_with_cli_demo/prognosis_mix_hb/pretreatment_response/loocv_v2l1_rate_0.01_l2_rate_0.001_d_model_16_batch_size_64_n_layers_6']\n",
      "val_fold_path results/gnn_transformer_with_cli_demo/prognosis_mix_hb/pretreatment_response/loocv_v2l1_rate_0.01_l2_rate_0.001_d_model_16_batch_size_64_n_layers_6/LOO_nested_CV/LOO_0\n",
      "num_of_cv_folds 5\n",
      "y_test [0. 0. 0. 0. 0. 0. 0. 0. 0. 0. 0. 0. 0. 0. 1. 0. 0. 0. 0. 0. 1. 0. 1. 0.\n",
      " 0. 1. 1. 0. 0. 0. 0. 0. 0. 0. 0. 0. 0. 0. 1. 1. 0. 1. 0. 0. 0. 1. 0. 1.\n",
      " 1. 0. 0. 0. 0. 0. 0. 1. 1. 0. 0. 0. 1. 0. 0. 0.]\n",
      "MAX_ITR: 4 ranging ( 1 ~ 2 )\n",
      "Model name: gnn_transformer_with_cli_demo\n",
      "specify_itr None\n",
      "value_add_to_sensitivity_value 0.0\n",
      "| Model Name | Testing Set |             |             |             | Validation Set |             |             |             |\n",
      "|------------|-------------|-------------|-------------|-------------|-------------|-------------|-------------|-------------|\n",
      "|            | Balanced Accuracy | Sensitivity | Specificity | F1 Score | Balanced Accuracy | Sensitivity | Specificity | F1 Score |\n",
      "| gnn_transformer_with_cli_demo   | 59.8571  | 35.7143  | 84.0000  | 73.0770  | 77.0851  | 60.9375  | 93.2327  | 86.9557  |\n",
      "\n",
      "['python', 'scripts/plot/DL/read_LOO_nestedCV_gnntr.py', '--max', '4', '--K_FOLD', '5', '--result_path', 'results/gnn_transformer_with_cli_demo/prognosis_mix_hb/pretreatment_response/loocv_v3l1_rate_0.01_l2_rate_0.001_d_model_16_batch_size_64_n_layers_6']\n",
      "val_fold_path results/gnn_transformer_with_cli_demo/prognosis_mix_hb/pretreatment_response/loocv_v3l1_rate_0.01_l2_rate_0.001_d_model_16_batch_size_64_n_layers_6/LOO_nested_CV/LOO_0\n",
      "num_of_cv_folds 5\n",
      "y_test [0. 0. 0. 0. 0. 0. 0. 0. 0. 0. 0. 0. 0. 0. 1. 0. 0. 0. 0. 0. 1. 0. 1. 0.\n",
      " 0. 1. 1. 0. 0. 0. 0. 0. 0. 0. 0. 0. 0. 0. 1. 1. 0. 1. 0. 0. 0. 1. 0. 1.\n",
      " 1. 0. 0. 0. 0. 0. 0. 1. 1. 0. 0. 0. 1. 0. 0. 0.]\n",
      "MAX_ITR: 4 ranging ( 1 ~ 3 )\n",
      "Model name: gnn_transformer_with_cli_demo\n",
      "specify_itr None\n",
      "value_add_to_sensitivity_value 0.0\n",
      "| Model Name | Testing Set |             |             |             | Validation Set |             |             |             |\n",
      "|------------|-------------|-------------|-------------|-------------|-------------|-------------|-------------|-------------|\n",
      "|            | Balanced Accuracy | Sensitivity | Specificity | F1 Score | Balanced Accuracy | Sensitivity | Specificity | F1 Score |\n",
      "| gnn_transformer_with_cli_demo   | 57.8571  | 35.7143  | 80.0000  | 70.6740  | 76.5122  | 59.6875  | 93.3369  | 86.7543  |\n",
      "\n",
      "['python', 'scripts/plot/DL/read_LOO_nestedCV_gnntr.py', '--max', '4', '--K_FOLD', '5', '--result_path', 'results/gnn_transformer_with_cli_demo/prognosis_mix_hb/pretreatment_response/loocv_v4l1_rate_0.01_l2_rate_0.001_d_model_16_batch_size_64_n_layers_6']\n",
      "val_fold_path results/gnn_transformer_with_cli_demo/prognosis_mix_hb/pretreatment_response/loocv_v4l1_rate_0.01_l2_rate_0.001_d_model_16_batch_size_64_n_layers_6/LOO_nested_CV/LOO_0\n",
      "num_of_cv_folds 5\n",
      "y_test [0. 0. 0. 0. 0. 0. 0. 0. 0. 0. 0. 0. 0. 0. 1. 0. 0. 0. 0. 0. 1. 0. 1. 0.\n",
      " 0. 1. 1. 0. 0. 0. 0. 0. 0. 0. 0. 0. 0. 0. 1. 1. 0. 1. 0. 0. 0. 1. 0. 1.\n",
      " 1. 0. 0. 0. 0. 0. 0. 1. 1. 0. 0. 0. 1. 0. 0. 0.]\n",
      "MAX_ITR: 4 ranging ( 1 ~ 3 )\n",
      "Model name: gnn_transformer_with_cli_demo\n",
      "specify_itr None\n",
      "value_add_to_sensitivity_value 0.0\n",
      "| Model Name | Testing Set |             |             |             | Validation Set |             |             |             |\n",
      "|------------|-------------|-------------|-------------|-------------|-------------|-------------|-------------|-------------|\n",
      "|            | Balanced Accuracy | Sensitivity | Specificity | F1 Score | Balanced Accuracy | Sensitivity | Specificity | F1 Score |\n",
      "| gnn_transformer_with_cli_demo   | 56.8571  | 35.7143  | 78.0000  | 69.4730  | 77.4184  | 61.4063  | 93.4306  | 87.0734  |\n",
      "\n",
      "['python', 'scripts/plot/DL/read_LOO_nestedCV_gnntr.py', '--max', '4', '--K_FOLD', '5', '--result_path', 'results/gnn_transformer_with_cli_demo/prognosis_mix_hb/pretreatment_response/loocv_v5l1_rate_0.01_l2_rate_0.001_d_model_16_batch_size_64_n_layers_6']\n",
      "val_fold_path results/gnn_transformer_with_cli_demo/prognosis_mix_hb/pretreatment_response/loocv_v5l1_rate_0.01_l2_rate_0.001_d_model_16_batch_size_64_n_layers_6/LOO_nested_CV/LOO_0\n",
      "num_of_cv_folds 5\n",
      "y_test [0. 0. 0. 0. 0. 0. 0. 0. 0. 0. 0. 0. 0. 0. 1. 0. 0. 0. 0. 0. 1. 0. 1. 0.\n",
      " 0. 1. 1. 0. 0. 0. 0. 0. 0. 0. 0. 0. 0. 0. 1. 1. 0. 1. 0. 0. 0. 1. 0. 1.\n",
      " 1. 0. 0. 0. 0. 0. 0. 1. 1. 0. 0. 0. 1. 0. 0. 0.]\n",
      "MAX_ITR: 4 ranging ( 1 ~ 3 )\n",
      "Model name: gnn_transformer_with_cli_demo\n",
      "specify_itr None\n",
      "value_add_to_sensitivity_value 0.0\n",
      "| Model Name | Testing Set |             |             |             | Validation Set |             |             |             |\n",
      "|------------|-------------|-------------|-------------|-------------|-------------|-------------|-------------|-------------|\n",
      "|            | Balanced Accuracy | Sensitivity | Specificity | F1 Score | Balanced Accuracy | Sensitivity | Specificity | F1 Score |\n",
      "| gnn_transformer_with_cli_demo   | 65.0000  | 50.0000  | 80.0000  | 74.3120  | 77.6302  | 62.1875  | 93.0730  | 87.1528  |\n",
      "\n",
      "['python', 'scripts/plot/DL/read_LOO_nestedCV_gnntr.py', '--max', '4', '--K_FOLD', '5', '--result_path', 'results/gnn_transformer_with_cli_demo/prognosis_mix_hb/pretreatment_response/loocv_v6l1_rate_0.01_l2_rate_0.001_d_model_16_batch_size_64_n_layers_6']\n",
      "val_fold_path results/gnn_transformer_with_cli_demo/prognosis_mix_hb/pretreatment_response/loocv_v6l1_rate_0.01_l2_rate_0.001_d_model_16_batch_size_64_n_layers_6/LOO_nested_CV/LOO_0\n",
      "num_of_cv_folds 5\n",
      "y_test [0. 0. 0. 0. 0. 0. 0. 0. 0. 0. 0. 0. 0. 0. 1. 0. 0. 0. 0. 0. 1. 0. 1. 0.\n",
      " 0. 1. 1. 0. 0. 0. 0. 0. 0. 0. 0. 0. 0. 0. 1. 1. 0. 1. 0. 0. 0. 1. 0. 1.\n",
      " 1. 0. 0. 0. 0. 0. 0. 1. 1. 0. 0. 0. 1. 0. 0. 0.]\n",
      "MAX_ITR: 4 ranging ( 1 ~ 3 )\n",
      "Model name: gnn_transformer_with_cli_demo\n",
      "specify_itr None\n",
      "value_add_to_sensitivity_value 0.0\n",
      "| Model Name | Testing Set |             |             |             | Validation Set |             |             |             |\n",
      "|------------|-------------|-------------|-------------|-------------|-------------|-------------|-------------|-------------|\n",
      "|            | Balanced Accuracy | Sensitivity | Specificity | F1 Score | Balanced Accuracy | Sensitivity | Specificity | F1 Score |\n",
      "| gnn_transformer_with_cli_demo   | 60.4286  | 42.8571  | 78.0000  | 71.2900  | 76.5000  | 59.6875  | 93.3126  | 86.7429  |\n",
      "\n",
      "['python', 'scripts/plot/DL/read_LOO_nestedCV_gnntr.py', '--max', '4', '--K_FOLD', '5', '--result_path', 'results/gnn_transformer_with_cli_demo/prognosis_mix_hb/pretreatment_response/loocv_v7l1_rate_0.01_l2_rate_0.001_d_model_16_batch_size_64_n_layers_6']\n",
      "val_fold_path results/gnn_transformer_with_cli_demo/prognosis_mix_hb/pretreatment_response/loocv_v7l1_rate_0.01_l2_rate_0.001_d_model_16_batch_size_64_n_layers_6/LOO_nested_CV/LOO_0\n",
      "num_of_cv_folds 5\n",
      "y_test [0. 0. 0. 0. 0. 0. 0. 0. 0. 0. 0. 0. 0. 0. 1. 0. 0. 0. 0. 0. 1. 0. 1. 0.\n",
      " 0. 1. 1. 0. 0. 0. 0. 0. 0. 0. 0. 0. 0. 0. 1. 1. 0. 1. 0. 0. 0. 1. 0. 1.\n",
      " 1. 0. 0. 0. 0. 0. 0. 1. 1. 0. 0. 0. 1. 0. 0. 0.]\n",
      "MAX_ITR: 4 ranging ( 1 ~ 3 )\n",
      "Model name: gnn_transformer_with_cli_demo\n",
      "specify_itr None\n",
      "value_add_to_sensitivity_value 0.0\n",
      "| Model Name | Testing Set |             |             |             | Validation Set |             |             |             |\n",
      "|------------|-------------|-------------|-------------|-------------|-------------|-------------|-------------|-------------|\n",
      "|            | Balanced Accuracy | Sensitivity | Specificity | F1 Score | Balanced Accuracy | Sensitivity | Specificity | F1 Score |\n",
      "| gnn_transformer_with_cli_demo   | 62.4286  | 42.8571  | 82.0000  | 73.7610  | 78.0521  | 62.5000  | 93.6042  | 87.5581  |\n",
      "\n",
      "['python', 'scripts/plot/DL/read_LOO_nestedCV_gnntr.py', '--max', '4', '--K_FOLD', '5', '--result_path', 'results/gnn_transformer_with_cli_demo/prognosis_mix_hb/pretreatment_response/loocv_v8l1_rate_0.01_l2_rate_0.001_d_model_16_batch_size_64_n_layers_6']\n",
      "val_fold_path results/gnn_transformer_with_cli_demo/prognosis_mix_hb/pretreatment_response/loocv_v8l1_rate_0.01_l2_rate_0.001_d_model_16_batch_size_64_n_layers_6/LOO_nested_CV/LOO_0\n",
      "num_of_cv_folds 5\n",
      "y_test [0. 0. 0. 0. 0. 0. 0. 0. 0. 0. 0. 0. 0. 0. 1. 0. 0. 0. 0. 0. 1. 0. 1. 0.\n",
      " 0. 1. 1. 0. 0. 0. 0. 0. 0. 0. 0. 0. 0. 0. 1. 1. 0. 1. 0. 0. 0. 1. 0. 1.\n",
      " 1. 0. 0. 0. 0. 0. 0. 1. 1. 0. 0. 0. 1. 0. 0. 0.]\n",
      "MAX_ITR: 4 ranging ( 1 ~ 2 )\n",
      "Model name: gnn_transformer_with_cli_demo\n",
      "specify_itr None\n",
      "value_add_to_sensitivity_value 0.0\n",
      "| Model Name | Testing Set |             |             |             | Validation Set |             |             |             |\n",
      "|------------|-------------|-------------|-------------|-------------|-------------|-------------|-------------|-------------|\n",
      "|            | Balanced Accuracy | Sensitivity | Specificity | F1 Score | Balanced Accuracy | Sensitivity | Specificity | F1 Score |\n",
      "| gnn_transformer_with_cli_demo   | 58.8571  | 35.7143  | 82.0000  | 71.8750  | 75.6476  | 57.8125  | 93.4827  | 86.3514  |\n",
      "\n",
      "['python', 'scripts/plot/DL/read_LOO_nestedCV_gnntr.py', '--max', '4', '--K_FOLD', '5', '--result_path', 'results/gnn_transformer_with_cli_demo/prognosis_mix_hb/pretreatment_response/loocv_v9l1_rate_0.01_l2_rate_0.001_d_model_16_batch_size_64_n_layers_6']\n",
      "val_fold_path results/gnn_transformer_with_cli_demo/prognosis_mix_hb/pretreatment_response/loocv_v9l1_rate_0.01_l2_rate_0.001_d_model_16_batch_size_64_n_layers_6/LOO_nested_CV/LOO_0\n",
      "num_of_cv_folds 5\n",
      "y_test [0. 0. 0. 0. 0. 0. 0. 0. 0. 0. 0. 0. 0. 0. 1. 0. 0. 0. 0. 0. 1. 0. 1. 0.\n",
      " 0. 1. 1. 0. 0. 0. 0. 0. 0. 0. 0. 0. 0. 0. 1. 1. 0. 1. 0. 0. 0. 1. 0. 1.\n",
      " 1. 0. 0. 0. 0. 0. 0. 1. 1. 0. 0. 0. 1. 0. 0. 0.]\n",
      "MAX_ITR: 4 ranging ( 1 ~ 2 )\n",
      "Model name: gnn_transformer_with_cli_demo\n",
      "specify_itr None\n",
      "value_add_to_sensitivity_value 0.0\n",
      "| Model Name | Testing Set |             |             |             | Validation Set |             |             |             |\n",
      "|------------|-------------|-------------|-------------|-------------|-------------|-------------|-------------|-------------|\n",
      "|            | Balanced Accuracy | Sensitivity | Specificity | F1 Score | Balanced Accuracy | Sensitivity | Specificity | F1 Score |\n",
      "| gnn_transformer_with_cli_demo   | 64.0000  | 50.0000  | 78.0000  | 73.0470  | 75.6441  | 58.7500  | 92.5383  | 85.8573  |\n",
      "\n",
      "['python', 'scripts/plot/DL/read_LOO_nestedCV_gnntr.py', '--max', '4', '--K_FOLD', '5', '--result_path', 'results/gnn_transformer_with_cli_demo/prognosis_mix_hb/pretreatment_response/loocv_v10l1_rate_0.01_l2_rate_0.001_d_model_16_batch_size_64_n_layers_6']\n",
      "val_fold_path results/gnn_transformer_with_cli_demo/prognosis_mix_hb/pretreatment_response/loocv_v10l1_rate_0.01_l2_rate_0.001_d_model_16_batch_size_64_n_layers_6/LOO_nested_CV/LOO_0\n",
      "num_of_cv_folds 5\n",
      "y_test [0. 0. 0. 0. 0. 0. 0. 0. 0. 0. 0. 0. 0. 0. 1. 0. 0. 0. 0. 0. 1. 0. 1. 0.\n",
      " 0. 1. 1. 0. 0. 0. 0. 0. 0. 0. 0. 0. 0. 0. 1. 1. 0. 1. 0. 0. 0. 1. 0. 1.\n",
      " 1. 0. 0. 0. 0. 0. 0. 1. 1. 0. 0. 0. 1. 0. 0. 0.]\n",
      "MAX_ITR: 4 ranging ( 1 ~ 2 )\n",
      "Model name: gnn_transformer_with_cli_demo\n",
      "specify_itr None\n",
      "value_add_to_sensitivity_value 0.0\n",
      "| Model Name | Testing Set |             |             |             | Validation Set |             |             |             |\n",
      "|------------|-------------|-------------|-------------|-------------|-------------|-------------|-------------|-------------|\n",
      "|            | Balanced Accuracy | Sensitivity | Specificity | F1 Score | Balanced Accuracy | Sensitivity | Specificity | F1 Score |\n",
      "| gnn_transformer_with_cli_demo   | 66.0000  | 50.0000  | 82.0000  | 75.5780  | 75.9080  | 59.0625  | 92.7535  | 86.1785  |\n",
      "\n",
      "['python', 'scripts/plot/DL/read_LOO_nestedCV_gnntr.py', '--max', '4', '--K_FOLD', '5', '--result_path', 'results/gnn_transformer_with_cli_demo/prognosis_mix_hb/pretreatment_response/loocv_v11l1_rate_0.01_l2_rate_0.001_d_model_16_batch_size_64_n_layers_6']\n",
      "val_fold_path results/gnn_transformer_with_cli_demo/prognosis_mix_hb/pretreatment_response/loocv_v11l1_rate_0.01_l2_rate_0.001_d_model_16_batch_size_64_n_layers_6/LOO_nested_CV/LOO_0\n",
      "num_of_cv_folds 5\n",
      "y_test [0. 0. 0. 0. 0. 0. 0. 0. 0. 0. 0. 0. 0. 0. 1. 0. 0. 0. 0. 0. 1. 0. 1. 0.\n",
      " 0. 1. 1. 0. 0. 0. 0. 0. 0. 0. 0. 0. 0. 0. 1. 1. 0. 1. 0. 0. 0. 1. 0. 1.\n",
      " 1. 0. 0. 0. 0. 0. 0. 1. 1. 0. 0. 0. 1. 0. 0. 0.]\n",
      "MAX_ITR: 4 ranging ( 1 ~ 2 )\n",
      "Model name: gnn_transformer_with_cli_demo\n",
      "specify_itr None\n",
      "value_add_to_sensitivity_value 0.0\n",
      "| Model Name | Testing Set |             |             |             | Validation Set |             |             |             |\n",
      "|------------|-------------|-------------|-------------|-------------|-------------|-------------|-------------|-------------|\n",
      "|            | Balanced Accuracy | Sensitivity | Specificity | F1 Score | Balanced Accuracy | Sensitivity | Specificity | F1 Score |\n",
      "| gnn_transformer_with_cli_demo   | 60.4286  | 42.8571  | 78.0000  | 71.2900  | 75.5434  | 58.7500  | 92.3369  | 85.7935  |\n",
      "\n",
      "['python', 'scripts/plot/DL/read_LOO_nestedCV_gnntr.py', '--max', '4', '--K_FOLD', '5', '--result_path', 'results/gnn_transformer_with_cli_demo/prognosis_mix_hb/pretreatment_response/loocv_v12l1_rate_0.01_l2_rate_0.001_d_model_16_batch_size_64_n_layers_6']\n",
      "val_fold_path results/gnn_transformer_with_cli_demo/prognosis_mix_hb/pretreatment_response/loocv_v12l1_rate_0.01_l2_rate_0.001_d_model_16_batch_size_64_n_layers_6/LOO_nested_CV/LOO_0\n",
      "num_of_cv_folds 5\n",
      "y_test [0. 0. 0. 0. 0. 0. 0. 0. 0. 0. 0. 0. 0. 0. 1. 0. 0. 0. 0. 0. 1. 0. 1. 0.\n",
      " 0. 1. 1. 0. 0. 0. 0. 0. 0. 0. 0. 0. 0. 0. 1. 1. 0. 1. 0. 0. 0. 1. 0. 1.\n",
      " 1. 0. 0. 0. 0. 0. 0. 1. 1. 0. 0. 0. 1. 0. 0. 0.]\n",
      "MAX_ITR: 4 ranging ( 1 ~ 2 )\n",
      "Model name: gnn_transformer_with_cli_demo\n",
      "specify_itr None\n",
      "value_add_to_sensitivity_value 0.0\n",
      "| Model Name | Testing Set |             |             |             | Validation Set |             |             |             |\n",
      "|------------|-------------|-------------|-------------|-------------|-------------|-------------|-------------|-------------|\n",
      "|            | Balanced Accuracy | Sensitivity | Specificity | F1 Score | Balanced Accuracy | Sensitivity | Specificity | F1 Score |\n",
      "| gnn_transformer_with_cli_demo   | 64.4286  | 42.8571  | 86.0000  | 76.2440  | 75.6997  | 58.5938  | 92.8056  | 86.0002  |\n",
      "\n",
      "['python', 'scripts/plot/DL/read_LOO_nestedCV_gnntr.py', '--max', '4', '--K_FOLD', '5', '--result_path', 'results/gnn_transformer_with_cli_demo/prognosis_mix_hb/pretreatment_response/loocv_v13l1_rate_0.01_l2_rate_0.001_d_model_16_batch_size_64_n_layers_6']\n",
      "val_fold_path results/gnn_transformer_with_cli_demo/prognosis_mix_hb/pretreatment_response/loocv_v13l1_rate_0.01_l2_rate_0.001_d_model_16_batch_size_64_n_layers_6/LOO_nested_CV/LOO_0\n",
      "num_of_cv_folds 5\n",
      "y_test [0. 0. 0. 0. 0. 0. 0. 0. 0. 0. 0. 0. 0. 0. 1. 0. 0. 0. 0. 0. 1. 0. 1. 0.\n",
      " 0. 1. 1. 0. 0. 0. 0. 0. 0. 0. 0. 0. 0. 0. 1. 1. 0. 1. 0. 0. 0. 1. 0. 1.\n",
      " 1. 0. 0. 0. 0. 0. 0. 1. 1. 0. 0. 0. 1. 0. 0. 0.]\n",
      "MAX_ITR: 4 ranging ( 1 ~ 2 )\n",
      "Model name: gnn_transformer_with_cli_demo\n",
      "specify_itr None\n",
      "value_add_to_sensitivity_value 0.0\n",
      "| Model Name | Testing Set |             |             |             | Validation Set |             |             |             |\n",
      "|------------|-------------|-------------|-------------|-------------|-------------|-------------|-------------|-------------|\n",
      "|            | Balanced Accuracy | Sensitivity | Specificity | F1 Score | Balanced Accuracy | Sensitivity | Specificity | F1 Score |\n",
      "| gnn_transformer_with_cli_demo   | 62.4286  | 42.8571  | 82.0000  | 73.7610  | 75.9375  | 59.6875  | 92.1876  | 85.8676  |\n",
      "\n",
      "['python', 'scripts/plot/DL/read_LOO_nestedCV_gnntr.py', '--max', '4', '--K_FOLD', '5', '--result_path', 'results/gnn_transformer_with_cli_demo/prognosis_mix_hb/pretreatment_response/loocv_v14l1_rate_0.01_l2_rate_0.001_d_model_16_batch_size_64_n_layers_6']\n",
      "val_fold_path results/gnn_transformer_with_cli_demo/prognosis_mix_hb/pretreatment_response/loocv_v14l1_rate_0.01_l2_rate_0.001_d_model_16_batch_size_64_n_layers_6/LOO_nested_CV/LOO_0\n",
      "num_of_cv_folds 5\n",
      "y_test [0. 0. 0. 0. 0. 0. 0. 0. 0. 0. 0. 0. 0. 0. 1. 0. 0. 0. 0. 0. 1. 0. 1. 0.\n",
      " 0. 1. 1. 0. 0. 0. 0. 0. 0. 0. 0. 0. 0. 0. 1. 1. 0. 1. 0. 0. 0. 1. 0. 1.\n",
      " 1. 0. 0. 0. 0. 0. 0. 1. 1. 0. 0. 0. 1. 0. 0. 0.]\n",
      "MAX_ITR: 4 ranging ( 1 ~ 2 )\n",
      "Model name: gnn_transformer_with_cli_demo\n",
      "specify_itr None\n",
      "value_add_to_sensitivity_value 0.0\n",
      "| Model Name | Testing Set |             |             |             | Validation Set |             |             |             |\n",
      "|------------|-------------|-------------|-------------|-------------|-------------|-------------|-------------|-------------|\n",
      "|            | Balanced Accuracy | Sensitivity | Specificity | F1 Score | Balanced Accuracy | Sensitivity | Specificity | F1 Score |\n",
      "| gnn_transformer_with_cli_demo   | 61.4286  | 42.8571  | 80.0000  | 72.5260  | 76.2761  | 60.0000  | 92.5521  | 86.2908  |\n",
      "\n",
      "['python', 'scripts/plot/DL/read_LOO_nestedCV_gnntr.py', '--max', '4', '--K_FOLD', '5', '--result_path', 'results/gnn_transformer_with_cli_demo/prognosis_mix_hb/pretreatment_response/loocv_v15l1_rate_0.01_l2_rate_0.001_d_model_16_batch_size_64_n_layers_6']\n",
      "val_fold_path results/gnn_transformer_with_cli_demo/prognosis_mix_hb/pretreatment_response/loocv_v15l1_rate_0.01_l2_rate_0.001_d_model_16_batch_size_64_n_layers_6/LOO_nested_CV/LOO_0\n",
      "num_of_cv_folds 5\n",
      "y_test [0. 0. 0. 0. 0. 0. 0. 0. 0. 0. 0. 0. 0. 0. 1. 0. 0. 0. 0. 0. 1. 0. 1. 0.\n",
      " 0. 1. 1. 0. 0. 0. 0. 0. 0. 0. 0. 0. 0. 0. 1. 1. 0. 1. 0. 0. 0. 1. 0. 1.\n",
      " 1. 0. 0. 0. 0. 0. 0. 1. 1. 0. 0. 0. 1. 0. 0. 0.]\n",
      "MAX_ITR: 4 ranging ( 1 ~ 2 )\n",
      "Model name: gnn_transformer_with_cli_demo\n",
      "specify_itr None\n",
      "value_add_to_sensitivity_value 0.0\n",
      "| Model Name | Testing Set |             |             |             | Validation Set |             |             |             |\n",
      "|------------|-------------|-------------|-------------|-------------|-------------|-------------|-------------|-------------|\n",
      "|            | Balanced Accuracy | Sensitivity | Specificity | F1 Score | Balanced Accuracy | Sensitivity | Specificity | F1 Score |\n",
      "| gnn_transformer_with_cli_demo   | 56.8571  | 35.7143  | 78.0000  | 69.4730  | 75.2952  | 57.5000  | 93.0903  | 85.9756  |\n",
      "\n",
      "['python', 'scripts/plot/DL/read_LOO_nestedCV_gnntr.py', '--max', '4', '--K_FOLD', '5', '--result_path', 'results/gnn_transformer_with_cli_demo/prognosis_mix_hb/pretreatment_response/loocv_v16l1_rate_0.01_l2_rate_0.001_d_model_16_batch_size_64_n_layers_6']\n",
      "val_fold_path results/gnn_transformer_with_cli_demo/prognosis_mix_hb/pretreatment_response/loocv_v16l1_rate_0.01_l2_rate_0.001_d_model_16_batch_size_64_n_layers_6/LOO_nested_CV/LOO_0\n",
      "num_of_cv_folds 5\n",
      "y_test [0. 0. 0. 0. 0. 0. 0. 0. 0. 0. 0. 0. 0. 0. 1. 0. 0. 0. 0. 0. 1. 0. 1. 0.\n",
      " 0. 1. 1. 0. 0. 0. 0. 0. 0. 0. 0. 0. 0. 0. 1. 1. 0. 1. 0. 0. 0. 1. 0. 1.\n",
      " 1. 0. 0. 0. 0. 0. 0. 1. 1. 0. 0. 0. 1. 0. 0. 0.]\n",
      "MAX_ITR: 4 ranging ( 1 ~ 2 )\n",
      "Model name: gnn_transformer_with_cli_demo\n",
      "specify_itr None\n",
      "value_add_to_sensitivity_value 0.0\n",
      "| Model Name | Testing Set |             |             |             | Validation Set |             |             |             |\n",
      "|------------|-------------|-------------|-------------|-------------|-------------|-------------|-------------|-------------|\n",
      "|            | Balanced Accuracy | Sensitivity | Specificity | F1 Score | Balanced Accuracy | Sensitivity | Specificity | F1 Score |\n",
      "| gnn_transformer_with_cli_demo   | 64.0000  | 50.0000  | 78.0000  | 73.0470  | 75.2379  | 57.3438  | 93.1320  | 85.9460  |\n",
      "\n",
      "['python', 'scripts/plot/DL/read_LOO_nestedCV_gnntr.py', '--max', '4', '--K_FOLD', '5', '--result_path', 'results/gnn_transformer_with_cli_demo/prognosis_mix_hb/pretreatment_response/loocv_v17l1_rate_0.01_l2_rate_0.001_d_model_16_batch_size_64_n_layers_6']\n",
      "val_fold_path results/gnn_transformer_with_cli_demo/prognosis_mix_hb/pretreatment_response/loocv_v17l1_rate_0.01_l2_rate_0.001_d_model_16_batch_size_64_n_layers_6/LOO_nested_CV/LOO_0\n",
      "num_of_cv_folds 5\n",
      "y_test [0. 0. 0. 0. 0. 0. 0. 0. 0. 0. 0. 0. 0. 0. 1. 0. 0. 0. 0. 0. 1. 0. 1. 0.\n",
      " 0. 1. 1. 0. 0. 0. 0. 0. 0. 0. 0. 0. 0. 0. 1. 1. 0. 1. 0. 0. 0. 1. 0. 1.\n",
      " 1. 0. 0. 0. 0. 0. 0. 1. 1. 0. 0. 0. 1. 0. 0. 0.]\n",
      "MAX_ITR: 4 ranging ( 1 ~ 2 )\n",
      "Model name: gnn_transformer_with_cli_demo\n",
      "specify_itr None\n",
      "value_add_to_sensitivity_value 0.0\n",
      "| Model Name | Testing Set |             |             |             | Validation Set |             |             |             |\n",
      "|------------|-------------|-------------|-------------|-------------|-------------|-------------|-------------|-------------|\n",
      "|            | Balanced Accuracy | Sensitivity | Specificity | F1 Score | Balanced Accuracy | Sensitivity | Specificity | F1 Score |\n",
      "| gnn_transformer_with_cli_demo   | 69.5714  | 57.1429  | 82.0000  | 77.3340  | 76.0643  | 59.0625  | 93.0660  | 86.4000  |\n",
      "\n",
      "['python', 'scripts/plot/DL/read_LOO_nestedCV_gnntr.py', '--max', '4', '--K_FOLD', '5', '--result_path', 'results/gnn_transformer_with_cli_demo/prognosis_mix_hb/pretreatment_response/loocv_v18l1_rate_0.01_l2_rate_0.001_d_model_16_batch_size_64_n_layers_6']\n",
      "val_fold_path results/gnn_transformer_with_cli_demo/prognosis_mix_hb/pretreatment_response/loocv_v18l1_rate_0.01_l2_rate_0.001_d_model_16_batch_size_64_n_layers_6/LOO_nested_CV/LOO_0\n",
      "num_of_cv_folds 5\n",
      "y_test [0. 0. 0. 0. 0. 0. 0. 0. 0. 0. 0. 0. 0. 0. 1. 0. 0. 0. 0. 0. 1. 0. 1. 0.\n",
      " 0. 1. 1. 0. 0. 0. 0. 0. 0. 0. 0. 0. 0. 0. 1. 1. 0. 1. 0. 0. 0. 1. 0. 1.\n",
      " 1. 0. 0. 0. 0. 0. 0. 1. 1. 0. 0. 0. 1. 0. 0. 0.]\n",
      "MAX_ITR: 4 ranging ( 1 ~ 2 )\n",
      "Model name: gnn_transformer_with_cli_demo\n",
      "specify_itr None\n",
      "value_add_to_sensitivity_value 0.0\n",
      "| Model Name | Testing Set |             |             |             | Validation Set |             |             |             |\n",
      "|------------|-------------|-------------|-------------|-------------|-------------|-------------|-------------|-------------|\n",
      "|            | Balanced Accuracy | Sensitivity | Specificity | F1 Score | Balanced Accuracy | Sensitivity | Specificity | F1 Score |\n",
      "| gnn_transformer_with_cli_demo   | 59.8571  | 35.7143  | 84.0000  | 73.0770  | 76.2361  | 59.8438  | 92.6285  | 86.3345  |\n",
      "\n",
      "['python', 'scripts/plot/DL/read_LOO_nestedCV_gnntr.py', '--max', '4', '--K_FOLD', '5', '--result_path', 'results/gnn_transformer_with_cli_demo/prognosis_mix_hb/pretreatment_response/loocv_v19l1_rate_0.01_l2_rate_0.001_d_model_16_batch_size_64_n_layers_6']\n",
      "val_fold_path results/gnn_transformer_with_cli_demo/prognosis_mix_hb/pretreatment_response/loocv_v19l1_rate_0.01_l2_rate_0.001_d_model_16_batch_size_64_n_layers_6/LOO_nested_CV/LOO_0\n",
      "num_of_cv_folds 5\n",
      "y_test [0. 0. 0. 0. 0. 0. 0. 0. 0. 0. 0. 0. 0. 0. 1. 0. 0. 0. 0. 0. 1. 0. 1. 0.\n",
      " 0. 1. 1. 0. 0. 0. 0. 0. 0. 0. 0. 0. 0. 0. 1. 1. 0. 1. 0. 0. 0. 1. 0. 1.\n",
      " 1. 0. 0. 0. 0. 0. 0. 1. 1. 0. 0. 0. 1. 0. 0. 0.]\n",
      "MAX_ITR: 4 ranging ( 1 ~ 2 )\n",
      "Model name: gnn_transformer_with_cli_demo\n",
      "specify_itr None\n",
      "value_add_to_sensitivity_value 0.0\n",
      "| Model Name | Testing Set |             |             |             | Validation Set |             |             |             |\n",
      "|------------|-------------|-------------|-------------|-------------|-------------|-------------|-------------|-------------|\n",
      "|            | Balanced Accuracy | Sensitivity | Specificity | F1 Score | Balanced Accuracy | Sensitivity | Specificity | F1 Score |\n",
      "| gnn_transformer_with_cli_demo   | 66.0000  | 50.0000  | 82.0000  | 75.5780  | 74.9497  | 56.7188  | 93.1806  | 85.9616  |\n",
      "\n"
     ]
    }
   ],
   "source": [
    "for i in range(20):\n",
    "    command = f'python scripts/plot/DL/read_LOO_nestedCV_gnntr.py --max 4 --K_FOLD 5 --result_path results/gnn_transformer_with_cli_demo/prognosis_mix_hb/pretreatment_response/loocv_v{i}l1_rate_0.01_l2_rate_0.001_d_model_16_batch_size_64_n_layers_6'.split(' ')\n",
    "    result = subprocess.run(command, capture_output=True, text=True)\n",
    "    print(command)\n",
    "    print(result.stdout)"
   ]
  },
  {
   "cell_type": "code",
   "execution_count": 7,
   "metadata": {},
   "outputs": [
    {
     "data": {
      "text/plain": [
       "['python',\n",
       " 'scripts/plot/DL/read_LOO_nestedCV_gnntr.py',\n",
       " '--max',\n",
       " '4',\n",
       " '--K_FOLD',\n",
       " '5',\n",
       " '--result_path',\n",
       " 'results/gnn_transformer_with_cli_demo/prognosis_mix_hb/pretreatment_response/loocv_v0l1_rate_0.01_l2_rate_0.001_d_model_16_batch_size_64_n_layers_6']"
      ]
     },
     "execution_count": 7,
     "metadata": {},
     "output_type": "execute_result"
    }
   ],
   "source": [
    "command"
   ]
  },
  {
   "cell_type": "code",
   "execution_count": 8,
   "metadata": {},
   "outputs": [
    {
     "name": "stdout",
     "output_type": "stream",
     "text": [
      "(10, 64, 2)\n"
     ]
    },
    {
     "ename": "",
     "evalue": "",
     "output_type": "error",
     "traceback": [
      "\u001b[1;31mThe Kernel crashed while executing code in the current cell or a previous cell. \n",
      "\u001b[1;31mPlease review the code in the cell(s) to identify a possible cause of the failure. \n",
      "\u001b[1;31mClick <a href='https://aka.ms/vscodeJupyterKernelCrash'>here</a> for more info. \n",
      "\u001b[1;31mView Jupyter <a href='command:jupyter.viewOutput'>log</a> for further details."
     ]
    }
   ],
   "source": [
    "import numpy as np\n",
    "# y_pred_all = np.load('results/gnn_transformer/prognosis_mix_hb/pretreatment_response/ten-fold-evaluate/y_pred_test_all.npy')\n",
    "y_pred_all = np.load('results/gnn_transformer_with_cli_demo_v1/prognosis_mix_hb/pretreatment_response/ten-fold-evaluate/y_pred_test_all.npy')\n",
    "\n",
    "print(y_pred_all.shape)\n",
    "np.save('allData/prognosis_mix_hb/pretreatment_response/MDDR/MDDR_derived_from_load_evaluate.npy', y_pred_all)"
   ]
  },
  {
   "cell_type": "code",
   "execution_count": null,
   "metadata": {},
   "outputs": [],
   "source": [
    "import numpy as np\n",
    "print(y_pred_all.shape)\n",
    "np.save('allData/prognosis_mix_hb/pretreatment_response/MDDR/MDDR_derived_from_load_evaluate.npy', y_pred_all)"
   ]
  },
  {
   "cell_type": "code",
   "execution_count": 60,
   "metadata": {},
   "outputs": [
    {
     "name": "stdout",
     "output_type": "stream",
     "text": [
      "freq_accumulator tf.Tensor([[4. 3.]], shape=(1, 2), dtype=float32)\n",
      "transpose freq_accumulator tf.Tensor(\n",
      "[[4.]\n",
      " [3.]], shape=(2, 1), dtype=float32)\n",
      "freq_comparator tf.Tensor(\n",
      "[[4. 3.]\n",
      " [4. 3.]], shape=(2, 2), dtype=float32)\n"
     ]
    }
   ],
   "source": [
    "a = [0,1,1,0,0,0,1]\n",
    "a_one_hot = tf.one_hot(a, 2)\n",
    "\n",
    "freq_accumulator = tf.reduce_sum(a_one_hot, axis=0, keepdims=True)\n",
    "freq_comparator = tf.tile(freq_accumulator, [2, 1])\n",
    "print('freq_accumulator', freq_accumulator)\n",
    "print('transpose freq_accumulator', tf.transpose(freq_accumulator))\n",
    "print('freq_comparator', freq_comparator)\n",
    "mask = tf.cast(\n",
    "            tf.greater(tf.transpose(freq_accumulator), freq_comparator),\n",
    "            dtype=tf.float32,\n",
    "        )"
   ]
  },
  {
   "cell_type": "code",
   "execution_count": 61,
   "metadata": {},
   "outputs": [
    {
     "data": {
      "text/plain": [
       "<tf.Tensor: shape=(7, 2), dtype=float32, numpy=\n",
       "array([[1.        , 0.79441786],\n",
       "       [1.        , 1.        ],\n",
       "       [1.        , 1.        ],\n",
       "       [1.        , 0.79441786],\n",
       "       [1.        , 0.79441786],\n",
       "       [1.        , 0.79441786],\n",
       "       [1.        , 1.        ]], dtype=float32)>"
      ]
     },
     "execution_count": 61,
     "metadata": {},
     "output_type": "execute_result"
    }
   ],
   "source": [
    "long_tail = freq_comparator / tf.transpose(freq_accumulator)\n",
    "p_factor = 0.8\n",
    "mitigator = (long_tail ** p_factor) * mask + (1-mask)\n",
    "mitigator_factor = tf.gather(mitigator, tf.argmax(a_one_hot, axis=-1))\n",
    "mitigator_factor"
   ]
  },
  {
   "cell_type": "code",
   "execution_count": 58,
   "metadata": {},
   "outputs": [
    {
     "name": "stdout",
     "output_type": "stream",
     "text": [
      "compensation_factor tf.Tensor(\n",
      "[[1.        1.       ]\n",
      " [1.4918244 1.       ]\n",
      " [1.        1.       ]\n",
      " [1.        1.       ]\n",
      " [1.        1.       ]\n",
      " [1.        4.9530325]\n",
      " [1.        1.       ]], shape=(7, 2), dtype=float32)\n"
     ]
    }
   ],
   "source": [
    "# _get_compensation_factor\n",
    "\n",
    "q_factor = 2.0\n",
    "\n",
    "labels = a_one_hot\n",
    "\n",
    "logits = tf.constant([[0.56, 0.44], [0.6, 0.4], [0.45, 0.55], [0.66, 0.34], [0.7, 0.3], [0.1, 0.9], [0.45, 0.55]])\n",
    "\n",
    "scores = tf.math.softmax(logits, axis=-1)\n",
    "\n",
    "gt_label = tf.argmax(labels, axis=1)\n",
    "\n",
    "indices = tf.stack(\n",
    "            [tf.range(0, tf.shape(logits)[0], dtype=gt_label.dtype), gt_label], axis=1\n",
    "        )\n",
    "\n",
    "cls_score = tf.gather_nd(scores, indices)\n",
    "argmax_logits = tf.argmax(logits, axis=-1) == gt_label\n",
    "compensator = scores / tf.expand_dims(cls_score, axis=-1)\n",
    "mask = tf.cast(tf.greater(compensator, 1.0), dtype=labels.dtype)\n",
    "compensation_factor = (compensator ** q_factor) * mask + (1 - mask)\n",
    "print('compensation_factor', compensation_factor)"
   ]
  },
  {
   "cell_type": "code",
   "execution_count": 62,
   "metadata": {},
   "outputs": [
    {
     "name": "stdout",
     "output_type": "stream",
     "text": [
      "seesaw_weights tf.Tensor(\n",
      "[[1.         0.79441786]\n",
      " [1.4918244  1.        ]\n",
      " [1.         1.        ]\n",
      " [1.         0.79441786]\n",
      " [1.         0.79441786]\n",
      " [1.         3.9347775 ]\n",
      " [1.         1.        ]], shape=(7, 2), dtype=float32)\n"
     ]
    }
   ],
   "source": [
    "seesaw_weights = tf.ones_like(labels, dtype=tf.float32)\n",
    "seesaw_weights *= mitigator_factor \n",
    "seesaw_weights = seesaw_weights * compensation_factor\n",
    "print('seesaw_weights', seesaw_weights)\n"
   ]
  },
  {
   "cell_type": "code",
   "execution_count": 67,
   "metadata": {},
   "outputs": [
    {
     "name": "stdout",
     "output_type": "stream",
     "text": [
      "tf.Tensor(\n",
      "[[1.         0.79441786]\n",
      " [1.4918244  1.        ]\n",
      " [1.         1.        ]\n",
      " [1.         0.79441786]\n",
      " [1.         0.79441786]\n",
      " [1.         3.9347775 ]\n",
      " [1.         1.        ]], shape=(7, 2), dtype=float32)\n",
      "tf.Tensor(\n",
      "[[0. 1.]\n",
      " [1. 0.]\n",
      " [1. 0.]\n",
      " [0. 1.]\n",
      " [0. 1.]\n",
      " [0. 1.]\n",
      " [1. 0.]], shape=(7, 2), dtype=float32)\n",
      "tf.Tensor(\n",
      "[[0.         0.79441786]\n",
      " [1.4918244  0.        ]\n",
      " [1.         0.        ]\n",
      " [0.         0.79441786]\n",
      " [0.         0.79441786]\n",
      " [0.         3.9347775 ]\n",
      " [1.         0.        ]], shape=(7, 2), dtype=float32)\n"
     ]
    },
    {
     "ename": "",
     "evalue": "",
     "output_type": "error",
     "traceback": [
      "\u001b[1;31mThe Kernel crashed while executing code in the current cell or a previous cell. \n",
      "\u001b[1;31mPlease review the code in the cell(s) to identify a possible cause of the failure. \n",
      "\u001b[1;31mClick <a href='https://aka.ms/vscodeJupyterKernelCrash'>here</a> for more info. \n",
      "\u001b[1;31mView Jupyter <a href='command:jupyter.viewOutput'>log</a> for further details."
     ]
    }
   ],
   "source": [
    "print(seesaw_weights)\n",
    "print(1-labels)\n",
    "print((1-labels) * seesaw_weights)"
   ]
  },
  {
   "cell_type": "code",
   "execution_count": 4,
   "metadata": {},
   "outputs": [
    {
     "data": {
      "text/plain": [
       "(64, 52, 2500)"
      ]
     },
     "execution_count": 4,
     "metadata": {},
     "output_type": "execute_result"
    }
   ],
   "source": [
    "data = np.load('allData/prognosis/pretreatment_response/hb_data.npy')\n",
    "data.shape"
   ]
  },
  {
   "cell_type": "code",
   "execution_count": 5,
   "metadata": {},
   "outputs": [
    {
     "data": {
      "text/plain": [
       "[<matplotlib.lines.Line2D at 0x716f01a8a100>]"
      ]
     },
     "execution_count": 5,
     "metadata": {},
     "output_type": "execute_result"
    },
    {
     "data": {
      "image/png": "[encoded data removed]",
      "text/plain": [
       "<Figure size 640x480 with 1 Axes>"
      ]
     },
     "metadata": {},
     "output_type": "display_data"
    }
   ],
   "source": [
    "plt.plot(np.mean(data, axis=(0, 1)))"
   ]
  },
  {
   "cell_type": "code",
   "execution_count": 7,
   "metadata": {},
   "outputs": [
    {
     "name": "stdout",
     "output_type": "stream",
     "text": [
      "[3 4 6 0 9 7 5 1 2 8]\n",
      "[0 1 2 3 4 5 6 7 8 9]\n"
     ]
    }
   ],
   "source": [
    "a = np.arange(10)\n",
    "\n",
    "shuffled_indices = np.random.permutation(a.shape[0])\n",
    "print(shuffled_indices)\n",
    "\n",
    "original = [shuffled_indices.tolist().index(i) for i in range(10)]\n",
    "shuffle_back = shuffled_indices[original]\n",
    "\n",
    "print(shuffle_back)"
   ]
  },
  {
   "cell_type": "code",
   "execution_count": 3,
   "metadata": {},
   "outputs": [
    {
     "name": "stdout",
     "output_type": "stream",
     "text": [
      "{'fprs': [array([0.  , 0.02, 0.04, 0.08, 0.14, 0.18, 0.18, 0.18, 0.22, 0.28, 0.36,\n",
      "       0.4 , 0.4 , 0.44, 0.44, 0.5 , 0.5 , 0.52, 0.6 , 0.62, 0.7 , 0.7 ,\n",
      "       0.72, 0.72, 0.74, 0.74, 0.84, 0.92, 0.96, 0.96, 1.  ]), array([0.  , 0.02, 0.08, 0.08, 0.14, 0.14, 0.34, 0.34, 0.36, 0.36, 0.38,\n",
      "       0.38, 0.4 , 0.4 , 0.48, 0.48, 0.54, 0.54, 0.64, 0.64, 0.7 , 0.74,\n",
      "       0.82, 0.82, 0.84, 0.84, 1.  ]), array([0.  , 0.04, 0.68, 0.68, 0.68, 0.68, 0.68, 0.76, 0.82, 0.82, 1.  ]), array([0.  , 0.02, 0.06, 0.1 , 0.14, 0.28, 0.32, 0.36, 0.44, 0.48, 0.48,\n",
      "       0.5 , 0.54, 0.62, 0.68, 0.68, 0.7 , 0.74, 0.78, 0.9 , 0.9 , 0.96,\n",
      "       1.  ]), array([0.  , 0.02, 0.12, 0.16, 0.24, 0.24, 0.26, 0.3 , 0.36, 0.36, 0.4 ,\n",
      "       0.4 , 0.46, 0.46, 0.48, 0.48, 0.52, 0.52, 0.56, 0.58, 0.58, 0.62,\n",
      "       0.64, 0.68, 0.68, 0.78, 0.82, 0.88, 0.88, 0.92, 0.96, 1.  ]), array([0.  , 0.02, 0.14, 0.14, 0.28, 0.28, 0.36, 0.38, 0.38, 0.42, 0.42,\n",
      "       0.48, 0.48, 0.5 , 0.5 , 0.52, 0.52, 0.54, 0.54, 0.58, 0.58, 0.6 ,\n",
      "       0.68, 0.68, 0.86, 0.86, 0.92, 0.96, 1.  ]), array([0.  , 0.02, 0.04, 0.08, 0.22, 0.26, 0.26, 0.28, 0.34, 0.36, 0.36,\n",
      "       0.46, 0.46, 0.48, 0.48, 0.56, 0.6 , 0.64, 0.68, 0.68, 0.82, 0.86,\n",
      "       0.86, 0.9 , 0.94, 0.96, 1.  ]), array([0.  , 0.04, 0.68, 0.68, 0.68, 0.76, 0.76, 1.  ]), array([0.  , 0.02, 0.16, 0.16, 0.2 , 0.24, 0.42, 0.42, 0.46, 0.46, 0.52,\n",
      "       0.52, 0.58, 0.58, 0.64, 0.64, 0.68, 0.68, 0.84, 0.84, 1.  ]), array([0.  , 0.02, 0.06, 0.12, 0.26, 0.3 , 0.36, 0.38, 0.46, 0.46, 0.5 ,\n",
      "       0.5 , 0.56, 0.62, 0.68, 0.68, 0.7 , 0.7 , 0.72, 0.76, 0.76, 0.78,\n",
      "       0.9 , 0.94, 1.  , 1.  ])], 'tprs': [array([0.        , 0.        , 0.        , 0.        , 0.        ,\n",
      "       0.        , 0.14285714, 0.21428571, 0.21428571, 0.21428571,\n",
      "       0.21428571, 0.21428571, 0.28571429, 0.28571429, 0.42857143,\n",
      "       0.42857143, 0.64285714, 0.64285714, 0.64285714, 0.64285714,\n",
      "       0.64285714, 0.78571429, 0.78571429, 0.85714286, 0.85714286,\n",
      "       0.92857143, 0.92857143, 0.92857143, 0.92857143, 1.        ,\n",
      "       1.        ]), array([0.        , 0.        , 0.        , 0.07142857, 0.07142857,\n",
      "       0.14285714, 0.14285714, 0.28571429, 0.28571429, 0.35714286,\n",
      "       0.35714286, 0.42857143, 0.42857143, 0.5       , 0.5       ,\n",
      "       0.57142857, 0.57142857, 0.71428571, 0.71428571, 0.78571429,\n",
      "       0.78571429, 0.78571429, 0.78571429, 0.85714286, 0.85714286,\n",
      "       1.        , 1.        ]), array([0.        , 0.        , 0.        , 0.57142857, 0.71428571,\n",
      "       0.85714286, 0.92857143, 0.92857143, 0.92857143, 1.        ,\n",
      "       1.        ]), array([0.        , 0.        , 0.        , 0.        , 0.        ,\n",
      "       0.        , 0.        , 0.        , 0.        , 0.        ,\n",
      "       0.28571429, 0.28571429, 0.28571429, 0.28571429, 0.28571429,\n",
      "       0.92857143, 0.92857143, 0.92857143, 0.92857143, 0.92857143,\n",
      "       1.        , 1.        , 1.        ]), array([0.        , 0.        , 0.        , 0.        , 0.        ,\n",
      "       0.07142857, 0.07142857, 0.07142857, 0.07142857, 0.14285714,\n",
      "       0.14285714, 0.21428571, 0.21428571, 0.35714286, 0.35714286,\n",
      "       0.5       , 0.5       , 0.64285714, 0.64285714, 0.64285714,\n",
      "       0.71428571, 0.71428571, 0.71428571, 0.71428571, 0.92857143,\n",
      "       0.92857143, 0.92857143, 0.92857143, 1.        , 1.        ,\n",
      "       1.        , 1.        ]), array([0.        , 0.        , 0.        , 0.07142857, 0.07142857,\n",
      "       0.14285714, 0.14285714, 0.14285714, 0.21428571, 0.21428571,\n",
      "       0.35714286, 0.35714286, 0.42857143, 0.42857143, 0.5       ,\n",
      "       0.5       , 0.57142857, 0.57142857, 0.64285714, 0.64285714,\n",
      "       0.71428571, 0.71428571, 0.71428571, 0.92857143, 0.92857143,\n",
      "       1.        , 1.        , 1.        , 1.        ]), array([0.        , 0.        , 0.        , 0.        , 0.        ,\n",
      "       0.        , 0.14285714, 0.14285714, 0.14285714, 0.14285714,\n",
      "       0.21428571, 0.21428571, 0.28571429, 0.28571429, 0.42857143,\n",
      "       0.42857143, 0.42857143, 0.42857143, 0.42857143, 0.92857143,\n",
      "       0.92857143, 0.92857143, 1.        , 1.        , 1.        ,\n",
      "       1.        , 1.        ]), array([0.        , 0.        , 0.        , 0.71428571, 0.85714286,\n",
      "       0.85714286, 1.        , 1.        ]), array([0.        , 0.        , 0.        , 0.07142857, 0.07142857,\n",
      "       0.07142857, 0.07142857, 0.42857143, 0.42857143, 0.5       ,\n",
      "       0.5       , 0.57142857, 0.57142857, 0.78571429, 0.78571429,\n",
      "       0.85714286, 0.85714286, 0.92857143, 0.92857143, 1.        ,\n",
      "       1.        ]), array([0.        , 0.        , 0.        , 0.        , 0.        ,\n",
      "       0.        , 0.        , 0.        , 0.        , 0.07142857,\n",
      "       0.07142857, 0.35714286, 0.35714286, 0.35714286, 0.35714286,\n",
      "       0.57142857, 0.57142857, 0.64285714, 0.64285714, 0.64285714,\n",
      "       0.92857143, 0.92857143, 0.92857143, 0.92857143, 0.92857143,\n",
      "       1.        ])], 'roc_aucs': [0.49000000000000005, 0.5185714285714285, 0.30999999999999994, 0.36142857142857143, 0.47000000000000003, 0.48857142857142855, 0.4342857142857143, 0.3085714285714285, 0.49, 0.33999999999999997]}\n"
     ]
    }
   ],
   "source": [
    "data = np.load('/Users/shanxiafeng/Documents/Project/Research/fnirs-prognosis/code/fnirs-treatment-response-prediction/results/his_metrics.npy', allow_pickle=True)\n",
    "print(data)"
   ]
  },
  {
   "cell_type": "code",
   "execution_count": 4,
   "metadata": {},
   "outputs": [
    {
     "name": "stdout",
     "output_type": "stream",
     "text": [
      "[[ 0.  1.  2.  3.]\n",
      " [ 0.  1.  2.  3.]\n",
      " [ 0.  5. 10. 15.]\n",
      " [ 0.  1.  2.  3.]]\n",
      "[[ 0.   2.5  2.   3. ]\n",
      " [ 0.   2.5  2.   3. ]\n",
      " [ 0.  12.5 10.  15. ]\n",
      " [ 0.   2.5  2.   3. ]]\n"
     ]
    }
   ],
   "source": [
    "a = np.ones((4,4))\n",
    "for i in range(4):\n",
    "    a[:,i] *= i\n",
    "    \n",
    "a[2, :] *= 5\n",
    "print(a)\n",
    "a[:,1] = (a[:, 2] + a[:, 3]) / 2\n",
    "print(a)"
   ]
  },
  {
   "cell_type": "code",
   "execution_count": 2,
   "metadata": {},
   "outputs": [
    {
     "name": "stdout",
     "output_type": "stream",
     "text": [
      "loocv4 -  (320, 2)\n"
     ]
    }
   ],
   "source": [
    "result = np.load('/home/jy/Documents/fnirs/treatment_response/fnirs-depression-deeplearning/results/gnn_transformer/prognosis_mix_hb/pretreatment_response/loocv_v4l1_rate_0.01_l2_rate_0.001_d_model_16_batch_size_64_n_layers_6/LOO_nested_CV/y_pred.npy')\n",
    "print('loocv4 - ', result.shape)"
   ]
  },
  {
   "cell_type": "code",
   "execution_count": 3,
   "metadata": {},
   "outputs": [
    {
     "name": "stdout",
     "output_type": "stream",
     "text": [
      "allData_loocv4 -  (320, 2)\n"
     ]
    }
   ],
   "source": [
    "allData_loocv4 = np.load('/home/jy/Documents/fnirs/treatment_response/fnirs-depression-deeplearning/allData/prognosis_mix_hb/pretreatment_response/fnirs_pred_loocv4.npy')\n",
    "print('allData_loocv4 - ', allData_loocv4.shape)"
   ]
  }
 ],
 "metadata": {
  "kernelspec": {
   "display_name": "tf",
   "language": "python",
   "name": "python3"
  },
  "language_info": {
   "codemirror_mode": {
    "name": "ipython",
    "version": 3
   },
   "file_extension": ".py",
   "mimetype": "text/x-python",
   "name": "python",
   "nbconvert_exporter": "python",
   "pygments_lexer": "ipython3",
   "version": "3.9.16"
  }
 },
 "nbformat": 4,
 "nbformat_minor": 2
}
