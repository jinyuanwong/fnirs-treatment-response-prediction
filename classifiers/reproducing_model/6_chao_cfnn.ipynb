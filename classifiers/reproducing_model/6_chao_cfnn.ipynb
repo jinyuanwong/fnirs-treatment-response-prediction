{
 "cells": [
  {
   "cell_type": "markdown",
   "metadata": {},
   "source": [
    "\"\"\"\n",
    "Objective: \n",
    "1. Compuate 8 Features\n",
    "    - 4 common features (mean, STD, area under the receiver operating characteristic curve (AUC) and slope)\n",
    "    - four novel feature (CBV, COE, |L| and K) \n",
    "\n",
    "Input: Subject, Channel, TimeSamplePoint, HbType\n",
    "\n",
    "Output: [TemporalFeatures, SpatialFeatures] \n",
    "    TemporalFeatures Subject x (Channel x TimeSample x FourNovelFeature) (52*125*4==26000)\n",
    "\n",
    "Requirement: \n",
    "    index_start: datapoint of Acitvating-Task start\n",
    "        For example: you have 1250 datapoint with the sampling rate of 10Hz. The task starts at 10s. So you index_start would be 100=10s*10Hz\n",
    "    index_end: datapoint of Acitvating-Task end\n",
    "\n",
    "Ref: Zhu, Yibo, et al. \"Classifying major depressive disorder using fNIRS during motor rehabilitation.\" IEEE Transactions on Neural Systems and Rehabilitation Engineering 28.4 (2020): 961-969.\n",
    "\"\"\""
   ]
  },
  {
   "cell_type": "code",
   "execution_count": 1,
   "metadata": {},
   "outputs": [],
   "source": [
    "import numpy as np\n",
    "import matplotlib.pyplot as plt"
   ]
  },
  {
   "cell_type": "code",
   "execution_count": 7,
   "metadata": {},
   "outputs": [
    {
     "name": "stdout",
     "output_type": "stream",
     "text": [
      "Hello\n",
      " input shape -> (216, 52, 125, 2)\n"
     ]
    }
   ],
   "source": [
    "# Choose\n",
    "model_name = 'chao_cfnn' # modify me!!!!!!\n",
    "\n",
    "hbo_main_path = '/Users/shanxiafeng/Documents/Code/python/fnirs_DL/JinyuanWang_pythonCode/allData/Output_npy/twoDoctor/HbO-All-Lowmid-High/correct_channel_data.npy'\n",
    "hbr_main_path = '/Users/shanxiafeng/Documents/Code/python/fnirs_DL/JinyuanWang_pythonCode/allData/Output_npy/twoDoctor/HbR-All-Lowmid-High/correct_channel_data.npy'\n",
    "feature_save_path = f'/Users/shanxiafeng/Documents/Code/python/fnirs_DL/JinyuanWang_pythonCode/allData/data_for_reproducing_model/HbO-All-Lowmid-High/{model_name}'\n",
    "\n",
    "\n",
    "def check_create_path(feature_save_path):\n",
    "    import os\n",
    "    if not os.path.exists(feature_save_path):\n",
    "        print('Hello')\n",
    "        os.makedirs(feature_save_path)\n",
    "check_create_path(feature_save_path)\n",
    "# hbo_main_path = '/Users/shanxiafeng/Documents/Code/python/fnirs_DL/JinyuanWang_pythonCode/allData/Output_npy/twoDoctor/HbO-All-HC-MDD/correct_channel_data.npy'\n",
    "# hbr_main_path = '/Users/shanxiafeng/Documents/Code/python/fnirs_DL/JinyuanWang_pythonCode/allData/Output_npy/twoDoctor/HbR-All-HC-MDD/correct_channel_data.npy'\n",
    "\n",
    "\n",
    "hbo_data = np.load(hbo_main_path)\n",
    "hbo_data = np.transpose(hbo_data, (0,2,1))\n",
    "hbr_data = np.load(hbr_main_path)\n",
    "hbr_data = np.transpose(hbr_data, (0,2,1))\n",
    "\n",
    "\n",
    "# input = np.random.rand(458, 52, 125)\n",
    "# please make sure the input data is normalized using something like z-norm\n",
    "def normalize(data):\n",
    "    # Iterate over each subject\n",
    "    normalized_data = np.empty_like(data)\n",
    "    # Calculate the mean and standard deviation for the current subject\n",
    "    mean = np.mean(data)\n",
    "    std = np.std(data)\n",
    "\n",
    "    # Perform z-normalization for the current subject\n",
    "    normalized_data= (data - mean) / std\n",
    "    return normalized_data\n",
    "\n",
    "\n",
    "input = normalize(np.concatenate((hbo_data[...,np.newaxis],hbr_data[...,np.newaxis]),axis=3))\n",
    "\n",
    "print(f' input shape -> {input.shape}')\n",
    "index_start = 10\n",
    "index_end = 70\n",
    "hbo_type = 0\n",
    "hbr_type = 1"
   ]
  },
  {
   "cell_type": "code",
   "execution_count": 8,
   "metadata": {},
   "outputs": [
    {
     "name": "stdout",
     "output_type": "stream",
     "text": [
      "(216, 52, 125)\n",
      "(216, 52, 125)\n",
      "(216, 52, 125)\n",
      "(216, 52, 125)\n"
     ]
    }
   ],
   "source": [
    "# First to extract the four common features (mean, STD, area under the receiver operating characteristic curve (AUC) and slope)\n",
    "input_hbo_task_part = input[:,:,index_start: index_start+(index_end-index_start)//2, hbo_type] # used the first half of the task period \n",
    "\n",
    "def extract_mean(data):\n",
    "    res = np.mean(data, axis=2)\n",
    "    return res\n",
    "feature_1 = extract_mean(input_hbo_task_part)\n",
    "\n",
    "def extract_std(data):\n",
    "    res = np.std(data, axis=2)\n",
    "    return res\n",
    "feature_2 = extract_std(input_hbo_task_part)\n",
    "\n",
    "def extract_AUC(data):\n",
    "    res = np.sum(data, axis=2)\n",
    "    return res\n",
    "feature_3 = extract_AUC(input_hbo_task_part)\n",
    "\n",
    "def extract_slope(data):\n",
    "    slopes = np.zeros((data.shape[0], data.shape[1]))  # To store the slopes\n",
    "    # Calculating the slope for each (subject, channel) pair across timepoints\n",
    "    for i in range(data.shape[0]):  # Loop through subjects\n",
    "        for j in range(data.shape[1]):  # Loop through channels\n",
    "            # np.polyfit returns coefficients of the polynomial, highest power first\n",
    "            # Since we're fitting a line, we get two values: slope and intercept\n",
    "            slope, intercept = np.polyfit(range(data.shape[2]), data[i, j, :], 1)\n",
    "            slopes[i, j] = slope\n",
    "    return slopes\n",
    "feature_4 = extract_slope(input_hbo_task_part)\n",
    "\n",
    "# CBV \n",
    "hbo = input[...,hbo_type]\n",
    "hbr = input[...,hbo_type]\n",
    "CBV = (hbo + hbr) / np.sqrt(2)\n",
    "print(CBV.shape)\n",
    "\n",
    "# COE \n",
    "COE = (hbo - hbr) / np.sqrt(2)\n",
    "print(COE.shape)\n",
    "# L \n",
    "Mag_L = np.sqrt((np.square(hbo) + np.square(hbr))) / np.sqrt(2)\n",
    "print(Mag_L.shape)\n",
    "\n",
    "# Angle K \n",
    "Ang_K = np.arctan(COE/CBV)\n",
    "print(Ang_K.shape)\n",
    "\n",
    "def reshape_to_matrix(data):\n",
    "    reshape_data = np.reshape(data, (data.shape[0], data.shape[1]*data.shape[2]))\n",
    "    return reshape_data\n",
    "r_CBV = reshape_to_matrix(CBV) # (458, 6500)\n",
    "r_COE = reshape_to_matrix(COE) # (458, 6500)\n",
    "r_Mag_L = reshape_to_matrix(Mag_L) # (458, 6500)\n",
    "r_Ang_K = reshape_to_matrix(Ang_K) # (458, 6500)\n",
    "novel_features = np.concatenate((r_CBV, r_COE, r_Mag_L, r_Ang_K), axis=1) # (458, 26000)\n",
    "np.save(feature_save_path + '/data', novel_features)"
   ]
  },
  {
   "cell_type": "code",
   "execution_count": 10,
   "metadata": {},
   "outputs": [
    {
     "data": {
      "text/plain": [
       "[<matplotlib.lines.Line2D at 0x12ba5e4c0>]"
      ]
     },
     "execution_count": 10,
     "metadata": {},
     "output_type": "execute_result"
    },
    {
     "data": {
      "image/png": "[encoded data removed]",
      "text/plain": [
       "<Figure size 640x480 with 1 Axes>"
      ]
     },
     "metadata": {},
     "output_type": "display_data"
    }
   ],
   "source": [
    "plt.plot(novel_features[0])"
   ]
  },
  {
   "cell_type": "code",
   "execution_count": 32,
   "metadata": {},
   "outputs": [
    {
     "name": "stdout",
     "output_type": "stream",
     "text": [
      "-0.12605460729656187\n",
      "0.015876\n",
      "[[[1.58897640e-02 1.58897640e-02 1.58897640e-02 ... 1.58897640e-02\n",
      "   1.58897640e-02 1.58897640e-02]\n",
      "  [2.91750415e-04 4.15228352e-03 8.35032384e-03 ... 1.73381710e-02\n",
      "   2.18899683e-02 1.86139368e-02]\n",
      "  [1.58897640e-02 1.58897640e-02 1.58897640e-02 ... 1.58897640e-02\n",
      "   1.58897640e-02 1.58897640e-02]\n",
      "  ...\n",
      "  [7.97316183e-03 2.83957154e-03 2.49779967e-04 ... 2.26824431e-02\n",
      "   1.08571186e-02 1.46215591e-03]\n",
      "  [9.50383108e-03 7.99013204e-03 6.11223590e-03 ... 2.74947557e-02\n",
      "   1.59776912e-02 3.12656295e-03]\n",
      "  [1.22478524e-02 5.78592058e-03 1.00471394e-03 ... 2.84576881e-02\n",
      "   1.16649630e-02 1.13869358e-04]]\n",
      "\n",
      " [[4.56274020e-03 1.11107960e-02 1.77010879e-02 ... 1.85618136e-02\n",
      "   4.02742695e-02 2.35102905e-02]\n",
      "  [9.68049607e-03 2.67068180e-03 3.84411057e-02 ... 1.74881403e-02\n",
      "   4.56710231e-02 5.49649467e-02]\n",
      "  [1.16979087e-01 8.78656497e-02 6.46015790e-02 ... 2.16099909e-02\n",
      "   3.84445832e-02 4.13209126e-02]\n",
      "  ...\n",
      "  [2.31445638e-01 1.44664136e-01 4.85962740e-02 ... 4.15912867e-02\n",
      "   1.04058472e-02 9.87992647e-04]\n",
      "  [7.62912470e-02 9.15246601e-02 8.17820671e-02 ... 7.21022650e-02\n",
      "   3.43436916e-02 1.36961632e-02]\n",
      "  [2.61156761e-02 4.93497934e-02 4.43260931e-02 ... 4.09013622e-02\n",
      "   3.71739632e-02 2.79903891e-02]]\n",
      "\n",
      " [[1.07978100e-03 3.28792381e-03 7.89849467e-03 ... 2.35708722e-02\n",
      "   1.12705250e-02 2.53200354e-03]\n",
      "  [8.58951858e-03 8.01851988e-03 9.58397895e-03 ... 2.39968182e-02\n",
      "   1.86991567e-02 1.09173734e-02]\n",
      "  [1.08806135e-02 4.99303947e-03 4.81565650e-05 ... 1.98005107e-02\n",
      "   2.10711075e-02 1.60785527e-02]\n",
      "  ...\n",
      "  [2.53409663e-02 3.62403975e-02 2.28522496e-02 ... 2.00133310e-02\n",
      "   9.83873294e-03 1.83776778e-03]\n",
      "  [8.84959416e-03 1.27146340e-02 7.20510547e-03 ... 2.46838125e-02\n",
      "   2.61193754e-02 1.46158685e-02]\n",
      "  [1.58897640e-02 1.58897640e-02 1.58897640e-02 ... 1.58897640e-02\n",
      "   1.58897640e-02 1.58897640e-02]]\n",
      "\n",
      " ...\n",
      "\n",
      " [[2.64387254e-03 3.53766739e-03 6.31715846e-04 ... 1.02757609e-02\n",
      "   6.48899941e-03 6.04871306e-03]\n",
      "  [2.67995678e-02 2.38196410e-02 6.18374089e-03 ... 1.07757514e-02\n",
      "   1.94453690e-02 2.90988034e-02]\n",
      "  [1.24944596e-05 9.07849297e-04 5.94440650e-03 ... 1.51658328e-02\n",
      "   1.95077793e-02 3.33268358e-02]\n",
      "  ...\n",
      "  [3.65487057e-02 3.30695718e-02 3.91544081e-02 ... 1.45745869e-02\n",
      "   3.46161267e-02 8.20323141e-02]\n",
      "  [1.02411419e-02 2.63605130e-02 4.16228325e-02 ... 1.40022905e-02\n",
      "   3.84178747e-02 1.01457091e-01]\n",
      "  [2.17851124e-03 5.48573374e-03 1.49599437e-02 ... 1.05801869e-02\n",
      "   1.89119471e-02 5.20941985e-02]]\n",
      "\n",
      " [[7.94983522e-03 9.66444834e-03 1.17703602e-02 ... 1.57172438e-02\n",
      "   1.66160166e-02 1.72423637e-02]\n",
      "  [7.46228821e-03 9.12350268e-03 1.20052599e-02 ... 1.47787204e-02\n",
      "   1.74667296e-02 1.59494104e-02]\n",
      "  [1.73698236e-02 1.54067681e-02 1.14577420e-02 ... 1.62112305e-02\n",
      "   2.01363122e-02 1.94533193e-02]\n",
      "  ...\n",
      "  [1.17173779e-01 8.00925383e-02 3.47586919e-02 ... 2.29689275e-02\n",
      "   3.47089363e-02 4.06541913e-02]\n",
      "  [1.03062718e-03 5.58660920e-06 2.06040329e-03 ... 1.12556746e-02\n",
      "   3.88991749e-02 5.20383884e-02]\n",
      "  [4.35839756e-02 4.05003261e-02 3.84656920e-02 ... 1.14779696e-02\n",
      "   5.62094255e-02 8.33548949e-02]]\n",
      "\n",
      " [[2.22672373e-03 1.97160413e-03 2.74037688e-02 ... 1.06292271e-02\n",
      "   1.00543910e-02 6.50473235e-02]\n",
      "  [1.25656439e-02 3.75659174e-03 2.20954967e-03 ... 2.03495315e-02\n",
      "   2.61977234e-03 2.15117214e-03]\n",
      "  [2.42961277e-02 3.34688649e-02 3.39759405e-02 ... 1.50795779e-02\n",
      "   5.46984132e-04 4.08698268e-04]\n",
      "  ...\n",
      "  [1.19903857e-05 5.80555125e-04 3.77361308e-04 ... 1.08189296e-02\n",
      "   1.65717659e-02 3.57935831e-02]\n",
      "  [2.51412988e-02 2.10443698e-02 8.64944684e-03 ... 1.13989818e-02\n",
      "   9.80718170e-03 1.84585492e-02]\n",
      "  [2.20000488e-05 1.28965143e-04 5.22275186e-04 ... 1.64011163e-02\n",
      "   1.19364065e-02 8.23596877e-03]]]\n"
     ]
    }
   ],
   "source": []
  }
 ],
 "metadata": {
  "kernelspec": {
   "display_name": "base",
   "language": "python",
   "name": "python3"
  },
  "language_info": {
   "codemirror_mode": {
    "name": "ipython",
    "version": 3
   },
   "file_extension": ".py",
   "mimetype": "text/x-python",
   "name": "python",
   "nbconvert_exporter": "python",
   "pygments_lexer": "ipython3",
   "version": "3.9.18"
  }
 },
 "nbformat": 4,
 "nbformat_minor": 2
}
