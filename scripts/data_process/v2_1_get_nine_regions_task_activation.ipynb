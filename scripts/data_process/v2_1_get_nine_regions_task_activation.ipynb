{
 "cells": [
  {
   "cell_type": "code",
   "execution_count": 1,
   "metadata": {},
   "outputs": [
    {
     "name": "stdout",
     "output_type": "stream",
     "text": [
      "Current system is Ubuntu\n",
      "9\n",
      "[array([ 8,  9, 19, 20]), array([ 0,  1, 10, 11]), array([ 6,  7, 16, 17, 18, 27, 28]), array([ 2,  3, 12, 13, 14, 23, 24]), array([29, 30, 40, 41, 50, 51]), array([21, 22, 31, 32, 42, 43]), array([38, 39, 48, 49]), array([33, 34, 44, 45]), array([ 4,  5, 15, 25, 26, 35, 36, 37, 46, 47])]\n",
      "HbO: (64, 1250, 9)\n"
     ]
    }
   ],
   "source": [
    "\n",
    "\n",
    "import matplotlib.pyplot as plt\n",
    "\n",
    "from chord import Chord\n",
    "# load \n",
    "import sys\n",
    "import time\n",
    "\n",
    "from sklearn.model_selection import cross_val_score,train_test_split\n",
    "from datetime import date\n",
    "import numpy as np\n",
    "import random\n",
    "import numpy as np\n",
    "import pandas as pd\n",
    "import matplotlib.pyplot as plt\n",
    "from scipy.io import loadmat\n",
    "from scipy.stats import mannwhitneyu\n",
    "from statsmodels.stats.multitest import multipletests\n",
    "import pingouin as pg\n",
    "import subprocess\n",
    "import os \n",
    "from scipy.stats import ranksums\n",
    "from scipy.stats import pearsonr\n",
    "from scipy import stats\n",
    "import seaborn as sns\n",
    "from scipy.stats import mannwhitneyu\n",
    "if sys.platform == 'darwin':\n",
    "    print(\"Current system is macOS\")\n",
    "    main_fold_path = '/Users/shanxiafeng/Documents/Project/Research/fnirs-prognosis/code/fnirs-treatment-response-prediction'\n",
    "elif sys.platform == 'linux':\n",
    "    print(\"Current system is Ubuntu\")\n",
    "    main_fold_path = '/home/jy/Documents/fnirs/treatment_response/fnirs-depression-deeplearning'\n",
    "else:\n",
    "    print(\"Current system is neither macOS nor Ubuntu\")\n",
    "    \n",
    "    \n",
    "os.chdir(main_fold_path)\n",
    "\n",
    "\n",
    "from utils.fnirs_utils import get_nine_region_data\n",
    "\n",
    "\n",
    "    \n",
    "DATA =  np.load('allData/prognosis_mix_hb/pretreatment_response/hb_data.npy')\n",
    "LABEL =  np.load('allData/prognosis_mix_hb/pretreatment_response/label.npy')\n",
    "data = DATA\n",
    "label = LABEL\n",
    "data = get_nine_region_data(data)\n",
    "\n",
    "x = np.load('allData/prognosis_mix_hb/pretreatment_response/label_hamd.npy')\n",
    "reduced_percentage = (x[:, 1] - x[:, 0]) / x[:, 0]\n",
    "\n",
    "HbO = np.transpose(data[...,0::2],(0,2,1))\n",
    "# HbO = individual_normalization(HbO)\n",
    "print(f'HbO: {HbO.shape}')\n",
    "HbR = np.transpose(data[...,1::2],(0,2,1))\n",
    "HbT = HbO + HbR\n",
    "\n",
    "def set_xlabel_of_ax(ax, label_name, font_size):\n",
    "    if label_name == 'HAMD_change':\n",
    "        ax.set_xlabel('HAMD change', fontsize=font_size)\n",
    "        ax.set_xticks(np.arange(-1,1, 0.5))\n",
    "        \n",
    "    else:\n",
    "        ax.set_xticks([0, 1])\n",
    "        ax.set_xticklabels(['Nonresponders', 'Responders'], fontsize=font_size)\n",
    "            \n",
    "def get_five_regions_from_nine(data):\n",
    "    res = np.zeros((data.shape[0], 5))\n",
    "    res[:, 0] = (data[:, 0] + data[:, 1]) / 2\n",
    "    res[:, 1] = (data[:, 2] + data[:, 3]) / 2\n",
    "    res[:, 2] = (data[:, 4] + data[:, 5]) / 2\n",
    "    res[:, 3] = (data[:, 6] + data[:, 7]) / 2\n",
    "    res[:, 4] = data[:, 8]\n",
    "    return res \n",
    "\n",
    "task_end_index = 700\n",
    "task_start_index = 100\n",
    "nine_region_name = ['L-pSFC', 'R-pSFC', 'L-dlPFC', 'R-dlPFC', 'L-STG', 'R-STG', 'L-vlPFC', 'R-vlPFC', 'mPFC']\n",
    "\n",
    "five_region_name = ['pSFC', 'dlPFC', 'STG', 'vlPFC', 'mPFC']\n",
    "\n",
    "dict_hb = {'HbO': HbO, 'HbR': HbR, 'HbT': HbT}\n",
    "\n",
    "dict_label = {'HAMD_change': reduced_percentage, 'Responders': label}\n",
    "\n",
    "dict_region = {'five_regions': five_region_name, 'nine_regions': nine_region_name}\n",
    "\n",
    "feature_name_all = ['Task change', 'Mean', 'Task activation']\n",
    "\n",
    "HB = HbT\n",
    "hb_type = 'HbT'\n",
    "\n",
    "region_num = 'nine_regions'\n",
    "\n",
    "output_fold = 'FigureTable/regression'\n",
    "\n",
    "res_of_dpc = []\n",
    "res_of_dpc_name = []\n",
    "\n",
    "res_of_pSFC = []\n",
    "res_of_pSFC_name = []\n",
    "for feature_name in feature_name_all:\n",
    "    for region_num, region_name in dict_region.items():\n",
    "        for label_name, label_val in dict_label.items():\n",
    "            for hb_type, HB in dict_hb.items():\n",
    "                task_change_hb = np.zeros((64, 1, 9))\n",
    "                \n",
    "                for i in range(task_change_hb.shape[-1]):\n",
    "                    if feature_name == 'Task change': x = HB[:, task_end_index:, i].mean(axis=1) - HB[:, :task_start_index, i].mean(axis=1)\n",
    "                    if feature_name == 'Mean': x = HB[:, :, i].mean(axis=1) \n",
    "                    if feature_name == 'Task activation': x = HB[:, task_start_index:task_end_index, i].mean(axis=1) - HB[:, :task_start_index, i].mean(axis=1) - HB[:, task_end_index:, i].mean(axis=1)\n",
    "                    "
   ]
  },
  {
   "cell_type": "code",
   "execution_count": 15,
   "metadata": {},
   "outputs": [],
   "source": [
    "def calcualte_fnirs_feature(hb, start_index, end_index, feature_name):\n",
    "    res = None\n",
    "    if feature_name == 'Task change': res = hb[:, end_index:, :].mean(axis=1) - hb[:, :start_index, :].mean(axis=1)\n",
    "    if feature_name == 'Mean': res =  hb[:, :, :].mean(axis=1)\n",
    "    if feature_name == 'Task activation': res =  hb[:, start_index:end_index, :].mean(axis=1) - hb[:, :start_index, :].mean(axis=1) - hb[:, end_index:, :].mean(axis=1)\n",
    "    \n",
    "    if res is not None:\n",
    "        return res\n",
    "    else:\n",
    "        raise ValueError('feature_name is not valid')\n",
    "    "
   ]
  },
  {
   "cell_type": "code",
   "execution_count": 44,
   "metadata": {},
   "outputs": [],
   "source": [
    "def get_five_regions_from_nine(data):\n",
    "    res = np.zeros((data.shape[0], 5, data.shape[-1]))\n",
    "    res[:, 0, :] = (data[:, 0, :] + data[:, 1, :]) / 2\n",
    "    res[:, 1, :] = (data[:, 2, :] + data[:, 3, :]) / 2\n",
    "    res[:, 2, :] = (data[:, 4, :] + data[:, 5, :]) / 2\n",
    "    res[:, 3, :] = (data[:, 6, :] + data[:, 7, :]) / 2\n",
    "    res[:, 4, :] = data[:, 8, :]\n",
    "    return res \n",
    "\n",
    "def compute_fNIRS_feature_save(HbO, HbR, HbT, task_start_index, task_end_index, feature_name, region_name, save_pth):\n",
    "    feature_hb = []\n",
    "    for hb in [HbO, HbR, HbT]:\n",
    "        hb_feature = calcualte_fnirs_feature(hb, task_start_index, task_end_index, feature_name)\n",
    "        feature_hb.append(hb_feature)\n",
    "    feature_hb = np.array(feature_hb)\n",
    "    feature_hb = np.transpose(feature_hb, (1, 2, 0))\n",
    "    if region_name == 'five_regions':\n",
    "        feature_hb = get_five_regions_from_nine(feature_hb)\n",
    "    print(feature_name, feature_hb.shape,' is saved to ', save_pth)\n",
    "    np.save(save_pth, feature_hb)\n",
    "    "
   ]
  },
  {
   "cell_type": "code",
   "execution_count": 25,
   "metadata": {},
   "outputs": [],
   "source": [
    "task_end_index = 700\n",
    "task_start_index = 100\n",
    "\n",
    "fnirs_feature_name = ['Task change', 'Mean']\n",
    "regions_name = ['nine_regions', 'five_regions']\n",
    "save_pth = 'allData/prognosis_mix_hb/pretreatment_response/task_change_hb_nine_regions.npy'\n",
    "compute_fNIRS_feature_save(HbO, HbR, HbT, task_start_index, task_end_index, 'Task change', save_pth)\n",
    "\n"
   ]
  },
  {
   "cell_type": "code",
   "execution_count": 45,
   "metadata": {},
   "outputs": [
    {
     "name": "stdout",
     "output_type": "stream",
     "text": [
      "Task change (64, 9, 3)  is saved to  allData/prognosis_mix_hb/pretreatment_response/task_change_hb_nine_regions.npy\n",
      "Task change (64, 5, 3)  is saved to  allData/prognosis_mix_hb/pretreatment_response/task_change_hb_five_regions.npy\n",
      "Mean (64, 9, 3)  is saved to  allData/prognosis_mix_hb/pretreatment_response/mean_hb_nine_regions.npy\n",
      "Mean (64, 5, 3)  is saved to  allData/prognosis_mix_hb/pretreatment_response/mean_hb_five_regions.npy\n"
     ]
    },
    {
     "ename": "",
     "evalue": "",
     "output_type": "error",
     "traceback": [
      "\u001b[1;31mThe Kernel crashed while executing code in the current cell or a previous cell. \n",
      "\u001b[1;31mPlease review the code in the cell(s) to identify a possible cause of the failure. \n",
      "\u001b[1;31mClick <a href='https://aka.ms/vscodeJupyterKernelCrash'>here</a> for more info. \n",
      "\u001b[1;31mView Jupyter <a href='command:jupyter.viewOutput'>log</a> for further details."
     ]
    }
   ],
   "source": [
    "fnirs_feature_name = ['Task change', 'Mean']\n",
    "regions_name = ['nine_regions', 'five_regions']\n",
    "for i in fnirs_feature_name:\n",
    "    for region_name in regions_name:\n",
    "        feature_name = i.replace(' ', '_').lower()\n",
    "        save_pth = 'allData/prognosis_mix_hb/pretreatment_response/' + feature_name + '_hb_' + region_name + '.npy'\n",
    "        compute_fNIRS_feature_save(HbO, HbR, HbT, task_start_index, task_end_index, i, region_name,save_pth)\n"
   ]
  },
  {
   "cell_type": "code",
   "execution_count": 21,
   "metadata": {},
   "outputs": [
    {
     "name": "stdout",
     "output_type": "stream",
     "text": [
      "0.3102146091270153\n"
     ]
    }
   ],
   "source": [
    "task_end_index = 700\n",
    "task_start_index = 100\n",
    "save_pth = 'allData/prognosis_mix_hb/pretreatment_response/mean_hb_nine_regions.npy'\n",
    "\n",
    "\n",
    "feature_hb = []\n",
    "for hb in [HbO, HbR, HbT]:\n",
    "    hb_feature = calcualte_fnirs_feature(hb, task_start_index, task_end_index, 'Mean')\n",
    "    feature_hb.append(hb_feature)\n",
    "feature_hb = np.array(feature_hb)\n",
    "feature_hb = np.transpose(feature_hb, (1, 2, 0))\n",
    "np.save(save_pth, feature_hb)\n",
    "print(np.mean(feature_hb))"
   ]
  }
 ],
 "metadata": {
  "kernelspec": {
   "display_name": "tf",
   "language": "python",
   "name": "python3"
  },
  "language_info": {
   "codemirror_mode": {
    "name": "ipython",
    "version": 3
   },
   "file_extension": ".py",
   "mimetype": "text/x-python",
   "name": "python",
   "nbconvert_exporter": "python",
   "pygments_lexer": "ipython3",
   "version": "3.9.16"
  }
 },
 "nbformat": 4,
 "nbformat_minor": 2
}
