{
 "cells": [
  {
   "cell_type": "code",
   "execution_count": 3,
   "metadata": {},
   "outputs": [
    {
     "name": "stdout",
     "output_type": "stream",
     "text": [
      "Current system is Ubuntu\n"
     ]
    }
   ],
   "source": [
    "import matplotlib.pyplot as plt\n",
    "import numpy as np\n",
    "import os \n",
    "import sys\n",
    "if sys.platform == 'darwin':\n",
    "    print(\"Current system is macOS\")\n",
    "    main_fold_path = '/Users/shanxiafeng/Documents/Project/Research/fnirs-prognosis/code/fnirs-treatment-response-prediction'\n",
    "elif sys.platform == 'linux':\n",
    "    print(\"Current system is Ubuntu\")\n",
    "    main_fold_path = '/home/jy/Documents/fnirs/treatment_response/fnirs-depression-deeplearning'\n",
    "else:\n",
    "    print(\"Current system is neither macOS nor Ubuntu\")\n",
    "    \n",
    "sys.path.append(main_fold_path)    \n",
    "os.chdir(main_fold_path)"
   ]
  },
  {
   "cell_type": "code",
   "execution_count": 9,
   "metadata": {},
   "outputs": [],
   "source": [
    "def get_temporal_channel():\n",
    "    # Posterior superior frontal cortex\n",
    "    PSFC_ch = ['C9', 'C10', 'C20', 'C21', 'C1', 'C2', 'C11', 'C12'] # left_PSFC_location = ['C9', 'C10', 'C20', 'C21'] , right_PSFC_location = ['C1', 'C2', 'C11', 'C12']\n",
    "    #Superior temporal gyrus\n",
    "    STG_ch = ['C22', 'C23', 'C32', 'C33', 'C43', 'C44', 'C30', 'C31', 'C41', 'C42', 'C51', 'C52'] #left_STG_location = ['C22', 'C23', 'C32', 'C33', 'C43', 'C44'], right_STG_location = ['C30', 'C31', 'C41', 'C42', 'C51', 'C52']\n",
    "    \n",
    "    ch = []\n",
    "    for i in PSFC_ch + STG_ch:\n",
    "        ch.append(int(i[1:])-1)\n",
    "    return ch\n",
    "        \n",
    "def get_frontal_channel():\n",
    "    # Dorsolateral prefrontal cortex\n",
    "    DPC_ch = ['C7','C8', 'C17', 'C18', 'C19', 'C28', 'C29', 'C3', 'C4', 'C13', 'C14', 'C15', 'C24', 'C25']# left_DPC_location = ['C7','C8', 'C17', 'C18', 'C19', 'C28', 'C29'], right_DPC_location = ['C3', 'C4', 'C13', 'C14', 'C15', 'C24', 'C25']\n",
    "    # Ventrolateral prefrontal cortex\n",
    "    VPC_ch = ['C34', 'C35', 'C45', 'C46','C39', 'C40', 'C49', 'C50'] # left_VPC_location = ['C34', 'C35', 'C45', 'C46'], right_VPC_location = ['C39', 'C40', 'C49', 'C50']\n",
    "    # Medial prefrontal cortex\n",
    "    MPC_location = ['C5', 'C6', 'C16', 'C26', 'C27', 'C36', 'C37', 'C38', 'C47', 'C48']  \n",
    "    \n",
    "    ch = []\n",
    "    for i in DPC_ch + VPC_ch + MPC_location:\n",
    "        ch.append(int(i[1:])-1)\n",
    "    return ch\n"
   ]
  },
  {
   "cell_type": "code",
   "execution_count": 22,
   "metadata": {},
   "outputs": [
    {
     "data": {
      "text/plain": [
       "(64, 20)"
      ]
     },
     "execution_count": 22,
     "metadata": {},
     "output_type": "execute_result"
    }
   ],
   "source": [
    "temporal_adj.shape"
   ]
  },
  {
   "cell_type": "code",
   "execution_count": 30,
   "metadata": {},
   "outputs": [
    {
     "data": {
      "text/plain": [
       "<matplotlib.image.AxesImage at 0x720dbb842160>"
      ]
     },
     "execution_count": 30,
     "metadata": {},
     "output_type": "execute_result"
    },
    {
     "data": {
      "image/png": "[encoded data removed]",
      "text/plain": [
       "<Figure size 640x480 with 1 Axes>"
      ]
     },
     "metadata": {},
     "output_type": "display_data"
    }
   ],
   "source": [
    "# adj = np.load('/home/jy/Documents/fnirs/treatment_response/fnirs-depression-deeplearning/allData/prognosis_mix_hb/pretreatment_response/adj_matrix.npy')\n",
    "\n",
    "plt.imshow(temporal_adj[0])"
   ]
  },
  {
   "cell_type": "code",
   "execution_count": 32,
   "metadata": {},
   "outputs": [],
   "source": [
    "all_region_fold = 'allData/prognosis_mix_hb/pretreatment_response'\n",
    "temporal_region_fold = 'allData/prognosis_mix_hb/pretreatment_response_temporal'\n",
    "frontal_region_fold = 'allData/prognosis_mix_hb/pretreatment_response_frontal'\n",
    "\n",
    "if not os.path.exists(temporal_region_fold):\n",
    "    os.makedirs(temporal_region_fold)\n",
    "if not os.path.exists(frontal_region_fold):\n",
    "    os.makedirs(frontal_region_fold)\n",
    "\n",
    "temporal_ch = get_temporal_channel()\n",
    "frontal_ch = get_frontal_channel()\n",
    "\n",
    "\n",
    "all_data =np.load(all_region_fold + '/hb_data.npy')\n",
    "temporal_data = all_data[:,temporal_ch,:]\n",
    "frontal_data = all_data[:,frontal_ch,:]\n",
    "\n",
    "all_adj = np.load(all_region_fold + '/adj_matrix.npy')\n",
    "temporal_adj = all_adj[:,temporal_ch,:][:,:,temporal_ch]\n",
    "frontal_adj = all_adj[:,frontal_ch,:][:,:,frontal_ch]\n",
    "\n",
    "label = np.load(all_region_fold + '/label.npy')\n",
    "\n",
    "# save temporal \n",
    "np.save(temporal_region_fold + '/hb_data.npy', temporal_data)\n",
    "np.save(temporal_region_fold + '/adj_matrix.npy', temporal_adj)\n",
    "np.save(temporal_region_fold + '/label.npy', label)\n",
    "\n",
    "# save frontal\n",
    "np.save(frontal_region_fold + '/hb_data.npy', frontal_data)\n",
    "np.save(frontal_region_fold + '/adj_matrix.npy', frontal_adj)\n",
    "np.save(frontal_region_fold + '/label.npy', label)\n"
   ]
  }
 ],
 "metadata": {
  "kernelspec": {
   "display_name": "tf",
   "language": "python",
   "name": "python3"
  },
  "language_info": {
   "codemirror_mode": {
    "name": "ipython",
    "version": 3
   },
   "file_extension": ".py",
   "mimetype": "text/x-python",
   "name": "python",
   "nbconvert_exporter": "python",
   "pygments_lexer": "ipython3",
   "version": "3.9.16"
  }
 },
 "nbformat": 4,
 "nbformat_minor": 2
}
