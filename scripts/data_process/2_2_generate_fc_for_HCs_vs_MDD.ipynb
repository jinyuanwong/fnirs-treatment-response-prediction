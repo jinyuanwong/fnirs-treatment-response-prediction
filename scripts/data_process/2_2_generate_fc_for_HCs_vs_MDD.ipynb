{
 "cells": [
  {
   "cell_type": "code",
   "execution_count": 12,
   "metadata": {},
   "outputs": [
    {
     "name": "stdout",
     "output_type": "stream",
     "text": [
      "Start to read data\n",
      "(140, 52, 1251, 3)\n",
      "Nice, the feature_shape is correct, its shape[1] is 52 (channel)\n"
     ]
    },
    {
     "name": "stderr",
     "output_type": "stream",
     "text": [
      "/Users/shanxiafeng/miniconda3/lib/python3.9/site-packages/scipy/stats/_stats_py.py:4781: ConstantInputWarning: An input array is constant; the correlation coefficient is not defined.\n",
      "  warnings.warn(stats.ConstantInputWarning(msg))\n"
     ]
    },
    {
     "name": "stdout",
     "output_type": "stream",
     "text": [
      "Nice, the feature_shape is correct, its shape[1] is 52 (channel)\n",
      "Nice, the feature_shape is correct, its shape[1] is 52 (channel)\n",
      "(140, 52, 52, 3)\n"
     ]
    }
   ],
   "source": [
    "import numpy as np\n",
    "from scipy import stats\n",
    "import os\n",
    "import sys\n",
    "\n",
    "def compute_correlation(x, y, method='pearsonr'):\n",
    "    if method == 'pearsonr':\n",
    "        corr, _ = stats.pearsonr(x, y)\n",
    "    else:\n",
    "        # raise\n",
    "        raise ValueError('Method not supported')\n",
    "    return corr\n",
    "\n",
    "def compute_dmfc(data):\n",
    "    dm_data = data\n",
    "    feature_shape = dm_data.shape\n",
    "    if feature_shape[1] != 52:\n",
    "        raise ValueError(\n",
    "            'The shape of feature_shape should be (subject, 52, time)')\n",
    "    else:\n",
    "        print(\n",
    "            \"Nice, the feature_shape is correct, its shape[1] is 52 (channel)\")\n",
    "\n",
    "    dmfc = np.zeros((dm_data.shape[0], dm_data.shape[1], dm_data.shape[1]))\n",
    "    for sub in range(feature_shape[0]):\n",
    "        for ch_1 in range(feature_shape[1]):\n",
    "            for ch_2 in range(feature_shape[1]):\n",
    "                if ch_2 < ch_1:\n",
    "                    continue\n",
    "                corr = compute_correlation(\n",
    "                    dm_data[sub, ch_1], dm_data[sub, ch_2])\n",
    "                dmfc[sub, ch_1, ch_2] = corr\n",
    "                dmfc[sub, ch_2, ch_1] = corr\n",
    "    return dmfc\n",
    "def seperate_hb_compute_its_dmfc(hb):\n",
    "    shape = hb.shape\n",
    "    hbo = hb[..., 0]\n",
    "    hbr = hb[..., 1]\n",
    "    hbt = hb[..., 2]\n",
    "    fc_hbo = compute_dmfc(hbo)\n",
    "    fc_hbr = compute_dmfc(hbr)\n",
    "    fc_hbt = compute_dmfc(hbt)\n",
    "    fc_hb = np.concatenate(\n",
    "        (fc_hbo[..., np.newaxis], fc_hbr[..., np.newaxis], fc_hbt[..., np.newaxis]), axis=-1)\n",
    "\n",
    "    return fc_hb\n",
    "\n",
    "\n",
    "def seperate_hb_compute_its_rsfc(hb):\n",
    "    shape = hb.shape\n",
    "    hbo = np.concatenate((hb[..., :100, 0], hb[..., 700:, 0]), axis=-1)\n",
    "    hbr = np.concatenate((hb[..., :100, 1], hb[..., 700:, 1]), axis=-1)\n",
    "    hbt = np.concatenate((hb[..., :100, 2], hb[..., 700:, 2]), axis=-1)\n",
    "    fc_hbo = compute_dmfc(hbo)\n",
    "    fc_hbr = compute_dmfc(hbr)\n",
    "    fc_hbt = compute_dmfc(hbt)\n",
    "    fc_hb = np.concatenate(\n",
    "        (fc_hbo[..., np.newaxis], fc_hbr[..., np.newaxis], fc_hbt[..., np.newaxis]), axis=-1)\n",
    "\n",
    "    return fc_hb\n",
    "\n",
    "\n",
    "fold = '/Users/shanxiafeng/Documents/Project/Research/fnirs-prognosis/code/fnirs-treatment-response-prediction/allData/diagnosis'\n",
    "\n",
    "hb_path = os.path.join(fold, 'hb_data.npy')\n",
    "\n",
    "\n",
    "# read data \n",
    "print('Start to read data')\n",
    "hb = np.load(hb_path, allow_pickle=True)\n",
    "print(hb.shape)\n",
    "# # process data \n",
    "# print('Start to process data')\n",
    "fc_data = seperate_hb_compute_its_dmfc(hb)\n",
    "rsfc_data = seperate_hb_compute_its_rsfc(hb)\n",
    "\n",
    "# # save data \n",
    "# print('Start to save data')\n",
    "np.save(os.path.join(fold, 'fc_data.npy'), fc_data)\n",
    "np.save(os.path.join(fold, 'rsfc_data.npy'), rsfc_data)\n",
    "\n",
    "# print('Done')\n",
    "\n"
   ]
  },
  {
   "cell_type": "code",
   "execution_count": 14,
   "metadata": {},
   "outputs": [],
   "source": []
  },
  {
   "cell_type": "code",
   "execution_count": 4,
   "metadata": {},
   "outputs": [
    {
     "name": "stdout",
     "output_type": "stream",
     "text": [
      "Nice, the feature_shape is correct, its shape[1] is 52 (channel)\n"
     ]
    },
    {
     "name": "stderr",
     "output_type": "stream",
     "text": [
      "/Users/shanxiafeng/miniconda3/lib/python3.9/site-packages/scipy/stats/_stats_py.py:4781: ConstantInputWarning: An input array is constant; the correlation coefficient is not defined.\n",
      "  warnings.warn(stats.ConstantInputWarning(msg))\n"
     ]
    },
    {
     "name": "stdout",
     "output_type": "stream",
     "text": [
      "Nice, the feature_shape is correct, its shape[1] is 52 (channel)\n",
      "Nice, the feature_shape is correct, its shape[1] is 52 (channel)\n"
     ]
    }
   ],
   "source": []
  },
  {
   "cell_type": "code",
   "execution_count": 8,
   "metadata": {},
   "outputs": [],
   "source": []
  }
 ],
 "metadata": {
  "kernelspec": {
   "display_name": "base",
   "language": "python",
   "name": "python3"
  },
  "language_info": {
   "codemirror_mode": {
    "name": "ipython",
    "version": 3
   },
   "file_extension": ".py",
   "mimetype": "text/x-python",
   "name": "python",
   "nbconvert_exporter": "python",
   "pygments_lexer": "ipython3",
   "version": "3.9.18"
  }
 },
 "nbformat": 4,
 "nbformat_minor": 2
}
