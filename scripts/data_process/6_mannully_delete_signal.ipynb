{
 "cells": [
  {
   "cell_type": "code",
   "execution_count": 37,
   "metadata": {},
   "outputs": [],
   "source": [
    "import numpy as np \n",
    "import matplotlib.pyplot as plt \n",
    "\n",
    "prognosis_path = '/Users/shanxiafeng/Documents/Project/Research/fnirs-prognosis/code/fnirs-treatment-response-prediction/allData/prognosis/pre_treatment_hamd_reduction_50/'\n",
    "\n",
    "data = np.load(prognosis_path + 'hb_data.npy')\n",
    "label = np.load(prognosis_path + 'label.npy')\n",
    "\n"
   ]
  },
  {
   "cell_type": "markdown",
   "metadata": {},
   "source": [
    "# input: prognosis/ hb_data -> shape (65, 52, 2502)\n",
    "\n",
    "# process \n",
    "\n",
    "    1 - std > 0.1 -> set to 0 \n",
    "    1.5 - similarity < 0 -> set to 0\n",
    "    2 - all channel will be avg with surrouding signal \n",
    "    3. hbo and hbr will be performed above mentioned steps seperatelly, and then hbt will be calculated \n",
    "\n",
    "\n",
    "# output: shape (65, 52, 1250, 3) last dimension is (hbo, hbr, hbt)\n",
    "# note:\n",
    "    - neighouborhood averaging is a good strategy to get more useful signal. as many channels were canceled and set to 0 because of std>0.1 and similarity<0\n",
    "    1. hbt result is not so good\n",
    "\n",
    "\n",
    "\n"
   ]
  },
  {
   "cell_type": "code",
   "execution_count": 51,
   "metadata": {},
   "outputs": [
    {
     "name": "stdout",
     "output_type": "stream",
     "text": [
      "(52, 52)\n",
      "[ 0  1 10 11]\n"
     ]
    }
   ],
   "source": [
    "import numpy as np\n",
    "adj_matrix = np.load('/Users/shanxiafeng/Documents/Project/Research/fnirs-prognosis/code/fnirs-treatment-response-prediction/allData/neighbour_matrix.npy')[0]\n",
    "print(adj_matrix.shape)\n",
    "\n",
    "sample = np.arange(52)\n",
    "\n",
    "# plt.imshow(adj_matrix[0])\n",
    "\n",
    "# argmax = np.argmax(adj_matrix[0], axis=1)\n",
    "selected_sample = sample[adj_matrix[0] == 1]\n",
    "print(selected_sample)\n",
    "\n",
    "\n",
    "\n",
    "# tmp = average_neighbour_channel(hbo, adj_matrix)"
   ]
  },
  {
   "cell_type": "code",
   "execution_count": null,
   "metadata": {},
   "outputs": [],
   "source": [
    "print(data.shape)\n",
    "hbo = data[:, :, :1250].copy()\n",
    "hbr = data[:, :, 1252:].copy()\n",
    "print(hbr.shape)\n",
    "\n",
    "\n",
    "def compare_signals(signal1, signal2):\n",
    "    correlation = np.corrcoef(signal1, signal2)[0, 1]\n",
    "    return correlation\n",
    "def set_to_zero_if_std_greated_than_threshold(data, threshold):\n",
    "    for i in range(data.shape[0]):\n",
    "        for j in range(data.shape[1]):\n",
    "            if np.std(data[i,j,:]) > threshold:\n",
    "                data[i,j,:] = 0\n",
    "    return data\n",
    "def set_to_zero_if_similarity_lower_than_threshold(data, compared_data, threshold):\n",
    "    for i in range(data.shape[0]):\n",
    "        for j in range(data.shape[1]):\n",
    "            similarity = compare_signals(data[i,j,:], compared_data)\n",
    "            if similarity < threshold:\n",
    "                data[i,j,:] = 0\n",
    "    return data\n",
    "def average_neighbour_channel(data, adj_matrix):\n",
    "    for i in range(data.shape[0]):\n",
    "        for j in range(data.shape[1]):\n",
    "            data[i, j] = np.mean(data[i, adj_matrix[j] == 1], axis=0)\n",
    "    return data \n",
    "\n",
    "\n",
    "\n",
    "data.shape\n",
    "\n",
    "hbr_std_threshold = hbo_std_threshold = 0.1\n",
    "hbr_similiarity_threshold = hbo_similiarity_threshold = 0\n",
    "\n",
    "hbo = set_to_zero_if_std_greated_than_threshold(hbo, hbo_std_threshold)\n",
    "mean_hbo = np.mean(hbo, axis=(0,1))\n",
    "hbo = set_to_zero_if_similarity_lower_than_threshold(hbo, mean_hbo, hbo_similiarity_threshold)\n",
    "\n",
    "\n",
    "hbr = set_to_zero_if_std_greated_than_threshold(hbr, hbr_std_threshold)\n",
    "mean_hbr = np.mean(hbr, axis=(0,1))\n",
    "hbr = set_to_zero_if_similarity_lower_than_threshold(hbr, mean_hbr, hbr_similiarity_threshold)\n",
    "hbr = average_neighbour_channel(hbr, adj_matrix)\n",
    "\n",
    "plot_data = hbr \n",
    "plot_mean_data = mean_hbr\n",
    "\n",
    "for subject in [0,1,2,3]:\n",
    "    fig, axs = plt.subplots(7,8, figsize=(20,20))\n",
    "    for i in range(52):\n",
    "        x = i//8 \n",
    "        y = i%8\n",
    "        axs[x,y].plot(plot_data[subject, i])\n",
    "        std = np.std(plot_data[subject, i])\n",
    "        similarity = compare_signals(plot_data[subject, i], plot_mean_data)\n",
    "        axs[x,y].set_title('std:{:0.2f}si:{:0.3f}'.format(std,similarity))\n",
    "    plt.tight_layout()\n",
    "\n"
   ]
  },
  {
   "cell_type": "code",
   "execution_count": null,
   "metadata": {},
   "outputs": [],
   "source": [
    "hbt = hbo + hbr\n",
    "mean_hbt = np.mean(hbt, axis=(0,1))\n",
    "\n",
    "plot_data = hbt \n",
    "plot_mean_data = mean_hbt\n",
    "\n",
    "for subject in [0,1,2,3]:\n",
    "    fig, axs = plt.subplots(7,8, figsize=(20,20))\n",
    "    for i in range(52):\n",
    "        x = i//8 \n",
    "        y = i%8\n",
    "        axs[x,y].plot(plot_data[subject, i])\n",
    "        std = np.std(plot_data[subject, i])\n",
    "        similarity = compare_signals(plot_data[subject, i], plot_mean_data)\n",
    "        axs[x,y].set_title('std:{:0.2f}si:{:0.3f}'.format(std,similarity))\n",
    "    plt.tight_layout()\n",
    "\n"
   ]
  },
  {
   "cell_type": "code",
   "execution_count": 55,
   "metadata": {},
   "outputs": [
    {
     "name": "stdout",
     "output_type": "stream",
     "text": [
      "(65, 52, 1250, 3)\n"
     ]
    }
   ],
   "source": [
    "result_data = np.concatenate([hbo[..., np.newaxis], hbr[..., np.newaxis], hbt[..., np.newaxis]], axis=-1)\n",
    "print(result_data.shape)\n",
    "np.save(prognosis_path+'hb_data_v1', result_data)"
   ]
  }
 ],
 "metadata": {
  "kernelspec": {
   "display_name": "base",
   "language": "python",
   "name": "python3"
  },
  "language_info": {
   "codemirror_mode": {
    "name": "ipython",
    "version": 3
   },
   "file_extension": ".py",
   "mimetype": "text/x-python",
   "name": "python",
   "nbconvert_exporter": "python",
   "pygments_lexer": "ipython3",
   "version": "3.9.18"
  }
 },
 "nbformat": 4,
 "nbformat_minor": 2
}
