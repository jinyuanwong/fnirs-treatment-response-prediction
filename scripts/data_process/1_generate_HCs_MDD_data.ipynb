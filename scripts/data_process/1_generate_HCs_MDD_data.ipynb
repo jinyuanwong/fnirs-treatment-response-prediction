{
 "cells": [
  {
   "cell_type": "code",
   "execution_count": 117,
   "metadata": {},
   "outputs": [
    {
     "name": "stdout",
     "output_type": "stream",
     "text": [
      "Total amount of HCS: 70\n",
      "Total amount of MDD: 70\n",
      "HCs_list: ['CT001', 'CT002', 'CT003', 'CT004', 'CT005', 'CT006', 'CT007', 'CT008', 'CT009', 'CT010', 'CT011', 'CT012', 'CT013', 'CT014', 'CT016', 'CT017', 'CT018', 'CT019', 'CT020', 'CT021', 'CT022', 'CT023', 'CT024', 'CT025', 'CT026', 'CT027', 'CT028', 'CT029', 'CT030', 'CT031', 'CT032', 'CT034', 'CT035', 'CT036', 'CT037', 'CT038', 'CT039', 'CT040', 'CT041', 'CT042', 'CT043', 'CT044', 'CT045', 'CT046', 'CT047', 'CT048', 'CT049', 'CT050', 'CT051', 'CT052', 'CT054', 'CT055', 'CT056', 'CT057', 'CT058', 'CT059', 'CT060', 'CT061', 'CT062', 'CT063', 'CT064', 'CT065', 'CT066', 'CT067', 'CT069', 'CT070', 'CT071', 'CT072', 'CT073', 'CT074']\n",
      "MDD_list: ['PT001', 'PT002', 'PT003', 'PT004', 'PT005', 'PT006', 'PT008', 'PT009', 'PT010', 'PT011', 'PT012', 'PT013', 'PT014', 'PT015', 'PT016', 'PT017', 'PT018', 'PT019', 'PT020', 'PT021', 'PT022', 'PT023', 'PT024', 'PT025', 'PT026', 'PT027', 'PT028', 'PT029', 'PT030', 'PT031', 'PT032', 'PT033', 'PT034', 'PT035', 'PT036', 'PT037', 'PT038', 'PT039', 'PT040', 'PT041', 'PT042', 'PT043', 'PT044', 'PT045', 'PT046', 'PT047', 'PT048', 'PT049', 'PT050', 'PT051', 'PT052', 'PT053', 'PT054', 'PT055', 'PT056', 'PT057', 'PT058', 'PT059', 'PT060', 'PT061', 'PT062', 'PT063', 'PT064', 'PT065', 'PT066', 'PT067', 'PT068', 'PT069', 'PT070', 'PT071']\n",
      "index: 3 value: nan\n",
      "index: 3 fixed - value: 1\n",
      "(140,)\n",
      "demographic data -> (140, 11)\n",
      "hemoglobin data -> (140, 52, 1251, 3)\n",
      "label data -> (140,)\n"
     ]
    }
   ],
   "source": []
  },
  {
   "cell_type": "code",
   "execution_count": 1,
   "metadata": {},
   "outputs": [
    {
     "name": "stdout",
     "output_type": "stream",
     "text": [
      "(140, 11)\n"
     ]
    }
   ],
   "source": [
    "import numpy as np \n",
    "\n",
    "demo_data = np.load('/Users/shanxiafeng/Documents/Project/Research/fnirs-prognosis/code/fnirs-treatment-response-prediction/allData/diagnosis/demographic_data.npy')\n",
    "print(demo_data.shape)"
   ]
  },
  {
   "cell_type": "code",
   "execution_count": 3,
   "metadata": {},
   "outputs": [
    {
     "data": {
      "text/plain": [
       "array([36, 36, 21, 21, 22, 42, 30, 28, 36, 34, 44, 21, 27, 34, 22, 22, 39,\n",
       "       49, 23, 24, 22, 45, 23, 25, 25, 37, 32, 29, 22, 32, 24, 22, 22, 32,\n",
       "       28, 28, 22, 22, 22, 21, 40, 27, 26, 35, 22, 32, 24, 22, 27, 24, 25,\n",
       "       23, 25, 23, 40, 42, 28, 27, 22, 29, 23, 21, 43, 29, 32, 21, 21, 34,\n",
       "       21, 21, 31, 40, 23, 23, 21, 29, 42, 34, 38, 36, 21, 22, 48, 22, 23,\n",
       "       47, 28, 30, 23, 38, 38, 24, 41, 35, 22, 43, 24, 29, 23, 23, 24, 23,\n",
       "       22, 23, 32, 32, 26, 25, 23, 25, 24, 21, 25, 24, 25, 27, 23, 23, 25,\n",
       "       37, 23, 21, 23, 28, 21, 37, 24, 23, 28, 26, 23, 21, 41, 25, 35, 31,\n",
       "       40, 23, 36, 24])"
      ]
     },
     "execution_count": 3,
     "metadata": {},
     "output_type": "execute_result"
    }
   ],
   "source": [
    "demo_data[:,0]"
   ]
  },
  {
   "cell_type": "code",
   "execution_count": 4,
   "metadata": {},
   "outputs": [],
   "source": [
    "age = demo_data[:,0]"
   ]
  }
 ],
 "metadata": {
  "kernelspec": {
   "display_name": "base",
   "language": "python",
   "name": "python3"
  },
  "language_info": {
   "codemirror_mode": {
    "name": "ipython",
    "version": 3
   },
   "file_extension": ".py",
   "mimetype": "text/x-python",
   "name": "python",
   "nbconvert_exporter": "python",
   "pygments_lexer": "ipython3",
   "version": "3.9.18"
  }
 },
 "nbformat": 4,
 "nbformat_minor": 2
}
