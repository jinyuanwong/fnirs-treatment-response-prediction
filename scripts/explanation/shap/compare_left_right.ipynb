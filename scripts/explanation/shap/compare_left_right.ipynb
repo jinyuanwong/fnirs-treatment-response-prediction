{
 "cells": [
  {
   "cell_type": "code",
   "execution_count": 1,
   "metadata": {},
   "outputs": [],
   "source": [
    "import numpy as np \n",
    "import matplotlib.pyplot as plt"
   ]
  },
  {
   "cell_type": "code",
   "execution_count": 3,
   "metadata": {},
   "outputs": [],
   "source": [
    "shap = np.load('/home/jy/Documents/fnirs/treatment_response/fnirs-depression-deeplearning/results/gnn_transformer/prognosis_mix_hb/pretreatment_response/ten_itr_shap.npy')"
   ]
  },
  {
   "cell_type": "code",
   "execution_count": 7,
   "metadata": {},
   "outputs": [],
   "source": [
    "def get_channel_index_of_region(ch_name):\n",
    "    return np.array([int(ch_name[1:])-1 for ch_name in ch_name])\n",
    "\n",
    "# Posterior superior frontal cortex\n",
    "# PSFC_ch = ['C9', 'C10', 'C20', 'C21', 'C1', 'C2', 'C11', 'C12'] # \n",
    "left_PSFC_location = ['C9', 'C10', 'C20', 'C21']\n",
    "right_PSFC_location = ['C1', 'C2', 'C11', 'C12']\n",
    "\n",
    "# Dorsolateral prefrontal cortex\n",
    "# DPC_ch = ['C7','C8', 'C17', 'C18', 'C19', 'C28', 'C29', 'C3', 'C4', 'C13', 'C14', 'C15', 'C24', 'C25']\n",
    "left_DPC_location = ['C7','C8', 'C17', 'C18', 'C19', 'C28', 'C29']\n",
    "right_DPC_location = ['C3', 'C4', 'C13', 'C14', 'C15', 'C24', 'C25']\n",
    "\n",
    "#Superior temporal gyrus\n",
    "# STG_ch = ['C22', 'C23', 'C32', 'C33', 'C43', 'C44', 'C30', 'C31', 'C41', 'C42', 'C51', 'Cnum_of_region'] #\n",
    "left_STG_location = ['C22', 'C23', 'C32', 'C33', 'C43', 'C44']\n",
    "right_STG_location = ['C30', 'C31', 'C41', 'C42', 'C51', 'C52']\n",
    "\n",
    "# Ventrolateral prefrontal cortex\n",
    "# VPC_ch = ['C34', 'C35', 'C45', 'C46','C39', 'C40', 'C49', 'C50'] # \n",
    "left_VPC_location = ['C34', 'C35', 'C45', 'C46']\n",
    "right_VPC_location = ['C39', 'C40', 'C49', 'C50']\n",
    "\n",
    "# Medial prefrontal cortex\n",
    "MPC_location = ['C5', 'C6', 'C16', 'C26', 'C27', 'C36', 'C37', 'C38', 'C47', 'C48']  \n",
    "nine_region_name = ['L-PSFC', 'R-PSFC', 'L-DPC', 'R-DPC', 'L-STG', 'R-STG', 'L-VPC', 'R-VPC', 'MPC']\n",
    "\n",
    "all_region_location = [left_PSFC_location, right_PSFC_location, left_DPC_location, right_DPC_location, left_STG_location, right_STG_location, left_VPC_location, right_VPC_location, MPC_location]\n",
    "all_region_location = [get_channel_index_of_region(i) for i in all_region_location]\n"
   ]
  },
  {
   "cell_type": "code",
   "execution_count": 19,
   "metadata": {},
   "outputs": [
    {
     "name": "stdout",
     "output_type": "stream",
     "text": [
      "(10,)\n",
      "p-value:  0.885789636854416\n",
      "There is no significant difference between shap_left and shap_right.\n",
      "(10,)\n",
      "p-value:  2.5494843192374824e-13\n",
      "There is a significant difference between shap_left and shap_right.\n",
      "(10,)\n",
      "p-value:  4.089841941447682e-06\n",
      "There is a significant difference between shap_left and shap_right.\n",
      "(10,)\n",
      "p-value:  3.942124324908773e-12\n",
      "There is a significant difference between shap_left and shap_right.\n",
      "Corrected p-value for region 1 : 0.885789636854416\n",
      "There is no significant difference between shap_left and shap_right.\n",
      "Corrected p-value for region 2 : 1.019793727694993e-12\n",
      "There is a significant difference between shap_left and shap_right.\n",
      "Corrected p-value for region 3 : 5.45312258859691e-06\n",
      "There is a significant difference between shap_left and shap_right.\n",
      "Corrected p-value for region 4 : 7.884248649817547e-12\n",
      "There is a significant difference between shap_left and shap_right.\n"
     ]
    }
   ],
   "source": [
    "from scipy.stats import ttest_ind\n",
    "from scipy.stats import ttest_ind\n",
    "from statsmodels.stats.multitest import multipletests\n",
    "all_region_location\n",
    "\n",
    "all_p_values = []\n",
    "for i in range(4):\n",
    "    region_left = all_region_location[i]\n",
    "    region_right = all_region_location[i+1]\n",
    "\n",
    "    shap_left = shap[:, region_left].mean(axis=1)\n",
    "    shap_right = shap[:, region_right].mean(axis=1)\n",
    "\n",
    "    print(shap_left.shape)\n",
    "    # Perform t-test\n",
    "    t_stat, p_value = ttest_ind(shap_left, shap_right)\n",
    "    all_p_values.append(p_value)\n",
    "    print('p-value: ', p_value)\n",
    "    # Check if there is a significant difference\n",
    "    if p_value < 0.05:\n",
    "        print(\"There is a significant difference between shap_left and shap_right.\")\n",
    "    else:\n",
    "        print(\"There is no significant difference between shap_left and shap_right.\")\n",
    "        \n",
    "\n",
    "# all_p_values = []\n",
    "# for i in range(4):\n",
    "#     region_left = all_region_location[i]\n",
    "#     region_right = all_region_location[i+1]\n",
    "\n",
    "#     shap_left = shap[:, region_left].mean(axis=1)\n",
    "#     shap_right = shap[:, region_right].mean(axis=1)\n",
    "\n",
    "#     # Perform t-test\n",
    "#     t_stat, p_value = ttest_ind(shap_left, shap_right)\n",
    "#     all_p_values.append(p_value)\n",
    "\n",
    "# Correct p-values using FDR\n",
    "rejected, corrected_p_values, _, _ = multipletests(all_p_values, method='fdr_bh')\n",
    "\n",
    "for i, p_value in enumerate(corrected_p_values):\n",
    "    print('Corrected p-value for region', i+1, ':', p_value)\n",
    "    # Check if there is a significant difference\n",
    "    if p_value < 0.05:\n",
    "        print(\"There is a significant difference between shap_left and shap_right.\")\n",
    "    else:\n",
    "        print(\"There is no significant difference between shap_left and shap_right.\")\n",
    "\n"
   ]
  }
 ],
 "metadata": {
  "kernelspec": {
   "display_name": "base",
   "language": "python",
   "name": "python3"
  },
  "language_info": {
   "codemirror_mode": {
    "name": "ipython",
    "version": 3
   },
   "file_extension": ".py",
   "mimetype": "text/x-python",
   "name": "python",
   "nbconvert_exporter": "python",
   "pygments_lexer": "ipython3",
   "version": "3.10.13"
  }
 },
 "nbformat": 4,
 "nbformat_minor": 2
}
