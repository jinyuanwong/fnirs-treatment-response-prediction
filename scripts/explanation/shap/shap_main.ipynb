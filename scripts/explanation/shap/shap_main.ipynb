{
 "cells": [
  {
   "cell_type": "code",
   "execution_count": 1,
   "metadata": {},
   "outputs": [
    {
     "name": "stderr",
     "output_type": "stream",
     "text": [
      "2024-04-05 11:48:39.660031: I tensorflow/core/util/port.cc:110] oneDNN custom operations are on. You may see slightly different numerical results due to floating-point round-off errors from different computation orders. To turn them off, set the environment variable `TF_ENABLE_ONEDNN_OPTS=0`.\n",
      "2024-04-05 11:48:39.679679: E tensorflow/compiler/xla/stream_executor/cuda/cuda_dnn.cc:7704] Unable to register cuDNN factory: Attempting to register factory for plugin cuDNN when one has already been registered\n",
      "2024-04-05 11:48:39.679701: E tensorflow/compiler/xla/stream_executor/cuda/cuda_fft.cc:609] Unable to register cuFFT factory: Attempting to register factory for plugin cuFFT when one has already been registered\n",
      "2024-04-05 11:48:39.679710: E tensorflow/compiler/xla/stream_executor/cuda/cuda_blas.cc:1520] Unable to register cuBLAS factory: Attempting to register factory for plugin cuBLAS when one has already been registered\n",
      "2024-04-05 11:48:39.684200: I tensorflow/core/platform/cpu_feature_guard.cc:182] This TensorFlow binary is optimized to use available CPU instructions in performance-critical operations.\n",
      "To enable the following instructions: AVX2 AVX_VNNI FMA, in other operations, rebuild TensorFlow with the appropriate compiler flags.\n",
      "2024-04-05 11:48:39.955279: W tensorflow/compiler/tf2tensorrt/utils/py_utils.cc:38] TF-TRT Warning: Could not find TensorRT\n",
      "/home/jy/miniconda3/envs/tf/lib/python3.9/site-packages/tensorflow_addons/utils/tfa_eol_msg.py:23: UserWarning: \n",
      "\n",
      "TensorFlow Addons (TFA) has ended development and introduction of new features.\n",
      "TFA has entered a minimal maintenance and release mode until a planned end of life in May 2024.\n",
      "Please modify downstream libraries to take dependencies from other repositories in our TensorFlow community (e.g. Keras, Keras-CV, and Keras-NLP). \n",
      "\n",
      "For more information see: https://github.com/tensorflow/addons/issues/2807 \n",
      "\n",
      "  warnings.warn(\n",
      "/home/jy/miniconda3/envs/tf/lib/python3.9/site-packages/tensorflow_addons/utils/ensure_tf_install.py:37: UserWarning: You are currently using a nightly version of TensorFlow (2.14.0-dev20230531). \n",
      "TensorFlow Addons offers no support for the nightly versions of TensorFlow. Some things might work, some other might not. \n",
      "If you encounter a bug, do not file an issue on GitHub.\n",
      "  warnings.warn(\n",
      "2024-04-05 11:48:40.677854: I tensorflow/compiler/xla/stream_executor/cuda/cuda_gpu_executor.cc:995] successful NUMA node read from SysFS had negative value (-1), but there must be at least one NUMA node, so returning NUMA node zero. See more at https://github.com/torvalds/linux/blob/v6.0/Documentation/ABI/testing/sysfs-bus-pci#L344-L355\n"
     ]
    },
    {
     "name": "stdout",
     "output_type": "stream",
     "text": [
      "Sorted indices: [0, 32, 33, 34, 35, 36, 37, 38, 39, 40, 41, 42, 43, 44, 46, 47, 48, 49, 50, 51, 52, 53, 55, 57, 58, 59, 60, 61, 62, 30, 31, 28, 1, 2, 3, 5, 6, 7, 8, 9, 10, 11, 12, 29, 14, 13, 15, 27, 26, 25, 24, 23, 22, 63, 19, 18, 17, 16, 21, 45, 20, 56, 4, 54] Sorted values: [4.  4.  4.  4.  4.  4.  4.  4.  4.  4.  4.  4.  4.  4.  4.  4.  4.  4.\n",
      " 4.  4.  4.  4.  4.  4.  4.  4.  4.  4.  4.  4.  4.  4.  4.  4.  4.  4.\n",
      " 4.  4.  4.  4.  4.  4.  4.  4.  4.  4.  4.  4.  4.  4.  4.  4.  4.  4.\n",
      " 4.  4.  4.  4.  4.  4.2 4.2 4.2 4.2 4.2]\n",
      "[4.  4.  4.  4.  4.2 4.  4.  4.  4.  4.  4.  4.  4.  4.  4.  4.  4.  4.\n",
      " 4.  4.  4.2 4.  4.  4.  4.  4.  4.  4.  4.  4.  4.  4.  4.  4.  4.  4.\n",
      " 4.  4.  4.  4.  4.  4.  4.  4.  4.  4.2 4.  4.  4.  4.  4.  4.  4.  4.\n",
      " 4.2 4.  4.2 4.  4.  4.  4.  4.  4.  4. ]\n",
      "loo_array [0, 32, 33, 34, 35, 36, 37, 38, 39, 40, 41, 42, 43, 44, 46, 47, 48, 49, 50, 51, 52, 53, 55, 57, 58, 59, 60, 61, 62, 30, 31, 28, 1, 2, 3, 5, 6, 7, 8, 9, 10, 11, 12, 29, 14, 13, 15, 27, 26, 25, 24, 23, 22, 63, 19, 18, 17, 16, 21, 45, 20, 56, 4, 54]\n",
      "X_train: (52, 52, 2500)\n",
      "X_val: (11, 52, 2500)\n",
      "X_test: (1, 52, 2500)\n",
      "total sample size is 64\n"
     ]
    },
    {
     "name": "stderr",
     "output_type": "stream",
     "text": [
      "2024-04-05 11:48:40.691870: I tensorflow/compiler/xla/stream_executor/cuda/cuda_gpu_executor.cc:995] successful NUMA node read from SysFS had negative value (-1), but there must be at least one NUMA node, so returning NUMA node zero. See more at https://github.com/torvalds/linux/blob/v6.0/Documentation/ABI/testing/sysfs-bus-pci#L344-L355\n",
      "2024-04-05 11:48:40.691965: I tensorflow/compiler/xla/stream_executor/cuda/cuda_gpu_executor.cc:995] successful NUMA node read from SysFS had negative value (-1), but there must be at least one NUMA node, so returning NUMA node zero. See more at https://github.com/torvalds/linux/blob/v6.0/Documentation/ABI/testing/sysfs-bus-pci#L344-L355\n",
      "2024-04-05 11:48:40.693822: I tensorflow/compiler/xla/stream_executor/cuda/cuda_gpu_executor.cc:995] successful NUMA node read from SysFS had negative value (-1), but there must be at least one NUMA node, so returning NUMA node zero. See more at https://github.com/torvalds/linux/blob/v6.0/Documentation/ABI/testing/sysfs-bus-pci#L344-L355\n",
      "2024-04-05 11:48:40.693889: I tensorflow/compiler/xla/stream_executor/cuda/cuda_gpu_executor.cc:995] successful NUMA node read from SysFS had negative value (-1), but there must be at least one NUMA node, so returning NUMA node zero. See more at https://github.com/torvalds/linux/blob/v6.0/Documentation/ABI/testing/sysfs-bus-pci#L344-L355\n",
      "2024-04-05 11:48:40.693931: I tensorflow/compiler/xla/stream_executor/cuda/cuda_gpu_executor.cc:995] successful NUMA node read from SysFS had negative value (-1), but there must be at least one NUMA node, so returning NUMA node zero. See more at https://github.com/torvalds/linux/blob/v6.0/Documentation/ABI/testing/sysfs-bus-pci#L344-L355\n",
      "2024-04-05 11:48:40.971704: I tensorflow/compiler/xla/stream_executor/cuda/cuda_gpu_executor.cc:995] successful NUMA node read from SysFS had negative value (-1), but there must be at least one NUMA node, so returning NUMA node zero. See more at https://github.com/torvalds/linux/blob/v6.0/Documentation/ABI/testing/sysfs-bus-pci#L344-L355\n",
      "2024-04-05 11:48:40.971793: I tensorflow/compiler/xla/stream_executor/cuda/cuda_gpu_executor.cc:995] successful NUMA node read from SysFS had negative value (-1), but there must be at least one NUMA node, so returning NUMA node zero. See more at https://github.com/torvalds/linux/blob/v6.0/Documentation/ABI/testing/sysfs-bus-pci#L344-L355\n",
      "2024-04-05 11:48:40.971840: I tensorflow/compiler/xla/stream_executor/cuda/cuda_gpu_executor.cc:995] successful NUMA node read from SysFS had negative value (-1), but there must be at least one NUMA node, so returning NUMA node zero. See more at https://github.com/torvalds/linux/blob/v6.0/Documentation/ABI/testing/sysfs-bus-pci#L344-L355\n",
      "2024-04-05 11:48:40.971886: I tensorflow/core/common_runtime/gpu/gpu_device.cc:1639] Created device /job:localhost/replica:0/task:0/device:GPU:0 with 22102 MB memory:  -> device: 0, name: NVIDIA GeForce RTX 4090, pci bus id: 0000:01:00.0, compute capability: 8.9\n"
     ]
    },
    {
     "name": "stdout",
     "output_type": "stream",
     "text": [
      "Model: \"model\"\n",
      "__________________________________________________________________________________________________\n",
      " Layer (type)                Output Shape                 Param #   Connected to                  \n",
      "==================================================================================================\n",
      " input_3 (InputLayer)        [(None, 52, 2500, 1)]        0         []                            \n",
      "                                                                                                  \n",
      " tf.__operators__.getitem (  (None, 52, 2500)             0         ['input_3[0][0]']             \n",
      " SlicingOpLambda)                                                                                 \n",
      "                                                                                                  \n",
      " input_1 (InputLayer)        [(None, 52, 52)]             0         []                            \n",
      "                                                                                                  \n",
      " tf.__operators__.getitem_1  (None, 52, 2500)             0         ['input_3[0][0]']             \n",
      "  (SlicingOpLambda)                                                                               \n",
      "                                                                                                  \n",
      " gcn (GCN)                   (None, 52, 16)               40016     ['tf.__operators__.getitem[0][\n",
      "                                                                    0]',                          \n",
      "                                                                     'input_1[0][0]']             \n",
      "                                                                                                  \n",
      " gcn_1 (GCN)                 (None, 52, 16)               40016     ['tf.__operators__.getitem_1[0\n",
      "                                                                    ][0]',                        \n",
      "                                                                     'input_1[0][0]']             \n",
      "                                                                                                  \n",
      " CLS_pos_encoding_0 (ClsPos  (None, 53, 16)               16        ['gcn[0][0]']                 \n",
      " itionEncodingLayer)                                                                              \n",
      "                                                                                                  \n",
      " CLS_pos_encoding_1 (ClsPos  (None, 53, 16)               16        ['gcn_1[0][0]']               \n",
      " itionEncodingLayer)                                                                              \n",
      "                                                                                                  \n",
      " transformer (Transformer)   (None, 53)                   57696     ['CLS_pos_encoding_0[0][0]']  \n",
      "                                                                                                  \n",
      " transformer_1 (Transformer  (None, 53)                   57696     ['CLS_pos_encoding_1[0][0]']  \n",
      " )                                                                                                \n",
      "                                                                                                  \n",
      " tf.concat (TFOpLambda)      (None, 106)                  0         ['transformer[0][0]',         \n",
      "                                                                     'transformer_1[0][0]']       \n",
      "                                                                                                  \n",
      " layer_normalization_2 (Lay  (None, 106)                  212       ['tf.concat[0][0]']           \n",
      " erNormalization)                                                                                 \n",
      "                                                                                                  \n",
      " dense_2 (Dense)             (None, 256)                  27392     ['layer_normalization_2[0][0]'\n",
      "                                                                    ]                             \n",
      "                                                                                                  \n",
      " dense_3 (Dense)             (None, 128)                  32896     ['dense_2[0][0]']             \n",
      "                                                                                                  \n",
      " dense_4 (Dense)             (None, 2)                    258       ['dense_3[0][0]']             \n",
      "                                                                                                  \n",
      "==================================================================================================\n",
      "Total params: 256214 (1000.84 KB)\n",
      "Trainable params: 256214 (1000.84 KB)\n",
      "Non-trainable params: 0 (0.00 Byte)\n",
      "__________________________________________________________________________________________________\n",
      "hyperparameters: {'Test': 'Adding CLS and using Traditional Position encoding (10000)and CNN encoding', 'batch_size': 64, 'kernel_size_1': (4, 5), 'stride_size_1': (1, 2), 'kernel_size_2': (1, 5), 'stride_size_2': (1, 2), 'kernel_size': [(4, 5), (1, 5)], 'stride_size': [(1, 2), (1, 2)], 'output_channel': 4, 'd_model': 16, 'dropout_rate': 0.4, 'n_layers': 6, 'FFN_units': 256, 'n_heads': 4, 'num_class': 2, 'activation': 'gelu', 'num_of_last_dense': 2, 'l2_rate': 0.01, 'learning_rate': 'CustomSchedule(d_model * FFN_units * n_layers, 200)', 'optimizer': 'tf.keras.optimizers.AdamW(learning_rate, beta_1=0.9, beta_2=0.999, epsilon=1e-9)'}\n"
     ]
    }
   ],
   "source": [
    "import numpy as np \n",
    "import tensorflow as tf\n",
    "import os \n",
    "import sys \n",
    "main_pth = '/home/jy/Documents/fnirs/treatment_response/fnirs-depression-deeplearning/'\n",
    "sys.path.append(main_pth)\n",
    "os.chdir(main_pth)\n",
    "from LOO_nested_CV_model import build_model\n",
    "\n",
    "\n",
    "model_name = 'gnn_transformer'\n",
    "config_file_name = 'pretreatment_response'\n",
    "msg = 'loocv_v1'\n",
    "TrainModel = build_model(model_name, config_file_name,msg)\n"
   ]
  },
  {
   "cell_type": "code",
   "execution_count": 2,
   "metadata": {},
   "outputs": [
    {
     "name": "stdout",
     "output_type": "stream",
     "text": [
      "X_train: (52, 52, 2500)\n",
      "X_val: (11, 52, 2500)\n",
      "X_test: (1, 52, 2500)\n"
     ]
    }
   ],
   "source": [
    "from utils.utils_mine import stratified_LOO_nested_CV\n",
    "\n",
    "data = TrainModel.data\n",
    "label = TrainModel.label\n",
    "adj = TrainModel.adj\n",
    "current_loo = 0\n",
    "k = 0\n",
    "num_of_k_fold = 5\n",
    "classifier = TrainModel.model\n",
    "X_train, Y_train, X_val, Y_val, X_test, Y_test, adj_train, adj_val, adj_test = stratified_LOO_nested_CV(data, label, k=k, num_of_k_fold=num_of_k_fold, current_loo=current_loo, adj=adj)\n",
    "\n",
    "print(f'X_train: {X_train.shape}')\n",
    "print(f'X_val: {X_val.shape}')\n",
    "print(f'X_test: {X_test.shape}')"
   ]
  },
  {
   "cell_type": "code",
   "execution_count": 19,
   "metadata": {},
   "outputs": [],
   "source": [
    "import shap\n",
    "def compute_data_metrics(classifier, input_data, input_adj, y_true):\n",
    "    # Assuming the TensorFlow  is stored in the variable `model`\n",
    "    y_train_pred = classifier.model.predict([input_data, input_adj])\n",
    "    y_train_pred_argmax = np.argmax(y_train_pred, axis=1)\n",
    "    y_train_true = np.argmax(y_true, axis=1)\n",
    "    from utils.utils_mine import get_metrics\n",
    "    return get_metrics(y_train_pred_argmax, y_train_true)\n",
    "\n",
    "all_subjects_shap = []\n",
    "for subject in range(X_train.shape[0]):\n",
    "    for k_fold in range(num_of_k_fold):\n",
    "        X_train, Y_train, X_val, Y_val, X_test, Y_test, adj_train, adj_val, adj_test = stratified_LOO_nested_CV(data, label, k=k_fold, num_of_k_fold=num_of_k_fold, current_loo=subject, adj=adj)\n",
    "        X_train = X_train[..., np.newaxis]\n",
    "        X_test = X_test[..., np.newaxis]\n",
    "        checkpoint_path = f'results/gnn_transformer/prognosis/pretreatment_response/loocv_v1l1_rate_0.01_l2_rate_0.01_d_model_16_batch_size_64_n_layers_6/LOO_nested_CV/LOO_{subject}/stratified_nested_5_CV_fold-{k_fold}/fold-best-checkpoint'\n",
    "        classifier.model.load_weights(checkpoint_path)\n",
    "\n",
    "        \n",
    "        # NOTE TO DO: why the train metrics are very bad? see sub-0 fold-0/1 \n",
    "        # train_metrics = compute_data_metrics(classifier, X_train, adj_train, Y_train)\n",
    "        # val_metrics = compute_data_metrics(classifier, X_val, adj_val, Y_val)\n",
    "        # print(f\"sub - {subject} - fold - {k_fold} - train metrics - {train_metrics}\")\n",
    "        # print(f\"sub - {subject} - fold - {k_fold} - val metrics - {val_metrics}\")\n",
    "        \n",
    "        \n",
    "        \n",
    "        explainer = shap.GradientExplainer(classifier.model, [X_train, adj_train])\n",
    "        shap_values, _ = explainer.shap_values([X_test, adj_test])\n",
    "        all_subjects_shap.append(shap_values)\n"
   ]
  },
  {
   "cell_type": "code",
   "execution_count": 17,
   "metadata": {},
   "outputs": [
    {
     "name": "stdout",
     "output_type": "stream",
     "text": [
      "(1, 52, 2500, 1, 2)\n"
     ]
    }
   ],
   "source": [
    "shap_values = np.array(shap_values)\n",
    "print(shap_values.shape)\n"
   ]
  }
 ],
 "metadata": {
  "kernelspec": {
   "display_name": "tf",
   "language": "python",
   "name": "python3"
  },
  "language_info": {
   "codemirror_mode": {
    "name": "ipython",
    "version": 3
   },
   "file_extension": ".py",
   "mimetype": "text/x-python",
   "name": "python",
   "nbconvert_exporter": "python",
   "pygments_lexer": "ipython3",
   "version": "3.9.16"
  }
 },
 "nbformat": 4,
 "nbformat_minor": 2
}
