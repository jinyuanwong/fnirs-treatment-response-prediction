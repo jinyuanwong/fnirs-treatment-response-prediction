{
 "cells": [
  {
   "cell_type": "code",
   "execution_count": null,
   "metadata": {},
   "outputs": [],
   "source": [
    "import numpy as np \n",
    "import tensorflow as tf\n",
    "import os \n",
    "import sys \n",
    "main_pth = '/home/jy/Documents/fnirs/treatment_response/fnirs-depression-deeplearning/'\n",
    "sys.path.append(main_pth)\n",
    "os.chdir(main_pth)\n",
    "from LOO_nested_CV_model import build_model\n",
    "\n",
    "\n",
    "model_name = 'gnn_transformer'\n",
    "config_file_name = 'pretreatment_response'\n",
    "msg = 'loocv_v1'\n",
    "TrainModel = build_model(model_name, config_file_name,msg)\n"
   ]
  },
  {
   "cell_type": "code",
   "execution_count": null,
   "metadata": {},
   "outputs": [],
   "source": [
    "from utils.utils_mine import stratified_LOO_nested_CV\n",
    "\n",
    "data = TrainModel.data\n",
    "label = TrainModel.label\n",
    "adj = TrainModel.adj\n",
    "current_loo = 0\n",
    "k = 0\n",
    "num_of_k_fold = 5\n",
    "classifier = TrainModel.model\n",
    "X_train, Y_train, X_val, Y_val, X_test, Y_test, adj_train, adj_val, adj_test = stratified_LOO_nested_CV(data, label, k=k, num_of_k_fold=num_of_k_fold, current_loo=current_loo, adj=adj)\n",
    "\n",
    "print(f'X_train: {X_train.shape}')\n",
    "print(f'X_val: {X_val.shape}')\n",
    "print(f'X_test: {X_test.shape}')"
   ]
  },
  {
   "cell_type": "code",
   "execution_count": null,
   "metadata": {},
   "outputs": [],
   "source": [
    "import shap\n",
    "def compute_data_metrics(classifier, input_data, input_adj, y_true):\n",
    "    # Assuming the TensorFlow  is stored in the variable `model`\n",
    "    y_train_pred = classifier.model.predict([input_data, input_adj])\n",
    "    y_train_pred_argmax = np.argmax(y_train_pred, axis=1)\n",
    "    y_train_true = np.argmax(y_true, axis=1)\n",
    "    from utils.utils_mine import get_metrics\n",
    "    return get_metrics(y_train_pred_argmax, y_train_true)\n",
    "\n",
    "for subject in range(X_train.shape[0]):\n",
    "    for k_fold in range(num_of_k_fold):\n",
    "        X_train, Y_train, X_val, Y_val, X_test, Y_test, adj_train, adj_val, adj_test = stratified_LOO_nested_CV(data, label, k=k_fold, num_of_k_fold=num_of_k_fold, current_loo=subject, adj=adj)\n",
    "\n",
    "        checkpoint_path = f'results/gnn_transformer/prognosis/pretreatment_response/loocv_v1l1_rate_0.01_l2_rate_0.01_d_model_16_batch_size_64_n_layers_6/LOO_nested_CV/LOO_{subject}/stratified_nested_5_CV_fold-{k_fold}/fold-best-checkpoint'\n",
    "        classifier.model.load_weights(checkpoint_path)\n",
    "\n",
    "        \n",
    "        # NOTE TO DO: why the train metrics are very bad? see sub-0 fold-0/1 \n",
    "        # train_metrics = compute_data_metrics(classifier, X_train, adj_train, Y_train)\n",
    "        # val_metrics = compute_data_metrics(classifier, X_val, adj_val, Y_val)\n",
    "        # print(f\"sub - {subject} - fold - {k_fold} - train metrics - {train_metrics}\")\n",
    "        # print(f\"sub - {subject} - fold - {k_fold} - val metrics - {val_metrics}\")\n",
    "        \n",
    "        \n",
    "        import shap \n",
    "        explainer = shap.GradientExplainer(classifier.model, [X_train, adj_train])\n",
    "        shap_values = explainer.shap_values([X_test, adj_test])\n",
    "        break\n",
    "    break"
   ]
  },
  {
   "cell_type": "code",
   "execution_count": null,
   "metadata": {},
   "outputs": [],
   "source": [
    "from sklearn.metrics import accuracy_score\n",
    "\n",
    "y_true = [0, 1, 0, 1, 1]  # Actual labels\n",
    "y_pred = [0, 1, 1, 1, 0]  # Predicted labels\n",
    "\n",
    "accuracy = accuracy_score(y_true, y_pred)\n",
    "print(f\"Accuracy: {accuracy}\")\n"
   ]
  }
 ],
 "metadata": {
  "kernelspec": {
   "display_name": "tf",
   "language": "python",
   "name": "python3"
  },
  "language_info": {
   "codemirror_mode": {
    "name": "ipython",
    "version": 3
   },
   "file_extension": ".py",
   "mimetype": "text/x-python",
   "name": "python",
   "nbconvert_exporter": "python",
   "pygments_lexer": "ipython3",
   "version": "3.9.16"
  }
 },
 "nbformat": 4,
 "nbformat_minor": 2
}
