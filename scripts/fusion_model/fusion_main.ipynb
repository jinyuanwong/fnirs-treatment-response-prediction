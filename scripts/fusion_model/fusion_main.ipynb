{
 "cells": [
  {
   "cell_type": "code",
   "execution_count": 1,
   "metadata": {},
   "outputs": [
    {
     "name": "stdout",
     "output_type": "stream",
     "text": [
      "[[10 10 10 7 7 6 25]\n",
      " [nan 10 4 2 7 4 21]\n",
      " [7 8 9 3 2 6 27]\n",
      " [7 7 7 7 7 4 20]\n",
      " [4 8 4 1 0 4 17]\n",
      " [4 4 4 0 0 3 10]\n",
      " [7 6 7 0 5 3 15]\n",
      " [3 6 6 0 3 4 21]\n",
      " [nan 9 8 0 4 4 22]\n",
      " [8 8 8 3 7 4 21]\n",
      " [6 8 8 1 7 4 21]\n",
      " [4 7 6 0 3 4 21]\n",
      " [nan 7 5 0 0 4 19]\n",
      " [6 5 3 2 4 3 15]\n",
      " [9 9 9 2 2 4 23]\n",
      " [5 8 5 0 1 4 21]\n",
      " [7 6 5 0 4 4 19]\n",
      " [10 10 10 7 7 6 27]\n",
      " [6 4 4 0 2 3 15]\n",
      " [8 8 8 7 7 4 19]\n",
      " [8 6 5 5 7 3 15]\n",
      " [8 8 8 0 6 6 25]\n",
      " [10 9 7 5 5 4 22]\n",
      " [5 4 6 0 7 5 24]\n",
      " [7 9 9 3 3 7 30]\n",
      " [4 3 10 0 3 6 25]\n",
      " [6 9 8 7 7 6 26]\n",
      " [5 4 4 0 3 5 24]\n",
      " [7 6 2 7 7 6 26]\n",
      " [5 4 3 0 1 4 20]\n",
      " [5 8 7 3 4 4 23]\n",
      " [5 8 4 3 3 3 16]\n",
      " [4 6 5 2 2 4 20]\n",
      " [4 6 5 2 2 4 20]\n",
      " [8 6 10 0 3 5 24]\n",
      " [8 5 6 5 5 6 25]\n",
      " [5 3 6 6 6 4 22]\n",
      " [9 9 9 4 7 4 21]\n",
      " [6 7 2 0 2 3 16]\n",
      " [8 6 5 0 0 7 31]\n",
      " [7 7 6 3 7 6 26]\n",
      " [8 5 7 4 7 4 23]\n",
      " [nan 7 6 0 0 3 16]\n",
      " [6 7 6 5 5 3 12]\n",
      " [7 7 7 2 7 4 23]\n",
      " [7 9 3 3 7 4 21]\n",
      " [7 8 8 2 6 3 15]\n",
      " [4 2 2 0 2 3 14]\n",
      " [5 8 8 3 3 4 23]\n",
      " [9 10 7 3 7 6 26]\n",
      " [10 7 10 1 5 4 18]\n",
      " [10 6 5 1 2 4 19]\n",
      " [6 3 7 0 4 3 16]\n",
      " [7 7 0 0 0 3 10]\n",
      " [5 7 5 3 4 5 24]\n",
      " [3 5 5 0 0 3 14]\n",
      " [1 2 0 0 0 3 13]\n",
      " [4 7 3 5 2 4 17]\n",
      " [6 2 6 0 2 3 14]\n",
      " [0 2 1 0 0 2 8]\n",
      " [nan 0 0 0 0 1 7]\n",
      " [7 5 3 0 5 3 11]\n",
      " [nan 3 3 0 0 2 8]\n",
      " [nan 6 6 nan 7 4 19]]\n"
     ]
    }
   ],
   "source": [
    "# first make sure the input data are good \n",
    "import numpy as np \n",
    "import os \n",
    "import sys \n",
    "from scipy.stats import zscore\n",
    "\n",
    "os.chdir('/home/jy/Documents/fnirs/treatment_response/fnirs-depression-deeplearning')\n",
    "fold_path = 'allData/prognosis/pretreatment_response'\n",
    "clinical_data = np.load(fold_path + '/baseline_clinical_data.npy', allow_pickle=True)\n",
    "MMDT_score = np.load(fold_path + '/MMDT_score.npy', allow_pickle=True)\n",
    "print(clinical_data)  \n",
    "\n"
   ]
  },
  {
   "cell_type": "code",
   "execution_count": 2,
   "metadata": {},
   "outputs": [],
   "source": [
    "\n",
    "def replace_nan_with_mean(data):\n",
    "    input = data.copy()\n",
    "    for i in range(input.shape[1]):\n",
    "        col = input[:, i]\n",
    "        col = np.array(col, dtype=float)\n",
    "        mean_value = np.nanmean(col)\n",
    "        col[np.isnan(col)] = mean_value\n",
    "        input[:, i] = col\n",
    "    return input\n",
    "def impute_nan_data(data):\n",
    "    input = data.copy()\n",
    "    from sklearn.experimental import enable_iterative_imputer\n",
    "    # Now you can import IterativeImputer\n",
    "    from sklearn.impute import IterativeImputer\n",
    "\n",
    "\n",
    "    # Create an instance of IterativeImputer\n",
    "    imputer = IterativeImputer()\n",
    "\n",
    "    # Fit the imputer on the clinical_data ndarray\n",
    "    imputer.fit(input)\n",
    "\n",
    "    # Transform the clinical_data ndarray by imputing the NaN values\n",
    "    imputed_data = imputer.transform(clinical_data)\n",
    "    return imputed_data\n",
    "\n",
    "mean_data = replace_nan_with_mean(clinical_data)\n",
    "imputed_data = impute_nan_data(clinical_data)\n",
    "\n",
    "z_imputed_data = zscore(imputed_data, axis=0)\n",
    "\n",
    "# add MMDT data\n"
   ]
  },
  {
   "cell_type": "code",
   "execution_count": 4,
   "metadata": {},
   "outputs": [
    {
     "name": "stdout",
     "output_type": "stream",
     "text": [
      "(64, 7)\n",
      "(64, 1)\n"
     ]
    }
   ],
   "source": [
    "print(z_imputed_data.shape)\n",
    "MMDT_score_1 = MMDT_score[:,1:]\n",
    "print(MMDT_score_1.shape)\n",
    "\n",
    "fusion_data = np.concatenate((z_imputed_data, MMDT_score_1), axis=1)\n",
    "np.save(fold_path + '/fusion_data.npy', fusion_data)\n",
    "# for i in range(fusion_data.shape[0]):\n",
    "#     plt.plot(fusion_data[i,:], label='1')\n",
    "#     plt.plot(fusion_data[i,:-2], label='2')\n",
    "#     plt.legend()"
   ]
  },
  {
   "cell_type": "code",
   "execution_count": 83,
   "metadata": {},
   "outputs": [
    {
     "name": "stdout",
     "output_type": "stream",
     "text": [
      "Best parameters: {'border_count': 32, 'depth': 4, 'iterations': 100, 'l2_leaf_reg': 5, 'learning_rate': 1e-06}\n",
      "Best score: 0.7813852813852814\n"
     ]
    }
   ],
   "source": [
    "from catboost import CatBoostClassifier\n",
    "from sklearn.model_selection import GridSearchCV\n",
    "\n",
    "X_train = fusion_data\n",
    "Y_train = np.load(fold_path + '/label.npy', allow_pickle=True)\n",
    "\n",
    "# 定义模型\n",
    "model = CatBoostClassifier(verbose=0)\n",
    "\n",
    "# 参数网格\n",
    "param_grid = {\n",
    "    'learning_rate': [1e-6],\n",
    "    'depth': [4],\n",
    "    'l2_leaf_reg': [5],\n",
    "    'iterations': [100],\n",
    "    'border_count': [32],\n",
    "\n",
    "\n",
    "}\n",
    "\n",
    "# 网格搜索\n",
    "grid_search = GridSearchCV(model, param_grid, cv=3, scoring='accuracy')\n",
    "grid_search.fit(X_train, Y_train)\n",
    "\n",
    "# 最佳参数和性能\n",
    "print(\"Best parameters:\", grid_search.best_params_)\n",
    "print(\"Best score:\", grid_search.best_score_)\n"
   ]
  },
  {
   "cell_type": "code",
   "execution_count": 20,
   "metadata": {},
   "outputs": [
    {
     "name": "stdout",
     "output_type": "stream",
     "text": [
      "Best parameters: {'learning_rate': 0.01, 'max_depth': 4, 'n_estimators': 50, 'scale_pos_weight': 100.0}\n",
      "Best score: 1.0\n"
     ]
    }
   ],
   "source": [
    "from xgboost import XGBClassifier\n",
    "from sklearn.model_selection import GridSearchCV\n",
    "\n",
    "X_train = fusion_data\n",
    "Y_train = np.load(fold_path + '/label.npy', allow_pickle=True)\n",
    "\n",
    "# 定义模型\n",
    "model = XGBClassifier(scale_pos_weight=61*1e5)\n",
    "\n",
    "# 参数网格\n",
    "# Parameter grid\n",
    "param_grid = {\n",
    "    'n_estimators': [50, 100, 500],\n",
    "    'max_depth': [4],  # Depth of trees. Increasing this value will make the model more complex and more likely to overfit.\n",
    "    'learning_rate': [0.01],  # Step size shrinkage used to prevent overfitting. Range is [0,1]\n",
    "    'scale_pos_weight': [1e2],  # A value greater than 0 should be used in case of high class imbalance as it helps in faster convergence.\n",
    "}\n",
    "\n",
    "# 网格搜索\n",
    "grid_search = GridSearchCV(model, param_grid, cv=5, scoring='recall')\n",
    "grid_search.fit(X_train, Y_train)\n",
    "\n",
    "# 最佳参数和性能\n",
    "print(\"Best parameters:\", grid_search.best_params_)\n",
    "print(\"Best score:\", grid_search.best_score_)\n"
   ]
  },
  {
   "cell_type": "code",
   "execution_count": 30,
   "metadata": {},
   "outputs": [
    {
     "name": "stdout",
     "output_type": "stream",
     "text": [
      "[[ 1.54893332  0.52915026 -0.60535015  2.1665957   0.81749636  6.79962494\n",
      "  -1.51102763  1.03175391 -0.67419986 -0.5400228   1.13389342]\n",
      " [-0.77874548  0.52915026 -0.60535015 -0.42521972  0.81749636  0.24576958\n",
      "   0.1855648  -0.96922337 -0.67419986 -0.5400228  -0.8819171 ]\n",
      " [-0.77874548  0.52915026 -0.60535015 -0.42521972  0.81749636  0.24576958\n",
      "   0.1855648  -0.96922337  1.4832397   2.50951771  1.13389342]\n",
      " [-1.05259005 -1.88982237 -0.60535015 -0.42521972 -0.80064077 -0.40961596\n",
      "   0.1855648  -0.96922337  1.4832397   3.52603121  1.13389342]\n",
      " [ 0.04278821  0.52915026 -0.60535015 -0.42521972  0.81749636  0.24576958\n",
      "   0.1855648   1.03175391  1.4832397   1.4930042  -0.8819171 ]\n",
      " [ 1.82277789  0.52915026 -0.60535015 -0.42521972  0.81749636  0.24576958\n",
      "  -1.51102763  1.03175391  1.4832397   0.4764907  -0.8819171 ]\n",
      " [ 0.72739963 -1.88982237 -0.60535015 -0.42521972  0.81749636  0.24576958\n",
      "   0.1855648  -0.96922337 -0.67419986 -0.5400228  -0.8819171 ]\n",
      " [ 1.27508876  0.52915026  3.40248531 -0.42521972  0.81749636  0.24576958\n",
      "   0.1855648  -0.96922337  1.4832397   1.4930042   1.13389342]\n",
      " [ 1.00124419  0.52915026  0.73059501 -0.42521972 -2.4187779  -1.72038703\n",
      "   0.1855648   1.03175391 -0.67419986 -0.5400228  -0.8819171 ]\n",
      " [-1.05259005 -1.88982237 -0.60535015  2.1665957  -0.80064077 -0.40961596\n",
      "   0.1855648  -0.96922337  1.4832397   2.50951771  1.13389342]\n",
      " [-0.91566776  0.52915026 -0.60535015 -0.42521972  0.81749636  0.24576958\n",
      "   0.1855648  -0.96922337  1.4832397   1.4930042   1.13389342]\n",
      " [ 2.64431158  0.52915026 -0.60535015 -0.42521972 -2.4187779  -1.72038703\n",
      "  -1.51102763 -0.96922337  1.4832397   1.4930042  -0.8819171 ]\n",
      " [-0.91566776  0.52915026  2.06654016 -0.42521972 -0.80064077 -0.40961596\n",
      "   0.1855648  -0.96922337  1.4832397   1.4930042  -0.8819171 ]\n",
      " [-0.77874548  0.52915026  0.73059501 -0.42521972  0.81749636  0.24576958\n",
      "   0.1855648  -0.96922337 -0.67419986 -0.5400228   1.13389342]\n",
      " [ 2.5073893  -1.88982237 -0.60535015  2.1665957   0.81749636  0.24576958\n",
      "  -1.51102763 -0.96922337 -0.67419986 -0.5400228   1.13389342]\n",
      " [-0.09413407  0.52915026 -0.60535015 -0.42521972 -2.4187779  -1.72038703\n",
      "  -1.51102763  1.03175391  1.4832397   0.4764907   1.13389342]\n",
      " [ 0.1797105   0.52915026  2.06654016 -0.42521972  0.81749636  0.24576958\n",
      "   1.88215722  1.03175391 -0.67419986 -0.5400228  -0.8819171 ]\n",
      " [-0.77874548 -1.88982237 -0.60535015 -0.42521972  0.81749636  0.24576958\n",
      "  -1.51102763 -0.96922337 -0.67419986 -0.5400228  -0.8819171 ]\n",
      " [ 1.27508876  0.52915026 -0.60535015 -1.72112743 -0.80064077 -0.40961596\n",
      "   0.1855648   1.03175391 -0.67419986 -0.5400228  -0.8819171 ]\n",
      " [ 1.27508876 -1.88982237  0.73059501 -0.42521972 -0.80064077 -0.40961596\n",
      "   1.88215722 -0.96922337 -0.67419986 -0.5400228   1.13389342]\n",
      " [-0.6418232   0.52915026  2.06654016  2.1665957   0.81749636  0.24576958\n",
      "   0.1855648  -0.96922337  1.4832397   3.52603121  1.13389342]\n",
      " [ 1.6858556   0.52915026 -0.60535015 -0.42521972 -0.80064077 -0.40961596\n",
      "   0.1855648   1.03175391 -0.67419986 -0.5400228  -0.8819171 ]\n",
      " [ 0.86432191  0.52915026  0.73059501 -0.42521972  0.81749636  0.24576958\n",
      "  -1.51102763 -0.96922337 -0.67419986 -0.5400228  -0.8819171 ]\n",
      " [-0.91566776  0.52915026 -0.60535015 -0.42521972 -1.34001981  0.24576958\n",
      "   0.1855648  -0.96922337 -0.67419986 -0.5400228  -0.8819171 ]\n",
      " [ 1.95970017  0.52915026  2.06654016 -0.42521972  0.81749636  0.24576958\n",
      "   0.1855648   1.03175391 -0.67419986 -0.5400228   1.13389342]\n",
      " [-0.6418232   0.52915026  2.06654016 -0.42521972  0.81749636  0.24576958\n",
      "   1.88215722 -0.96922337 -0.67419986 -0.5400228  -0.8819171 ]\n",
      " [ 0.04278821  0.52915026  0.73059501 -0.42521972 -0.80064077 -0.40961596\n",
      "   0.1855648  -0.96922337 -0.67419986 -0.5400228   1.13389342]\n",
      " [-0.77874548  0.52915026  0.73059501 -0.42521972  0.81749636  0.24576958\n",
      "   0.1855648   1.03175391  1.4832397   0.4764907  -0.8819171 ]\n",
      " [-0.77874548 -1.88982237 -0.60535015 -0.42521972  0.81749636  0.24576958\n",
      "   0.1855648  -0.96922337  1.4832397   0.4764907  -0.8819171 ]\n",
      " [-0.6418232  -1.88982237 -0.60535015  2.1665957  -0.80064077 -0.40961596\n",
      "  -1.51102763  1.03175391 -0.67419986 -0.5400228   1.13389342]\n",
      " [-0.77874548  0.52915026  0.73059501 -0.42521972 -0.80064077 -0.40961596\n",
      "   0.1855648   1.03175391 -0.67419986 -0.5400228  -0.8819171 ]\n",
      " [-0.91566776 -1.88982237 -0.60535015 -0.42521972  0.81749636  0.24576958\n",
      "   0.1855648  -0.96922337  1.4832397   0.4764907  -0.8819171 ]\n",
      " [ 0.45355506  0.52915026 -0.60535015 -0.42521972 -0.80064077 -0.40961596\n",
      "   0.1855648   1.03175391 -0.67419986 -0.5400228  -0.8819171 ]\n",
      " [ 0.45355506  0.52915026 -0.60535015 -0.42521972 -0.80064077 -0.40961596\n",
      "   0.1855648   1.03175391 -0.67419986 -0.5400228  -0.8819171 ]\n",
      " [-0.36797863  0.52915026 -0.60535015 -0.42521972 -0.80064077 -0.40961596\n",
      "   0.1855648   1.03175391 -0.67419986 -0.5400228   1.13389342]\n",
      " [-0.50490092  0.52915026  0.73059501 -0.42521972 -2.4187779  -1.72038703\n",
      "   0.1855648   1.03175391 -0.67419986 -0.5400228  -0.8819171 ]\n",
      " [-0.77874548 -1.88982237 -0.60535015 -0.42521972 -0.80064077 -0.40961596\n",
      "   0.1855648   1.03175391  1.4832397   0.4764907   1.13389342]\n",
      " [-0.50490092 -1.88982237  2.06654016 -0.42521972  0.81749636  0.24576958\n",
      "  -1.51102763  1.03175391  1.4832397   0.4764907   1.13389342]\n",
      " [-0.6418232  -1.88982237 -0.60535015 -0.42521972  0.81749636  0.24576958\n",
      "  -1.51102763 -0.96922337 -0.67419986 -0.5400228  -0.8819171 ]\n",
      " [-1.05259005  0.52915026 -0.60535015  2.1665957   0.81749636  0.24576958\n",
      "  -1.51102763  1.03175391  1.4832397  -0.5400228   1.13389342]\n",
      " [-0.50490092  0.52915026 -0.60535015 -0.42521972 -0.80064077 -0.40961596\n",
      "  -1.51102763  1.03175391  1.4832397   0.4764907  -0.8819171 ]\n",
      " [-0.6418232  -1.88982237 -0.60535015 -0.42521972 -0.80064077 -0.40961596\n",
      "  -1.51102763 -0.96922337 -0.67419986 -0.5400228   1.13389342]\n",
      " [-0.50490092  0.52915026  0.73059501  2.1665957   0.81749636  0.24576958\n",
      "   0.1855648  -0.96922337 -0.67419986 -0.5400228   1.13389342]\n",
      " [-0.23105635  0.52915026  0.73059501 -0.42521972 -0.80064077 -0.40961596\n",
      "   0.1855648  -0.96922337 -0.67419986 -0.5400228  -0.8819171 ]\n",
      " [-0.77874548  0.52915026 -0.60535015 -0.42521972  0.81749636  0.24576958\n",
      "   0.1855648   1.03175391 -0.67419986 -0.5400228  -0.8819171 ]\n",
      " [-0.77874548  0.52915026 -0.60535015 -0.42521972 -0.80064077  0.24576958\n",
      "   0.1855648   1.03175391 -0.67419986 -0.5400228  -0.8819171 ]\n",
      " [-0.50490092  0.52915026 -0.60535015  2.1665957   0.81749636  0.24576958\n",
      "   0.1855648  -0.96922337 -0.67419986 -0.5400228  -0.8819171 ]\n",
      " [ 1.13816647  0.52915026 -0.60535015 -0.42521972 -0.80064077 -0.40961596\n",
      "   1.88215722  1.03175391 -0.67419986 -0.5400228  -0.8819171 ]\n",
      " [-0.77874548  0.52915026  0.73059501  2.1665957  -0.80064077 -0.40961596\n",
      "   0.1855648   1.03175391 -0.67419986 -0.5400228   1.13389342]\n",
      " [ 1.13816647  0.52915026 -0.60535015 -0.42521972  0.81749636  0.24576958\n",
      "  -1.51102763  1.03175391 -0.67419986 -0.5400228   1.13389342]\n",
      " [-0.6418232   0.52915026 -0.60535015 -0.42521972  0.81749636  0.24576958\n",
      "   0.1855648  -0.96922337  1.4832397   0.4764907  -0.8819171 ]\n",
      " [-0.77874548  0.52915026 -0.60535015  2.1665957   0.81749636  0.24576958\n",
      "   0.1855648  -0.96922337 -0.67419986 -0.5400228   1.13389342]\n",
      " [-0.09413407  0.52915026  0.73059501 -0.42521972 -0.80064077 -0.40961596\n",
      "   0.1855648   1.03175391 -0.67419986 -0.5400228  -0.8819171 ]\n",
      " [-0.36797863  0.52915026  2.06654016 -0.42521972  0.81749636  0.24576958\n",
      "   0.1855648   1.03175391 -0.67419986 -0.5400228   1.13389342]\n",
      " [-0.77874548  0.52915026 -0.60535015 -0.42521972 -0.80064077 -0.40961596\n",
      "   0.1855648  -0.96922337 -0.67419986 -0.5400228   1.13389342]\n",
      " [-1.05259005  0.52915026 -0.60535015 -0.42521972  0.81749636  0.24576958\n",
      "   0.1855648   1.03175391 -0.67419986 -0.5400228  -0.8819171 ]\n",
      " [ 1.6858556   0.52915026 -0.60535015 -0.42521972 -0.80064077 -0.40961596\n",
      "   0.1855648   1.03175391 -0.67419986 -0.5400228  -0.8819171 ]\n",
      " [-0.50490092  0.52915026 -0.60535015 -0.42521972 -0.80064077 -0.40961596\n",
      "  -1.51102763 -0.96922337 -0.67419986 -0.5400228  -0.8819171 ]\n",
      " [ 0.86432191 -1.88982237 -0.60535015  2.1665957   0.81749636  0.24576958\n",
      "   0.1855648  -0.96922337 -0.67419986 -0.5400228   1.13389342]\n",
      " [ 0.31663278  0.52915026 -0.60535015 -0.42521972  0.81749636  0.24576958\n",
      "   1.88215722  1.03175391  1.4832397   0.4764907  -0.8819171 ]\n",
      " [ 1.54893332  0.52915026 -0.60535015 -0.42521972  0.81749636  0.24576958\n",
      "   1.88215722 -0.96922337 -0.67419986 -0.5400228   1.13389342]\n",
      " [-0.77874548  0.52915026 -0.60535015 -0.42521972  0.81749636  0.24576958\n",
      "   1.88215722  1.03175391 -0.67419986 -0.5400228   1.13389342]\n",
      " [ 1.00124419  0.52915026 -0.60535015 -0.42521972  0.81749636  0.24576958\n",
      "   1.88215722 -0.96922337 -0.67419986 -0.5400228  -0.8819171 ]\n",
      " [-0.6418232   0.52915026 -0.60535015 -0.42521972  0.81749636  0.24576958\n",
      "   0.1855648  -0.96922337 -0.67419986 -0.5400228  -0.8819171 ]]\n"
     ]
    }
   ],
   "source": [
    "demographic_data = np.load(fold_path + '/demografic_data.npy', allow_pickle=True)\n",
    "demographic_data = demographic_data.astype(float)\n",
    "demographic_data = np.nan_to_num(demographic_data, 0)\n",
    "demographic_data = zscore(demographic_data, axis=0)\n",
    "print(demographic_data)"
   ]
  },
  {
   "cell_type": "code",
   "execution_count": 40,
   "metadata": {},
   "outputs": [
    {
     "data": {
      "text/plain": [
       "{'CatBoost': {'bAcc': 0.5599999999999999, 'Sensitivity': 0.2},\n",
       " 'XGBoost': {'bAcc': 0.48666666666666664, 'Sensitivity': 0.7333333333333333},\n",
       " 'RandomForest': {'bAcc': 0.5633333333333332,\n",
       "  'Sensitivity': 0.26666666666666666},\n",
       " 'DecisionTree': {'bAcc': 0.5866666666666667,\n",
       "  'Sensitivity': 0.3333333333333333},\n",
       " 'Support Vector': {'bAcc': 0.5, 'Sensitivity': 0.0},\n",
       " 'NearestNeighbor': {'bAcc': 0.5199999999999999, 'Sensitivity': 0.1},\n",
       " 'Perceptron': {'bAcc': 0.5399999999999999, 'Sensitivity': 0.4}}"
      ]
     },
     "execution_count": 40,
     "metadata": {},
     "output_type": "execute_result"
    }
   ],
   "source": [
    "from sklearn.ensemble import RandomForestClassifier\n",
    "from sklearn.tree import DecisionTreeClassifier\n",
    "from sklearn.svm import SVC\n",
    "from sklearn.neighbors import KNeighborsClassifier\n",
    "from sklearn.linear_model import Perceptron\n",
    "from xgboost import XGBClassifier\n",
    "from catboost import CatBoostClassifier\n",
    "from sklearn.metrics import accuracy_score, recall_score, make_scorer\n",
    "from sklearn.metrics import balanced_accuracy_score\n",
    "from sklearn.model_selection import cross_validate\n",
    "\n",
    "X_train = fusion_data[:, :2]# np.concatenate((fusion_data, demographic_data), axis=1)\n",
    "models = {\n",
    "    'CatBoost': CatBoostClassifier(verbose=0),\n",
    "    'XGBoost': XGBClassifier(scale_pos_weight=61 * 1e5),\n",
    "    'RandomForest': RandomForestClassifier(),\n",
    "    'DecisionTree': DecisionTreeClassifier(),\n",
    "    'Support Vector': SVC(),\n",
    "    'NearestNeighbor': KNeighborsClassifier(),\n",
    "    'Perceptron': Perceptron()\n",
    "}\n",
    "\n",
    "results = {}\n",
    "\n",
    "for model_name, model in models.items():\n",
    "    # Define the scorers you want to use\n",
    "    scoring = {'balanced_accuracy': make_scorer(balanced_accuracy_score),\n",
    "               'sensitivity': make_scorer(recall_score)}\n",
    "    \n",
    "    # Perform 5-fold cross-validation and get the results\n",
    "    cv_results = cross_validate(model, X_train, Y_train, cv=5, scoring=scoring, return_train_score=False)\n",
    "    \n",
    "    # Calculate mean scores\n",
    "    mean_accuracy = cv_results['test_balanced_accuracy'].mean()\n",
    "    mean_sensitivity = cv_results['test_sensitivity'].mean()\n",
    "    \n",
    "    # Store the results\n",
    "    results[model_name] = {'bAcc': mean_accuracy, 'Sensitivity': mean_sensitivity}\n",
    "\n",
    "results\n"
   ]
  },
  {
   "cell_type": "code",
   "execution_count": 41,
   "metadata": {},
   "outputs": [
    {
     "data": {
      "text/plain": [
       "array([0., 0., 0., 0., 0., 0., 0., 0., 0., 0., 0., 0., 0., 0., 1., 0., 0.,\n",
       "       0., 0., 0., 1., 0., 1., 0., 0., 1., 1., 0., 0., 0., 0., 0., 0., 0.,\n",
       "       0., 0., 0., 0., 1., 1., 0., 1., 0., 0., 0., 1., 0., 1., 1., 0., 0.,\n",
       "       0., 0., 0., 0., 1., 1., 0., 0., 0., 1., 0., 0., 0.])"
      ]
     },
     "execution_count": 41,
     "metadata": {},
     "output_type": "execute_result"
    }
   ],
   "source": [
    "Y_train"
   ]
  },
  {
   "cell_type": "code",
   "execution_count": 51,
   "metadata": {},
   "outputs": [
    {
     "data": {
      "text/plain": [
       "(array([41.,  0.,  0.,  0.,  2.,  0.,  0.,  0.,  2.,  0.,  0.,  1.,  0.,\n",
       "         0.,  0.,  0.,  1.,  0.,  0.,  3.]),\n",
       " array([0.  , 0.05, 0.1 , 0.15, 0.2 , 0.25, 0.3 , 0.35, 0.4 , 0.45, 0.5 ,\n",
       "        0.55, 0.6 , 0.65, 0.7 , 0.75, 0.8 , 0.85, 0.9 , 0.95, 1.  ]),\n",
       " <BarContainer object of 20 artists>)"
      ]
     },
     "execution_count": 51,
     "metadata": {},
     "output_type": "execute_result"
    },
    {
     "data": {
      "image/png": "[encoded data removed]",
      "text/plain": [
       "<Figure size 640x480 with 1 Axes>"
      ]
     },
     "metadata": {},
     "output_type": "display_data"
    },
    {
     "data": {
      "image/png": "[encoded data removed]",
      "text/plain": [
       "<Figure size 640x480 with 1 Axes>"
      ]
     },
     "metadata": {},
     "output_type": "display_data"
    }
   ],
   "source": [
    "import matplotlib.pyplot as plt\n",
    "fusion_data[:,-1:]\n",
    "\n",
    "last_fusion_data = fusion_data[:,-1:].copy()\n",
    "pos_las = last_fusion_data[Y_train == 1]\n",
    "neg_las = last_fusion_data[Y_train == 0]\n",
    "plt.hist(pos_las, bins=20, alpha=0.5, label='Positive')\n",
    "\n",
    "plt.figure()\n",
    "plt.hist(neg_las, bins=20, alpha=0.5, label='Negative')"
   ]
  }
 ],
 "metadata": {
  "kernelspec": {
   "display_name": "tf",
   "language": "python",
   "name": "python3"
  },
  "language_info": {
   "codemirror_mode": {
    "name": "ipython",
    "version": 3
   },
   "file_extension": ".py",
   "mimetype": "text/x-python",
   "name": "python",
   "nbconvert_exporter": "python",
   "pygments_lexer": "ipython3",
   "version": "3.9.16"
  }
 },
 "nbformat": 4,
 "nbformat_minor": 2
}
