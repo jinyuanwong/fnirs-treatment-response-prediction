{
 "cells": [
  {
   "cell_type": "code",
   "execution_count": 4,
   "metadata": {},
   "outputs": [
    {
     "name": "stdout",
     "output_type": "stream",
     "text": [
      "[0 0 0 0 0 1 0 0 0 1 0 0 0 0 1 0 0 0 1 0 0 0 1 0 0 0 0 1 0 0 0 1 0 0 0 1 0\n",
      " 0 0 0 1 0 0 0 1 0 0 0 1 0 0 0 0 1 0 0 0 1 0 0 0 1 0 0 1]\n"
     ]
    }
   ],
   "source": [
    "import numpy as np \n",
    "import matplotlib.pyplot as plt\n",
    "fold = '/Users/shanxiafeng/Documents/Project/Research/fnirs-prognosis/code/fnirs-treatment-response-prediction/allData/prognosis/pre_treatment_hamd_reduction_50'\n",
    "\n",
    "hb = np.load(fold + '/data.npy')\n",
    "label = np.load(fold + '/label.npy')\n",
    "\n",
    "print(label)"
   ]
  },
  {
   "cell_type": "code",
   "execution_count": 16,
   "metadata": {},
   "outputs": [
    {
     "name": "stdout",
     "output_type": "stream",
     "text": [
      "{'accuracies': {'HbT': 0.6304347826086957}, 'model_accuraies': {'HbO': [1.0, 0.0, 1.0, 1.0, 0.0, 1.0, 1.0, 1.0, 1.0, 1.0, 1.0, 0.0, 1.0, 0.0, 1.0, 1.0, 0.0, 1.0, 0.0, 0.0, 1.0, 1.0, 1.0, 1.0, 0.0, 0.0, 1.0, 1.0, 1.0, 1.0, 1.0, 1.0, 1.0, 1.0, 1.0, 0.0, 0.0, 1.0, 1.0, 0.0, 0.0, 1.0, 0.0, 0.0, 1.0, 0.0], 'HbR': [1.0, 1.0, 1.0, 1.0, 1.0, 1.0, 1.0, 1.0, 1.0, 1.0, 1.0, 1.0, 0.0, 1.0, 1.0, 1.0, 1.0, 1.0, 0.0, 0.0, 1.0, 1.0, 1.0, 0.0, 0.0, 1.0, 1.0, 1.0, 1.0, 1.0, 1.0, 1.0, 1.0, 1.0, 1.0, 1.0, 1.0, 1.0, 1.0, 1.0, 1.0, 1.0, 1.0, 1.0, 1.0, 1.0], 'HbT': [1.0, 1.0, 0.0, 1.0, 0.0, 1.0, 1.0, 1.0, 0.0, 1.0, 1.0, 1.0, 0.0, 1.0, 1.0, 1.0, 1.0, 0.0, 1.0, 1.0, 0.0, 1.0, 1.0, 1.0, 0.0, 1.0, 1.0, 0.0, 1.0, 0.0, 1.0, 0.0, 1.0, 0.0, 1.0, 0.0, 0.0, 1.0, 1.0, 0.0, 1.0, 1.0, 1.0, 0.0, 0.0, 0.0]}, 'current_time_seed': 1706258708, 'num_time': 0, 'HB_TYPE_y_pred_and_y_test': {'HbO': [[array([0]), array([0])], [array([1]), array([0])], [array([0]), array([0])], [array([0]), array([0])], [array([0]), array([1])], [array([0]), array([0])], [array([0]), array([0])], [array([0]), array([0])], [array([1]), array([1])], [array([0]), array([0])], [array([0]), array([0])], [array([1]), array([0])], [array([1]), array([1])], [array([1]), array([0])], [array([0]), array([0])], [array([0]), array([0])], [array([0]), array([1])], [array([0]), array([0])], [array([1]), array([0])], [array([1]), array([0])], [array([1]), array([1])], [array([0]), array([0])], [array([0]), array([0])], [array([0]), array([0])], [array([0]), array([1])], [array([1]), array([0])], [array([0]), array([0])], [array([1]), array([1])], [array([0]), array([0])], [array([0]), array([0])], [array([0]), array([0])], [array([1]), array([1])], [array([0]), array([0])], [array([0]), array([0])], [array([0]), array([0])], [array([0]), array([1])], [array([1]), array([0])], [array([0]), array([0])], [array([0]), array([0])], [array([0]), array([1])], [array([1]), array([0])], [array([0]), array([0])], [array([1]), array([0])], [array([0]), array([1])], [array([0]), array([0])], [array([0]), array([1])]], 'HbR': [[array([0]), array([0])], [array([0]), array([0])], [array([0]), array([0])], [array([0]), array([0])], [array([1]), array([1])], [array([0]), array([0])], [array([0]), array([0])], [array([0]), array([0])], [array([1]), array([1])], [array([0]), array([0])], [array([0]), array([0])], [array([0]), array([0])], [array([0]), array([1])], [array([0]), array([0])], [array([0]), array([0])], [array([0]), array([0])], [array([1]), array([1])], [array([0]), array([0])], [array([1]), array([0])], [array([1]), array([0])], [array([1]), array([1])], [array([0]), array([0])], [array([0]), array([0])], [array([1]), array([0])], [array([0]), array([1])], [array([0]), array([0])], [array([0]), array([0])], [array([1]), array([1])], [array([0]), array([0])], [array([0]), array([0])], [array([0]), array([0])], [array([1]), array([1])], [array([0]), array([0])], [array([0]), array([0])], [array([0]), array([0])], [array([1]), array([1])], [array([0]), array([0])], [array([0]), array([0])], [array([0]), array([0])], [array([1]), array([1])], [array([0]), array([0])], [array([0]), array([0])], [array([0]), array([0])], [array([1]), array([1])], [array([0]), array([0])], [array([1]), array([1])]], 'HbT': [[array([0]), array([0])], [array([0]), array([0])], [array([1]), array([0])], [array([0]), array([0])], [array([0]), array([1])], [array([0]), array([0])], [array([0]), array([0])], [array([0]), array([0])], [array([0]), array([1])], [array([0]), array([0])], [array([0]), array([0])], [array([0]), array([0])], [array([0]), array([1])], [array([0]), array([0])], [array([0]), array([0])], [array([0]), array([0])], [array([1]), array([1])], [array([1]), array([0])], [array([0]), array([0])], [array([0]), array([0])], [array([0]), array([1])], [array([0]), array([0])], [array([0]), array([0])], [array([0]), array([0])], [array([0]), array([1])], [array([0]), array([0])], [array([0]), array([0])], [array([0]), array([1])], [array([0]), array([0])], [array([1]), array([0])], [array([0]), array([0])], [array([0]), array([1])], [array([0]), array([0])], [array([1]), array([0])], [array([0]), array([0])], [array([0]), array([1])], [array([1]), array([0])], [array([0]), array([0])], [array([0]), array([0])], [array([0]), array([1])], [array([0]), array([0])], [array([0]), array([0])], [array([0]), array([0])], [array([0]), array([1])], [array([1]), array([0])], [array([0]), array([1])]]}}\n"
     ]
    }
   ],
   "source": [
    "dmfc_dt = np.load('/Users/shanxiafeng/Documents/Project/Research/fnirs-prognosis/code/fnirs-treatment-response-prediction/results/ML_results/DMFC/pre_post_treatment_hamd_reduction_50/Decision Tree_substract_result.npy', allow_pickle=True)"
   ]
  },
  {
   "cell_type": "code",
   "execution_count": 2,
   "metadata": {},
   "outputs": [
    {
     "name": "stdout",
     "output_type": "stream",
     "text": [
      "(46, 52, 2502, 2)\n"
     ]
    }
   ],
   "source": [
    "# pre_post_treatment_hamd_reduction_50\n",
    "\n",
    "data = np.load('/Users/shanxiafeng/Documents/Project/Research/fnirs-prognosis/code/fnirs-treatment-response-prediction/allData/prognosis/pre_post_treatment_hamd_reduction_50/data.npy')\n",
    "\n",
    "print(data.shape)"
   ]
  },
  {
   "cell_type": "code",
   "execution_count": 28,
   "metadata": {},
   "outputs": [
    {
     "name": "stdout",
     "output_type": "stream",
     "text": [
      "[1.0, 1.0, 0.0, 1.0, 0.0, 1.0, 1.0, 1.0, 0.0, 1.0, 1.0, 1.0, 0.0, 1.0, 1.0, 1.0, 1.0, 0.0, 1.0, 1.0, 0.0, 1.0, 1.0, 1.0, 0.0, 1.0, 1.0, 0.0, 1.0, 0.0, 1.0, 0.0, 1.0, 0.0, 1.0, 0.0, 0.0, 1.0, 1.0, 0.0, 1.0, 1.0, 1.0, 0.0, 0.0, 0.0]\n"
     ]
    }
   ],
   "source": [
    "tmp = '/Users/shanxiafeng/Documents/Project/Research/fnirs-prognosis/code/fnirs-treatment-response-prediction/results/ML_results/DMFC/pre_post_treatment_hamd_reduction_50/Decision Tree_substract_result.npy'\n",
    "tmp = np.load(tmp, allow_pickle=True).item()\n",
    "print(tmp['0']['model_accuraies']['HbT'])"
   ]
  },
  {
   "cell_type": "code",
   "execution_count": 11,
   "metadata": {},
   "outputs": [
    {
     "name": "stdout",
     "output_type": "stream",
     "text": [
      "(65, 52, 52, 3)\n",
      "(46, 52, 52, 3, 2)\n"
     ]
    }
   ],
   "source": [
    "base_dmfc = np.load('/Users/shanxiafeng/Documents/Project/Research/fnirs-prognosis/code/fnirs-treatment-response-prediction/allData/prognosis/DMFC/pre_treatment_hamd_reduction_50/data.npy')\n",
    "\n",
    "base_T8_dmfc = np.load('/Users/shanxiafeng/Documents/Project/Research/fnirs-prognosis/code/fnirs-treatment-response-prediction/allData/prognosis/DMFC/pre_post_treatment_hamd_reduction_50/data.npy')\n",
    "\n",
    "print(base_dmfc.shape)\n",
    "print(base_T8_dmfc.shape)\n"
   ]
  },
  {
   "cell_type": "code",
   "execution_count": 7,
   "metadata": {},
   "outputs": [
    {
     "name": "stdout",
     "output_type": "stream",
     "text": [
      "Accuracy: 0.7272727272727273\n"
     ]
    }
   ],
   "source": [
    "from sklearn.ensemble import RandomForestClassifier\n",
    "from sklearn.model_selection import train_test_split\n",
    "from sklearn.metrics import accuracy_score\n",
    "\n",
    "hb_2d = np.reshape(hb, (hb.shape[0], -1))\n",
    "# Split the data into training and testing sets\n",
    "X_train, X_test, y_train, y_test = train_test_split(hb_2d, label, test_size=0.5, random_state=42)\n",
    "\n",
    "# Create a random forest classifier\n",
    "rf_classifier = RandomForestClassifier()\n",
    "\n",
    "# Train the classifier\n",
    "rf_classifier.fit(X_train, y_train)\n",
    "\n",
    "# Predict the labels for the test set\n",
    "y_pred = rf_classifier.predict(X_test)\n",
    "\n",
    "# Calculate the accuracy of the classifier\n",
    "accuracy = accuracy_score(y_test, y_pred)\n",
    "print(\"Accuracy:\", accuracy)\n"
   ]
  },
  {
   "cell_type": "code",
   "execution_count": 14,
   "metadata": {},
   "outputs": [
    {
     "name": "stdout",
     "output_type": "stream",
     "text": [
      "LOOCV Accuracy: 0.7538461538461538\n"
     ]
    }
   ],
   "source": [
    "from sklearn.ensemble import RandomForestClassifier\n",
    "from sklearn.model_selection import LeaveOneOut\n",
    "from sklearn.metrics import accuracy_score\n",
    "import numpy as np\n",
    "# Initialize LeaveOneOut\n",
    "loo = LeaveOneOut()\n",
    "\n",
    "# Initialize the classifier\n",
    "rf_classifier = RandomForestClassifier()\n",
    "\n",
    "# List to store the accuracy for each fold\n",
    "accuracies = []\n",
    "\n",
    "# Loop over each train/test split\n",
    "for train_index, test_index in loo.split(hb_2d):\n",
    "    # Split the data into training and testing sets\n",
    "    X_train, X_test = hb_2d[train_index], hb_2d[test_index]\n",
    "    y_train, y_test = label[train_index], label[test_index]\n",
    "    \n",
    "    # Train the classifier\n",
    "    rf_classifier.fit(X_train, y_train)\n",
    "    \n",
    "    # Predict the label for the test set\n",
    "    y_pred = rf_classifier.predict(X_test)\n",
    "    \n",
    "    # Calculate the accuracy for the current fold\n",
    "    accuracy = accuracy_score(y_test, y_pred)\n",
    "    \n",
    "    # Append the accuracy to the list\n",
    "    accuracies.append(accuracy)\n",
    "\n",
    "# Calculate the average accuracy across all folds\n",
    "average_accuracy = np.mean(accuracies)\n",
    "print(\"LOOCV Accuracy:\", average_accuracy)"
   ]
  },
  {
   "cell_type": "markdown",
   "metadata": {},
   "source": [
    "# 找到是哪些数据没有识别对 （注意看这里！！！）"
   ]
  },
  {
   "cell_type": "code",
   "execution_count": 13,
   "metadata": {},
   "outputs": [
    {
     "name": "stdout",
     "output_type": "stream",
     "text": [
      "0\n",
      "0\n",
      "0\n",
      "0\n",
      "0\n",
      "0\n",
      "0\n",
      "0\n",
      "0\n",
      "0\n",
      "0\n",
      "0\n",
      "0\n",
      "0\n",
      "0\n",
      "0\n",
      "0\n",
      "0\n",
      "1\n",
      "0\n",
      "0\n",
      "0\n",
      "0\n",
      "0\n",
      "0\n",
      "0\n",
      "0\n",
      "0\n",
      "0\n",
      "0\n",
      "0\n",
      "0\n",
      "0\n",
      "0\n",
      "0\n",
      "0\n",
      "0\n",
      "0\n",
      "0\n",
      "0\n",
      "0\n",
      "0\n",
      "0\n",
      "0\n",
      "0\n",
      "0\n",
      "0\n",
      "0\n",
      "0\n"
     ]
    }
   ],
   "source": [
    "for i, acc in enumerate(accuracies):\n",
    "    if acc == 1:\n",
    "        print(label[i])"
   ]
  },
  {
   "cell_type": "code",
   "execution_count": 24,
   "metadata": {},
   "outputs": [
    {
     "name": "stdout",
     "output_type": "stream",
     "text": [
      "current training Logistic Regression\n",
      "current training Random Forest\n",
      "current training SVM\n",
      "current training KNN\n",
      "current training Decision Tree\n",
      "Best performing model: Decision Tree with accuracy: 0.8308\n"
     ]
    }
   ],
   "source": [
    "from sklearn.model_selection import train_test_split\n",
    "from sklearn.metrics import accuracy_score\n",
    "import numpy as np\n",
    "from sklearn.linear_model import LogisticRegression\n",
    "from sklearn.ensemble import RandomForestClassifier\n",
    "from sklearn.svm import SVC\n",
    "from sklearn.neighbors import KNeighborsClassifier\n",
    "from sklearn.tree import DecisionTreeClassifier\n",
    "\n",
    "# 你的数据预处理部分\n",
    "hb_2d = np.reshape(hb, (hb.shape[0], -1))  # 假设hb是你的特征矩阵\n",
    "\n",
    "# 分割数据集\n",
    "X_train, X_test, y_train, y_test = train_test_split(hb_2d, label, test_size=0.2, random_state=42)\n",
    "\n",
    "# 初始化模型\n",
    "models = {\n",
    "    \"Logistic Regression\": LogisticRegression(max_iter=1000),\n",
    "    \"Random Forest\": RandomForestClassifier(),\n",
    "    \"SVM\": SVC(),\n",
    "    \"KNN\": KNeighborsClassifier(),\n",
    "    \"Decision Tree\": DecisionTreeClassifier()\n",
    "}\n",
    "\n",
    "# 存储每个模型的准确率\n",
    "accuracies = {}\n",
    "\n",
    "for name, model in models.items():\n",
    "    print(f'current training {name}')\n",
    "    model_accuraies = []\n",
    "    # Loop over each train/test split\n",
    "    for train_index, test_index in loo.split(hb_2d):\n",
    "        # Split the data into training and testing sets\n",
    "        X_train, X_test = hb_2d[train_index], hb_2d[test_index]\n",
    "        y_train, y_test = label[train_index], label[test_index]\n",
    "        \n",
    "        # Train the classifier\n",
    "        model.fit(X_train, y_train)\n",
    "        \n",
    "        # Predict the label for the test set\n",
    "        y_pred = model.predict(X_test)\n",
    "        \n",
    "        # Calculate the accuracy for the current fold\n",
    "        accuracy = accuracy_score(y_test, y_pred)\n",
    "        \n",
    "        # Append the accuracy to the list\n",
    "        model_accuraies.append(accuracy)\n",
    "\n",
    "    accuracies[name] = np.mean(model_accuraies)\n",
    "\n",
    "# 比较模型性能\n",
    "best_model = max(accuracies, key=accuracies.get)\n",
    "print(f\"Best performing model: {best_model} with accuracy: {accuracies[best_model]:.4f}\")\n"
   ]
  },
  {
   "cell_type": "code",
   "execution_count": 38,
   "metadata": {},
   "outputs": [
    {
     "name": "stdout",
     "output_type": "stream",
     "text": [
      "(65, 52, 2502)\n"
     ]
    }
   ],
   "source": [
    "print(hb.shape)\n",
    "hbo = hb[...,:hb.shape[2]//2]\n",
    "hbr = hb[...,hb.shape[2]//2:]"
   ]
  },
  {
   "cell_type": "code",
   "execution_count": 41,
   "metadata": {},
   "outputs": [
    {
     "name": "stdout",
     "output_type": "stream",
     "text": [
      "current training Logistic Regression\n",
      "current training Random Forest\n",
      "current training SVM\n",
      "current training KNN\n",
      "current training Decision Tree\n",
      "Best performing model: KNN with accuracy: 0.7846\n"
     ]
    }
   ],
   "source": [
    "from sklearn.model_selection import train_test_split\n",
    "from sklearn.metrics import accuracy_score\n",
    "import numpy as np\n",
    "from sklearn.linear_model import LogisticRegression\n",
    "from sklearn.ensemble import RandomForestClassifier\n",
    "from sklearn.svm import SVC\n",
    "from sklearn.neighbors import KNeighborsClassifier\n",
    "from sklearn.tree import DecisionTreeClassifier\n",
    "\n",
    "# 你的数据预处理部分\n",
    "hbo_2d = np.reshape(hbo, (hbo.shape[0], -1))  # 假设hb是你的特征矩阵\n",
    "\n",
    "# 初始化模型\n",
    "models = {\n",
    "    \"Logistic Regression\": LogisticRegression(max_iter=1000),\n",
    "    \"Random Forest\": RandomForestClassifier(),\n",
    "    \"SVM\": SVC(),\n",
    "    \"KNN\": KNeighborsClassifier(),\n",
    "    \"Decision Tree\": DecisionTreeClassifier()\n",
    "}\n",
    "\n",
    "# 存储每个模型的准确率\n",
    "accuracies = {}\n",
    "model_accuraies = {}\n",
    "\n",
    "for name, model in models.items():\n",
    "    print(f'current training {name}')\n",
    "    model_accuraies[name] = []\n",
    "    \n",
    "    # Loop over each train/test split\n",
    "    for train_index, test_index in loo.split(hbo_2d):\n",
    "        # Split the data into training and testing sets\n",
    "        X_train, X_test = hbo_2d[train_index], hbo_2d[test_index]\n",
    "        y_train, y_test = label[train_index], label[test_index]\n",
    "        \n",
    "        # Train the classifier\n",
    "        model.fit(X_train, y_train)\n",
    "        \n",
    "        # Predict the label for the test set\n",
    "        y_pred = model.predict(X_test)\n",
    "        \n",
    "        # Calculate the accuracy for the current fold\n",
    "        accuracy = accuracy_score(y_test, y_pred)\n",
    "        \n",
    "        # Append the accuracy to the list\n",
    "        model_accuraies[name].append(accuracy)\n",
    "\n",
    "    accuracies[name] = np.mean(model_accuraies[name])\n",
    "\n",
    "# # 比较模型性能\n",
    "best_model = max(accuracies, key=accuracies.get)\n",
    "print(f\"Best performing model: {best_model} with accuracy: {accuracies[best_model]:.4f}\")\n"
   ]
  },
  {
   "cell_type": "code",
   "execution_count": 45,
   "metadata": {},
   "outputs": [
    {
     "name": "stdout",
     "output_type": "stream",
     "text": [
      "Logistic Regression: 0.6769\n",
      "Random Forest: 0.7692\n",
      "SVM: 0.7692\n",
      "KNN: 0.7846\n",
      "Decision Tree: 0.7231\n",
      "Logistic Regression: [1.0, 1.0, 1.0, 1.0, 1.0, 0.0, 1.0, 1.0, 1.0, 0.0, 1.0, 1.0, 1.0, 0.0, 0.0, 1.0, 1.0, 1.0, 0.0, 1.0, 1.0, 1.0, 0.0, 0.0, 1.0, 1.0, 1.0, 0.0, 1.0, 1.0, 1.0, 0.0, 1.0, 1.0, 1.0, 0.0, 1.0, 1.0, 0.0, 1.0, 0.0, 1.0, 1.0, 0.0, 0.0, 1.0, 1.0, 1.0, 0.0, 1.0, 0.0, 0.0, 1.0, 0.0, 1.0, 1.0, 1.0, 1.0, 1.0, 0.0, 1.0, 0.0, 1.0, 1.0, 0.0]\n",
      "Random Forest: [1.0, 1.0, 1.0, 1.0, 1.0, 0.0, 1.0, 1.0, 1.0, 0.0, 1.0, 1.0, 1.0, 1.0, 0.0, 1.0, 1.0, 1.0, 0.0, 1.0, 1.0, 1.0, 1.0, 1.0, 1.0, 1.0, 1.0, 0.0, 1.0, 1.0, 1.0, 0.0, 1.0, 1.0, 1.0, 0.0, 1.0, 1.0, 1.0, 1.0, 0.0, 1.0, 1.0, 0.0, 0.0, 1.0, 1.0, 1.0, 1.0, 1.0, 0.0, 1.0, 1.0, 0.0, 1.0, 1.0, 1.0, 0.0, 1.0, 1.0, 1.0, 0.0, 1.0, 1.0, 0.0]\n",
      "SVM: [1.0, 1.0, 1.0, 1.0, 1.0, 0.0, 1.0, 1.0, 1.0, 0.0, 1.0, 1.0, 1.0, 1.0, 0.0, 1.0, 1.0, 1.0, 0.0, 1.0, 1.0, 1.0, 0.0, 1.0, 1.0, 1.0, 1.0, 0.0, 1.0, 1.0, 1.0, 0.0, 1.0, 1.0, 1.0, 0.0, 1.0, 1.0, 1.0, 1.0, 0.0, 1.0, 1.0, 1.0, 0.0, 1.0, 1.0, 1.0, 0.0, 1.0, 1.0, 1.0, 1.0, 0.0, 1.0, 1.0, 1.0, 0.0, 1.0, 1.0, 1.0, 0.0, 1.0, 1.0, 0.0]\n",
      "KNN: [1.0, 1.0, 1.0, 1.0, 1.0, 0.0, 1.0, 1.0, 1.0, 0.0, 1.0, 1.0, 1.0, 1.0, 0.0, 1.0, 1.0, 1.0, 1.0, 1.0, 1.0, 1.0, 0.0, 1.0, 1.0, 1.0, 1.0, 1.0, 1.0, 1.0, 1.0, 0.0, 1.0, 1.0, 1.0, 0.0, 1.0, 1.0, 0.0, 1.0, 0.0, 1.0, 1.0, 1.0, 0.0, 1.0, 1.0, 1.0, 0.0, 1.0, 1.0, 1.0, 1.0, 0.0, 1.0, 1.0, 1.0, 0.0, 1.0, 1.0, 1.0, 0.0, 1.0, 1.0, 0.0]\n",
      "Decision Tree: [1.0, 1.0, 1.0, 1.0, 1.0, 1.0, 1.0, 1.0, 1.0, 0.0, 1.0, 1.0, 1.0, 0.0, 1.0, 1.0, 1.0, 1.0, 1.0, 0.0, 1.0, 1.0, 0.0, 1.0, 1.0, 1.0, 1.0, 0.0, 1.0, 0.0, 0.0, 0.0, 1.0, 0.0, 1.0, 1.0, 1.0, 1.0, 1.0, 1.0, 0.0, 1.0, 1.0, 0.0, 0.0, 0.0, 1.0, 1.0, 0.0, 1.0, 0.0, 1.0, 1.0, 0.0, 1.0, 1.0, 1.0, 1.0, 0.0, 1.0, 1.0, 0.0, 1.0, 1.0, 1.0]\n"
     ]
    }
   ],
   "source": [
    "for name, acc in accuracies.items():\n",
    "    print(f'{name}: {acc:.4f}')\n",
    "\n",
    "for name, acc in model_accuraies.items():\n",
    "    print(f'{name}: {acc}')"
   ]
  },
  {
   "cell_type": "code",
   "execution_count": 77,
   "metadata": {},
   "outputs": [
    {
     "name": "stdout",
     "output_type": "stream",
     "text": [
      "[1. 1. 1. 1. 1. 0. 1. 1. 1. 0. 1. 1. 1. 1. 0. 1. 1. 1. 1. 1. 1. 1. 0. 1.\n",
      " 1. 1. 1. 1. 1. 1. 1. 0. 1. 1. 1. 0. 1. 1. 0. 1. 0. 1. 1. 1. 0. 1. 1. 1.\n",
      " 0. 1. 1. 1. 1. 0. 1. 1. 1. 0. 1. 1. 1. 0. 1. 1. 0.]\n",
      "LOOCV Mean accuracy: 0.7846\n",
      "95% CI: (0.683900455067013, 0.8853303141637562)\n"
     ]
    }
   ],
   "source": [
    "from scipy import stats\n",
    "loocv_results = np.array(model_accuraies['KNN'])\n",
    "print(loocv_results)\n",
    "# 计算均值（平均准确率）和标准误差\n",
    "mean_accuracy = np.mean(loocv_results)\n",
    "se = stats.sem(loocv_results) # 标准误差\n",
    "\n",
    "# 计算95%置信区间\n",
    "confidence_interval = stats.norm.interval(0.95, loc=mean_accuracy, scale=se)\n",
    "\n",
    "print(f\"LOOCV Mean accuracy: {mean_accuracy:.4f}\")\n",
    "print(f\"95% CI: {confidence_interval}\")"
   ]
  },
  {
   "cell_type": "code",
   "execution_count": 91,
   "metadata": {},
   "outputs": [
    {
     "name": "stdout",
     "output_type": "stream",
     "text": [
      "(46, 52, 2502, 2)\n",
      "(46, 52, 2502)\n",
      "(46, 130104)\n"
     ]
    }
   ],
   "source": [
    "def pre_post_read_hb_label(HB_TYPE, fold='/Users/shanxiafeng/Documents/Project/Research/fnirs-prognosis/code/fnirs-treatment-response-prediction/allData/prognosis/pre_post_treatment_hamd_reduction_50'):\n",
    "    # read data \n",
    "    hb = np.load(fold + '/data.npy')\n",
    "    label = np.load(fold + '/label.npy')\n",
    "    print(hb.shape)\n",
    "    if HB_TYPE == 'HbO':\n",
    "        hb = np.concatenate((hb[...,:hb.shape[2]//2, 0], hb[...,:hb.shape[2]//2, 1]), axis=2)\n",
    "    elif HB_TYPE == 'HbR':\n",
    "        hb = np.concatenate((hb[...,hb.shape[2]//2:, 0], hb[...,hb.shape[2]//2:, 1]), axis=2)\n",
    "    elif HB_TYPE == 'HbO+HbR':\n",
    "        hb = np.concatenate((hb[..., 0], hb[..., 1]), axis=-1)\n",
    "    print(hb.shape)\n",
    "    hb_2d = np.reshape(hb, (hb.shape[0], -1))\n",
    "    return hb_2d, label\n",
    "\n",
    "x, y = pre_post_read_hb_label('HbO')\n",
    "print(x.shape)"
   ]
  },
  {
   "cell_type": "code",
   "execution_count": 75,
   "metadata": {},
   "outputs": [
    {
     "name": "stdout",
     "output_type": "stream",
     "text": [
      "{'HbO_0': {'accuracies': {'KNN': 0.7846153846153846}, 'model_accuraies': {'KNN': [1.0, 1.0, 1.0, 1.0, 1.0, 0.0, 1.0, 1.0, 1.0, 0.0, 1.0, 1.0, 1.0, 1.0, 0.0, 1.0, 1.0, 1.0, 1.0, 1.0, 1.0, 1.0, 0.0, 1.0, 1.0, 1.0, 1.0, 1.0, 1.0, 1.0, 1.0, 0.0, 1.0, 1.0, 1.0, 0.0, 1.0, 1.0, 0.0, 1.0, 0.0, 1.0, 1.0, 1.0, 0.0, 1.0, 1.0, 1.0, 0.0, 1.0, 1.0, 1.0, 1.0, 0.0, 1.0, 1.0, 1.0, 0.0, 1.0, 1.0, 1.0, 0.0, 1.0, 1.0, 0.0]}, 'current_time_seed': 1706164183, 'hb_type': 'HbO', 'num_time': 0, 'model_y_pred_and_y_test': {'KNN': [[array([0]), array([0])], [array([0]), array([0])], [array([0]), array([0])], [array([0]), array([0])], [array([0]), array([0])], [array([0]), array([1])], [array([0]), array([0])], [array([0]), array([0])], [array([0]), array([0])], [array([0]), array([1])], [array([0]), array([0])], [array([0]), array([0])], [array([0]), array([0])], [array([0]), array([0])], [array([0]), array([1])], [array([0]), array([0])], [array([0]), array([0])], [array([0]), array([0])], [array([1]), array([1])], [array([0]), array([0])], [array([0]), array([0])], [array([0]), array([0])], [array([0]), array([1])], [array([0]), array([0])], [array([0]), array([0])], [array([0]), array([0])], [array([0]), array([0])], [array([1]), array([1])], [array([0]), array([0])], [array([0]), array([0])], [array([0]), array([0])], [array([0]), array([1])], [array([0]), array([0])], [array([0]), array([0])], [array([0]), array([0])], [array([0]), array([1])], [array([0]), array([0])], [array([0]), array([0])], [array([1]), array([0])], [array([0]), array([0])], [array([0]), array([1])], [array([0]), array([0])], [array([0]), array([0])], [array([0]), array([0])], [array([0]), array([1])], [array([0]), array([0])], [array([0]), array([0])], [array([0]), array([0])], [array([0]), array([1])], [array([0]), array([0])], [array([0]), array([0])], [array([0]), array([0])], [array([0]), array([0])], [array([0]), array([1])], [array([0]), array([0])], [array([0]), array([0])], [array([0]), array([0])], [array([0]), array([1])], [array([0]), array([0])], [array([0]), array([0])], [array([0]), array([0])], [array([0]), array([1])], [array([0]), array([0])], [array([0]), array([0])], [array([0]), array([1])]]}}, 'HbO_1': {'accuracies': {}, 'model_accuraies': {}, 'current_time_seed': 1706164185, 'hb_type': 'HbO', 'num_time': 1, 'model_y_pred_and_y_test': {}}, 'HbO_2': {'accuracies': {}, 'model_accuraies': {}, 'current_time_seed': 1706164186, 'hb_type': 'HbO', 'num_time': 2, 'model_y_pred_and_y_test': {}}, 'HbO_3': {'accuracies': {}, 'model_accuraies': {}, 'current_time_seed': 1706164187, 'hb_type': 'HbO', 'num_time': 3, 'model_y_pred_and_y_test': {}}, 'HbO_4': {'accuracies': {}, 'model_accuraies': {}, 'current_time_seed': 1706164188, 'hb_type': 'HbO', 'num_time': 4, 'model_y_pred_and_y_test': {}}, 'HbR_0': {'accuracies': {'KNN': 0.6923076923076923}, 'model_accuraies': {'KNN': [0.0, 1.0, 1.0, 1.0, 1.0, 0.0, 1.0, 1.0, 1.0, 0.0, 1.0, 0.0, 1.0, 1.0, 0.0, 1.0, 1.0, 1.0, 0.0, 1.0, 1.0, 1.0, 1.0, 1.0, 1.0, 1.0, 1.0, 0.0, 0.0, 1.0, 1.0, 0.0, 0.0, 1.0, 1.0, 0.0, 1.0, 1.0, 1.0, 1.0, 0.0, 0.0, 1.0, 1.0, 0.0, 1.0, 1.0, 1.0, 0.0, 1.0, 0.0, 1.0, 1.0, 0.0, 1.0, 1.0, 1.0, 0.0, 1.0, 1.0, 1.0, 0.0, 1.0, 1.0, 0.0]}, 'current_time_seed': 1706164184, 'hb_type': 'HbR', 'num_time': 0, 'model_y_pred_and_y_test': {'KNN': [[array([1]), array([0])], [array([0]), array([0])], [array([0]), array([0])], [array([0]), array([0])], [array([0]), array([0])], [array([0]), array([1])], [array([0]), array([0])], [array([0]), array([0])], [array([0]), array([0])], [array([0]), array([1])], [array([0]), array([0])], [array([1]), array([0])], [array([0]), array([0])], [array([0]), array([0])], [array([0]), array([1])], [array([0]), array([0])], [array([0]), array([0])], [array([0]), array([0])], [array([0]), array([1])], [array([0]), array([0])], [array([0]), array([0])], [array([0]), array([0])], [array([1]), array([1])], [array([0]), array([0])], [array([0]), array([0])], [array([0]), array([0])], [array([0]), array([0])], [array([0]), array([1])], [array([1]), array([0])], [array([0]), array([0])], [array([0]), array([0])], [array([0]), array([1])], [array([1]), array([0])], [array([0]), array([0])], [array([0]), array([0])], [array([0]), array([1])], [array([0]), array([0])], [array([0]), array([0])], [array([0]), array([0])], [array([0]), array([0])], [array([0]), array([1])], [array([1]), array([0])], [array([0]), array([0])], [array([0]), array([0])], [array([0]), array([1])], [array([0]), array([0])], [array([0]), array([0])], [array([0]), array([0])], [array([0]), array([1])], [array([0]), array([0])], [array([1]), array([0])], [array([0]), array([0])], [array([0]), array([0])], [array([0]), array([1])], [array([0]), array([0])], [array([0]), array([0])], [array([0]), array([0])], [array([0]), array([1])], [array([0]), array([0])], [array([0]), array([0])], [array([0]), array([0])], [array([0]), array([1])], [array([0]), array([0])], [array([0]), array([0])], [array([0]), array([1])]]}}, 'HbR_1': {'accuracies': {}, 'model_accuraies': {}, 'current_time_seed': 1706164186, 'hb_type': 'HbR', 'num_time': 1, 'model_y_pred_and_y_test': {}}, 'HbR_2': {'accuracies': {}, 'model_accuraies': {}, 'current_time_seed': 1706164187, 'hb_type': 'HbR', 'num_time': 2, 'model_y_pred_and_y_test': {}}, 'HbR_3': {'accuracies': {}, 'model_accuraies': {}, 'current_time_seed': 1706164188, 'hb_type': 'HbR', 'num_time': 3, 'model_y_pred_and_y_test': {}}, 'HbR_4': {'accuracies': {}, 'model_accuraies': {}, 'current_time_seed': 1706164189, 'hb_type': 'HbR', 'num_time': 4, 'model_y_pred_and_y_test': {}}, 'HbO+HbR_0': {'accuracies': {'KNN': 0.7538461538461538}, 'model_accuraies': {'KNN': [1.0, 1.0, 1.0, 1.0, 1.0, 0.0, 1.0, 1.0, 1.0, 0.0, 1.0, 1.0, 1.0, 1.0, 0.0, 1.0, 1.0, 1.0, 0.0, 1.0, 1.0, 1.0, 0.0, 1.0, 1.0, 1.0, 1.0, 0.0, 0.0, 1.0, 1.0, 0.0, 1.0, 1.0, 1.0, 0.0, 1.0, 1.0, 1.0, 1.0, 0.0, 1.0, 1.0, 1.0, 0.0, 1.0, 1.0, 1.0, 0.0, 1.0, 1.0, 1.0, 1.0, 0.0, 1.0, 1.0, 1.0, 0.0, 1.0, 1.0, 1.0, 0.0, 1.0, 1.0, 0.0]}, 'current_time_seed': 1706164185, 'hb_type': 'HbO+HbR', 'num_time': 0, 'model_y_pred_and_y_test': {'KNN': [[array([0]), array([0])], [array([0]), array([0])], [array([0]), array([0])], [array([0]), array([0])], [array([0]), array([0])], [array([0]), array([1])], [array([0]), array([0])], [array([0]), array([0])], [array([0]), array([0])], [array([0]), array([1])], [array([0]), array([0])], [array([0]), array([0])], [array([0]), array([0])], [array([0]), array([0])], [array([0]), array([1])], [array([0]), array([0])], [array([0]), array([0])], [array([0]), array([0])], [array([0]), array([1])], [array([0]), array([0])], [array([0]), array([0])], [array([0]), array([0])], [array([0]), array([1])], [array([0]), array([0])], [array([0]), array([0])], [array([0]), array([0])], [array([0]), array([0])], [array([0]), array([1])], [array([1]), array([0])], [array([0]), array([0])], [array([0]), array([0])], [array([0]), array([1])], [array([0]), array([0])], [array([0]), array([0])], [array([0]), array([0])], [array([0]), array([1])], [array([0]), array([0])], [array([0]), array([0])], [array([0]), array([0])], [array([0]), array([0])], [array([0]), array([1])], [array([0]), array([0])], [array([0]), array([0])], [array([0]), array([0])], [array([0]), array([1])], [array([0]), array([0])], [array([0]), array([0])], [array([0]), array([0])], [array([0]), array([1])], [array([0]), array([0])], [array([0]), array([0])], [array([0]), array([0])], [array([0]), array([0])], [array([0]), array([1])], [array([0]), array([0])], [array([0]), array([0])], [array([0]), array([0])], [array([0]), array([1])], [array([0]), array([0])], [array([0]), array([0])], [array([0]), array([0])], [array([0]), array([1])], [array([0]), array([0])], [array([0]), array([0])], [array([0]), array([1])]]}}, 'HbO+HbR_1': {'accuracies': {}, 'model_accuraies': {}, 'current_time_seed': 1706164186, 'hb_type': 'HbO+HbR', 'num_time': 1, 'model_y_pred_and_y_test': {}}, 'HbO+HbR_2': {'accuracies': {}, 'model_accuraies': {}, 'current_time_seed': 1706164187, 'hb_type': 'HbO+HbR', 'num_time': 2, 'model_y_pred_and_y_test': {}}, 'HbO+HbR_3': {'accuracies': {}, 'model_accuraies': {}, 'current_time_seed': 1706164188, 'hb_type': 'HbO+HbR', 'num_time': 3, 'model_y_pred_and_y_test': {}}, 'HbO+HbR_4': {'accuracies': {}, 'model_accuraies': {}, 'current_time_seed': 1706164189, 'hb_type': 'HbO+HbR', 'num_time': 4, 'model_y_pred_and_y_test': {}}}\n",
      "HbO_0\n",
      "accuracies {'KNN': 0.7846153846153846}\n",
      "model_accuraies {'KNN': [1.0, 1.0, 1.0, 1.0, 1.0, 0.0, 1.0, 1.0, 1.0, 0.0, 1.0, 1.0, 1.0, 1.0, 0.0, 1.0, 1.0, 1.0, 1.0, 1.0, 1.0, 1.0, 0.0, 1.0, 1.0, 1.0, 1.0, 1.0, 1.0, 1.0, 1.0, 0.0, 1.0, 1.0, 1.0, 0.0, 1.0, 1.0, 0.0, 1.0, 0.0, 1.0, 1.0, 1.0, 0.0, 1.0, 1.0, 1.0, 0.0, 1.0, 1.0, 1.0, 1.0, 0.0, 1.0, 1.0, 1.0, 0.0, 1.0, 1.0, 1.0, 0.0, 1.0, 1.0, 0.0]}\n",
      "current_time_seed 1706164183\n",
      "hb_type HbO\n",
      "num_time 0\n",
      "model_y_pred_and_y_test {'KNN': [[array([0]), array([0])], [array([0]), array([0])], [array([0]), array([0])], [array([0]), array([0])], [array([0]), array([0])], [array([0]), array([1])], [array([0]), array([0])], [array([0]), array([0])], [array([0]), array([0])], [array([0]), array([1])], [array([0]), array([0])], [array([0]), array([0])], [array([0]), array([0])], [array([0]), array([0])], [array([0]), array([1])], [array([0]), array([0])], [array([0]), array([0])], [array([0]), array([0])], [array([1]), array([1])], [array([0]), array([0])], [array([0]), array([0])], [array([0]), array([0])], [array([0]), array([1])], [array([0]), array([0])], [array([0]), array([0])], [array([0]), array([0])], [array([0]), array([0])], [array([1]), array([1])], [array([0]), array([0])], [array([0]), array([0])], [array([0]), array([0])], [array([0]), array([1])], [array([0]), array([0])], [array([0]), array([0])], [array([0]), array([0])], [array([0]), array([1])], [array([0]), array([0])], [array([0]), array([0])], [array([1]), array([0])], [array([0]), array([0])], [array([0]), array([1])], [array([0]), array([0])], [array([0]), array([0])], [array([0]), array([0])], [array([0]), array([1])], [array([0]), array([0])], [array([0]), array([0])], [array([0]), array([0])], [array([0]), array([1])], [array([0]), array([0])], [array([0]), array([0])], [array([0]), array([0])], [array([0]), array([0])], [array([0]), array([1])], [array([0]), array([0])], [array([0]), array([0])], [array([0]), array([0])], [array([0]), array([1])], [array([0]), array([0])], [array([0]), array([0])], [array([0]), array([0])], [array([0]), array([1])], [array([0]), array([0])], [array([0]), array([0])], [array([0]), array([1])]]}\n",
      "-----------------\n",
      "HbO_1\n",
      "accuracies {}\n",
      "model_accuraies {}\n",
      "current_time_seed 1706164185\n",
      "hb_type HbO\n",
      "num_time 1\n",
      "model_y_pred_and_y_test {}\n",
      "-----------------\n",
      "HbO_2\n",
      "accuracies {}\n",
      "model_accuraies {}\n",
      "current_time_seed 1706164186\n",
      "hb_type HbO\n",
      "num_time 2\n",
      "model_y_pred_and_y_test {}\n",
      "-----------------\n",
      "HbO_3\n",
      "accuracies {}\n",
      "model_accuraies {}\n",
      "current_time_seed 1706164187\n",
      "hb_type HbO\n",
      "num_time 3\n",
      "model_y_pred_and_y_test {}\n",
      "-----------------\n",
      "HbO_4\n",
      "accuracies {}\n",
      "model_accuraies {}\n",
      "current_time_seed 1706164188\n",
      "hb_type HbO\n",
      "num_time 4\n",
      "model_y_pred_and_y_test {}\n",
      "-----------------\n",
      "HbR_0\n",
      "accuracies {'KNN': 0.6923076923076923}\n",
      "model_accuraies {'KNN': [0.0, 1.0, 1.0, 1.0, 1.0, 0.0, 1.0, 1.0, 1.0, 0.0, 1.0, 0.0, 1.0, 1.0, 0.0, 1.0, 1.0, 1.0, 0.0, 1.0, 1.0, 1.0, 1.0, 1.0, 1.0, 1.0, 1.0, 0.0, 0.0, 1.0, 1.0, 0.0, 0.0, 1.0, 1.0, 0.0, 1.0, 1.0, 1.0, 1.0, 0.0, 0.0, 1.0, 1.0, 0.0, 1.0, 1.0, 1.0, 0.0, 1.0, 0.0, 1.0, 1.0, 0.0, 1.0, 1.0, 1.0, 0.0, 1.0, 1.0, 1.0, 0.0, 1.0, 1.0, 0.0]}\n",
      "current_time_seed 1706164184\n",
      "hb_type HbR\n",
      "num_time 0\n",
      "model_y_pred_and_y_test {'KNN': [[array([1]), array([0])], [array([0]), array([0])], [array([0]), array([0])], [array([0]), array([0])], [array([0]), array([0])], [array([0]), array([1])], [array([0]), array([0])], [array([0]), array([0])], [array([0]), array([0])], [array([0]), array([1])], [array([0]), array([0])], [array([1]), array([0])], [array([0]), array([0])], [array([0]), array([0])], [array([0]), array([1])], [array([0]), array([0])], [array([0]), array([0])], [array([0]), array([0])], [array([0]), array([1])], [array([0]), array([0])], [array([0]), array([0])], [array([0]), array([0])], [array([1]), array([1])], [array([0]), array([0])], [array([0]), array([0])], [array([0]), array([0])], [array([0]), array([0])], [array([0]), array([1])], [array([1]), array([0])], [array([0]), array([0])], [array([0]), array([0])], [array([0]), array([1])], [array([1]), array([0])], [array([0]), array([0])], [array([0]), array([0])], [array([0]), array([1])], [array([0]), array([0])], [array([0]), array([0])], [array([0]), array([0])], [array([0]), array([0])], [array([0]), array([1])], [array([1]), array([0])], [array([0]), array([0])], [array([0]), array([0])], [array([0]), array([1])], [array([0]), array([0])], [array([0]), array([0])], [array([0]), array([0])], [array([0]), array([1])], [array([0]), array([0])], [array([1]), array([0])], [array([0]), array([0])], [array([0]), array([0])], [array([0]), array([1])], [array([0]), array([0])], [array([0]), array([0])], [array([0]), array([0])], [array([0]), array([1])], [array([0]), array([0])], [array([0]), array([0])], [array([0]), array([0])], [array([0]), array([1])], [array([0]), array([0])], [array([0]), array([0])], [array([0]), array([1])]]}\n",
      "-----------------\n",
      "HbR_1\n",
      "accuracies {}\n",
      "model_accuraies {}\n",
      "current_time_seed 1706164186\n",
      "hb_type HbR\n",
      "num_time 1\n",
      "model_y_pred_and_y_test {}\n",
      "-----------------\n",
      "HbR_2\n",
      "accuracies {}\n",
      "model_accuraies {}\n",
      "current_time_seed 1706164187\n",
      "hb_type HbR\n",
      "num_time 2\n",
      "model_y_pred_and_y_test {}\n",
      "-----------------\n",
      "HbR_3\n",
      "accuracies {}\n",
      "model_accuraies {}\n",
      "current_time_seed 1706164188\n",
      "hb_type HbR\n",
      "num_time 3\n",
      "model_y_pred_and_y_test {}\n",
      "-----------------\n",
      "HbR_4\n",
      "accuracies {}\n",
      "model_accuraies {}\n",
      "current_time_seed 1706164189\n",
      "hb_type HbR\n",
      "num_time 4\n",
      "model_y_pred_and_y_test {}\n",
      "-----------------\n",
      "HbO+HbR_0\n",
      "accuracies {'KNN': 0.7538461538461538}\n",
      "model_accuraies {'KNN': [1.0, 1.0, 1.0, 1.0, 1.0, 0.0, 1.0, 1.0, 1.0, 0.0, 1.0, 1.0, 1.0, 1.0, 0.0, 1.0, 1.0, 1.0, 0.0, 1.0, 1.0, 1.0, 0.0, 1.0, 1.0, 1.0, 1.0, 0.0, 0.0, 1.0, 1.0, 0.0, 1.0, 1.0, 1.0, 0.0, 1.0, 1.0, 1.0, 1.0, 0.0, 1.0, 1.0, 1.0, 0.0, 1.0, 1.0, 1.0, 0.0, 1.0, 1.0, 1.0, 1.0, 0.0, 1.0, 1.0, 1.0, 0.0, 1.0, 1.0, 1.0, 0.0, 1.0, 1.0, 0.0]}\n",
      "current_time_seed 1706164185\n",
      "hb_type HbO+HbR\n",
      "num_time 0\n",
      "model_y_pred_and_y_test {'KNN': [[array([0]), array([0])], [array([0]), array([0])], [array([0]), array([0])], [array([0]), array([0])], [array([0]), array([0])], [array([0]), array([1])], [array([0]), array([0])], [array([0]), array([0])], [array([0]), array([0])], [array([0]), array([1])], [array([0]), array([0])], [array([0]), array([0])], [array([0]), array([0])], [array([0]), array([0])], [array([0]), array([1])], [array([0]), array([0])], [array([0]), array([0])], [array([0]), array([0])], [array([0]), array([1])], [array([0]), array([0])], [array([0]), array([0])], [array([0]), array([0])], [array([0]), array([1])], [array([0]), array([0])], [array([0]), array([0])], [array([0]), array([0])], [array([0]), array([0])], [array([0]), array([1])], [array([1]), array([0])], [array([0]), array([0])], [array([0]), array([0])], [array([0]), array([1])], [array([0]), array([0])], [array([0]), array([0])], [array([0]), array([0])], [array([0]), array([1])], [array([0]), array([0])], [array([0]), array([0])], [array([0]), array([0])], [array([0]), array([0])], [array([0]), array([1])], [array([0]), array([0])], [array([0]), array([0])], [array([0]), array([0])], [array([0]), array([1])], [array([0]), array([0])], [array([0]), array([0])], [array([0]), array([0])], [array([0]), array([1])], [array([0]), array([0])], [array([0]), array([0])], [array([0]), array([0])], [array([0]), array([0])], [array([0]), array([1])], [array([0]), array([0])], [array([0]), array([0])], [array([0]), array([0])], [array([0]), array([1])], [array([0]), array([0])], [array([0]), array([0])], [array([0]), array([0])], [array([0]), array([1])], [array([0]), array([0])], [array([0]), array([0])], [array([0]), array([1])]]}\n",
      "-----------------\n",
      "HbO+HbR_1\n",
      "accuracies {}\n",
      "model_accuraies {}\n",
      "current_time_seed 1706164186\n",
      "hb_type HbO+HbR\n",
      "num_time 1\n",
      "model_y_pred_and_y_test {}\n",
      "-----------------\n",
      "HbO+HbR_2\n",
      "accuracies {}\n",
      "model_accuraies {}\n",
      "current_time_seed 1706164187\n",
      "hb_type HbO+HbR\n",
      "num_time 2\n",
      "model_y_pred_and_y_test {}\n",
      "-----------------\n",
      "HbO+HbR_3\n",
      "accuracies {}\n",
      "model_accuraies {}\n",
      "current_time_seed 1706164188\n",
      "hb_type HbO+HbR\n",
      "num_time 3\n",
      "model_y_pred_and_y_test {}\n",
      "-----------------\n",
      "HbO+HbR_4\n",
      "accuracies {}\n",
      "model_accuraies {}\n",
      "current_time_seed 1706164189\n",
      "hb_type HbO+HbR\n",
      "num_time 4\n",
      "model_y_pred_and_y_test {}\n",
      "-----------------\n"
     ]
    }
   ],
   "source": [
    "tmp = np.load('/Users/shanxiafeng/Documents/Project/Research/fnirs-prognosis/code/fnirs-treatment-response-prediction/results/ML_results/ML_results.npy',allow_pickle=True)\n",
    "\n",
    "print(tmp)\n",
    "for x,y in tmp.item().items():\n",
    "    print(x)\n",
    "    for k,v in y.items():\n",
    "        print(k,v)\n",
    "    print('-----------------')"
   ]
  },
  {
   "cell_type": "code",
   "execution_count": 74,
   "metadata": {},
   "outputs": [
    {
     "name": "stdout",
     "output_type": "stream",
     "text": [
      "[1]\n"
     ]
    }
   ],
   "source": [
    "print(y_pred)"
   ]
  }
 ],
 "metadata": {
  "kernelspec": {
   "display_name": "base",
   "language": "python",
   "name": "python3"
  },
  "language_info": {
   "codemirror_mode": {
    "name": "ipython",
    "version": 3
   },
   "file_extension": ".py",
   "mimetype": "text/x-python",
   "name": "python",
   "nbconvert_exporter": "python",
   "pygments_lexer": "ipython3",
   "version": "3.9.18"
  }
 },
 "nbformat": 4,
 "nbformat_minor": 2
}
