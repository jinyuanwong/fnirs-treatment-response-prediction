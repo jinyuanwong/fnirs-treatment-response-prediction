{
 "cells": [
  {
   "cell_type": "code",
   "execution_count": 1,
   "metadata": {},
   "outputs": [],
   "source": [
    "import tensorflow as tf\n",
    "\n"
   ]
  },
  {
   "cell_type": "code",
   "execution_count": 12,
   "metadata": {},
   "outputs": [
    {
     "name": "stdout",
     "output_type": "stream",
     "text": [
      "original x_1 tf.Tensor(\n",
      "[[1. 0.]\n",
      " [1. 1.]], shape=(2, 2), dtype=float32)\n",
      "check_mask tf.Tensor(\n",
      "[[0. 1.]\n",
      " [0. 0.]], shape=(2, 2), dtype=float32)\n",
      "tf.Tensor(\n",
      "[[ 0. -1.]\n",
      " [ 0.  0.]], shape=(2, 2), dtype=float32)\n",
      "tf.Tensor(\n",
      "[[-1.e+09 -1.e+09]\n",
      " [-1.e+09 -1.e+09]], shape=(2, 2), dtype=float32)\n",
      "tf.Tensor(\n",
      "[[-0.e+00  1.e+09]\n",
      " [-0.e+00 -0.e+00]], shape=(2, 2), dtype=float32)\n"
     ]
    }
   ],
   "source": [
    "x_1 = tf.ones((2,2))\n",
    "# Define the indices to update and the new values for those indices\n",
    "indices = [[0, 1]]  # The index to update\n",
    "updates = [0]  # The new value to insert\n",
    "x_1_updated = tf.tensor_scatter_nd_update(x_1, indices, updates)\n",
    "print('original x_1', x_1_updated)\n",
    "\n",
    "check_mask = tf.cast(tf.equal(x_1_updated, 0), tf.float32)\n",
    "print('check_mask', check_mask)\n",
    "\n",
    "x_1_updated -= 1 \n",
    "print(x_1_updated)\n",
    "\n",
    "large_negative = tf.fill([2, 2], -1e9)  # [[9, 9], [9, 9]]\n",
    "\n",
    "print(x)\n",
    "\n",
    "mask = x_1_updated * large_negative\n",
    "\n",
    "print(mask)"
   ]
  }
 ],
 "metadata": {
  "kernelspec": {
   "display_name": "base",
   "language": "python",
   "name": "python3"
  },
  "language_info": {
   "codemirror_mode": {
    "name": "ipython",
    "version": 3
   },
   "file_extension": ".py",
   "mimetype": "text/x-python",
   "name": "python",
   "nbconvert_exporter": "python",
   "pygments_lexer": "ipython3",
   "version": "3.9.0"
  }
 },
 "nbformat": 4,
 "nbformat_minor": 2
}
