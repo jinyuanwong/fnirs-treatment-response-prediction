{
 "cells": [
  {
   "cell_type": "code",
   "execution_count": 1,
   "metadata": {},
   "outputs": [],
   "source": [
    "import numpy as np\n",
    "import time\n",
    "from sklearn.model_selection import train_test_split\n",
    "from sklearn.metrics import accuracy_score\n",
    "from sklearn.linear_model import LogisticRegression\n",
    "from sklearn.ensemble import RandomForestClassifier\n",
    "from sklearn.svm import SVC\n",
    "from sklearn.neighbors import KNeighborsClassifier\n",
    "from sklearn.tree import DecisionTreeClassifier\n",
    "from sklearn.model_selection import LeaveOneOut\n",
    "import os\n",
    "\n",
    "from sklearn.metrics import confusion_matrix, roc_auc_score, f1_score\n",
    "from sklearn.preprocessing import label_binarize\n"
   ]
  },
  {
   "cell_type": "code",
   "execution_count": 2,
   "metadata": {},
   "outputs": [
    {
     "name": "stdout",
     "output_type": "stream",
     "text": [
      "current training Decision Tree, num_time: 0\n"
     ]
    }
   ],
   "source": [
    "\n",
    "output_fold = '/Users/shanxiafeng/Documents/Project/Research/fnirs-prognosis/code/fnirs-treatment-response-prediction/results/ML_results'\n",
    "if not os.path.exists(output_fold):\n",
    "    os.makedirs(output_fold)\n",
    "\n",
    "\n",
    "def get_metrics(y_true, y_pred):\n",
    "    # tn, fp, fn, tp = confusion_matrix(y_true, y_pred).ravel()\n",
    "\n",
    "    # 明确指定labels参数\n",
    "    cm = confusion_matrix(y_true, y_pred, labels=[0, 1])\n",
    "\n",
    "    # 现在cm是一个2x2矩阵，即使数据只包含一个类别\n",
    "    tn, fp, fn, tp = cm.ravel()\n",
    "\n",
    "    accuracy = (tp + tn) / (tp + tn + fp + fn)\n",
    "    sensitivity = tp / (tp + fn)\n",
    "    specificity = tn / (tn + fp)\n",
    "    f1 = f1_score(y_true, y_pred)\n",
    "\n",
    "    return accuracy, sensitivity, specificity, f1\n",
    "\n",
    "res = {}\n",
    "\n",
    "# 初始化模型，同时设置随机种子\n",
    "models = {\n",
    "    # \"Logistic Regression\": LogisticRegression(max_iter=150),\n",
    "    \"Decision Tree\": DecisionTreeClassifier()\n",
    "}\n",
    "for name, model in models.items():\n",
    "    # run multiple time, using different time stamp as random seed\n",
    "    for num_time in range(1):\n",
    "        print(f'current training {name}, num_time: {num_time}')\n",
    "\n",
    "        # 使用当前时间戳作为随机种子\n",
    "        current_time_seed = 1706166341\n",
    "\n",
    "        # build model\n",
    "        model.random_state = current_time_seed\n",
    "\n",
    "        hb_result = {}\n",
    "        HB_TYPE_accuraies = {}\n",
    "        HB_TYPE_y_pred_and_y_test = {}\n",
    "        for HB_TYPE in ['HbO', 'HbR', 'HbO+HbR']:\n",
    "            HB_TYPE_accuraies[HB_TYPE] = []\n",
    "            HB_TYPE_y_pred_and_y_test[HB_TYPE] = []\n",
    "\n",
    "            # read data\n",
    "            fold = '/Users/shanxiafeng/Documents/Project/Research/fnirs-prognosis/code/fnirs-treatment-response-prediction/allData/prognosis/pre_treatment_hamd_reduction_50'\n",
    "\n",
    "            hb = np.load(fold + '/data.npy')\n",
    "            label = np.load(fold + '/label.npy')\n",
    "\n",
    "            if HB_TYPE == 'HbO':\n",
    "                hb = hb[..., :hb.shape[-1]//2]\n",
    "            elif HB_TYPE == 'HbR':\n",
    "                hb = hb[..., hb.shape[-1]//2:]\n",
    "            hb_2d = np.reshape(hb, (hb.shape[0], -1))\n",
    "\n",
    "            # Apply LOOCV to train the model\n",
    "            # Initialize LeaveOneOut\n",
    "            loo = LeaveOneOut()\n",
    "\n",
    "            # 存储每个模型的准确率\n",
    "            accuracies = {}\n",
    "\n",
    "            # Loop over each train/test split\n",
    "            for train_index, test_index in loo.split(hb_2d):\n",
    "                # Split the data into training and testing sets\n",
    "                X_train, X_test = hb_2d[train_index], hb_2d[test_index]\n",
    "                y_train, y_test = label[train_index], label[test_index]\n",
    "\n",
    "                # Train the classifier\n",
    "                model.fit(X_train, y_train)\n",
    "\n",
    "                # Predict the label for the test set\n",
    "                y_pred = model.predict(X_test)\n",
    "\n",
    "                # Calculate the accuracy for the current fold\n",
    "                accuracy = accuracy_score(y_test, y_pred)\n",
    "\n",
    "                # Append the accuracy to the list\n",
    "                HB_TYPE_accuraies[HB_TYPE].append(accuracy)\n",
    "\n",
    "                HB_TYPE_y_pred_and_y_test[HB_TYPE].append([y_pred, y_test])\n",
    "            accuracies[HB_TYPE] = 1\n",
    "            accuracies[HB_TYPE] = np.mean(HB_TYPE_accuraies[HB_TYPE])\n",
    "\n",
    "        save_result = {}\n",
    "        save_result['accuracies'] = accuracies\n",
    "        save_result['model_accuraies'] = HB_TYPE_accuraies\n",
    "        save_result['current_time_seed'] = current_time_seed\n",
    "        save_result['num_time'] = num_time\n",
    "        save_result['HB_TYPE_y_pred_and_y_test'] = HB_TYPE_y_pred_and_y_test\n",
    "\n",
    "        res[f'{num_time}'] = save_result\n",
    "    # np.save(output_fold + f'/{name}_result_validate.npy', res)"
   ]
  },
  {
   "cell_type": "code",
   "execution_count": 19,
   "metadata": {},
   "outputs": [
    {
     "name": "stdout",
     "output_type": "stream",
     "text": [
      "\n",
      "| Model Name |   Set   |Accuracy | Sensitivity | Specificity | F1 Score |\n",
      "|------------|----------|----------|-------------|-------------|----------|\n",
      "| Decision Tree | Test | 0.8769 | 0.7333 | 0.9200 | 0.7333 |\n"
     ]
    }
   ],
   "source": [
    "import numpy as np\n",
    "import matplotlib.pyplot as plt\n",
    "from sklearn.metrics import confusion_matrix, roc_auc_score, f1_score\n",
    "\n",
    "res_true_pred = np.array(save_result['HB_TYPE_y_pred_and_y_test']['HbO+HbR'])\n",
    "\n",
    "y_true = res_true_pred[:, 1]\n",
    "y_pred = res_true_pred[:, 0]\n",
    "\n",
    "\n",
    "\n",
    "\n",
    "def get_metrics(y_true, y_pred):\n",
    "    # tn, fp, fn, tp = confusion_matrix(y_true, y_pred).ravel()\n",
    "    \n",
    "    # 明确指定labels参数\n",
    "    cm = confusion_matrix(y_true, y_pred, labels=[0, 1])\n",
    "\n",
    "    # 现在cm是一个2x2矩阵，即使数据只包含一个类别\n",
    "    tn, fp, fn, tp = cm.ravel()\n",
    "    \n",
    "    accuracy = (tp + tn) / (tp + tn + fp + fn)\n",
    "    sensitivity = tp / (tp + fn)\n",
    "    specificity = tn / (tn + fp)\n",
    "    f1 = f1_score(y_true, y_pred)\n",
    "    \n",
    "    return accuracy, sensitivity, specificity, f1\n",
    "\n",
    "\n",
    "def print_md_table(model_name, set, metrics):\n",
    "    print()\n",
    "    print('| Model Name |   Set   |Accuracy | Sensitivity | Specificity | F1 Score |')\n",
    "    print('|------------|----------|----------|-------------|-------------|----------|')\n",
    "    print(f'| {model_name} | {set} |', end = '')\n",
    "    for i in range(4):\n",
    "        print(f\" {metrics[i]:.4f} |\", end = '')\n",
    "    print()\n",
    "\n",
    "res_metrics = get_metrics(y_true, y_pred)\n",
    "print_md_table('Decision Tree', 'Test', res_metrics)\n"
   ]
  },
  {
   "cell_type": "code",
   "execution_count": 20,
   "metadata": {},
   "outputs": [
    {
     "name": "stdout",
     "output_type": "stream",
     "text": [
      "特征重要性： [0. 0. 0. ... 0. 0. 0.]\n"
     ]
    }
   ],
   "source": [
    "feature_importances = model.feature_importances_\n",
    "print(\"特征重要性：\", feature_importances)\n"
   ]
  },
  {
   "cell_type": "code",
   "execution_count": 13,
   "metadata": {},
   "outputs": [],
   "source": [
    "\n",
    "feature_importances = np.reshape(feature_importances, (52, -1))"
   ]
  },
  {
   "cell_type": "code",
   "execution_count": 16,
   "metadata": {},
   "outputs": [
    {
     "data": {
      "image/png": "[encoded data removed]",
      "text/plain": [
       "<Figure size 1000x1000 with 2 Axes>"
      ]
     },
     "metadata": {},
     "output_type": "display_data"
    }
   ],
   "source": [
    "# 创建一个图形，尝试调整 figsize 使其看起来更像正方形\n",
    "plt.figure(figsize=(10, 10))\n",
    "\n",
    "\n",
    "\n",
    "# 使用 imshow 显示图像，设置 aspect='auto' 自动调整图像的长宽比\n",
    "plt.imshow(feature_importances, aspect='auto')\n",
    "\n",
    "# 调整其他可视化设置（如需要）\n",
    "plt.colorbar()\n",
    "plt.title(\"Feature Importances\")\n",
    "plt.show()"
   ]
  }
 ],
 "metadata": {
  "kernelspec": {
   "display_name": "base",
   "language": "python",
   "name": "python3"
  },
  "language_info": {
   "codemirror_mode": {
    "name": "ipython",
    "version": 3
   },
   "file_extension": ".py",
   "mimetype": "text/x-python",
   "name": "python",
   "nbconvert_exporter": "python",
   "pygments_lexer": "ipython3",
   "version": "3.9.18"
  }
 },
 "nbformat": 4,
 "nbformat_minor": 2
}
