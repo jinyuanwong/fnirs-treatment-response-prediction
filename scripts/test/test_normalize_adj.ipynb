{
 "cells": [
  {
   "cell_type": "code",
   "execution_count": 17,
   "metadata": {},
   "outputs": [
    {
     "name": "stdout",
     "output_type": "stream",
     "text": [
      "[[  1   2   3   4   5   6   7   8   9  10]\n",
      " [  2   4   6   8  10  12  14  16  18  20]\n",
      " [  3   6   9  12  15  18  21  24  27  30]\n",
      " [  4   8  12  16  20  24  28  32  36  40]\n",
      " [  5  10  15  20  25  30  35  40  45  50]\n",
      " [  6  12  18  24  30  36  42  48  54  60]\n",
      " [  7  14  21  28  35  42  49  56  63  70]\n",
      " [  8  16  24  32  40  48  56  64  72  80]\n",
      " [  9  18  27  36  45  54  63  72  81  90]\n",
      " [ 10  20  30  40  50  60  70  80  90 100]]\n",
      "b_reduce_sum: [ 55 110 165 220 275 330 385 440 495 550]\n"
     ]
    },
    {
     "ename": "AttributeError",
     "evalue": "module 'numpy.linalg' has no attribute 'diag'",
     "output_type": "error",
     "traceback": [
      "\u001b[0;31m---------------------------------------------------------------------------\u001b[0m",
      "\u001b[0;31mAttributeError\u001b[0m                            Traceback (most recent call last)",
      "Cell \u001b[0;32mIn[17], line 14\u001b[0m\n\u001b[1;32m     12\u001b[0m \u001b[38;5;28mprint\u001b[39m(\u001b[38;5;124mf\u001b[39m\u001b[38;5;124m'\u001b[39m\u001b[38;5;124mb_reduce_sum: \u001b[39m\u001b[38;5;132;01m{\u001b[39;00mb_reduce_sum\u001b[38;5;132;01m}\u001b[39;00m\u001b[38;5;124m'\u001b[39m)\n\u001b[1;32m     13\u001b[0m b_sqrt_inv \u001b[38;5;241m=\u001b[39m np\u001b[38;5;241m.\u001b[39mpower(b_reduce_sum, \u001b[38;5;241m-\u001b[39m\u001b[38;5;241m0.5\u001b[39m)\n\u001b[0;32m---> 14\u001b[0m b_sqrt_inv \u001b[38;5;241m=\u001b[39m \u001b[43mnp\u001b[49m\u001b[38;5;241;43m.\u001b[39;49m\u001b[43mlinalg\u001b[49m\u001b[38;5;241;43m.\u001b[39;49m\u001b[43mdiag\u001b[49m(b_sqrt_inv)\n\u001b[1;32m     15\u001b[0m \u001b[38;5;28mprint\u001b[39m(\u001b[38;5;124mf\u001b[39m\u001b[38;5;124m'\u001b[39m\u001b[38;5;124mb_sqrt_inv: \u001b[39m\u001b[38;5;132;01m{\u001b[39;00mb_sqrt_inv\u001b[38;5;132;01m}\u001b[39;00m\u001b[38;5;124m'\u001b[39m)\n\u001b[1;32m     16\u001b[0m nor_b \u001b[38;5;241m=\u001b[39m np\u001b[38;5;241m.\u001b[39mmatmul(np\u001b[38;5;241m.\u001b[39mmatmul(b_sqrt_inv, b),b_sqrt_inv)\n",
      "\u001b[0;31mAttributeError\u001b[0m: module 'numpy.linalg' has no attribute 'diag'"
     ]
    }
   ],
   "source": [
    "\n",
    "import tensorflow as tf\n",
    "import numpy as np \n",
    "import matplotlib.pyplot as plt \n",
    "\n",
    "a = list(range(1, 11))\n",
    "b = [a.copy() for i in range(10)]\n",
    "b = np.array(b)\n",
    "for i in range(10):\n",
    "    b[i] = b[i] * (i+1)\n",
    "print(b)\n",
    "b_reduce_sum = np.sum(b, axis=-1)\n",
    "print(f'b_reduce_sum: {b_reduce_sum}')\n",
    "b_sqrt_inv = np.power(b_reduce_sum, -0.5)\n",
    "b_sqrt_inv = np.linalg.diag(b_sqrt_inv)\n",
    "print(f'b_sqrt_inv: {b_sqrt_inv}')\n",
    "nor_b = np.matmul(np.matmul(b_sqrt_inv, b),b_sqrt_inv)\n",
    "print(f'nor_b: {nor_b}')\n",
    "\n",
    "def normalize_adjacency(adj):\n",
    "    d = tf.reduce_sum(adj, axis=-1)\n",
    "    d_sqrt_inv = tf.pow(d, -0.5)\n",
    "    d_sqrt_inv = tf.where(tf.math.is_inf(d_sqrt_inv), 0., d_sqrt_inv)\n",
    "    d_mat_inv_sqrt = tf.linalg.diag(d_sqrt_inv)\n",
    "    return tf.matmul(tf.matmul(d_mat_inv_sqrt, adj), d_mat_inv_sqrt)"
   ]
  },
  {
   "cell_type": "code",
   "execution_count": 27,
   "metadata": {},
   "outputs": [
    {
     "name": "stdout",
     "output_type": "stream",
     "text": [
      "[[1 2 3]\n",
      " [2 4 6]\n",
      " [3 6 9]]\n"
     ]
    }
   ],
   "source": [
    "x = np.array([1,2,3]) \n",
    "x = x[np.newaxis, ...]\n",
    "y = np.array([[1],[2],[3]])\n",
    "# z = np.outer(x, x)\n",
    "z = y @ x\n",
    "print(z)"
   ]
  },
  {
   "cell_type": "markdown",
   "metadata": {},
   "source": []
  }
 ],
 "metadata": {
  "kernelspec": {
   "display_name": "tf",
   "language": "python",
   "name": "python3"
  },
  "language_info": {
   "codemirror_mode": {
    "name": "ipython",
    "version": 3
   },
   "file_extension": ".py",
   "mimetype": "text/x-python",
   "name": "python",
   "nbconvert_exporter": "python",
   "pygments_lexer": "ipython3",
   "version": "3.9.16"
  }
 },
 "nbformat": 4,
 "nbformat_minor": 2
}
