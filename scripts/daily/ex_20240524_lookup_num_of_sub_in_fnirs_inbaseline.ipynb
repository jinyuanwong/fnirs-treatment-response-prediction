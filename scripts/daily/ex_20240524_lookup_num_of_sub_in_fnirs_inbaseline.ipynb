{
 "cells": [
  {
   "cell_type": "code",
   "execution_count": 2,
   "metadata": {},
   "outputs": [
    {
     "name": "stdout",
     "output_type": "stream",
     "text": [
      "Current system is Ubuntu\n",
      "PT036\n"
     ]
    },
    {
     "data": {
      "text/plain": [
       "70"
      ]
     },
     "execution_count": 2,
     "metadata": {},
     "output_type": "execute_result"
    }
   ],
   "source": [
    "import sys \n",
    "import os\n",
    "\n",
    "def set_path():\n",
    "    if sys.platform == 'darwin':\n",
    "        print(\"Current system is macOS\")\n",
    "        main_fold_path = '/Users/shanxiafeng/Documents/Project/Research/fnirs-prognosis/code/fnirs-treatment-response-prediction'\n",
    "    elif sys.platform == 'linux':\n",
    "        print(\"Current system is Ubuntu\")\n",
    "        main_fold_path = '/home/jy/Documents/fnirs/treatment_response/fnirs-depression-deeplearning'\n",
    "    else:\n",
    "        print(\"Current system is neither macOS nor Ubuntu\")\n",
    "    os.chdir(main_fold_path)\n",
    "set_path()\n",
    "fold = 'allData/RawData/Baseline_fnirs/Patients'\n",
    "os.listdir(fold)\n",
    "subject_name = [i[:5] for i in os.listdir(fold) if i[:2] == 'PT']\n",
    "subject_name = list(subject_name)\n",
    "subject_name = list(set(subject_name))\n",
    "for name in subject_name:\n",
    "    if name[-3:] == '036':\n",
    "        print(name)\n",
    "\n",
    "len(subject_name)"
   ]
  }
 ],
 "metadata": {
  "kernelspec": {
   "display_name": "tf",
   "language": "python",
   "name": "python3"
  },
  "language_info": {
   "codemirror_mode": {
    "name": "ipython",
    "version": 3
   },
   "file_extension": ".py",
   "mimetype": "text/x-python",
   "name": "python",
   "nbconvert_exporter": "python",
   "pygments_lexer": "ipython3",
   "version": "3.9.16"
  }
 },
 "nbformat": 4,
 "nbformat_minor": 2
}
