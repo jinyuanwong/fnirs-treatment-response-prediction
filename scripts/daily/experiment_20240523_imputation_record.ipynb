{
 "cells": [
  {
   "cell_type": "code",
   "execution_count": 37,
   "metadata": {},
   "outputs": [
    {
     "name": "stdout",
     "output_type": "stream",
     "text": [
      "Current system is Ubuntu\n"
     ]
    }
   ],
   "source": [
    "# first make sure the input data are good \n",
    "import numpy as np \n",
    "import os \n",
    "import sys\n",
    "from scipy.stats import zscore\n",
    "from sklearn.ensemble import RandomForestClassifier\n",
    "from sklearn.tree import DecisionTreeClassifier\n",
    "from sklearn.svm import SVC\n",
    "from sklearn.neighbors import KNeighborsClassifier\n",
    "from sklearn.linear_model import Perceptron\n",
    "from xgboost import XGBClassifier\n",
    "from catboost import CatBoostClassifier\n",
    "from sklearn.metrics import accuracy_score, recall_score, make_scorer, f1_score\n",
    "from sklearn.metrics import balanced_accuracy_score, confusion_matrix, roc_auc_score\n",
    "from sklearn.model_selection import cross_validate, LeaveOneOut, StratifiedKFold\n",
    "from sklearn.model_selection import KFold, cross_val_predict\n",
    "from sklearn.metrics import roc_curve, auc\n",
    "import matplotlib.pyplot as plt\n",
    "import shap\n",
    "from scipy import stats\n",
    "if sys.platform == 'darwin':\n",
    "    print(\"Current system is macOS\")\n",
    "    main_fold_path = '/Users/shanxiafeng/Documents/Project/Research/fnirs-prognosis/code/fnirs-treatment-response-prediction'\n",
    "elif sys.platform == 'linux':\n",
    "    print(\"Current system is Ubuntu\")\n",
    "    main_fold_path = '/home/jy/Documents/fnirs/treatment_response/fnirs-depression-deeplearning'\n",
    "else:\n",
    "    print(\"Current system is neither macOS nor Ubuntu\")\n",
    "    \n",
    "sys.path.append(main_fold_path)    \n",
    "os.chdir(main_fold_path)\n",
    "from utils.hyperopt_utils import get_best_hyperparameters, get_best_hyperparameters_skf_inside_loocv_monitoring_recall_bacc\n",
    "from utils.fnirs_utils import print_md_table_val_test_AUC\n",
    "\n",
    "from scripts.fusion_model.fusion_model_utils import derive_average_MMDR_score\n",
    "from scripts.fusion_model.fusion_model_utils import replace_nan_with_mean\n",
    "from scripts.fusion_model.fusion_model_utils import impute_nan_data\n",
    "from scripts.fusion_model.fusion_model_utils import process_with_nan_using_imputation_zscore\n",
    "from scripts.fusion_model.fusion_model_utils import read_base_T2_SDS_CGI \n",
    "from scripts.fusion_model.fusion_model_utils import read_pychiatry\n",
    "from scripts.fusion_model.fusion_model_utils import read_HAMD_score\n",
    "from scripts.fusion_model.fusion_model_utils import read_demographic\n",
    "from scripts.fusion_model.fusion_model_utils import plot_avg_auc\n",
    "from scripts.fusion_model.fusion_model_utils import train_xgboost_shuffle_feature \n",
    "from scripts.fusion_model.fusion_model_utils import save_shap\n",
    "from scripts.fusion_model.fusion_model_utils import read_dose_information\n",
    "import time\n",
    "\n",
    "\n",
    "import time\n",
    "start_time = time.time()\n",
    "\n",
    "K_FOLD = 5\n",
    "fold_path = 'allData/prognosis_mix_hb/pretreatment_response'\n",
    "MMDR_path = 'allData/prognosis_mix_hb/pretreatment_response/MDDR/MDDR_derived_from_load_evaluate.npy'\n",
    "\n",
    "base_T2_SDS_CGI = read_base_T2_SDS_CGI(fold_path)\n",
    "pyschiatry = read_pychiatry(fold_path)\n",
    "HAMD_score = read_HAMD_score(fold_path)\n",
    "demographic = read_demographic(fold_path)\n",
    "dose = read_dose_information(fold_path)\n",
    "hamd_timeline = np.load(\"allData/prognosis_mix_hb/pretreatment_response/hamd_timeline.npy\", allow_pickle=True)\n",
    "\n"
   ]
  },
  {
   "cell_type": "code",
   "execution_count": 48,
   "metadata": {},
   "outputs": [
    {
     "name": "stdout",
     "output_type": "stream",
     "text": [
      "64\n",
      "| Name       | Value | Percentage |\n",
      "|------------|-------|------------|\n",
      "| Age | 0 | 0.00% |\n",
      "| Gender | 0 | 0.00% |\n",
      "| Ethnicity | 0 | 0.00% |\n",
      "| Handedness | 1 | 1.56% |\n",
      "| Education years | 0 | 0.00% |\n",
      "| Education level | 0 | 0.00% |\n",
      "| Perceived social support | 0 | 0.00% |\n",
      "| Past trauma | 0 | 0.00% |\n",
      "| Current psychiatric comorbidities - binary | 0 | 0.00% |\n",
      "| Current psychiatric comorbidities - coded | 0 | 0.00% |\n",
      "| Family history of psychiatric illness | 0 | 0.00% |\n",
      "| Age of depression onset (years) | 0 | 0.00% |\n",
      "| Duration of depression (years) | 0 | 0.00% |\n",
      "| Duration of untreated depression (months) | 1 | 1.56% |\n",
      "| Past EmD visit(s) because of depression | 0 | 0.00% |\n",
      "| Type of episode | 0 | 0.00% |\n",
      "| Fluoxetine equivalent dose (mg/day) | 1 | 1.56% |\n",
      "| HAMD score at T_1 | 0 | 0.00% |\n",
      "| HAMD score at T_2 | 1 | 1.56% |\n",
      "| HAMD score at T_3 | 2 | 3.12% |\n",
      "| HAMD score at T_4 | 1 | 1.56% |\n",
      "| HAMD score at T_5 | 2 | 3.12% |\n",
      "| HAMD score at T_6 | 4 | 6.25% |\n",
      "| HAMD score at T_7 | 2 | 3.12% |\n",
      "| HAMD score at T_8 | 0 | 0.00% |\n"
     ]
    }
   ],
   "source": [
    "import math\n",
    "def count_nan(data):\n",
    "    count = 0 \n",
    "    for i in data:\n",
    "        if type(i) not in [str, int]:\n",
    "            if math.isnan(i):\n",
    "                count += 1\n",
    "    return count\n",
    "psychiatric_history_name = ['Past trauma', \n",
    "                        'Current psychiatric comorbidities - binary', \n",
    "                        'Current psychiatric comorbidities - coded',\n",
    "                        'Family history of psychiatric illness',\n",
    "                        'Age of depression onset (years)',\n",
    "                        'Duration of depression (years)',\n",
    "                        'Duration of untreated depression (months)',\n",
    "                        'Past EmD visit(s) because of depression',\n",
    "                        'Type of episode']\n",
    "demographic_name = ['Age', 'Gender', 'Ethnicity', 'Handedness', 'Education years', 'Education level', 'Perceived social support']\n",
    "dose_name = ['Fluoxetine equivalent dose (mg/day)']\n",
    "hamd_timeline_name = [f'HAMD score at T_{Ti}' for Ti in range(1, 9)]\n",
    "\n",
    "name_to_value = {}\n",
    "\n",
    "all_values = np.concatenate((demographic, pyschiatry[:, :9], dose[:, 1:2], hamd_timeline), axis=1)\n",
    "all_names = demographic_name + psychiatric_history_name + dose_name + hamd_timeline_name\n",
    "for i, name in enumerate(all_names):\n",
    "    name_to_value[name] = count_nan(all_values[:, i])\n",
    "\n",
    "TOTAL_SUBJECT = all_values.shape[0]\n",
    "print(TOTAL_SUBJECT)\n",
    "# Prepare the table header and rows\n",
    "header = \"| Name       | Value | Percentage |\\n|------------|-------|------------|\"\n",
    "rows = []\n",
    "\n",
    "# Generate rows for the table\n",
    "for name, value in name_to_value.items():\n",
    "    percentage = value / TOTAL_SUBJECT\n",
    "    rows.append(f\"| {name} | {value} | {percentage:.2%} |\")\n",
    "\n",
    "# Combine header and rows\n",
    "table = header + \"\\n\" + \"\\n\".join(rows)\n",
    "\n",
    "# Print the Markdown table\n",
    "print(table)\n",
    "    \n",
    "# print(pyschiatry[:, :9])\n",
    "# print('psychiatric_history_name', len(psychiatric_history_name))\n",
    "# print('demographic_name', len(demographic_name))\n",
    "# print('dose', len(dose_name))\n",
    "# print('hamd_timeline_name', len(hamd_timeline_name))\n",
    "\n"
   ]
  },
  {
   "cell_type": "code",
   "execution_count": 31,
   "metadata": {},
   "outputs": [
    {
     "data": {
      "text/plain": [
       "(64, 7)"
      ]
     },
     "execution_count": 31,
     "metadata": {},
     "output_type": "execute_result"
    }
   ],
   "source": []
  },
  {
   "cell_type": "code",
   "execution_count": null,
   "metadata": {},
   "outputs": [],
   "source": [
    "# 1 demographics \n",
    "# 2 clinical \n",
    "# 3. HAMD timeline "
   ]
  }
 ],
 "metadata": {
  "kernelspec": {
   "display_name": "tf",
   "language": "python",
   "name": "python3"
  },
  "language_info": {
   "codemirror_mode": {
    "name": "ipython",
    "version": 3
   },
   "file_extension": ".py",
   "mimetype": "text/x-python",
   "name": "python",
   "nbconvert_exporter": "python",
   "pygments_lexer": "ipython3",
   "version": "3.9.16"
  }
 },
 "nbformat": 4,
 "nbformat_minor": 2
}
