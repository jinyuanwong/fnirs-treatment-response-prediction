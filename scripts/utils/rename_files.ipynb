{
 "cells": [
  {
   "cell_type": "code",
   "execution_count": 11,
   "metadata": {},
   "outputs": [
    {
     "name": "stdout",
     "output_type": "stream",
     "text": [
      "Current system is Ubuntu\n",
      "results/ML_results/simple_prediction/MDD_HC_classification/diagnosis_110_fabeha_dataset_hb_all_9_regions_x2_mean_task_change_hb/nine_regions_hbo_task_change_fnirs_features\n",
      "results/ML_results/simple_prediction/MDD_HC_classification/diagnosis_110_fabeha_dataset_hb_all_9_regions_x2_mean_task_change_hb/nine_regions_hbr_task_change_fnirs_features\n",
      "results/ML_results/simple_prediction/MDD_HC_classification/diagnosis_110_fabeha_dataset_hb_all_9_regions_x2_mean_task_change_hb/nine_regions_hbt_task_change_fnirs_features\n"
     ]
    }
   ],
   "source": [
    "import numpy as np \n",
    "from scipy.io import loadmat\n",
    "import sys \n",
    "import os\n",
    "\n",
    "def set_path():\n",
    "    if sys.platform == 'darwin':\n",
    "        print(\"Current system is macOS\")\n",
    "        main_fold_path = '/Users/shanxiafeng/Documents/Project/Research/fnirs-prognosis/code/fnirs-treatment-response-prediction'\n",
    "    elif sys.platform == 'linux':\n",
    "        print(\"Current system is Ubuntu\")\n",
    "        main_fold_path = '/home/jy/Documents/fnirs/treatment_response/fnirs-depression-deeplearning'\n",
    "    else:\n",
    "        print(\"Current system is neither macOS nor Ubuntu\")\n",
    "    os.chdir(main_fold_path)\n",
    "    sys.path.append(main_fold_path)    \n",
    "\n",
    "set_path()\n",
    "\n",
    "def add_prename_to_files(folder_path, prename):\n",
    "    for filename in os.listdir(folder_path):\n",
    "        if os.path.isfile(os.path.join(folder_path, filename)):\n",
    "            new_filename = prename + filename\n",
    "            os.rename(os.path.join(folder_path, filename), os.path.join(folder_path, new_filename))\n",
    "            print(f'{filename} is renamed to {new_filename}')\n",
    "\n",
    "def delete_prename_length_to_files(folder_path,length_to_delete):\n",
    "    for filename in os.listdir(folder_path):\n",
    "        if os.path.isfile(os.path.join(folder_path, filename)):\n",
    "            if filename[:4] == 'nine':\n",
    "                new_filename = filename[length_to_delete:]\n",
    "                os.rename(os.path.join(folder_path, filename), os.path.join(folder_path, new_filename))\n",
    "                print(f'{filename} is renamed to {new_filename}')\n",
    "                \n",
    "                        \n",
    "prename = 'nine_regions_hbo_task_change_fnirs_features'\n",
    "\n",
    "length_to_delete = len('nine_regions_hbo_task_change_fnirs_features')\n",
    "\n",
    "\n",
    "main_fold = 'results/ML_results/simple_prediction/MDD_HC_classification/diagnosis_110_fabeha_dataset_hb_all_9_regions_x2_mean_task_change_hb'\n",
    "sub_folds = [\n",
    "    'nine_regions_hbo_task_change_fnirs_features',\n",
    "    'nine_regions_hbr_task_change_fnirs_features',\n",
    "    'nine_regions_hbt_task_change_fnirs_features'\n",
    "]\n",
    "\n",
    "for sub_fold in sub_folds:\n",
    "    fold_path = main_fold + '/' + sub_fold\n",
    "    print(fold_path)\n",
    "    # add_prename_to_files(folder_path, prename)\n",
    "    delete_prename_length_to_files(fold_path, length_to_delete)"
   ]
  }
 ],
 "metadata": {
  "kernelspec": {
   "display_name": "tf",
   "language": "python",
   "name": "python3"
  },
  "language_info": {
   "codemirror_mode": {
    "name": "ipython",
    "version": 3
   },
   "file_extension": ".py",
   "mimetype": "text/x-python",
   "name": "python",
   "nbconvert_exporter": "python",
   "pygments_lexer": "ipython3",
   "version": "3.9.16"
  }
 },
 "nbformat": 4,
 "nbformat_minor": 2
}
