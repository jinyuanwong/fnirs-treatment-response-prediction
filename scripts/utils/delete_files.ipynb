{
 "cells": [
  {
   "cell_type": "code",
   "execution_count": 9,
   "metadata": {},
   "outputs": [
    {
     "name": "stdout",
     "output_type": "stream",
     "text": [
      "Current system is Ubuntu\n",
      "Deleted allData/diagnosis_110_fabeha_dataset_hb_all/norhb_data_1d.npy\n",
      "Deleted allData/diagnosis_250_fabeha_dataset_hb_all/norhb_data_1d.npy\n",
      "norhb_data_1d.npy not found in allData/diagnosis514\n"
     ]
    },
    {
     "ename": "",
     "evalue": "",
     "output_type": "error",
     "traceback": [
      "\u001b[1;31mThe Kernel crashed while executing code in the current cell or a previous cell. \n",
      "\u001b[1;31mPlease review the code in the cell(s) to identify a possible cause of the failure. \n",
      "\u001b[1;31mClick <a href='https://aka.ms/vscodeJupyterKernelCrash'>here</a> for more info. \n",
      "\u001b[1;31mView Jupyter <a href='command:jupyter.viewOutput'>log</a> for further details."
     ]
    }
   ],
   "source": [
    "import numpy as np \n",
    "from scipy.io import loadmat\n",
    "import sys \n",
    "import os\n",
    "\n",
    "def set_path():\n",
    "    if sys.platform == 'darwin':\n",
    "        print(\"Current system is macOS\")\n",
    "        main_fold_path = '/Users/shanxiafeng/Documents/Project/Research/fnirs-prognosis/code/fnirs-treatment-response-prediction'\n",
    "    elif sys.platform == 'linux':\n",
    "        print(\"Current system is Ubuntu\")\n",
    "        main_fold_path = '/home/jy/Documents/fnirs/treatment_response/fnirs-depression-deeplearning'\n",
    "    else:\n",
    "        print(\"Current system is neither macOS nor Ubuntu\")\n",
    "    os.chdir(main_fold_path)\n",
    "    sys.path.append(main_fold_path)    \n",
    "\n",
    "set_path()\n",
    "\n",
    "def delete_fnirs_features(mainfold, folders, filename):\n",
    "\n",
    "    for folder in folders:\n",
    "        folder = mainfold + '/' + folder\n",
    "        # Construct full path to fnirs_features.npy within current folder\n",
    "        filepath = os.path.join(folder, filename)\n",
    "        \n",
    "        # Check if file exists and delete it if so\n",
    "        if os.path.exists(filepath):\n",
    "            try:\n",
    "                os.remove(filepath)\n",
    "                print(f\"Deleted {filepath}\")\n",
    "            except Exception as e:\n",
    "                print(f\"Error deleting {filepath}: {e}\")\n",
    "        else:\n",
    "            print(f\"{filename} not found in {folder}\")\n",
    "\n",
    "if __name__ == \"__main__\":\n",
    "    # Input folders separated by commas (or any other delimiter you prefer)\n",
    "    # input_folders = input(\"Enter folder paths separated by commas: \")\n",
    "    mainfold = 'allData'\n",
    "    # Split input string into list of folders; strip whitespace around each entry\n",
    "    folders_list = [\n",
    "                    'diagnosis_110_fabeha_dataset_hb_all',\n",
    "                    'diagnosis_250_fabeha_dataset_hb_all',\n",
    "                    'diagnosis514',\n",
    "                   ]#[folder.strip() for folder in input_folders.split(',')]\n",
    "    filename = 'norhb_data_1d.npy'\n",
    "    # Call function with list of folders\n",
    "    delete_fnirs_features(mainfold, folders_list, filename)"
   ]
  }
 ],
 "metadata": {
  "kernelspec": {
   "display_name": "tf",
   "language": "python",
   "name": "python3"
  },
  "language_info": {
   "codemirror_mode": {
    "name": "ipython",
    "version": 3
   },
   "file_extension": ".py",
   "mimetype": "text/x-python",
   "name": "python",
   "nbconvert_exporter": "python",
   "pygments_lexer": "ipython3",
   "version": "3.9.16"
  }
 },
 "nbformat": 4,
 "nbformat_minor": 2
}
