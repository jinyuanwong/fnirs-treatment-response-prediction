{
 "cells": [
  {
   "cell_type": "markdown",
   "metadata": {},
   "source": [
    "# Get the best result of predicting treatment response of MDD based on TIME Point using Decision Tree"
   ]
  },
  {
   "cell_type": "code",
   "execution_count": null,
   "metadata": {},
   "outputs": [],
   "source": [
    "from scripts.ML.Complete import DecisionTree_TimePoint_HbOHbR_prognosis\n",
    "\n",
    "DecisionTree_TimePoint_HbOHbR_prognosis.start()"
   ]
  },
  {
   "cell_type": "markdown",
   "metadata": {},
   "source": [
    "# Get the best result of classifying MDD from HCD based on TIME point using Decision Tree"
   ]
  },
  {
   "cell_type": "code",
   "execution_count": null,
   "metadata": {},
   "outputs": [],
   "source": [
    "from scripts.ML.Complete import DecisionTree_TimePoint_HbOHbR_diagnosis\n",
    "\n",
    "# seed is 1710741176 have 0.62 acc\n",
    "DecisionTree_TimePoint_HbOHbR_diagnosis.start()"
   ]
  },
  {
   "cell_type": "markdown",
   "metadata": {},
   "source": [
    "# Use Time Series Features to perform diagnosis "
   ]
  },
  {
   "cell_type": "markdown",
   "metadata": {},
   "source": [
    "# Use Time Series Features to perform prognosis "
   ]
  },
  {
   "cell_type": "code",
   "execution_count": 1,
   "metadata": {},
   "outputs": [
    {
     "name": "stderr",
     "output_type": "stream",
     "text": [
      "/Users/shanxiafeng/miniconda3/lib/python3.9/site-packages/tensorflow_addons/utils/tfa_eol_msg.py:23: UserWarning: \n",
      "\n",
      "TensorFlow Addons (TFA) has ended development and introduction of new features.\n",
      "TFA has entered a minimal maintenance and release mode until a planned end of life in May 2024.\n",
      "Please modify downstream libraries to take dependencies from other repositories in our TensorFlow community (e.g. Keras, Keras-CV, and Keras-NLP). \n",
      "\n",
      "For more information see: https://github.com/tensorflow/addons/issues/2807 \n",
      "\n",
      "  warnings.warn(\n",
      "/Users/shanxiafeng/miniconda3/lib/python3.9/site-packages/tensorflow_addons/utils/ensure_tf_install.py:53: UserWarning: Tensorflow Addons supports using Python ops for all Tensorflow versions above or equal to 2.11.0 and strictly below 2.14.0 (nightly versions are not supported). \n",
      " The versions of TensorFlow you are currently using is 2.14.0 and is not supported. \n",
      "Some things might work, some things might not.\n",
      "If you were to encounter a bug, do not file an issue.\n",
      "If you want to make sure you're using a tested and supported configuration, either change the TensorFlow version or the TensorFlow Addons's version. \n",
      "You can find the compatibility matrix in TensorFlow Addon's readme:\n",
      "https://github.com/tensorflow/addons\n",
      "  warnings.warn(\n",
      "/Users/shanxiafeng/Documents/Project/Research/fnirs-prognosis/code/fnirs-treatment-response-prediction/scripts/ML/Complete/TimeFeature_prognosis.py:484: RuntimeWarning: divide by zero encountered in divide\n",
      "  feature_skewness /= np.std(Hb, axis=2) ** 3\n",
      "/Users/shanxiafeng/Documents/Project/Research/fnirs-prognosis/code/fnirs-treatment-response-prediction/scripts/ML/Complete/TimeFeature_prognosis.py:497: RuntimeWarning: invalid value encountered in divide\n",
      "  feature_kurtosis = (n * (n + 1) * fourth_moment) / ((n - 1) * (n - 2)\n",
      "/Users/shanxiafeng/miniconda3/lib/python3.9/site-packages/numpy/core/_methods.py:173: RuntimeWarning: invalid value encountered in subtract\n",
      "  x = asanyarray(arr - arrmean)\n",
      "/Users/shanxiafeng/Documents/Project/Research/fnirs-prognosis/code/fnirs-treatment-response-prediction/scripts/ML/Complete/TimeFeature_prognosis.py:175: RuntimeWarning: invalid value encountered in subtract\n",
      "  normalized_data[i, :] = (data[i, :] - mean) / std\n"
     ]
    },
    {
     "name": "stdout",
     "output_type": "stream",
     "text": [
      "Best model: Decision Tree, Best feature method: 4_yu, Best seed: 1710772829\n",
      "Define model Decision Tree with default setting and seed 1710772829\n",
      "current seed: 1710772829\n",
      "\n",
      "| Model Name | Val/Test Set | Accuracy | Sensitivity | Specificity | F1 Score |\n",
      "|------------|--------------|----------|-------------|-------------|----------|\n",
      "| Decision Tree | test | 0.9077 | 0.8000 | 0.9400 | 0.8000 |\n",
      "\n",
      "(52, 18)\n"
     ]
    },
    {
     "data": {
      "image/png": "[encoded data removed]",
      "text/plain": [
       "<Figure size 640x480 with 1 Axes>"
      ]
     },
     "metadata": {},
     "output_type": "display_data"
    }
   ],
   "source": [
    "\n",
    "\n",
    "from scripts.ML.Complete import TimeFeature_prognosis\n",
    "# features_selection_methods = ['1_zhu', '2_zhifei', '3_wang', '4_yu']\n",
    "# hb_types = [ 'hbt', 'hbr', 'hbo']\n",
    "# models = ['XGBoost', 'Decision Tree'] ## ['Random Forest', 'SVM', 'KNN', 'Logistic Regression', 'Naive Bayes', 'Neural Network']\n",
    "# save_fold = '/Users/shanxiafeng/Documents/Project/Research/fnirs-prognosis/code/fnirs-treatment-response-prediction/results/ML_results/AutoML'\n",
    "# iteration_time = 5\n",
    "dataset = 'hb_data_v1' # or hb_data note: hb_data_v1 is hb_data processed with 6_mannully_delete_signal\n",
    "# while True:\n",
    "#     for model in models:\n",
    "#         for feature_selection_method in features_selection_methods:\n",
    "#             TimeFeature_prognosis.automl(model, feature_selection_method, save_fold, iteration_time, dataset)\n",
    "\n",
    "\n",
    "csv_pth = 'results/ML_results/AutoML/TimeFeature_prognosis_hb_data_v1.csv'\n",
    "dataset = 'hb_data_v1' # or hb_data note: hb_data_v1 is hb_data processed with 6_mannully_delete_signal\n",
    "_, _, model = TimeFeature_prognosis.predict_based_on_automl()#(csv_pth, dataset)\n",
    "TimeFeature_prognosis.plot_model_importance(model)"
   ]
  },
  {
   "cell_type": "code",
   "execution_count": null,
   "metadata": {},
   "outputs": [],
   "source": []
  },
  {
   "cell_type": "code",
   "execution_count": null,
   "metadata": {},
   "outputs": [],
   "source": [
    "from scripts.ML.Complete import TimeFeature_diagnosis\n",
    "\n",
    "TimeFeature_diagnosis.best_result()"
   ]
  },
  {
   "cell_type": "code",
   "execution_count": null,
   "metadata": {},
   "outputs": [],
   "source": [
    "from scripts.ML.Complete import DMFC_prognosis\n",
    "\n",
    "print(\"Hello world!\")\n",
    "# while True:\n",
    "#     TimeFeature_prognosis.start()\n",
    "    \n",
    "features_selection_methods = ['1_zhu', '2_zhifei', '3_wang', '4_yu']\n",
    "hb_types = [ 'hbt', 'hbr', 'hbo']\n",
    "\n",
    "models = ['XGBoost', 'Decision Tree'] ## ['Random Forest', 'SVM', 'KNN', 'Logistic Regression', 'Naive Bayes', 'Neural Network']\n",
    "save_fold = '/Users/shanxiafeng/Documents/Project/Research/fnirs-prognosis/code/fnirs-treatment-response-prediction/results/ML_results/AutoML'\n",
    "iteration_time = 5\n",
    "\n",
    "# while True:\n",
    "#     for model in models:\n",
    "#         for hb_type in hb_types:\n",
    "#             DMFC_prognosis.automl(model, hb_type, save_fold, iteration_time)\n",
    "            \n",
    "DMFC_prognosis.predict_based_on_automl()"
   ]
  },
  {
   "cell_type": "code",
   "execution_count": null,
   "metadata": {},
   "outputs": [],
   "source": [
    "\n",
    "# # TimeFeature_prognosis.plot_model_importance(model)\n",
    "from scripts.ML.Complete import DMFC_diagnosis\n",
    "# DMFC_diagnosis.automl()\n",
    "\n",
    "# features_selection_methods = ['1_zhu', '2_zhifei', '3_wang', '4_yu']\n",
    "# hb_types = [ 'hbt', 'hbr', 'hbo']\n",
    "\n",
    "# models = ['XGBoost', 'Decision Tree'] ## ['Random Forest', 'SVM', 'KNN', 'Logistic Regression', 'Naive Bayes', 'Neural Network']\n",
    "# save_fold = '/Users/shanxiafeng/Documents/Project/Research/fnirs-prognosis/code/fnirs-treatment-response-prediction/results/ML_results/AutoML'\n",
    "# iteration_time = 2\n",
    "\n",
    "# while True:\n",
    "#     for model in models:\n",
    "#         for hb_type in hb_types:\n",
    "#             DMFC_diagnosis.automl(model, hb_type, save_fold, iteration_time)\n",
    "\n",
    "DMFC_diagnosis.predict_based_on_automl()\n"
   ]
  },
  {
   "cell_type": "code",
   "execution_count": null,
   "metadata": {},
   "outputs": [],
   "source": [
    "from scripts.ML.development import DEMO_diagnosis\n",
    "\n",
    "\n",
    "# models = ['XGBoost', 'Decision Tree'] ## ['Random Forest', 'SVM', 'KNN', 'Logistic Regression', 'Naive Bayes', 'Neural Network']\n",
    "# save_fold = '/Users/shanxiafeng/Documents/Project/Research/fnirs-prognosis/code/fnirs-treatment-response-prediction/results/ML_results/AutoML'\n",
    "# iteration_time = 2\n",
    "# amount_of_features = 11\n",
    "# while True:\n",
    "#     for model in models:\n",
    "#         DEMO_diagnosis.automl(model, amount_of_features, save_fold, iteration_time)\n",
    "        \n",
    "DEMO_diagnosis.predict_based_on_automl()"
   ]
  },
  {
   "cell_type": "markdown",
   "metadata": {},
   "source": [
    "# Using Dynamic Functional Connectivity to see the result of Treatment response."
   ]
  },
  {
   "cell_type": "code",
   "execution_count": null,
   "metadata": {},
   "outputs": [],
   "source": [
    "from scripts.ML.development import DEMO_prognosis\n",
    "\n",
    "# models = ['XGBoost', 'Decision Tree'] ## ['Random Forest', 'SVM', 'KNN', 'Logistic Regression', 'Naive Bayes', 'Neural Network']\n",
    "# save_fold = '/Users/shanxiafeng/Documents/Project/Research/fnirs-prognosis/code/fnirs-treatment-response-prediction/results/ML_results/AutoML'\n",
    "# iteration_time = 2\n",
    "# amount_of_features = 11\n",
    "# while True:\n",
    "#     for model in models:\n",
    "#         DEMO_prognosis.automl(model, amount_of_features, save_fold, iteration_time)\n",
    "DEMO_prognosis.predict_based_on_automl()"
   ]
  },
  {
   "cell_type": "code",
   "execution_count": null,
   "metadata": {},
   "outputs": [],
   "source": [
    "from scripts.ML.development import DEMO_and_Timefeature_prognosis \n",
    "models = ['Decision Tree'] ## ['XGBoost', 'Random Forest', 'SVM', 'KNN', 'Logistic Regression', 'Naive Bayes', 'Neural Network']\n",
    "save_path = '/Users/shanxiafeng/Documents/Project/Research/fnirs-prognosis/code/fnirs-treatment-response-prediction/results/ML_results/AutoML/DEMO_and_Timefeature_prognosis.csv'\n",
    "iteration_time = 2\n",
    "amount_of_features = 11\n",
    "while True:\n",
    "    for model in models:\n",
    "        DEMO_and_Timefeature_prognosis.automl(model, amount_of_features, save_path, iteration_time)\n",
    "_,_,model = DEMO_and_Timefeature_prognosis.predict_based_on_automl(csv_file=save_path)\n",
    "DEMO_and_Timefeature_prognosis.plot_model_importance(model)\n"
   ]
  },
  {
   "cell_type": "markdown",
   "metadata": {},
   "source": [
    "Plot Distribution and Regression result"
   ]
  },
  {
   "cell_type": "code",
   "execution_count": null,
   "metadata": {},
   "outputs": [],
   "source": [
    "from scripts.plot.statistics.Complete import Regression_Distribution\n",
    "\n",
    "Regression_Distribution.plot_hamd_distribution()\n",
    "Regression_Distribution.plot_regression()"
   ]
  },
  {
   "cell_type": "code",
   "execution_count": null,
   "metadata": {},
   "outputs": [],
   "source": []
  }
 ],
 "metadata": {
  "kernelspec": {
   "display_name": "base",
   "language": "python",
   "name": "python3"
  },
  "language_info": {
   "codemirror_mode": {
    "name": "ipython",
    "version": 3
   },
   "file_extension": ".py",
   "mimetype": "text/x-python",
   "name": "python",
   "nbconvert_exporter": "python",
   "pygments_lexer": "ipython3",
   "version": "3.9.18"
  }
 },
 "nbformat": 4,
 "nbformat_minor": 2
}
