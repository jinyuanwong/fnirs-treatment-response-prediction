{
 "cells": [
  {
   "cell_type": "code",
   "execution_count": 2,
   "metadata": {},
   "outputs": [
    {
     "name": "stdout",
     "output_type": "stream",
     "text": [
      "CompletedProcess(args=['python', 'test.py'], returncode=1, stdout='', stderr='/Users/shanxiafeng/miniconda3/lib/python3.9/site-packages/tensorflow_addons/utils/tfa_eol_msg.py:23: UserWarning: \\n\\nTensorFlow Addons (TFA) has ended development and introduction of new features.\\nTFA has entered a minimal maintenance and release mode until a planned end of life in May 2024.\\nPlease modify downstream libraries to take dependencies from other repositories in our TensorFlow community (e.g. Keras, Keras-CV, and Keras-NLP). \\n\\nFor more information see: https://github.com/tensorflow/addons/issues/2807 \\n\\n  warnings.warn(\\n/Users/shanxiafeng/miniconda3/lib/python3.9/site-packages/tensorflow_addons/utils/ensure_tf_install.py:53: UserWarning: Tensorflow Addons supports using Python ops for all Tensorflow versions above or equal to 2.11.0 and strictly below 2.14.0 (nightly versions are not supported). \\n The versions of TensorFlow you are currently using is 2.14.0 and is not supported. \\nSome things might work, some things might not.\\nIf you were to encounter a bug, do not file an issue.\\nIf you want to make sure you\\'re using a tested and supported configuration, either change the TensorFlow version or the TensorFlow Addons\\'s version. \\nYou can find the compatibility matrix in TensorFlow Addon\\'s readme:\\nhttps://github.com/tensorflow/addons\\n  warnings.warn(\\nTraceback (most recent call last):\\n  File \"/Users/shanxiafeng/miniconda3/lib/python3.9/site-packages/autosklearn/util/dependencies.py\", line 39, in _verify_package\\n    module_dist = pkg_resources.get_distribution(name)\\n  File \"/Users/shanxiafeng/miniconda3/lib/python3.9/site-packages/pkg_resources/__init__.py\", line 528, in get_distribution\\n    dist = get_provider(dist)\\n  File \"/Users/shanxiafeng/miniconda3/lib/python3.9/site-packages/pkg_resources/__init__.py\", line 400, in get_provider\\n    return working_set.find(moduleOrReq) or require(str(moduleOrReq))[0]\\n  File \"/Users/shanxiafeng/miniconda3/lib/python3.9/site-packages/pkg_resources/__init__.py\", line 968, in require\\n    needed = self.resolve(parse_requirements(requirements))\\n  File \"/Users/shanxiafeng/miniconda3/lib/python3.9/site-packages/pkg_resources/__init__.py\", line 829, in resolve\\n    dist = self._resolve_dist(\\n  File \"/Users/shanxiafeng/miniconda3/lib/python3.9/site-packages/pkg_resources/__init__.py\", line 870, in _resolve_dist\\n    raise DistributionNotFound(req, requirers)\\npkg_resources.DistributionNotFound: The \\'ConfigSpace\\' distribution was not found and is required by the application\\n\\nDuring handling of the above exception, another exception occurred:\\n\\nTraceback (most recent call last):\\n  File \"/Users/shanxiafeng/miniconda3/lib/python3.9/site-packages/autosklearn/util/dependencies.py\", line 43, in _verify_package\\n    module = importlib.import_module(name)  # type: ignore\\n  File \"/Users/shanxiafeng/miniconda3/lib/python3.9/importlib/__init__.py\", line 127, in import_module\\n    return _bootstrap._gcd_import(name[level:], package, level)\\n  File \"<frozen importlib._bootstrap>\", line 1030, in _gcd_import\\n  File \"<frozen importlib._bootstrap>\", line 1007, in _find_and_load\\n  File \"<frozen importlib._bootstrap>\", line 984, in _find_and_load_unlocked\\nModuleNotFoundError: No module named \\'ConfigSpace\\'\\n\\nDuring handling of the above exception, another exception occurred:\\n\\nTraceback (most recent call last):\\n  File \"/Users/shanxiafeng/Documents/Project/Research/fnirs-prognosis/code/fnirs-treatment-response-prediction/test.py\", line 1, in <module>\\n    from scripts.ML.development import TimeFeature_diagnosis\\n  File \"/Users/shanxiafeng/Documents/Project/Research/fnirs-prognosis/code/fnirs-treatment-response-prediction/scripts/ML/development/TimeFeature_diagnosis.py\", line 24, in <module>\\n    import autosklearn.classification as autosklearn_clf\\n  File \"/Users/shanxiafeng/miniconda3/lib/python3.9/site-packages/autosklearn/__init__.py\", line 13, in <module>\\n    dependencies.verify_packages(requirements)\\n  File \"/Users/shanxiafeng/miniconda3/lib/python3.9/site-packages/autosklearn/util/dependencies.py\", line 30, in verify_packages\\n    _verify_package(name, operation, version)\\n  File \"/Users/shanxiafeng/miniconda3/lib/python3.9/site-packages/autosklearn/util/dependencies.py\", line 46, in _verify_package\\n    raise MissingPackageError(name)\\nautosklearn.util.dependencies.MissingPackageError: Mandatory package \\'ConfigSpace\\' not found!\\n')\n"
     ]
    }
   ],
   "source": [
    "import subprocess\n",
    "\n",
    "print(res)\n"
   ]
  },
  {
   "cell_type": "code",
   "execution_count": 34,
   "metadata": {},
   "outputs": [
    {
     "ename": "KeyboardInterrupt",
     "evalue": "",
     "output_type": "error",
     "traceback": [
      "\u001b[0;31m---------------------------------------------------------------------------\u001b[0m",
      "\u001b[0;31mKeyboardInterrupt\u001b[0m                         Traceback (most recent call last)",
      "Cell \u001b[0;32mIn[34], line 6\u001b[0m\n\u001b[1;32m      4\u001b[0m packge \u001b[38;5;241m=\u001b[39m res_error[\u001b[38;5;241m-\u001b[39m\u001b[38;5;241m2\u001b[39m]\n\u001b[1;32m      5\u001b[0m subprocess\u001b[38;5;241m.\u001b[39mrun([\u001b[38;5;124m'\u001b[39m\u001b[38;5;124mpip\u001b[39m\u001b[38;5;124m'\u001b[39m, \u001b[38;5;124m'\u001b[39m\u001b[38;5;124minstall\u001b[39m\u001b[38;5;124m'\u001b[39m, packge], capture_output\u001b[38;5;241m=\u001b[39m\u001b[38;5;28;01mTrue\u001b[39;00m, text\u001b[38;5;241m=\u001b[39m\u001b[38;5;28;01mTrue\u001b[39;00m)\n\u001b[0;32m----> 6\u001b[0m \u001b[43msubprocess\u001b[49m\u001b[38;5;241;43m.\u001b[39;49m\u001b[43mrun\u001b[49m\u001b[43m(\u001b[49m\u001b[43m[\u001b[49m\u001b[38;5;124;43m'\u001b[39;49m\u001b[38;5;124;43mconda\u001b[39;49m\u001b[38;5;124;43m'\u001b[39;49m\u001b[43m,\u001b[49m\u001b[43m \u001b[49m\u001b[38;5;124;43m'\u001b[39;49m\u001b[38;5;124;43minstall\u001b[39;49m\u001b[38;5;124;43m'\u001b[39;49m\u001b[43m,\u001b[49m\u001b[43m \u001b[49m\u001b[38;5;124;43m'\u001b[39;49m\u001b[38;5;124;43m-c\u001b[39;49m\u001b[38;5;124;43m'\u001b[39;49m\u001b[43m,\u001b[49m\u001b[43m \u001b[49m\u001b[38;5;124;43m'\u001b[39;49m\u001b[38;5;124;43mconda-forge\u001b[39;49m\u001b[38;5;124;43m'\u001b[39;49m\u001b[43m,\u001b[49m\u001b[43m \u001b[49m\u001b[43mpackge\u001b[49m\u001b[43m]\u001b[49m\u001b[43m,\u001b[49m\u001b[43m \u001b[49m\u001b[43mcapture_output\u001b[49m\u001b[38;5;241;43m=\u001b[39;49m\u001b[38;5;28;43;01mTrue\u001b[39;49;00m\u001b[43m,\u001b[49m\u001b[43m \u001b[49m\u001b[43mtext\u001b[49m\u001b[38;5;241;43m=\u001b[39;49m\u001b[38;5;28;43;01mTrue\u001b[39;49;00m\u001b[43m)\u001b[49m\n",
      "File \u001b[0;32m~/miniconda3/lib/python3.9/subprocess.py:507\u001b[0m, in \u001b[0;36mrun\u001b[0;34m(input, capture_output, timeout, check, *popenargs, **kwargs)\u001b[0m\n\u001b[1;32m    505\u001b[0m \u001b[38;5;28;01mwith\u001b[39;00m Popen(\u001b[38;5;241m*\u001b[39mpopenargs, \u001b[38;5;241m*\u001b[39m\u001b[38;5;241m*\u001b[39mkwargs) \u001b[38;5;28;01mas\u001b[39;00m process:\n\u001b[1;32m    506\u001b[0m     \u001b[38;5;28;01mtry\u001b[39;00m:\n\u001b[0;32m--> 507\u001b[0m         stdout, stderr \u001b[38;5;241m=\u001b[39m \u001b[43mprocess\u001b[49m\u001b[38;5;241;43m.\u001b[39;49m\u001b[43mcommunicate\u001b[49m\u001b[43m(\u001b[49m\u001b[38;5;28;43minput\u001b[39;49m\u001b[43m,\u001b[49m\u001b[43m \u001b[49m\u001b[43mtimeout\u001b[49m\u001b[38;5;241;43m=\u001b[39;49m\u001b[43mtimeout\u001b[49m\u001b[43m)\u001b[49m\n\u001b[1;32m    508\u001b[0m     \u001b[38;5;28;01mexcept\u001b[39;00m TimeoutExpired \u001b[38;5;28;01mas\u001b[39;00m exc:\n\u001b[1;32m    509\u001b[0m         process\u001b[38;5;241m.\u001b[39mkill()\n",
      "File \u001b[0;32m~/miniconda3/lib/python3.9/subprocess.py:1134\u001b[0m, in \u001b[0;36mPopen.communicate\u001b[0;34m(self, input, timeout)\u001b[0m\n\u001b[1;32m   1131\u001b[0m     endtime \u001b[38;5;241m=\u001b[39m \u001b[38;5;28;01mNone\u001b[39;00m\n\u001b[1;32m   1133\u001b[0m \u001b[38;5;28;01mtry\u001b[39;00m:\n\u001b[0;32m-> 1134\u001b[0m     stdout, stderr \u001b[38;5;241m=\u001b[39m \u001b[38;5;28;43mself\u001b[39;49m\u001b[38;5;241;43m.\u001b[39;49m\u001b[43m_communicate\u001b[49m\u001b[43m(\u001b[49m\u001b[38;5;28;43minput\u001b[39;49m\u001b[43m,\u001b[49m\u001b[43m \u001b[49m\u001b[43mendtime\u001b[49m\u001b[43m,\u001b[49m\u001b[43m \u001b[49m\u001b[43mtimeout\u001b[49m\u001b[43m)\u001b[49m\n\u001b[1;32m   1135\u001b[0m \u001b[38;5;28;01mexcept\u001b[39;00m \u001b[38;5;167;01mKeyboardInterrupt\u001b[39;00m:\n\u001b[1;32m   1136\u001b[0m     \u001b[38;5;66;03m# https://bugs.python.org/issue25942\u001b[39;00m\n\u001b[1;32m   1137\u001b[0m     \u001b[38;5;66;03m# See the detailed comment in .wait().\u001b[39;00m\n\u001b[1;32m   1138\u001b[0m     \u001b[38;5;28;01mif\u001b[39;00m timeout \u001b[38;5;129;01mis\u001b[39;00m \u001b[38;5;129;01mnot\u001b[39;00m \u001b[38;5;28;01mNone\u001b[39;00m:\n",
      "File \u001b[0;32m~/miniconda3/lib/python3.9/subprocess.py:1995\u001b[0m, in \u001b[0;36mPopen._communicate\u001b[0;34m(self, input, endtime, orig_timeout)\u001b[0m\n\u001b[1;32m   1988\u001b[0m     \u001b[38;5;28mself\u001b[39m\u001b[38;5;241m.\u001b[39m_check_timeout(endtime, orig_timeout,\n\u001b[1;32m   1989\u001b[0m                         stdout, stderr,\n\u001b[1;32m   1990\u001b[0m                         skip_check_and_raise\u001b[38;5;241m=\u001b[39m\u001b[38;5;28;01mTrue\u001b[39;00m)\n\u001b[1;32m   1991\u001b[0m     \u001b[38;5;28;01mraise\u001b[39;00m \u001b[38;5;167;01mRuntimeError\u001b[39;00m(  \u001b[38;5;66;03m# Impossible :)\u001b[39;00m\n\u001b[1;32m   1992\u001b[0m         \u001b[38;5;124m'\u001b[39m\u001b[38;5;124m_check_timeout(..., skip_check_and_raise=True) \u001b[39m\u001b[38;5;124m'\u001b[39m\n\u001b[1;32m   1993\u001b[0m         \u001b[38;5;124m'\u001b[39m\u001b[38;5;124mfailed to raise TimeoutExpired.\u001b[39m\u001b[38;5;124m'\u001b[39m)\n\u001b[0;32m-> 1995\u001b[0m ready \u001b[38;5;241m=\u001b[39m \u001b[43mselector\u001b[49m\u001b[38;5;241;43m.\u001b[39;49m\u001b[43mselect\u001b[49m\u001b[43m(\u001b[49m\u001b[43mtimeout\u001b[49m\u001b[43m)\u001b[49m\n\u001b[1;32m   1996\u001b[0m \u001b[38;5;28mself\u001b[39m\u001b[38;5;241m.\u001b[39m_check_timeout(endtime, orig_timeout, stdout, stderr)\n\u001b[1;32m   1998\u001b[0m \u001b[38;5;66;03m# XXX Rewrite these to use non-blocking I/O on the file\u001b[39;00m\n\u001b[1;32m   1999\u001b[0m \u001b[38;5;66;03m# objects; they are no longer using C stdio!\u001b[39;00m\n",
      "File \u001b[0;32m~/miniconda3/lib/python3.9/selectors.py:416\u001b[0m, in \u001b[0;36m_PollLikeSelector.select\u001b[0;34m(self, timeout)\u001b[0m\n\u001b[1;32m    414\u001b[0m ready \u001b[38;5;241m=\u001b[39m []\n\u001b[1;32m    415\u001b[0m \u001b[38;5;28;01mtry\u001b[39;00m:\n\u001b[0;32m--> 416\u001b[0m     fd_event_list \u001b[38;5;241m=\u001b[39m \u001b[38;5;28;43mself\u001b[39;49m\u001b[38;5;241;43m.\u001b[39;49m\u001b[43m_selector\u001b[49m\u001b[38;5;241;43m.\u001b[39;49m\u001b[43mpoll\u001b[49m\u001b[43m(\u001b[49m\u001b[43mtimeout\u001b[49m\u001b[43m)\u001b[49m\n\u001b[1;32m    417\u001b[0m \u001b[38;5;28;01mexcept\u001b[39;00m \u001b[38;5;167;01mInterruptedError\u001b[39;00m:\n\u001b[1;32m    418\u001b[0m     \u001b[38;5;28;01mreturn\u001b[39;00m ready\n",
      "\u001b[0;31mKeyboardInterrupt\u001b[0m: "
     ]
    }
   ],
   "source": [
    "while True:\n",
    "    res = subprocess.run(['python', 'test.py'], capture_output=True, text=True)\n",
    "    res_error = res.stderr.split('\\'')\n",
    "    packge = res_error[-2]\n",
    "    subprocess.run(['pip', 'install', packge], capture_output=True, text=True)\n",
    "    subprocess.run(['conda', 'install', '-c', 'conda-forge', packge], capture_output=True, text=True)\n"
   ]
  },
  {
   "cell_type": "code",
   "execution_count": 32,
   "metadata": {},
   "outputs": [
    {
     "data": {
      "text/plain": [
       "CompletedProcess(args=['pip', 'install', 'pyrfr'], returncode=1, stdout=\"Collecting pyrfr\\n  Using cached pyrfr-0.9.0.tar.gz (295 kB)\\n  Preparing metadata (setup.py): started\\n  Preparing metadata (setup.py): finished with status 'done'\\nBuilding wheels for collected packages: pyrfr\\n  Building wheel for pyrfr (setup.py): started\\n  Building wheel for pyrfr (setup.py): finished with status 'error'\\n  Running setup.py clean for pyrfr\\nFailed to build pyrfr\\n\", stderr=\"  \\x1b[1;31merror\\x1b[0m: \\x1b[1msubprocess-exited-with-error\\x1b[0m\\n  \\n  \\x1b[31m×\\x1b[0m \\x1b[32mpython setup.py bdist_wheel\\x1b[0m did not run successfully.\\n  \\x1b[31m│\\x1b[0m exit code: \\x1b[1;36m1\\x1b[0m\\n  \\x1b[31m╰─>\\x1b[0m \\x1b[31m[2 lines of output]\\x1b[0m\\n  \\x1b[31m   \\x1b[0m [<setuptools.extension.Extension('pyrfr._regression') at 0x103ad1df0>, <setuptools.extension.Extension('pyrfr._util') at 0x103ad1e20>]\\n  \\x1b[31m   \\x1b[0m error: command 'swig' failed: No such file or directory\\n  \\x1b[31m   \\x1b[0m \\x1b[31m[end of output]\\x1b[0m\\n  \\n  \\x1b[1;35mnote\\x1b[0m: This error originates from a subprocess, and is likely not a problem with pip.\\n\\x1b[31m  ERROR: Failed building wheel for pyrfr\\x1b[0m\\x1b[31m\\n\\x1b[0m\\x1b[31mERROR: Could not build wheels for pyrfr, which is required to install pyproject.toml-based projects\\x1b[0m\\x1b[31m\\n\\x1b[0m\")"
      ]
     },
     "execution_count": 32,
     "metadata": {},
     "output_type": "execute_result"
    }
   ],
   "source": []
  },
  {
   "cell_type": "code",
   "execution_count": null,
   "metadata": {},
   "outputs": [],
   "source": []
  }
 ],
 "metadata": {
  "kernelspec": {
   "display_name": "base",
   "language": "python",
   "name": "python3"
  },
  "language_info": {
   "codemirror_mode": {
    "name": "ipython",
    "version": 3
   },
   "file_extension": ".py",
   "mimetype": "text/x-python",
   "name": "python",
   "nbconvert_exporter": "python",
   "pygments_lexer": "ipython3",
   "version": "3.9.18"
  }
 },
 "nbformat": 4,
 "nbformat_minor": 2
}
